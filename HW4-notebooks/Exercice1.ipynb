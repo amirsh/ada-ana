{
 "cells": [
  {
   "cell_type": "markdown",
   "metadata": {},
   "source": [
    "# Exercise 1"
   ]
  },
  {
   "cell_type": "markdown",
   "metadata": {},
   "source": [
    "### Cleaned Data importing"
   ]
  },
  {
   "cell_type": "code",
   "execution_count": 4,
   "metadata": {
    "collapsed": false
   },
   "outputs": [
    {
     "name": "stdout",
     "output_type": "stream",
     "text": [
      "data shape = \n",
      "(1419, 19)\n",
      "Fist 13 columns :\n"
     ]
    },
    {
     "data": {
      "text/html": [
       "<div>\n",
       "<table border=\"1\" class=\"dataframe\">\n",
       "  <thead>\n",
       "    <tr style=\"text-align: right;\">\n",
       "      <th></th>\n",
       "      <th>Unnamed: 0</th>\n",
       "      <th>playerShort</th>\n",
       "      <th>redCards</th>\n",
       "      <th>leagueCountry</th>\n",
       "      <th>yellowCards</th>\n",
       "      <th>victories</th>\n",
       "      <th>yellowReds</th>\n",
       "      <th>black</th>\n",
       "      <th>weight</th>\n",
       "      <th>meanExp</th>\n",
       "      <th>goals</th>\n",
       "      <th>birthday</th>\n",
       "      <th>meanIAT</th>\n",
       "    </tr>\n",
       "  </thead>\n",
       "  <tbody>\n",
       "    <tr>\n",
       "      <th>0</th>\n",
       "      <td>0</td>\n",
       "      <td>0</td>\n",
       "      <td>0</td>\n",
       "      <td>0</td>\n",
       "      <td>19</td>\n",
       "      <td>247</td>\n",
       "      <td>0</td>\n",
       "      <td>0</td>\n",
       "      <td>71.0</td>\n",
       "      <td>0.494575</td>\n",
       "      <td>9</td>\n",
       "      <td>08.11.1979</td>\n",
       "      <td>0.346459</td>\n",
       "    </tr>\n",
       "    <tr>\n",
       "      <th>1</th>\n",
       "      <td>1</td>\n",
       "      <td>1</td>\n",
       "      <td>1</td>\n",
       "      <td>2</td>\n",
       "      <td>42</td>\n",
       "      <td>141</td>\n",
       "      <td>0</td>\n",
       "      <td>0</td>\n",
       "      <td>73.0</td>\n",
       "      <td>0.449220</td>\n",
       "      <td>62</td>\n",
       "      <td>04.09.1986</td>\n",
       "      <td>0.348818</td>\n",
       "    </tr>\n",
       "    <tr>\n",
       "      <th>2</th>\n",
       "      <td>2</td>\n",
       "      <td>2</td>\n",
       "      <td>0</td>\n",
       "      <td>0</td>\n",
       "      <td>11</td>\n",
       "      <td>200</td>\n",
       "      <td>0</td>\n",
       "      <td>0</td>\n",
       "      <td>63.0</td>\n",
       "      <td>0.491482</td>\n",
       "      <td>31</td>\n",
       "      <td>16.04.1987</td>\n",
       "      <td>0.345893</td>\n",
       "    </tr>\n",
       "    <tr>\n",
       "      <th>3</th>\n",
       "      <td>3</td>\n",
       "      <td>3</td>\n",
       "      <td>1</td>\n",
       "      <td>0</td>\n",
       "      <td>31</td>\n",
       "      <td>150</td>\n",
       "      <td>0</td>\n",
       "      <td>0</td>\n",
       "      <td>76.0</td>\n",
       "      <td>0.514693</td>\n",
       "      <td>39</td>\n",
       "      <td>26.12.1990</td>\n",
       "      <td>0.346821</td>\n",
       "    </tr>\n",
       "    <tr>\n",
       "      <th>4</th>\n",
       "      <td>4</td>\n",
       "      <td>4</td>\n",
       "      <td>2</td>\n",
       "      <td>1</td>\n",
       "      <td>8</td>\n",
       "      <td>41</td>\n",
       "      <td>4</td>\n",
       "      <td>0</td>\n",
       "      <td>73.0</td>\n",
       "      <td>0.335587</td>\n",
       "      <td>1</td>\n",
       "      <td>17.03.1990</td>\n",
       "      <td>0.331600</td>\n",
       "    </tr>\n",
       "    <tr>\n",
       "      <th>5</th>\n",
       "      <td>5</td>\n",
       "      <td>5</td>\n",
       "      <td>0</td>\n",
       "      <td>1</td>\n",
       "      <td>11</td>\n",
       "      <td>41</td>\n",
       "      <td>1</td>\n",
       "      <td>1</td>\n",
       "      <td>74.0</td>\n",
       "      <td>0.296562</td>\n",
       "      <td>3</td>\n",
       "      <td>17.01.1988</td>\n",
       "      <td>0.320079</td>\n",
       "    </tr>\n",
       "    <tr>\n",
       "      <th>6</th>\n",
       "      <td>6</td>\n",
       "      <td>6</td>\n",
       "      <td>0</td>\n",
       "      <td>1</td>\n",
       "      <td>0</td>\n",
       "      <td>8</td>\n",
       "      <td>0</td>\n",
       "      <td>1</td>\n",
       "      <td>80.0</td>\n",
       "      <td>0.400818</td>\n",
       "      <td>0</td>\n",
       "      <td>30.03.1992</td>\n",
       "      <td>0.341625</td>\n",
       "    </tr>\n",
       "    <tr>\n",
       "      <th>7</th>\n",
       "      <td>7</td>\n",
       "      <td>7</td>\n",
       "      <td>0</td>\n",
       "      <td>1</td>\n",
       "      <td>0</td>\n",
       "      <td>0</td>\n",
       "      <td>0</td>\n",
       "      <td>1</td>\n",
       "      <td>83.0</td>\n",
       "      <td>0.417225</td>\n",
       "      <td>0</td>\n",
       "      <td>19.08.1990</td>\n",
       "      <td>0.355406</td>\n",
       "    </tr>\n",
       "    <tr>\n",
       "      <th>8</th>\n",
       "      <td>8</td>\n",
       "      <td>8</td>\n",
       "      <td>2</td>\n",
       "      <td>1</td>\n",
       "      <td>21</td>\n",
       "      <td>34</td>\n",
       "      <td>0</td>\n",
       "      <td>1</td>\n",
       "      <td>68.0</td>\n",
       "      <td>0.429630</td>\n",
       "      <td>3</td>\n",
       "      <td>20.03.1990</td>\n",
       "      <td>0.348178</td>\n",
       "    </tr>\n",
       "    <tr>\n",
       "      <th>9</th>\n",
       "      <td>9</td>\n",
       "      <td>9</td>\n",
       "      <td>1</td>\n",
       "      <td>2</td>\n",
       "      <td>3</td>\n",
       "      <td>17</td>\n",
       "      <td>0</td>\n",
       "      <td>1</td>\n",
       "      <td>70.0</td>\n",
       "      <td>0.361068</td>\n",
       "      <td>0</td>\n",
       "      <td>02.07.1994</td>\n",
       "      <td>0.342072</td>\n",
       "    </tr>\n",
       "    <tr>\n",
       "      <th>10</th>\n",
       "      <td>10</td>\n",
       "      <td>10</td>\n",
       "      <td>0</td>\n",
       "      <td>0</td>\n",
       "      <td>2</td>\n",
       "      <td>16</td>\n",
       "      <td>0</td>\n",
       "      <td>1</td>\n",
       "      <td>78.0</td>\n",
       "      <td>0.536408</td>\n",
       "      <td>0</td>\n",
       "      <td>11.11.1992</td>\n",
       "      <td>0.354566</td>\n",
       "    </tr>\n",
       "  </tbody>\n",
       "</table>\n",
       "</div>"
      ],
      "text/plain": [
       "    Unnamed: 0  playerShort  redCards  leagueCountry  yellowCards  victories  \\\n",
       "0            0            0         0              0           19        247   \n",
       "1            1            1         1              2           42        141   \n",
       "2            2            2         0              0           11        200   \n",
       "3            3            3         1              0           31        150   \n",
       "4            4            4         2              1            8         41   \n",
       "5            5            5         0              1           11         41   \n",
       "6            6            6         0              1            0          8   \n",
       "7            7            7         0              1            0          0   \n",
       "8            8            8         2              1           21         34   \n",
       "9            9            9         1              2            3         17   \n",
       "10          10           10         0              0            2         16   \n",
       "\n",
       "    yellowReds  black  weight   meanExp  goals    birthday   meanIAT  \n",
       "0            0      0    71.0  0.494575      9  08.11.1979  0.346459  \n",
       "1            0      0    73.0  0.449220     62  04.09.1986  0.348818  \n",
       "2            0      0    63.0  0.491482     31  16.04.1987  0.345893  \n",
       "3            0      0    76.0  0.514693     39  26.12.1990  0.346821  \n",
       "4            4      0    73.0  0.335587      1  17.03.1990  0.331600  \n",
       "5            1      1    74.0  0.296562      3  17.01.1988  0.320079  \n",
       "6            0      1    80.0  0.400818      0  30.03.1992  0.341625  \n",
       "7            0      1    83.0  0.417225      0  19.08.1990  0.355406  \n",
       "8            0      1    68.0  0.429630      3  20.03.1990  0.348178  \n",
       "9            0      1    70.0  0.361068      0  02.07.1994  0.342072  \n",
       "10           0      1    78.0  0.536408      0  11.11.1992  0.354566  "
      ]
     },
     "execution_count": 4,
     "metadata": {},
     "output_type": "execute_result"
    }
   ],
   "source": [
    "# basic imports\n",
    "import pandas as pd\n",
    "import numpy as np\n",
    "pd.options.mode.chained_assignment = None  # default='warn'\n",
    "import math\n",
    "from sklearn.ensemble import RandomForestClassifier\n",
    "from sklearn.metrics import mean_squared_error\n",
    "import matplotlib.pyplot as plt\n",
    "\n",
    "# reading the data\n",
    "data = pd.read_csv(\"data/clean_data.csv\", sep=',')\n",
    "data = data.replace([np.inf, -np.inf], np.nan).dropna()\n",
    "print(\"data shape = \")\n",
    "print(data.shape)\n",
    "# Display the first 10 rows of the dataset. Only 13 columns for space reasons\n",
    "print(\"Fist 13 columns :\")\n",
    "data.ix[:10,:13]"
   ]
  },
  {
   "cell_type": "code",
   "execution_count": 5,
   "metadata": {
    "collapsed": false
   },
   "outputs": [
    {
     "name": "stdout",
     "output_type": "stream",
     "text": [
      "the other columns : \n"
     ]
    },
    {
     "data": {
      "text/html": [
       "<div>\n",
       "<table border=\"1\" class=\"dataframe\">\n",
       "  <thead>\n",
       "    <tr style=\"text-align: right;\">\n",
       "      <th></th>\n",
       "      <th>games</th>\n",
       "      <th>defeats</th>\n",
       "      <th>ties</th>\n",
       "      <th>club</th>\n",
       "      <th>position</th>\n",
       "      <th>height</th>\n",
       "    </tr>\n",
       "  </thead>\n",
       "  <tbody>\n",
       "    <tr>\n",
       "      <th>0</th>\n",
       "      <td>654</td>\n",
       "      <td>228</td>\n",
       "      <td>179</td>\n",
       "      <td>34</td>\n",
       "      <td>Center Back</td>\n",
       "      <td>182.0</td>\n",
       "    </tr>\n",
       "    <tr>\n",
       "      <th>1</th>\n",
       "      <td>336</td>\n",
       "      <td>122</td>\n",
       "      <td>73</td>\n",
       "      <td>91</td>\n",
       "      <td>Attacking Midfielder</td>\n",
       "      <td>183.0</td>\n",
       "    </tr>\n",
       "    <tr>\n",
       "      <th>2</th>\n",
       "      <td>412</td>\n",
       "      <td>115</td>\n",
       "      <td>97</td>\n",
       "      <td>83</td>\n",
       "      <td>Right Midfielder</td>\n",
       "      <td>165.0</td>\n",
       "    </tr>\n",
       "    <tr>\n",
       "      <th>3</th>\n",
       "      <td>260</td>\n",
       "      <td>68</td>\n",
       "      <td>42</td>\n",
       "      <td>6</td>\n",
       "      <td>Center Midfielder</td>\n",
       "      <td>178.0</td>\n",
       "    </tr>\n",
       "    <tr>\n",
       "      <th>4</th>\n",
       "      <td>124</td>\n",
       "      <td>43</td>\n",
       "      <td>40</td>\n",
       "      <td>51</td>\n",
       "      <td>Center Back</td>\n",
       "      <td>180.0</td>\n",
       "    </tr>\n",
       "    <tr>\n",
       "      <th>5</th>\n",
       "      <td>97</td>\n",
       "      <td>33</td>\n",
       "      <td>23</td>\n",
       "      <td>36</td>\n",
       "      <td>Right Midfielder</td>\n",
       "      <td>180.0</td>\n",
       "    </tr>\n",
       "    <tr>\n",
       "      <th>6</th>\n",
       "      <td>24</td>\n",
       "      <td>8</td>\n",
       "      <td>8</td>\n",
       "      <td>80</td>\n",
       "      <td>Goalkeeper</td>\n",
       "      <td>189.0</td>\n",
       "    </tr>\n",
       "    <tr>\n",
       "      <th>7</th>\n",
       "      <td>3</td>\n",
       "      <td>2</td>\n",
       "      <td>1</td>\n",
       "      <td>36</td>\n",
       "      <td>Goalkeeper</td>\n",
       "      <td>188.0</td>\n",
       "    </tr>\n",
       "    <tr>\n",
       "      <th>8</th>\n",
       "      <td>121</td>\n",
       "      <td>62</td>\n",
       "      <td>25</td>\n",
       "      <td>78</td>\n",
       "      <td>Defensive Midfielder</td>\n",
       "      <td>180.0</td>\n",
       "    </tr>\n",
       "    <tr>\n",
       "      <th>9</th>\n",
       "      <td>50</td>\n",
       "      <td>25</td>\n",
       "      <td>8</td>\n",
       "      <td>77</td>\n",
       "      <td>Left Fullback</td>\n",
       "      <td>179.0</td>\n",
       "    </tr>\n",
       "    <tr>\n",
       "      <th>10</th>\n",
       "      <td>36</td>\n",
       "      <td>12</td>\n",
       "      <td>8</td>\n",
       "      <td>48</td>\n",
       "      <td>Center Midfielder</td>\n",
       "      <td>180.0</td>\n",
       "    </tr>\n",
       "  </tbody>\n",
       "</table>\n",
       "</div>"
      ],
      "text/plain": [
       "    games  defeats  ties  club              position  height\n",
       "0     654      228   179    34           Center Back   182.0\n",
       "1     336      122    73    91  Attacking Midfielder   183.0\n",
       "2     412      115    97    83      Right Midfielder   165.0\n",
       "3     260       68    42     6     Center Midfielder   178.0\n",
       "4     124       43    40    51           Center Back   180.0\n",
       "5      97       33    23    36      Right Midfielder   180.0\n",
       "6      24        8     8    80            Goalkeeper   189.0\n",
       "7       3        2     1    36            Goalkeeper   188.0\n",
       "8     121       62    25    78  Defensive Midfielder   180.0\n",
       "9      50       25     8    77         Left Fullback   179.0\n",
       "10     36       12     8    48     Center Midfielder   180.0"
      ]
     },
     "execution_count": 5,
     "metadata": {},
     "output_type": "execute_result"
    }
   ],
   "source": [
    "# Display the other columns too\n",
    "print(\"the other columns : \")\n",
    "data.ix[:10,13:19]"
   ]
  },
  {
   "cell_type": "markdown",
   "metadata": {},
   "source": [
    "### Define features and labels"
   ]
  },
  {
   "cell_type": "code",
   "execution_count": 6,
   "metadata": {
    "collapsed": false
   },
   "outputs": [
    {
     "data": {
      "text/plain": [
       "0    0\n",
       "1    0\n",
       "2    0\n",
       "3    0\n",
       "4    0\n",
       "Name: black, dtype: int64"
      ]
     },
     "execution_count": 6,
     "metadata": {},
     "output_type": "execute_result"
    }
   ],
   "source": [
    "# labels\n",
    "data_y = data['black']\n",
    "data_y.head()"
   ]
  },
  {
   "cell_type": "code",
   "execution_count": 7,
   "metadata": {
    "collapsed": false
   },
   "outputs": [
    {
     "data": {
      "text/plain": [
       "Unnamed: 0       float64\n",
       "playerShort      float64\n",
       "redCards         float64\n",
       "leagueCountry    float64\n",
       "yellowCards      float64\n",
       "victories        float64\n",
       "yellowReds       float64\n",
       "weight           float64\n",
       "meanExp          float64\n",
       "goals            float64\n",
       "meanIAT          float64\n",
       "games            float64\n",
       "defeats          float64\n",
       "ties             float64\n",
       "club             float64\n",
       "height           float64\n",
       "dtype: object"
      ]
     },
     "execution_count": 7,
     "metadata": {},
     "output_type": "execute_result"
    }
   ],
   "source": [
    "# features\n",
    "data_x = data.drop(data.columns[[7,11,17]], axis=1).astype(float)\n",
    "data_x.dtypes"
   ]
  },
  {
   "cell_type": "code",
   "execution_count": 8,
   "metadata": {
    "collapsed": false
   },
   "outputs": [
    {
     "data": {
      "text/html": [
       "<div>\n",
       "<table border=\"1\" class=\"dataframe\">\n",
       "  <thead>\n",
       "    <tr style=\"text-align: right;\">\n",
       "      <th></th>\n",
       "      <th>Unnamed: 0</th>\n",
       "      <th>playerShort</th>\n",
       "      <th>redCards</th>\n",
       "      <th>leagueCountry</th>\n",
       "      <th>yellowCards</th>\n",
       "      <th>victories</th>\n",
       "      <th>yellowReds</th>\n",
       "      <th>weight</th>\n",
       "      <th>meanExp</th>\n",
       "      <th>goals</th>\n",
       "      <th>meanIAT</th>\n",
       "      <th>games</th>\n",
       "      <th>defeats</th>\n",
       "    </tr>\n",
       "  </thead>\n",
       "  <tbody>\n",
       "    <tr>\n",
       "      <th>0</th>\n",
       "      <td>0.0</td>\n",
       "      <td>0.0</td>\n",
       "      <td>0.0</td>\n",
       "      <td>0.0</td>\n",
       "      <td>19.0</td>\n",
       "      <td>247.0</td>\n",
       "      <td>0.0</td>\n",
       "      <td>71.0</td>\n",
       "      <td>0.494575</td>\n",
       "      <td>9.0</td>\n",
       "      <td>0.346459</td>\n",
       "      <td>654.0</td>\n",
       "      <td>228.0</td>\n",
       "    </tr>\n",
       "    <tr>\n",
       "      <th>1</th>\n",
       "      <td>1.0</td>\n",
       "      <td>1.0</td>\n",
       "      <td>1.0</td>\n",
       "      <td>2.0</td>\n",
       "      <td>42.0</td>\n",
       "      <td>141.0</td>\n",
       "      <td>0.0</td>\n",
       "      <td>73.0</td>\n",
       "      <td>0.449220</td>\n",
       "      <td>62.0</td>\n",
       "      <td>0.348818</td>\n",
       "      <td>336.0</td>\n",
       "      <td>122.0</td>\n",
       "    </tr>\n",
       "    <tr>\n",
       "      <th>2</th>\n",
       "      <td>2.0</td>\n",
       "      <td>2.0</td>\n",
       "      <td>0.0</td>\n",
       "      <td>0.0</td>\n",
       "      <td>11.0</td>\n",
       "      <td>200.0</td>\n",
       "      <td>0.0</td>\n",
       "      <td>63.0</td>\n",
       "      <td>0.491482</td>\n",
       "      <td>31.0</td>\n",
       "      <td>0.345893</td>\n",
       "      <td>412.0</td>\n",
       "      <td>115.0</td>\n",
       "    </tr>\n",
       "    <tr>\n",
       "      <th>3</th>\n",
       "      <td>3.0</td>\n",
       "      <td>3.0</td>\n",
       "      <td>1.0</td>\n",
       "      <td>0.0</td>\n",
       "      <td>31.0</td>\n",
       "      <td>150.0</td>\n",
       "      <td>0.0</td>\n",
       "      <td>76.0</td>\n",
       "      <td>0.514693</td>\n",
       "      <td>39.0</td>\n",
       "      <td>0.346821</td>\n",
       "      <td>260.0</td>\n",
       "      <td>68.0</td>\n",
       "    </tr>\n",
       "    <tr>\n",
       "      <th>4</th>\n",
       "      <td>4.0</td>\n",
       "      <td>4.0</td>\n",
       "      <td>2.0</td>\n",
       "      <td>1.0</td>\n",
       "      <td>8.0</td>\n",
       "      <td>41.0</td>\n",
       "      <td>4.0</td>\n",
       "      <td>73.0</td>\n",
       "      <td>0.335587</td>\n",
       "      <td>1.0</td>\n",
       "      <td>0.331600</td>\n",
       "      <td>124.0</td>\n",
       "      <td>43.0</td>\n",
       "    </tr>\n",
       "    <tr>\n",
       "      <th>5</th>\n",
       "      <td>5.0</td>\n",
       "      <td>5.0</td>\n",
       "      <td>0.0</td>\n",
       "      <td>1.0</td>\n",
       "      <td>11.0</td>\n",
       "      <td>41.0</td>\n",
       "      <td>1.0</td>\n",
       "      <td>74.0</td>\n",
       "      <td>0.296562</td>\n",
       "      <td>3.0</td>\n",
       "      <td>0.320079</td>\n",
       "      <td>97.0</td>\n",
       "      <td>33.0</td>\n",
       "    </tr>\n",
       "    <tr>\n",
       "      <th>6</th>\n",
       "      <td>6.0</td>\n",
       "      <td>6.0</td>\n",
       "      <td>0.0</td>\n",
       "      <td>1.0</td>\n",
       "      <td>0.0</td>\n",
       "      <td>8.0</td>\n",
       "      <td>0.0</td>\n",
       "      <td>80.0</td>\n",
       "      <td>0.400818</td>\n",
       "      <td>0.0</td>\n",
       "      <td>0.341625</td>\n",
       "      <td>24.0</td>\n",
       "      <td>8.0</td>\n",
       "    </tr>\n",
       "    <tr>\n",
       "      <th>7</th>\n",
       "      <td>7.0</td>\n",
       "      <td>7.0</td>\n",
       "      <td>0.0</td>\n",
       "      <td>1.0</td>\n",
       "      <td>0.0</td>\n",
       "      <td>0.0</td>\n",
       "      <td>0.0</td>\n",
       "      <td>83.0</td>\n",
       "      <td>0.417225</td>\n",
       "      <td>0.0</td>\n",
       "      <td>0.355406</td>\n",
       "      <td>3.0</td>\n",
       "      <td>2.0</td>\n",
       "    </tr>\n",
       "    <tr>\n",
       "      <th>8</th>\n",
       "      <td>8.0</td>\n",
       "      <td>8.0</td>\n",
       "      <td>2.0</td>\n",
       "      <td>1.0</td>\n",
       "      <td>21.0</td>\n",
       "      <td>34.0</td>\n",
       "      <td>0.0</td>\n",
       "      <td>68.0</td>\n",
       "      <td>0.429630</td>\n",
       "      <td>3.0</td>\n",
       "      <td>0.348178</td>\n",
       "      <td>121.0</td>\n",
       "      <td>62.0</td>\n",
       "    </tr>\n",
       "    <tr>\n",
       "      <th>9</th>\n",
       "      <td>9.0</td>\n",
       "      <td>9.0</td>\n",
       "      <td>1.0</td>\n",
       "      <td>2.0</td>\n",
       "      <td>3.0</td>\n",
       "      <td>17.0</td>\n",
       "      <td>0.0</td>\n",
       "      <td>70.0</td>\n",
       "      <td>0.361068</td>\n",
       "      <td>0.0</td>\n",
       "      <td>0.342072</td>\n",
       "      <td>50.0</td>\n",
       "      <td>25.0</td>\n",
       "    </tr>\n",
       "    <tr>\n",
       "      <th>10</th>\n",
       "      <td>10.0</td>\n",
       "      <td>10.0</td>\n",
       "      <td>0.0</td>\n",
       "      <td>0.0</td>\n",
       "      <td>2.0</td>\n",
       "      <td>16.0</td>\n",
       "      <td>0.0</td>\n",
       "      <td>78.0</td>\n",
       "      <td>0.536408</td>\n",
       "      <td>0.0</td>\n",
       "      <td>0.354566</td>\n",
       "      <td>36.0</td>\n",
       "      <td>12.0</td>\n",
       "    </tr>\n",
       "  </tbody>\n",
       "</table>\n",
       "</div>"
      ],
      "text/plain": [
       "    Unnamed: 0  playerShort  redCards  leagueCountry  yellowCards  victories  \\\n",
       "0          0.0          0.0       0.0            0.0         19.0      247.0   \n",
       "1          1.0          1.0       1.0            2.0         42.0      141.0   \n",
       "2          2.0          2.0       0.0            0.0         11.0      200.0   \n",
       "3          3.0          3.0       1.0            0.0         31.0      150.0   \n",
       "4          4.0          4.0       2.0            1.0          8.0       41.0   \n",
       "5          5.0          5.0       0.0            1.0         11.0       41.0   \n",
       "6          6.0          6.0       0.0            1.0          0.0        8.0   \n",
       "7          7.0          7.0       0.0            1.0          0.0        0.0   \n",
       "8          8.0          8.0       2.0            1.0         21.0       34.0   \n",
       "9          9.0          9.0       1.0            2.0          3.0       17.0   \n",
       "10        10.0         10.0       0.0            0.0          2.0       16.0   \n",
       "\n",
       "    yellowReds  weight   meanExp  goals   meanIAT  games  defeats  \n",
       "0          0.0    71.0  0.494575    9.0  0.346459  654.0    228.0  \n",
       "1          0.0    73.0  0.449220   62.0  0.348818  336.0    122.0  \n",
       "2          0.0    63.0  0.491482   31.0  0.345893  412.0    115.0  \n",
       "3          0.0    76.0  0.514693   39.0  0.346821  260.0     68.0  \n",
       "4          4.0    73.0  0.335587    1.0  0.331600  124.0     43.0  \n",
       "5          1.0    74.0  0.296562    3.0  0.320079   97.0     33.0  \n",
       "6          0.0    80.0  0.400818    0.0  0.341625   24.0      8.0  \n",
       "7          0.0    83.0  0.417225    0.0  0.355406    3.0      2.0  \n",
       "8          0.0    68.0  0.429630    3.0  0.348178  121.0     62.0  \n",
       "9          0.0    70.0  0.361068    0.0  0.342072   50.0     25.0  \n",
       "10         0.0    78.0  0.536408    0.0  0.354566   36.0     12.0  "
      ]
     },
     "execution_count": 8,
     "metadata": {},
     "output_type": "execute_result"
    }
   ],
   "source": [
    "data_x.ix[:10,:13]"
   ]
  },
  {
   "cell_type": "code",
   "execution_count": 9,
   "metadata": {
    "collapsed": false
   },
   "outputs": [
    {
     "data": {
      "text/html": [
       "<div>\n",
       "<table border=\"1\" class=\"dataframe\">\n",
       "  <thead>\n",
       "    <tr style=\"text-align: right;\">\n",
       "      <th></th>\n",
       "      <th>ties</th>\n",
       "      <th>club</th>\n",
       "      <th>height</th>\n",
       "    </tr>\n",
       "  </thead>\n",
       "  <tbody>\n",
       "    <tr>\n",
       "      <th>0</th>\n",
       "      <td>179.0</td>\n",
       "      <td>34.0</td>\n",
       "      <td>182.0</td>\n",
       "    </tr>\n",
       "    <tr>\n",
       "      <th>1</th>\n",
       "      <td>73.0</td>\n",
       "      <td>91.0</td>\n",
       "      <td>183.0</td>\n",
       "    </tr>\n",
       "    <tr>\n",
       "      <th>2</th>\n",
       "      <td>97.0</td>\n",
       "      <td>83.0</td>\n",
       "      <td>165.0</td>\n",
       "    </tr>\n",
       "    <tr>\n",
       "      <th>3</th>\n",
       "      <td>42.0</td>\n",
       "      <td>6.0</td>\n",
       "      <td>178.0</td>\n",
       "    </tr>\n",
       "    <tr>\n",
       "      <th>4</th>\n",
       "      <td>40.0</td>\n",
       "      <td>51.0</td>\n",
       "      <td>180.0</td>\n",
       "    </tr>\n",
       "    <tr>\n",
       "      <th>5</th>\n",
       "      <td>23.0</td>\n",
       "      <td>36.0</td>\n",
       "      <td>180.0</td>\n",
       "    </tr>\n",
       "    <tr>\n",
       "      <th>6</th>\n",
       "      <td>8.0</td>\n",
       "      <td>80.0</td>\n",
       "      <td>189.0</td>\n",
       "    </tr>\n",
       "    <tr>\n",
       "      <th>7</th>\n",
       "      <td>1.0</td>\n",
       "      <td>36.0</td>\n",
       "      <td>188.0</td>\n",
       "    </tr>\n",
       "    <tr>\n",
       "      <th>8</th>\n",
       "      <td>25.0</td>\n",
       "      <td>78.0</td>\n",
       "      <td>180.0</td>\n",
       "    </tr>\n",
       "    <tr>\n",
       "      <th>9</th>\n",
       "      <td>8.0</td>\n",
       "      <td>77.0</td>\n",
       "      <td>179.0</td>\n",
       "    </tr>\n",
       "    <tr>\n",
       "      <th>10</th>\n",
       "      <td>8.0</td>\n",
       "      <td>48.0</td>\n",
       "      <td>180.0</td>\n",
       "    </tr>\n",
       "  </tbody>\n",
       "</table>\n",
       "</div>"
      ],
      "text/plain": [
       "     ties  club  height\n",
       "0   179.0  34.0   182.0\n",
       "1    73.0  91.0   183.0\n",
       "2    97.0  83.0   165.0\n",
       "3    42.0   6.0   178.0\n",
       "4    40.0  51.0   180.0\n",
       "5    23.0  36.0   180.0\n",
       "6     8.0  80.0   189.0\n",
       "7     1.0  36.0   188.0\n",
       "8    25.0  78.0   180.0\n",
       "9     8.0  77.0   179.0\n",
       "10    8.0  48.0   180.0"
      ]
     },
     "execution_count": 9,
     "metadata": {},
     "output_type": "execute_result"
    }
   ],
   "source": [
    "data_x.ix[:10,13:16]"
   ]
  },
  {
   "cell_type": "markdown",
   "metadata": {},
   "source": [
    "### Split data into train and test data"
   ]
  },
  {
   "cell_type": "code",
   "execution_count": 10,
   "metadata": {
    "collapsed": true
   },
   "outputs": [],
   "source": [
    "data_y = np.asarray(data_y)\n",
    "data_x = data_x.as_matrix()"
   ]
  },
  {
   "cell_type": "code",
   "execution_count": 11,
   "metadata": {
    "collapsed": false
   },
   "outputs": [],
   "source": [
    "# take ratio*100% of the data to train the model and keep (1-ratio)*100% of the data to validate the model\n",
    "def split_data(x, y, ratio, seed=1):\n",
    "    \"\"\"split the dataset based on the split ratio.\"\"\"\n",
    "    # set seed\n",
    "    np.random.seed(seed)\n",
    "    # ***************************************************\n",
    "    tr_len = np.floor(x.shape[0]*ratio).astype(int)\n",
    "    train_idx = np.random.choice(range(x.shape[0]),tr_len, replace=False)\n",
    "    test_idx = np.delete(range(x.shape[0]),train_idx)\n",
    "    # ***************************************************\n",
    "    y_train = y[train_idx]\n",
    "    y_test = y[test_idx]\n",
    "    x_train = x[train_idx,:]\n",
    "    x_test = x[test_idx,:]\n",
    "    return x_train,y_train,x_test,y_test\n",
    "\n",
    "# randomly split the data\n",
    "data_x_train,data_y_train,data_x_test,data_y_test = split_data(data_x,data_y, ratio = 0.6)"
   ]
  },
  {
   "cell_type": "code",
   "execution_count": 12,
   "metadata": {
    "collapsed": false
   },
   "outputs": [
    {
     "name": "stdout",
     "output_type": "stream",
     "text": [
      "(851,)\n",
      "(568,)\n"
     ]
    }
   ],
   "source": [
    "print(data_y_train.shape)\n",
    "print(data_y_test.shape)"
   ]
  },
  {
   "cell_type": "markdown",
   "metadata": {},
   "source": [
    "### Random Forest Classifier\n",
    "\n",
    "Train a sklearn.ensemble.RandomForestClassifier that given a soccer player description outputs his skin color."
   ]
  },
  {
   "cell_type": "code",
   "execution_count": 13,
   "metadata": {
    "collapsed": false
   },
   "outputs": [],
   "source": [
    "clf = RandomForestClassifier(n_estimators=10)\n",
    "clf = clf.fit(data_x_train, data_y_train)"
   ]
  },
  {
   "cell_type": "markdown",
   "metadata": {},
   "source": [
    "make predictions using the model"
   ]
  },
  {
   "cell_type": "code",
   "execution_count": 14,
   "metadata": {
    "collapsed": false
   },
   "outputs": [],
   "source": [
    "data_y_pred = clf.predict(data_x_test)"
   ]
  },
  {
   "cell_type": "markdown",
   "metadata": {},
   "source": [
    "prediction mean square error "
   ]
  },
  {
   "cell_type": "code",
   "execution_count": 15,
   "metadata": {
    "collapsed": false
   },
   "outputs": [
    {
     "data": {
      "text/plain": [
       "0.1619718309859155"
      ]
     },
     "execution_count": 15,
     "metadata": {},
     "output_type": "execute_result"
    }
   ],
   "source": [
    "mse = mean_squared_error(data_y_test, data_y_pred) \n",
    "mse"
   ]
  },
  {
   "cell_type": "code",
   "execution_count": 16,
   "metadata": {
    "collapsed": false
   },
   "outputs": [
    {
     "data": {
      "text/plain": [
       "0.8380281690140845"
      ]
     },
     "execution_count": 16,
     "metadata": {},
     "output_type": "execute_result"
    }
   ],
   "source": [
    "clf.score(data_x_test, data_y_test)"
   ]
  },
  {
   "cell_type": "code",
   "execution_count": 26,
   "metadata": {
    "collapsed": false
   },
   "outputs": [],
   "source": [
    "# different ratio values\n",
    "ratio = np.arange(0.1,1.,0.1)\n",
    "tr_score = np.zeros(ratio.shape)\n",
    "te_score = np.zeros(ratio.shape)\n",
    "\n",
    "\n",
    "for i in  np.arange(len(ratio)):\n",
    "    data_x_train,data_y_train,data_x_test,data_y_test = split_data(data_x,data_y, ratio[i])\n",
    "    clf = clf.fit(data_x_train, data_y_train)\n",
    "    tr_score[i] = clf.score(data_x_train, data_y_train)\n",
    "    te_score[i] = clf.score(data_x_test, data_y_test)"
   ]
  },
  {
   "cell_type": "code",
   "execution_count": 27,
   "metadata": {
    "collapsed": false
   },
   "outputs": [
    {
     "data": {
      "text/plain": [
       "array([ 0.1,  0.2,  0.3,  0.4,  0.5,  0.6,  0.7,  0.8,  0.9])"
      ]
     },
     "execution_count": 27,
     "metadata": {},
     "output_type": "execute_result"
    }
   ],
   "source": [
    "ratio\n"
   ]
  },
  {
   "cell_type": "code",
   "execution_count": 28,
   "metadata": {
    "collapsed": false
   },
   "outputs": [
    {
     "data": {
      "text/plain": [
       "array([ 0.97163121,  0.97173145,  0.98823529,  0.98236332,  0.98025388,\n",
       "        0.98589894,  0.98489426,  0.98942731,  0.98747063])"
      ]
     },
     "execution_count": 28,
     "metadata": {},
     "output_type": "execute_result"
    }
   ],
   "source": [
    "tr_score"
   ]
  },
  {
   "cell_type": "code",
   "execution_count": 29,
   "metadata": {
    "collapsed": false
   },
   "outputs": [
    {
     "data": {
      "text/plain": [
       "array([ 0.84115806,  0.83978873,  0.83702213,  0.82276995,  0.81830986,\n",
       "        0.83802817,  0.83802817,  0.82042254,  0.87323944])"
      ]
     },
     "execution_count": 29,
     "metadata": {},
     "output_type": "execute_result"
    }
   ],
   "source": [
    "te_score"
   ]
  },
  {
   "cell_type": "markdown",
   "metadata": {},
   "source": [
    "Show how different parameters passed to the Classifier affect the overfitting issue. "
   ]
  },
  {
   "cell_type": "code",
   "execution_count": null,
   "metadata": {
    "collapsed": true
   },
   "outputs": [],
   "source": []
  },
  {
   "cell_type": "markdown",
   "metadata": {},
   "source": [
    "Perform cross-validation to mitigate the overfitting of your model."
   ]
  },
  {
   "cell_type": "code",
   "execution_count": 22,
   "metadata": {
    "collapsed": true
   },
   "outputs": [],
   "source": [
    "def build_k_indices(y, k_fold, seed):\n",
    "    \"\"\"build k indices for k-fold.\"\"\"\n",
    "    num_row = y.shape[0]\n",
    "    interval = int(num_row / k_fold)\n",
    "    np.random.seed(seed)\n",
    "    indices = np.random.permutation(num_row)\n",
    "    k_indices = [indices[k * interval: (k + 1) * interval]\n",
    "                 for k in range(k_fold)]\n",
    "    return np.array(k_indices)\n",
    "\n",
    "def cross_validation(y, x, k_indices, k):\n",
    "    # ***************************************************\n",
    "    # get k'th subgroup in test, others in train\n",
    "    # ***************************************************\n",
    "    te_idx = k_indices[k-1]\n",
    "    tr_idx = np.concatenate([k_indices[0:k-1],k_indices[k+1:len(k_indices)]]).ravel()\n",
    "    te_x = x[te_idx,:]\n",
    "    te_y = y[te_idx]\n",
    "    tr_x = x[tr_idx,:]\n",
    "    tr_y = y[tr_idx]\n",
    "    # ***************************************************\n",
    "    # Random Forest Classifier\n",
    "    # ***************************************************\n",
    "    clf.fit(tr_x, tr_y)\n",
    "    # ***************************************************\n",
    "    # calculate the loss for train and test data\n",
    "    # ***************************************************\n",
    "    tr_score = clf.score(tr_x, tr_y)\n",
    "    te_score = clf.score(te_x, te_y)\n",
    "    return tr_score, te_score"
   ]
  },
  {
   "cell_type": "code",
   "execution_count": 24,
   "metadata": {
    "collapsed": false
   },
   "outputs": [
    {
     "name": "stdout",
     "output_type": "stream",
     "text": [
      "k = 1, train data score = 0.9884751773049646, test data score = 0.8581560283687943\n",
      "k = 2, train data score = 0.9778368794326241, test data score = 0.8581560283687943\n",
      "k = 3, train data score = 0.9822695035460993, test data score = 0.8085106382978723\n",
      "k = 4, train data score = 0.9787234042553191, test data score = 0.8156028368794326\n",
      "k = 5, train data score = 0.975177304964539, test data score = 0.8723404255319149\n",
      "k = 6, train data score = 0.9822695035460993, test data score = 0.851063829787234\n",
      "k = 7, train data score = 0.9796099290780141, test data score = 0.7943262411347518\n",
      "k = 8, train data score = 0.974290780141844, test data score = 0.900709219858156\n",
      "k = 9, train data score = 0.9813829787234043, test data score = 0.7801418439716312\n",
      "k = 10, train data score = 0.9850275807722616, test data score = 0.8297872340425532\n"
     ]
    }
   ],
   "source": [
    "def cross_validation_demo():\n",
    "    seed = 1\n",
    "    k_fold = 10\n",
    "    # split data in k fold\n",
    "    k_indices = build_k_indices(data_y, k_fold, seed)\n",
    "    # define lists to store the loss of training data and test data\n",
    "    score_tr = []\n",
    "    score_te = []\n",
    "    # ***************************************************\n",
    "    # cross validation\n",
    "    # ***************************************************\n",
    "    for k in np.r_[1:k_fold+1]:\n",
    "        tr_score,te_score = cross_validation(data_y, data_x, k_indices, k)\n",
    "        print(\"k = {ind}, train data score = {tr_s}, test data score = {te_s}\".format(ind=k,tr_s=tr_score,te_s=te_score))\n",
    "        score_tr = np.r_[score_tr, tr_score]\n",
    "        score_te = np.r_[score_te, te_score]\n",
    "\n",
    "cross_validation_demo()"
   ]
  },
  {
   "cell_type": "markdown",
   "metadata": {},
   "source": [
    "Once you assessed your model, inspect the feature_importances_ attribute and discuss the obtained results. "
   ]
  },
  {
   "cell_type": "code",
   "execution_count": null,
   "metadata": {
    "collapsed": true
   },
   "outputs": [],
   "source": []
  },
  {
   "cell_type": "markdown",
   "metadata": {},
   "source": [
    "With different assumptions on the data (e.g., dropping certain features even before feeding them to the classifier), can you obtain a substantially different feature_importances_ attribute?"
   ]
  },
  {
   "cell_type": "code",
   "execution_count": null,
   "metadata": {
    "collapsed": true
   },
   "outputs": [],
   "source": []
  },
  {
   "cell_type": "markdown",
   "metadata": {},
   "source": [
    "BONUS: plot the learning curves against at least 2 different sets of parameters passed to your Random Forest. To obtain smooth curves, partition your data in at least 20 folds. Can you find a set of parameters that leads to high bias, and one which does not?"
   ]
  },
  {
   "cell_type": "code",
   "execution_count": null,
   "metadata": {
    "collapsed": true
   },
   "outputs": [],
   "source": []
  }
 ],
 "metadata": {
  "anaconda-cloud": {},
  "kernelspec": {
   "display_name": "Python [Root]",
   "language": "python",
   "name": "Python [Root]"
  },
  "language_info": {
   "codemirror_mode": {
    "name": "ipython",
    "version": 3
   },
   "file_extension": ".py",
   "mimetype": "text/x-python",
   "name": "python",
   "nbconvert_exporter": "python",
   "pygments_lexer": "ipython3",
   "version": "3.5.2"
  }
 },
 "nbformat": 4,
 "nbformat_minor": 0
}
