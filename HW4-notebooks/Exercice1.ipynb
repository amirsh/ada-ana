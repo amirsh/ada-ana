{
 "cells": [
  {
   "cell_type": "markdown",
   "metadata": {},
   "source": [
    "# Exercise 1"
   ]
  },
  {
   "cell_type": "markdown",
   "metadata": {},
   "source": [
    "### Cleaned Data importing"
   ]
  },
  {
   "cell_type": "code",
   "execution_count": 1,
   "metadata": {
    "collapsed": false
   },
   "outputs": [
    {
     "name": "stdout",
     "output_type": "stream",
     "text": [
      "data shape = \n",
      "(1419, 19)\n",
      "Fist 13 columns :\n"
     ]
    },
    {
     "data": {
      "text/html": [
       "<div>\n",
       "<table border=\"1\" class=\"dataframe\">\n",
       "  <thead>\n",
       "    <tr style=\"text-align: right;\">\n",
       "      <th></th>\n",
       "      <th>Unnamed: 0</th>\n",
       "      <th>playerShort</th>\n",
       "      <th>redCards</th>\n",
       "      <th>leagueCountry</th>\n",
       "      <th>yellowCards</th>\n",
       "      <th>victories</th>\n",
       "      <th>yellowReds</th>\n",
       "      <th>black</th>\n",
       "      <th>weight</th>\n",
       "      <th>meanExp</th>\n",
       "      <th>goals</th>\n",
       "      <th>birthday</th>\n",
       "      <th>meanIAT</th>\n",
       "    </tr>\n",
       "  </thead>\n",
       "  <tbody>\n",
       "    <tr>\n",
       "      <th>0</th>\n",
       "      <td>0</td>\n",
       "      <td>0</td>\n",
       "      <td>0</td>\n",
       "      <td>0</td>\n",
       "      <td>19</td>\n",
       "      <td>247</td>\n",
       "      <td>0</td>\n",
       "      <td>0</td>\n",
       "      <td>71.0</td>\n",
       "      <td>0.494575</td>\n",
       "      <td>9</td>\n",
       "      <td>08.11.1979</td>\n",
       "      <td>0.346459</td>\n",
       "    </tr>\n",
       "    <tr>\n",
       "      <th>1</th>\n",
       "      <td>1</td>\n",
       "      <td>1</td>\n",
       "      <td>1</td>\n",
       "      <td>2</td>\n",
       "      <td>42</td>\n",
       "      <td>141</td>\n",
       "      <td>0</td>\n",
       "      <td>0</td>\n",
       "      <td>73.0</td>\n",
       "      <td>0.449220</td>\n",
       "      <td>62</td>\n",
       "      <td>04.09.1986</td>\n",
       "      <td>0.348818</td>\n",
       "    </tr>\n",
       "    <tr>\n",
       "      <th>2</th>\n",
       "      <td>2</td>\n",
       "      <td>2</td>\n",
       "      <td>0</td>\n",
       "      <td>0</td>\n",
       "      <td>11</td>\n",
       "      <td>200</td>\n",
       "      <td>0</td>\n",
       "      <td>0</td>\n",
       "      <td>63.0</td>\n",
       "      <td>0.491482</td>\n",
       "      <td>31</td>\n",
       "      <td>16.04.1987</td>\n",
       "      <td>0.345893</td>\n",
       "    </tr>\n",
       "    <tr>\n",
       "      <th>3</th>\n",
       "      <td>3</td>\n",
       "      <td>3</td>\n",
       "      <td>1</td>\n",
       "      <td>0</td>\n",
       "      <td>31</td>\n",
       "      <td>150</td>\n",
       "      <td>0</td>\n",
       "      <td>0</td>\n",
       "      <td>76.0</td>\n",
       "      <td>0.514693</td>\n",
       "      <td>39</td>\n",
       "      <td>26.12.1990</td>\n",
       "      <td>0.346821</td>\n",
       "    </tr>\n",
       "    <tr>\n",
       "      <th>4</th>\n",
       "      <td>4</td>\n",
       "      <td>4</td>\n",
       "      <td>2</td>\n",
       "      <td>1</td>\n",
       "      <td>8</td>\n",
       "      <td>41</td>\n",
       "      <td>4</td>\n",
       "      <td>0</td>\n",
       "      <td>73.0</td>\n",
       "      <td>0.335587</td>\n",
       "      <td>1</td>\n",
       "      <td>17.03.1990</td>\n",
       "      <td>0.331600</td>\n",
       "    </tr>\n",
       "    <tr>\n",
       "      <th>5</th>\n",
       "      <td>5</td>\n",
       "      <td>5</td>\n",
       "      <td>0</td>\n",
       "      <td>1</td>\n",
       "      <td>11</td>\n",
       "      <td>41</td>\n",
       "      <td>1</td>\n",
       "      <td>1</td>\n",
       "      <td>74.0</td>\n",
       "      <td>0.296562</td>\n",
       "      <td>3</td>\n",
       "      <td>17.01.1988</td>\n",
       "      <td>0.320079</td>\n",
       "    </tr>\n",
       "    <tr>\n",
       "      <th>6</th>\n",
       "      <td>6</td>\n",
       "      <td>6</td>\n",
       "      <td>0</td>\n",
       "      <td>1</td>\n",
       "      <td>0</td>\n",
       "      <td>8</td>\n",
       "      <td>0</td>\n",
       "      <td>1</td>\n",
       "      <td>80.0</td>\n",
       "      <td>0.400818</td>\n",
       "      <td>0</td>\n",
       "      <td>30.03.1992</td>\n",
       "      <td>0.341625</td>\n",
       "    </tr>\n",
       "    <tr>\n",
       "      <th>7</th>\n",
       "      <td>7</td>\n",
       "      <td>7</td>\n",
       "      <td>0</td>\n",
       "      <td>1</td>\n",
       "      <td>0</td>\n",
       "      <td>0</td>\n",
       "      <td>0</td>\n",
       "      <td>1</td>\n",
       "      <td>83.0</td>\n",
       "      <td>0.417225</td>\n",
       "      <td>0</td>\n",
       "      <td>19.08.1990</td>\n",
       "      <td>0.355406</td>\n",
       "    </tr>\n",
       "    <tr>\n",
       "      <th>8</th>\n",
       "      <td>8</td>\n",
       "      <td>8</td>\n",
       "      <td>2</td>\n",
       "      <td>1</td>\n",
       "      <td>21</td>\n",
       "      <td>34</td>\n",
       "      <td>0</td>\n",
       "      <td>1</td>\n",
       "      <td>68.0</td>\n",
       "      <td>0.429630</td>\n",
       "      <td>3</td>\n",
       "      <td>20.03.1990</td>\n",
       "      <td>0.348178</td>\n",
       "    </tr>\n",
       "    <tr>\n",
       "      <th>9</th>\n",
       "      <td>9</td>\n",
       "      <td>9</td>\n",
       "      <td>1</td>\n",
       "      <td>2</td>\n",
       "      <td>3</td>\n",
       "      <td>17</td>\n",
       "      <td>0</td>\n",
       "      <td>1</td>\n",
       "      <td>70.0</td>\n",
       "      <td>0.361068</td>\n",
       "      <td>0</td>\n",
       "      <td>02.07.1994</td>\n",
       "      <td>0.342072</td>\n",
       "    </tr>\n",
       "    <tr>\n",
       "      <th>10</th>\n",
       "      <td>10</td>\n",
       "      <td>10</td>\n",
       "      <td>0</td>\n",
       "      <td>0</td>\n",
       "      <td>2</td>\n",
       "      <td>16</td>\n",
       "      <td>0</td>\n",
       "      <td>1</td>\n",
       "      <td>78.0</td>\n",
       "      <td>0.536408</td>\n",
       "      <td>0</td>\n",
       "      <td>11.11.1992</td>\n",
       "      <td>0.354566</td>\n",
       "    </tr>\n",
       "  </tbody>\n",
       "</table>\n",
       "</div>"
      ],
      "text/plain": [
       "    Unnamed: 0  playerShort  redCards  leagueCountry  yellowCards  victories  \\\n",
       "0            0            0         0              0           19        247   \n",
       "1            1            1         1              2           42        141   \n",
       "2            2            2         0              0           11        200   \n",
       "3            3            3         1              0           31        150   \n",
       "4            4            4         2              1            8         41   \n",
       "5            5            5         0              1           11         41   \n",
       "6            6            6         0              1            0          8   \n",
       "7            7            7         0              1            0          0   \n",
       "8            8            8         2              1           21         34   \n",
       "9            9            9         1              2            3         17   \n",
       "10          10           10         0              0            2         16   \n",
       "\n",
       "    yellowReds  black  weight   meanExp  goals    birthday   meanIAT  \n",
       "0            0      0    71.0  0.494575      9  08.11.1979  0.346459  \n",
       "1            0      0    73.0  0.449220     62  04.09.1986  0.348818  \n",
       "2            0      0    63.0  0.491482     31  16.04.1987  0.345893  \n",
       "3            0      0    76.0  0.514693     39  26.12.1990  0.346821  \n",
       "4            4      0    73.0  0.335587      1  17.03.1990  0.331600  \n",
       "5            1      1    74.0  0.296562      3  17.01.1988  0.320079  \n",
       "6            0      1    80.0  0.400818      0  30.03.1992  0.341625  \n",
       "7            0      1    83.0  0.417225      0  19.08.1990  0.355406  \n",
       "8            0      1    68.0  0.429630      3  20.03.1990  0.348178  \n",
       "9            0      1    70.0  0.361068      0  02.07.1994  0.342072  \n",
       "10           0      1    78.0  0.536408      0  11.11.1992  0.354566  "
      ]
     },
     "execution_count": 1,
     "metadata": {},
     "output_type": "execute_result"
    }
   ],
   "source": [
    "# basic imports\n",
    "import pandas as pd\n",
    "import numpy as np\n",
    "pd.options.mode.chained_assignment = None  # default='warn'\n",
    "import math\n",
    "from sklearn.ensemble import RandomForestClassifier\n",
    "from sklearn.metrics import mean_squared_error\n",
    "from sklearn.cross_validation import KFold\n",
    "from sklearn.cross_validation import cross_val_score\n",
    "import matplotlib.pyplot as plt\n",
    "%matplotlib inline\n",
    "\n",
    "# reading the data\n",
    "data = pd.read_csv(\"data/clean_data.csv\", sep=',')\n",
    "data = data.replace([np.inf, -np.inf], np.nan).dropna()\n",
    "print(\"data shape = \")\n",
    "print(data.shape)\n",
    "# Display the first 10 rows of the dataset. Only 13 columns for space reasons\n",
    "print(\"Fist 13 columns :\")\n",
    "data.ix[:10,:13]"
   ]
  },
  {
   "cell_type": "code",
   "execution_count": 2,
   "metadata": {
    "collapsed": false
   },
   "outputs": [
    {
     "name": "stdout",
     "output_type": "stream",
     "text": [
      "the other columns : \n"
     ]
    },
    {
     "data": {
      "text/html": [
       "<div>\n",
       "<table border=\"1\" class=\"dataframe\">\n",
       "  <thead>\n",
       "    <tr style=\"text-align: right;\">\n",
       "      <th></th>\n",
       "      <th>games</th>\n",
       "      <th>defeats</th>\n",
       "      <th>ties</th>\n",
       "      <th>club</th>\n",
       "      <th>position</th>\n",
       "      <th>height</th>\n",
       "    </tr>\n",
       "  </thead>\n",
       "  <tbody>\n",
       "    <tr>\n",
       "      <th>0</th>\n",
       "      <td>654</td>\n",
       "      <td>228</td>\n",
       "      <td>179</td>\n",
       "      <td>34</td>\n",
       "      <td>Center Back</td>\n",
       "      <td>182.0</td>\n",
       "    </tr>\n",
       "    <tr>\n",
       "      <th>1</th>\n",
       "      <td>336</td>\n",
       "      <td>122</td>\n",
       "      <td>73</td>\n",
       "      <td>91</td>\n",
       "      <td>Attacking Midfielder</td>\n",
       "      <td>183.0</td>\n",
       "    </tr>\n",
       "    <tr>\n",
       "      <th>2</th>\n",
       "      <td>412</td>\n",
       "      <td>115</td>\n",
       "      <td>97</td>\n",
       "      <td>83</td>\n",
       "      <td>Right Midfielder</td>\n",
       "      <td>165.0</td>\n",
       "    </tr>\n",
       "    <tr>\n",
       "      <th>3</th>\n",
       "      <td>260</td>\n",
       "      <td>68</td>\n",
       "      <td>42</td>\n",
       "      <td>6</td>\n",
       "      <td>Center Midfielder</td>\n",
       "      <td>178.0</td>\n",
       "    </tr>\n",
       "    <tr>\n",
       "      <th>4</th>\n",
       "      <td>124</td>\n",
       "      <td>43</td>\n",
       "      <td>40</td>\n",
       "      <td>51</td>\n",
       "      <td>Center Back</td>\n",
       "      <td>180.0</td>\n",
       "    </tr>\n",
       "    <tr>\n",
       "      <th>5</th>\n",
       "      <td>97</td>\n",
       "      <td>33</td>\n",
       "      <td>23</td>\n",
       "      <td>36</td>\n",
       "      <td>Right Midfielder</td>\n",
       "      <td>180.0</td>\n",
       "    </tr>\n",
       "    <tr>\n",
       "      <th>6</th>\n",
       "      <td>24</td>\n",
       "      <td>8</td>\n",
       "      <td>8</td>\n",
       "      <td>80</td>\n",
       "      <td>Goalkeeper</td>\n",
       "      <td>189.0</td>\n",
       "    </tr>\n",
       "    <tr>\n",
       "      <th>7</th>\n",
       "      <td>3</td>\n",
       "      <td>2</td>\n",
       "      <td>1</td>\n",
       "      <td>36</td>\n",
       "      <td>Goalkeeper</td>\n",
       "      <td>188.0</td>\n",
       "    </tr>\n",
       "    <tr>\n",
       "      <th>8</th>\n",
       "      <td>121</td>\n",
       "      <td>62</td>\n",
       "      <td>25</td>\n",
       "      <td>78</td>\n",
       "      <td>Defensive Midfielder</td>\n",
       "      <td>180.0</td>\n",
       "    </tr>\n",
       "    <tr>\n",
       "      <th>9</th>\n",
       "      <td>50</td>\n",
       "      <td>25</td>\n",
       "      <td>8</td>\n",
       "      <td>77</td>\n",
       "      <td>Left Fullback</td>\n",
       "      <td>179.0</td>\n",
       "    </tr>\n",
       "    <tr>\n",
       "      <th>10</th>\n",
       "      <td>36</td>\n",
       "      <td>12</td>\n",
       "      <td>8</td>\n",
       "      <td>48</td>\n",
       "      <td>Center Midfielder</td>\n",
       "      <td>180.0</td>\n",
       "    </tr>\n",
       "  </tbody>\n",
       "</table>\n",
       "</div>"
      ],
      "text/plain": [
       "    games  defeats  ties  club              position  height\n",
       "0     654      228   179    34           Center Back   182.0\n",
       "1     336      122    73    91  Attacking Midfielder   183.0\n",
       "2     412      115    97    83      Right Midfielder   165.0\n",
       "3     260       68    42     6     Center Midfielder   178.0\n",
       "4     124       43    40    51           Center Back   180.0\n",
       "5      97       33    23    36      Right Midfielder   180.0\n",
       "6      24        8     8    80            Goalkeeper   189.0\n",
       "7       3        2     1    36            Goalkeeper   188.0\n",
       "8     121       62    25    78  Defensive Midfielder   180.0\n",
       "9      50       25     8    77         Left Fullback   179.0\n",
       "10     36       12     8    48     Center Midfielder   180.0"
      ]
     },
     "execution_count": 2,
     "metadata": {},
     "output_type": "execute_result"
    }
   ],
   "source": [
    "# Display the other columns too\n",
    "print(\"the other columns : \")\n",
    "data.ix[:10,13:19]"
   ]
  },
  {
   "cell_type": "markdown",
   "metadata": {},
   "source": [
    "### Define features and labels"
   ]
  },
  {
   "cell_type": "code",
   "execution_count": 3,
   "metadata": {
    "collapsed": false
   },
   "outputs": [
    {
     "data": {
      "text/plain": [
       "0    0\n",
       "1    0\n",
       "2    0\n",
       "3    0\n",
       "4    0\n",
       "Name: black, dtype: int64"
      ]
     },
     "execution_count": 3,
     "metadata": {},
     "output_type": "execute_result"
    }
   ],
   "source": [
    "# labels\n",
    "data_y = data['black']\n",
    "data_y.head()"
   ]
  },
  {
   "cell_type": "code",
   "execution_count": 4,
   "metadata": {
    "collapsed": false
   },
   "outputs": [
    {
     "data": {
      "text/plain": [
       "playerShort      float64\n",
       "redCards         float64\n",
       "leagueCountry    float64\n",
       "yellowCards      float64\n",
       "victories        float64\n",
       "yellowReds       float64\n",
       "weight           float64\n",
       "meanExp          float64\n",
       "goals            float64\n",
       "meanIAT          float64\n",
       "games            float64\n",
       "defeats          float64\n",
       "ties             float64\n",
       "club             float64\n",
       "height           float64\n",
       "dtype: object"
      ]
     },
     "execution_count": 4,
     "metadata": {},
     "output_type": "execute_result"
    }
   ],
   "source": [
    "# features\n",
    "data_x = data.drop(data.columns[[0,7,11,17]], axis=1).astype(float)\n",
    "data_x.dtypes"
   ]
  },
  {
   "cell_type": "code",
   "execution_count": 5,
   "metadata": {
    "collapsed": false
   },
   "outputs": [
    {
     "data": {
      "text/html": [
       "<div>\n",
       "<table border=\"1\" class=\"dataframe\">\n",
       "  <thead>\n",
       "    <tr style=\"text-align: right;\">\n",
       "      <th></th>\n",
       "      <th>playerShort</th>\n",
       "      <th>redCards</th>\n",
       "      <th>leagueCountry</th>\n",
       "      <th>yellowCards</th>\n",
       "      <th>victories</th>\n",
       "      <th>yellowReds</th>\n",
       "      <th>weight</th>\n",
       "      <th>meanExp</th>\n",
       "      <th>goals</th>\n",
       "      <th>meanIAT</th>\n",
       "      <th>games</th>\n",
       "      <th>defeats</th>\n",
       "      <th>ties</th>\n",
       "    </tr>\n",
       "  </thead>\n",
       "  <tbody>\n",
       "    <tr>\n",
       "      <th>0</th>\n",
       "      <td>0.0</td>\n",
       "      <td>0.0</td>\n",
       "      <td>0.0</td>\n",
       "      <td>19.0</td>\n",
       "      <td>247.0</td>\n",
       "      <td>0.0</td>\n",
       "      <td>71.0</td>\n",
       "      <td>0.494575</td>\n",
       "      <td>9.0</td>\n",
       "      <td>0.346459</td>\n",
       "      <td>654.0</td>\n",
       "      <td>228.0</td>\n",
       "      <td>179.0</td>\n",
       "    </tr>\n",
       "    <tr>\n",
       "      <th>1</th>\n",
       "      <td>1.0</td>\n",
       "      <td>1.0</td>\n",
       "      <td>2.0</td>\n",
       "      <td>42.0</td>\n",
       "      <td>141.0</td>\n",
       "      <td>0.0</td>\n",
       "      <td>73.0</td>\n",
       "      <td>0.449220</td>\n",
       "      <td>62.0</td>\n",
       "      <td>0.348818</td>\n",
       "      <td>336.0</td>\n",
       "      <td>122.0</td>\n",
       "      <td>73.0</td>\n",
       "    </tr>\n",
       "    <tr>\n",
       "      <th>2</th>\n",
       "      <td>2.0</td>\n",
       "      <td>0.0</td>\n",
       "      <td>0.0</td>\n",
       "      <td>11.0</td>\n",
       "      <td>200.0</td>\n",
       "      <td>0.0</td>\n",
       "      <td>63.0</td>\n",
       "      <td>0.491482</td>\n",
       "      <td>31.0</td>\n",
       "      <td>0.345893</td>\n",
       "      <td>412.0</td>\n",
       "      <td>115.0</td>\n",
       "      <td>97.0</td>\n",
       "    </tr>\n",
       "    <tr>\n",
       "      <th>3</th>\n",
       "      <td>3.0</td>\n",
       "      <td>1.0</td>\n",
       "      <td>0.0</td>\n",
       "      <td>31.0</td>\n",
       "      <td>150.0</td>\n",
       "      <td>0.0</td>\n",
       "      <td>76.0</td>\n",
       "      <td>0.514693</td>\n",
       "      <td>39.0</td>\n",
       "      <td>0.346821</td>\n",
       "      <td>260.0</td>\n",
       "      <td>68.0</td>\n",
       "      <td>42.0</td>\n",
       "    </tr>\n",
       "    <tr>\n",
       "      <th>4</th>\n",
       "      <td>4.0</td>\n",
       "      <td>2.0</td>\n",
       "      <td>1.0</td>\n",
       "      <td>8.0</td>\n",
       "      <td>41.0</td>\n",
       "      <td>4.0</td>\n",
       "      <td>73.0</td>\n",
       "      <td>0.335587</td>\n",
       "      <td>1.0</td>\n",
       "      <td>0.331600</td>\n",
       "      <td>124.0</td>\n",
       "      <td>43.0</td>\n",
       "      <td>40.0</td>\n",
       "    </tr>\n",
       "    <tr>\n",
       "      <th>5</th>\n",
       "      <td>5.0</td>\n",
       "      <td>0.0</td>\n",
       "      <td>1.0</td>\n",
       "      <td>11.0</td>\n",
       "      <td>41.0</td>\n",
       "      <td>1.0</td>\n",
       "      <td>74.0</td>\n",
       "      <td>0.296562</td>\n",
       "      <td>3.0</td>\n",
       "      <td>0.320079</td>\n",
       "      <td>97.0</td>\n",
       "      <td>33.0</td>\n",
       "      <td>23.0</td>\n",
       "    </tr>\n",
       "    <tr>\n",
       "      <th>6</th>\n",
       "      <td>6.0</td>\n",
       "      <td>0.0</td>\n",
       "      <td>1.0</td>\n",
       "      <td>0.0</td>\n",
       "      <td>8.0</td>\n",
       "      <td>0.0</td>\n",
       "      <td>80.0</td>\n",
       "      <td>0.400818</td>\n",
       "      <td>0.0</td>\n",
       "      <td>0.341625</td>\n",
       "      <td>24.0</td>\n",
       "      <td>8.0</td>\n",
       "      <td>8.0</td>\n",
       "    </tr>\n",
       "    <tr>\n",
       "      <th>7</th>\n",
       "      <td>7.0</td>\n",
       "      <td>0.0</td>\n",
       "      <td>1.0</td>\n",
       "      <td>0.0</td>\n",
       "      <td>0.0</td>\n",
       "      <td>0.0</td>\n",
       "      <td>83.0</td>\n",
       "      <td>0.417225</td>\n",
       "      <td>0.0</td>\n",
       "      <td>0.355406</td>\n",
       "      <td>3.0</td>\n",
       "      <td>2.0</td>\n",
       "      <td>1.0</td>\n",
       "    </tr>\n",
       "    <tr>\n",
       "      <th>8</th>\n",
       "      <td>8.0</td>\n",
       "      <td>2.0</td>\n",
       "      <td>1.0</td>\n",
       "      <td>21.0</td>\n",
       "      <td>34.0</td>\n",
       "      <td>0.0</td>\n",
       "      <td>68.0</td>\n",
       "      <td>0.429630</td>\n",
       "      <td>3.0</td>\n",
       "      <td>0.348178</td>\n",
       "      <td>121.0</td>\n",
       "      <td>62.0</td>\n",
       "      <td>25.0</td>\n",
       "    </tr>\n",
       "    <tr>\n",
       "      <th>9</th>\n",
       "      <td>9.0</td>\n",
       "      <td>1.0</td>\n",
       "      <td>2.0</td>\n",
       "      <td>3.0</td>\n",
       "      <td>17.0</td>\n",
       "      <td>0.0</td>\n",
       "      <td>70.0</td>\n",
       "      <td>0.361068</td>\n",
       "      <td>0.0</td>\n",
       "      <td>0.342072</td>\n",
       "      <td>50.0</td>\n",
       "      <td>25.0</td>\n",
       "      <td>8.0</td>\n",
       "    </tr>\n",
       "    <tr>\n",
       "      <th>10</th>\n",
       "      <td>10.0</td>\n",
       "      <td>0.0</td>\n",
       "      <td>0.0</td>\n",
       "      <td>2.0</td>\n",
       "      <td>16.0</td>\n",
       "      <td>0.0</td>\n",
       "      <td>78.0</td>\n",
       "      <td>0.536408</td>\n",
       "      <td>0.0</td>\n",
       "      <td>0.354566</td>\n",
       "      <td>36.0</td>\n",
       "      <td>12.0</td>\n",
       "      <td>8.0</td>\n",
       "    </tr>\n",
       "  </tbody>\n",
       "</table>\n",
       "</div>"
      ],
      "text/plain": [
       "    playerShort  redCards  leagueCountry  yellowCards  victories  yellowReds  \\\n",
       "0           0.0       0.0            0.0         19.0      247.0         0.0   \n",
       "1           1.0       1.0            2.0         42.0      141.0         0.0   \n",
       "2           2.0       0.0            0.0         11.0      200.0         0.0   \n",
       "3           3.0       1.0            0.0         31.0      150.0         0.0   \n",
       "4           4.0       2.0            1.0          8.0       41.0         4.0   \n",
       "5           5.0       0.0            1.0         11.0       41.0         1.0   \n",
       "6           6.0       0.0            1.0          0.0        8.0         0.0   \n",
       "7           7.0       0.0            1.0          0.0        0.0         0.0   \n",
       "8           8.0       2.0            1.0         21.0       34.0         0.0   \n",
       "9           9.0       1.0            2.0          3.0       17.0         0.0   \n",
       "10         10.0       0.0            0.0          2.0       16.0         0.0   \n",
       "\n",
       "    weight   meanExp  goals   meanIAT  games  defeats   ties  \n",
       "0     71.0  0.494575    9.0  0.346459  654.0    228.0  179.0  \n",
       "1     73.0  0.449220   62.0  0.348818  336.0    122.0   73.0  \n",
       "2     63.0  0.491482   31.0  0.345893  412.0    115.0   97.0  \n",
       "3     76.0  0.514693   39.0  0.346821  260.0     68.0   42.0  \n",
       "4     73.0  0.335587    1.0  0.331600  124.0     43.0   40.0  \n",
       "5     74.0  0.296562    3.0  0.320079   97.0     33.0   23.0  \n",
       "6     80.0  0.400818    0.0  0.341625   24.0      8.0    8.0  \n",
       "7     83.0  0.417225    0.0  0.355406    3.0      2.0    1.0  \n",
       "8     68.0  0.429630    3.0  0.348178  121.0     62.0   25.0  \n",
       "9     70.0  0.361068    0.0  0.342072   50.0     25.0    8.0  \n",
       "10    78.0  0.536408    0.0  0.354566   36.0     12.0    8.0  "
      ]
     },
     "execution_count": 5,
     "metadata": {},
     "output_type": "execute_result"
    }
   ],
   "source": [
    "data_x.ix[:10,:13]"
   ]
  },
  {
   "cell_type": "code",
   "execution_count": 6,
   "metadata": {
    "collapsed": false
   },
   "outputs": [
    {
     "data": {
      "text/html": [
       "<div>\n",
       "<table border=\"1\" class=\"dataframe\">\n",
       "  <thead>\n",
       "    <tr style=\"text-align: right;\">\n",
       "      <th></th>\n",
       "      <th>club</th>\n",
       "      <th>height</th>\n",
       "    </tr>\n",
       "  </thead>\n",
       "  <tbody>\n",
       "    <tr>\n",
       "      <th>0</th>\n",
       "      <td>34.0</td>\n",
       "      <td>182.0</td>\n",
       "    </tr>\n",
       "    <tr>\n",
       "      <th>1</th>\n",
       "      <td>91.0</td>\n",
       "      <td>183.0</td>\n",
       "    </tr>\n",
       "    <tr>\n",
       "      <th>2</th>\n",
       "      <td>83.0</td>\n",
       "      <td>165.0</td>\n",
       "    </tr>\n",
       "    <tr>\n",
       "      <th>3</th>\n",
       "      <td>6.0</td>\n",
       "      <td>178.0</td>\n",
       "    </tr>\n",
       "    <tr>\n",
       "      <th>4</th>\n",
       "      <td>51.0</td>\n",
       "      <td>180.0</td>\n",
       "    </tr>\n",
       "    <tr>\n",
       "      <th>5</th>\n",
       "      <td>36.0</td>\n",
       "      <td>180.0</td>\n",
       "    </tr>\n",
       "    <tr>\n",
       "      <th>6</th>\n",
       "      <td>80.0</td>\n",
       "      <td>189.0</td>\n",
       "    </tr>\n",
       "    <tr>\n",
       "      <th>7</th>\n",
       "      <td>36.0</td>\n",
       "      <td>188.0</td>\n",
       "    </tr>\n",
       "    <tr>\n",
       "      <th>8</th>\n",
       "      <td>78.0</td>\n",
       "      <td>180.0</td>\n",
       "    </tr>\n",
       "    <tr>\n",
       "      <th>9</th>\n",
       "      <td>77.0</td>\n",
       "      <td>179.0</td>\n",
       "    </tr>\n",
       "    <tr>\n",
       "      <th>10</th>\n",
       "      <td>48.0</td>\n",
       "      <td>180.0</td>\n",
       "    </tr>\n",
       "  </tbody>\n",
       "</table>\n",
       "</div>"
      ],
      "text/plain": [
       "    club  height\n",
       "0   34.0   182.0\n",
       "1   91.0   183.0\n",
       "2   83.0   165.0\n",
       "3    6.0   178.0\n",
       "4   51.0   180.0\n",
       "5   36.0   180.0\n",
       "6   80.0   189.0\n",
       "7   36.0   188.0\n",
       "8   78.0   180.0\n",
       "9   77.0   179.0\n",
       "10  48.0   180.0"
      ]
     },
     "execution_count": 6,
     "metadata": {},
     "output_type": "execute_result"
    }
   ],
   "source": [
    "data_x.ix[:10,13:15]"
   ]
  },
  {
   "cell_type": "markdown",
   "metadata": {},
   "source": [
    "### Split data into train and test data"
   ]
  },
  {
   "cell_type": "code",
   "execution_count": 7,
   "metadata": {
    "collapsed": true
   },
   "outputs": [],
   "source": [
    "data_y = np.asarray(data_y)\n",
    "data_x = data_x.as_matrix()"
   ]
  },
  {
   "cell_type": "code",
   "execution_count": 8,
   "metadata": {
    "collapsed": false
   },
   "outputs": [],
   "source": [
    "from sklearn.cross_validation import train_test_split\n",
    "from sklearn import metrics\n",
    "\n",
    "X_train, X_test, y_train, y_test = train_test_split(data_x, data_y, test_size=0.33, random_state=4)"
   ]
  },
  {
   "cell_type": "code",
   "execution_count": 9,
   "metadata": {
    "collapsed": false
   },
   "outputs": [
    {
     "name": "stdout",
     "output_type": "stream",
     "text": [
      "(950,)\n",
      "(469,)\n"
     ]
    }
   ],
   "source": [
    "print(y_train.shape)\n",
    "print(y_test.shape)"
   ]
  },
  {
   "cell_type": "markdown",
   "metadata": {},
   "source": [
    "### Random Forest Classifier\n",
    "\n",
    "Train a sklearn.ensemble.RandomForestClassifier that given a soccer player description outputs his skin color."
   ]
  },
  {
   "cell_type": "code",
   "execution_count": 10,
   "metadata": {
    "collapsed": false
   },
   "outputs": [],
   "source": [
    "clf = RandomForestClassifier()\n",
    "clf = clf.fit(X_train, y_train)"
   ]
  },
  {
   "cell_type": "markdown",
   "metadata": {},
   "source": [
    "make predictions using the model"
   ]
  },
  {
   "cell_type": "code",
   "execution_count": 11,
   "metadata": {
    "collapsed": false
   },
   "outputs": [],
   "source": [
    "y_pred = clf.predict(X_test)"
   ]
  },
  {
   "cell_type": "markdown",
   "metadata": {},
   "source": [
    "prediction score "
   ]
  },
  {
   "cell_type": "code",
   "execution_count": 12,
   "metadata": {
    "collapsed": false
   },
   "outputs": [
    {
     "name": "stdout",
     "output_type": "stream",
     "text": [
      "0.844349680171\n"
     ]
    },
    {
     "data": {
      "text/plain": [
       "0.84434968017057566"
      ]
     },
     "execution_count": 12,
     "metadata": {},
     "output_type": "execute_result"
    }
   ],
   "source": [
    "print(metrics.accuracy_score(y_test, y_pred))\n",
    "clf.score(X_test, y_test)"
   ]
  },
  {
   "cell_type": "code",
   "execution_count": 13,
   "metadata": {
    "collapsed": false
   },
   "outputs": [
    {
     "name": "stdout",
     "output_type": "stream",
     "text": [
      "ratio = 0.1, train data score = 0.9835552075176194, test data score = 0.8591549295774648\n",
      "ratio = 0.2, train data score = 0.9753303964757709, test data score = 0.8485915492957746\n",
      "ratio = 0.30000000000000004, train data score = 0.9778449144008057, test data score = 0.8685446009389671\n",
      "ratio = 0.4, train data score = 0.9847238542890717, test data score = 0.8485915492957746\n",
      "ratio = 0.5, train data score = 0.9802538787023978, test data score = 0.8507042253521127\n",
      "ratio = 0.6, train data score = 0.982363315696649, test data score = 0.8345070422535211\n",
      "ratio = 0.7000000000000001, train data score = 0.971764705882353, test data score = 0.8440643863179075\n",
      "ratio = 0.8, train data score = 0.9893992932862191, test data score = 0.8362676056338029\n",
      "ratio = 0.9, train data score = 0.9787234042553191, test data score = 0.8364632237871674\n"
     ]
    },
    {
     "data": {
      "text/plain": [
       "<matplotlib.text.Text at 0x1171b4128>"
      ]
     },
     "execution_count": 13,
     "metadata": {},
     "output_type": "execute_result"
    },
    {
     "data": {
      "image/png": "[encoded data removed]",
      "text/plain": [
       "<matplotlib.figure.Figure at 0x103f8e710>"
      ]
     },
     "metadata": {},
     "output_type": "display_data"
    }
   ],
   "source": [
    "# different ratio values\n",
    "ratio = np.arange(0.1,1.,0.1)\n",
    "tr_score = []\n",
    "te_score = []\n",
    "\n",
    "for i in  np.arange(len(ratio)):\n",
    "    X_train, X_test, y_train, y_test = train_test_split(data_x, data_y, test_size=ratio[i], random_state=4)    \n",
    "    clf = clf.fit(X_train, y_train)\n",
    "    y_pred = clf.predict(X_test)\n",
    "    tr_pred = clf.predict(X_train)\n",
    "    tr_score = np.r_[tr_score,metrics.accuracy_score(y_train, tr_pred)]\n",
    "    te_score = np.r_[te_score,metrics.accuracy_score(y_test, y_pred)]\n",
    "    print(\"ratio = {ind}, train data score = {tr_s}, test data score = {te_s}\".format(ind=ratio[i],tr_s=tr_score[i],te_s=te_score[i]))\n",
    "\n",
    "# plot \n",
    "plt.plot(ratio, te_score)\n",
    "plt.plot(ratio, tr_score)\n",
    "plt.xlabel('ratio of test data')\n",
    "plt.ylabel('score of the train and test data''s prediction' )"
   ]
  },
  {
   "cell_type": "markdown",
   "metadata": {},
   "source": [
    "Perform cross-validation to mitigate the overfitting of your model."
   ]
  },
  {
   "cell_type": "code",
   "execution_count": 14,
   "metadata": {
    "collapsed": false
   },
   "outputs": [
    {
     "name": "stdout",
     "output_type": "stream",
     "text": [
      "[ 0.46853147  0.83216783  0.85915493  0.81690141  0.83802817  0.85915493\n",
      "  0.85211268  0.84397163  0.89361702  0.85106383]\n",
      "0.811470389564\n"
     ]
    }
   ],
   "source": [
    "clf = RandomForestClassifier()\n",
    "scores = cross_val_score(clf, data_x, data_y, cv=10, scoring='accuracy')\n",
    "\n",
    "print(scores)\n",
    "print(scores.mean())"
   ]
  },
  {
   "cell_type": "code",
   "execution_count": 15,
   "metadata": {
    "collapsed": false
   },
   "outputs": [
    {
     "data": {
      "text/plain": [
       "<matplotlib.text.Text at 0x11737b780>"
      ]
     },
     "execution_count": 15,
     "metadata": {},
     "output_type": "execute_result"
    },
    {
     "data": {
      "image/png": "[encoded data removed]",
      "text/plain": [
       "<matplotlib.figure.Figure at 0x1172ee978>"
      ]
     },
     "metadata": {},
     "output_type": "display_data"
    }
   ],
   "source": [
    "folds = np.arange(2,21,1)\n",
    "cv_score = []\n",
    "ratio = []\n",
    "\n",
    "for i in  np.arange(len(folds)):\n",
    "    ratio = np.r_[ratio,(1/folds[i])]\n",
    "    clf = RandomForestClassifier()\n",
    "    scores = cross_val_score(clf, data_x, data_y, cv=folds[i], scoring='accuracy')\n",
    "    cv_score = np.r_[cv_score,scores.mean()]\n",
    "\n",
    "# plot \n",
    "plt.plot(folds, cv_score)\n",
    "plt.xlabel('number of folds')\n",
    "plt.ylabel('score of cross-validation' )"
   ]
  },
  {
   "cell_type": "code",
   "execution_count": 16,
   "metadata": {
    "collapsed": false
   },
   "outputs": [
    {
     "data": {
      "text/plain": [
       "<matplotlib.text.Text at 0x117b0d9b0>"
      ]
     },
     "execution_count": 16,
     "metadata": {},
     "output_type": "execute_result"
    },
    {
     "data": {
      "image/png": "[encoded data removed]",
      "text/plain": [
       "<matplotlib.figure.Figure at 0x1172668d0>"
      ]
     },
     "metadata": {},
     "output_type": "display_data"
    }
   ],
   "source": [
    "p1 = plt.plot(ratio, cv_score)\n",
    "plt.xlabel('ratio of test data')\n",
    "plt.ylabel('score of cross-validation')"
   ]
  },
  {
   "cell_type": "markdown",
   "metadata": {},
   "source": [
    "Show how different parameters passed to the Classifier affect the overfitting issue. \n",
    "\n",
    "### number of estimators"
   ]
  },
  {
   "cell_type": "code",
   "execution_count": 17,
   "metadata": {
    "collapsed": true
   },
   "outputs": [],
   "source": [
    "# n_estimators\n",
    "n = np.arange(1,11,1)\n",
    "ratio = 0.3\n",
    "X_train, X_test, y_train, y_test = train_test_split(data_x, data_y, test_size=ratio, random_state=4)    "
   ]
  },
  {
   "cell_type": "code",
   "execution_count": 18,
   "metadata": {
    "collapsed": false
   },
   "outputs": [
    {
     "data": {
      "text/plain": [
       "<matplotlib.text.Text at 0x11a80ff60>"
      ]
     },
     "execution_count": 18,
     "metadata": {},
     "output_type": "execute_result"
    },
    {
     "data": {
      "image/png": "[encoded data removed]",
      "text/plain": [
       "<matplotlib.figure.Figure at 0x117266978>"
      ]
     },
     "metadata": {},
     "output_type": "display_data"
    }
   ],
   "source": [
    "tr_score = []\n",
    "te_score = []\n",
    "for i in  np.arange(len(n)):\n",
    "    clf = RandomForestClassifier(n_estimators = n[i])\n",
    "    clf = clf.fit(X_train, y_train)\n",
    "    y_pred = clf.predict(X_test)\n",
    "    tr_pred = clf.predict(X_train)\n",
    "    tr_score = np.r_[tr_score,metrics.accuracy_score(y_train, tr_pred)]\n",
    "    te_score = np.r_[te_score,metrics.accuracy_score(y_test, y_pred)]\n",
    "    \n",
    "# plot \n",
    "plt.plot(n, te_score)\n",
    "plt.plot(n, tr_score)\n",
    "plt.xlabel('number of estimators')\n",
    "plt.ylabel('score of the train and test data''s prediction' )"
   ]
  },
  {
   "cell_type": "code",
   "execution_count": 19,
   "metadata": {
    "collapsed": false
   },
   "outputs": [
    {
     "data": {
      "text/plain": [
       "<matplotlib.text.Text at 0x11731a208>"
      ]
     },
     "execution_count": 19,
     "metadata": {},
     "output_type": "execute_result"
    },
    {
     "data": {
      "image/png": "[encoded data removed]",
      "text/plain": [
       "<matplotlib.figure.Figure at 0x1171ae748>"
      ]
     },
     "metadata": {},
     "output_type": "display_data"
    }
   ],
   "source": [
    "# using cross validation\n",
    "cv_score = []\n",
    "folds = 15\n",
    "for i in  np.arange(len(n)):\n",
    "    clf = RandomForestClassifier(n_estimators = n[i])\n",
    "    scores = cross_val_score(clf, data_x, data_y, cv=folds, scoring='accuracy')\n",
    "    cv_score = np.r_[cv_score, scores.mean()]\n",
    "\n",
    "\n",
    "    \n",
    "# plot \n",
    "plt.plot(n, cv_score)\n",
    "plt.xlabel('number of estimators')\n",
    "plt.ylabel('score of the cross-validation' )"
   ]
  },
  {
   "cell_type": "markdown",
   "metadata": {},
   "source": [
    "### minimum of samples required to split the data"
   ]
  },
  {
   "cell_type": "code",
   "execution_count": 20,
   "metadata": {
    "collapsed": false
   },
   "outputs": [],
   "source": [
    "#min_samples_split\n",
    "nss = np.arange(0.1,1.,0.1)\n",
    "n = 6\n",
    "ratio = 0.3\n",
    "X_train, X_test, y_train, y_test = train_test_split(data_x, data_y, test_size=ratio, random_state=4)    \n"
   ]
  },
  {
   "cell_type": "code",
   "execution_count": 21,
   "metadata": {
    "collapsed": false
   },
   "outputs": [
    {
     "data": {
      "text/plain": [
       "<matplotlib.text.Text at 0x11aa0e7f0>"
      ]
     },
     "execution_count": 21,
     "metadata": {},
     "output_type": "execute_result"
    },
    {
     "data": {
      "image/png": "[encoded data removed]",
      "text/plain": [
       "<matplotlib.figure.Figure at 0x11a87e1d0>"
      ]
     },
     "metadata": {},
     "output_type": "display_data"
    }
   ],
   "source": [
    "tr_score = []\n",
    "te_score = []\n",
    "for i in  np.arange(len(nss)):\n",
    "    clf = RandomForestClassifier(n_estimators = n, min_samples_split = nss[i])\n",
    "    clf = clf.fit(X_train, y_train)\n",
    "    y_pred = clf.predict(X_test)\n",
    "    tr_pred = clf.predict(X_train)\n",
    "    tr_score = np.r_[tr_score,metrics.accuracy_score(y_train, tr_pred)]\n",
    "    te_score = np.r_[te_score,metrics.accuracy_score(y_test, y_pred)]\n",
    "    \n",
    "# plot \n",
    "plt.plot(nss, te_score)\n",
    "plt.plot(nss, tr_score)\n",
    "plt.xlabel('min samples split')\n",
    "plt.ylabel('score of the train and test data''s prediction' )"
   ]
  },
  {
   "cell_type": "code",
   "execution_count": 24,
   "metadata": {
    "collapsed": false
   },
   "outputs": [
    {
     "data": {
      "text/plain": [
       "<matplotlib.text.Text at 0x11ac7d4a8>"
      ]
     },
     "execution_count": 24,
     "metadata": {},
     "output_type": "execute_result"
    },
    {
     "data": {
      "image/png": "[encoded data removed]",
      "text/plain": [
       "<matplotlib.figure.Figure at 0x11ac29080>"
      ]
     },
     "metadata": {},
     "output_type": "display_data"
    }
   ],
   "source": [
    "# using cross validation\n",
    "cv_score = []\n",
    "folds = 15\n",
    "\n",
    "for i in  np.arange(len(nss)):\n",
    "    clf = RandomForestClassifier(n_estimators = n, min_samples_split = nss[i])\n",
    "    scores = cross_val_score(clf, data_x, data_y, cv=folds, scoring='accuracy')\n",
    "    cv_score = np.r_[cv_score, scores.mean()]\n",
    "\n",
    "\n",
    "    \n",
    "# plot \n",
    "plt.plot(nss, cv_score)\n",
    "plt.xlabel('min samples split')\n",
    "plt.ylabel('score of the cross-validation' )"
   ]
  },
  {
   "cell_type": "markdown",
   "metadata": {},
   "source": [
    "### minimum of samples in a leaf"
   ]
  },
  {
   "cell_type": "code",
   "execution_count": 25,
   "metadata": {
    "collapsed": true
   },
   "outputs": [],
   "source": [
    "#min_samples_leaf\n",
    "nsl = np.arange(0.1,1.,0.1)\n",
    "nss = 0.5\n",
    "n = 6\n",
    "ratio = 0.3\n",
    "X_train, X_test, y_train, y_test = train_test_split(data_x, data_y, test_size=ratio, random_state=4)    "
   ]
  },
  {
   "cell_type": "code",
   "execution_count": 26,
   "metadata": {
    "collapsed": false
   },
   "outputs": [
    {
     "data": {
      "text/plain": [
       "<matplotlib.text.Text at 0x11af425f8>"
      ]
     },
     "execution_count": 26,
     "metadata": {},
     "output_type": "execute_result"
    },
    {
     "data": {
      "image/png": "[encoded data removed]",
      "text/plain": [
       "<matplotlib.figure.Figure at 0x11ac6eda0>"
      ]
     },
     "metadata": {},
     "output_type": "display_data"
    }
   ],
   "source": [
    "tr_score = []\n",
    "te_score = []\n",
    "for i in  np.arange(len(nsl)):\n",
    "    clf = RandomForestClassifier(n_estimators = n, min_samples_split = nss ,min_samples_leaf = nsl[i])\n",
    "    clf = clf.fit(X_train, y_train)\n",
    "    y_pred = clf.predict(X_test)\n",
    "    tr_pred = clf.predict(X_train)\n",
    "    tr_score = np.r_[tr_score,metrics.accuracy_score(y_train, tr_pred)]\n",
    "    te_score = np.r_[te_score,metrics.accuracy_score(y_test, y_pred)]\n",
    "    \n",
    "# plot \n",
    "plt.plot(nsl, te_score)\n",
    "plt.plot(nsl, tr_score)\n",
    "plt.xlabel('min samples in a leaf')\n",
    "plt.ylabel('score of the train and test data''s prediction' )"
   ]
  },
  {
   "cell_type": "code",
   "execution_count": 27,
   "metadata": {
    "collapsed": false
   },
   "outputs": [
    {
     "data": {
      "text/plain": [
       "<matplotlib.text.Text at 0x11accae10>"
      ]
     },
     "execution_count": 27,
     "metadata": {},
     "output_type": "execute_result"
    },
    {
     "data": {
      "image/png": "[encoded data removed]",
      "text/plain": [
       "<matplotlib.figure.Figure at 0x11ab59080>"
      ]
     },
     "metadata": {},
     "output_type": "display_data"
    }
   ],
   "source": [
    "# using cross validation\n",
    "cv_score = []\n",
    "folds = 15\n",
    "\n",
    "for i in  np.arange(len(nsl)):\n",
    "    clf = RandomForestClassifier(n_estimators = n,min_samples_split = nss,min_samples_leaf = nsl[i])\n",
    "    scores = cross_val_score(clf, data_x, data_y, cv=folds, scoring='accuracy')\n",
    "    cv_score = np.r_[cv_score, scores.mean()]\n",
    "\n",
    "\n",
    "    \n",
    "# plot \n",
    "plt.plot(nsl, cv_score)\n",
    "plt.xlabel('min samples in a leaf')\n",
    "plt.ylabel('score of the cross-validation' )"
   ]
  },
  {
   "cell_type": "markdown",
   "metadata": {},
   "source": [
    "### Feature's importance\n",
    "\n",
    "Once you assessed your model, inspect the feature_importances_ attribute and discuss the obtained results. "
   ]
  },
  {
   "cell_type": "code",
   "execution_count": 32,
   "metadata": {
    "collapsed": false
   },
   "outputs": [
    {
     "data": {
      "text/plain": [
       "array([ 0.09100215,  0.03207735,  0.06222171,  0.06696945,  0.07852472,\n",
       "        0.02825783,  0.03849524,  0.08019564,  0.07958228,  0.14437433,\n",
       "        0.06790572,  0.06374657,  0.04663811,  0.06729582,  0.05271308])"
      ]
     },
     "execution_count": 32,
     "metadata": {},
     "output_type": "execute_result"
    }
   ],
   "source": [
    "n = 6\n",
    "nss = 0.5\n",
    "nsf = 0.3\n",
    "\n",
    "clf = RandomForestClassifier(n_estimators = n,min_samples_split = nss,min_samples_leaf = nsl[i])\n",
    "clf = clf.fit(data_x, data_y)\n",
    "\n",
    "clf.feature_importances_"
   ]
  },
  {
   "cell_type": "code",
   "execution_count": 33,
   "metadata": {
    "collapsed": false
   },
   "outputs": [
    {
     "data": {
      "text/plain": [
       "[DecisionTreeClassifier(class_weight=None, criterion='gini', max_depth=None,\n",
       "             max_features='auto', max_leaf_nodes=None,\n",
       "             min_samples_leaf=0.90000000000000002, min_samples_split=0.5,\n",
       "             min_weight_fraction_leaf=0.0, presort=False,\n",
       "             random_state=647557108, splitter='best'),\n",
       " DecisionTreeClassifier(class_weight=None, criterion='gini', max_depth=None,\n",
       "             max_features='auto', max_leaf_nodes=None,\n",
       "             min_samples_leaf=0.90000000000000002, min_samples_split=0.5,\n",
       "             min_weight_fraction_leaf=0.0, presort=False,\n",
       "             random_state=1908949838, splitter='best'),\n",
       " DecisionTreeClassifier(class_weight=None, criterion='gini', max_depth=None,\n",
       "             max_features='auto', max_leaf_nodes=None,\n",
       "             min_samples_leaf=0.90000000000000002, min_samples_split=0.5,\n",
       "             min_weight_fraction_leaf=0.0, presort=False,\n",
       "             random_state=1757127063, splitter='best'),\n",
       " DecisionTreeClassifier(class_weight=None, criterion='gini', max_depth=None,\n",
       "             max_features='auto', max_leaf_nodes=None,\n",
       "             min_samples_leaf=0.90000000000000002, min_samples_split=0.5,\n",
       "             min_weight_fraction_leaf=0.0, presort=False,\n",
       "             random_state=1361009750, splitter='best'),\n",
       " DecisionTreeClassifier(class_weight=None, criterion='gini', max_depth=None,\n",
       "             max_features='auto', max_leaf_nodes=None,\n",
       "             min_samples_leaf=0.90000000000000002, min_samples_split=0.5,\n",
       "             min_weight_fraction_leaf=0.0, presort=False,\n",
       "             random_state=266926203, splitter='best'),\n",
       " DecisionTreeClassifier(class_weight=None, criterion='gini', max_depth=None,\n",
       "             max_features='auto', max_leaf_nodes=None,\n",
       "             min_samples_leaf=0.90000000000000002, min_samples_split=0.5,\n",
       "             min_weight_fraction_leaf=0.0, presort=False,\n",
       "             random_state=1166634753, splitter='best')]"
      ]
     },
     "execution_count": 33,
     "metadata": {},
     "output_type": "execute_result"
    }
   ],
   "source": [
    "clf.estimators_"
   ]
  },
  {
   "cell_type": "code",
   "execution_count": 34,
   "metadata": {
    "collapsed": false
   },
   "outputs": [
    {
     "name": "stdout",
     "output_type": "stream",
     "text": [
      "Feature ranking:\n",
      "1. feature 9 (0.144374)\n",
      "2. feature 0 (0.091002)\n",
      "3. feature 7 (0.080196)\n",
      "4. feature 8 (0.079582)\n",
      "5. feature 4 (0.078525)\n",
      "6. feature 10 (0.067906)\n",
      "7. feature 13 (0.067296)\n",
      "8. feature 3 (0.066969)\n",
      "9. feature 11 (0.063747)\n",
      "10. feature 2 (0.062222)\n",
      "11. feature 14 (0.052713)\n",
      "12. feature 12 (0.046638)\n",
      "13. feature 6 (0.038495)\n",
      "14. feature 1 (0.032077)\n",
      "15. feature 5 (0.028258)\n"
     ]
    },
    {
     "data": {
      "image/png": "[encoded data removed]",
      "text/plain": [
       "<matplotlib.figure.Figure at 0x11b296048>"
      ]
     },
     "metadata": {},
     "output_type": "display_data"
    }
   ],
   "source": [
    "importances = clf.feature_importances_\n",
    "std = np.std([tree.feature_importances_ for tree in clf.estimators_],\n",
    "             axis=0)\n",
    "indices = np.argsort(importances)[::-1]\n",
    "\n",
    "# Print the feature ranking\n",
    "print(\"Feature ranking:\")\n",
    "\n",
    "for f in range(data_x.shape[1]):\n",
    "    print(\"%d. feature %d (%f)\" % (f + 1, indices[f], importances[indices[f]]))\n",
    "\n",
    "# Plot the feature importances of the forest\n",
    "plt.figure()\n",
    "plt.title(\"Feature importances\")\n",
    "plt.bar(range(data_x.shape[1]), importances[indices],\n",
    "       color=\"r\", yerr=std[indices], align=\"center\")\n",
    "plt.xticks(range(data_x.shape[1]), indices)\n",
    "plt.xlim([-1, data_x.shape[1]])\n",
    "plt.show()"
   ]
  },
  {
   "cell_type": "markdown",
   "metadata": {},
   "source": [
    "#### feature 1 : playerShort , feature 5 : victories"
   ]
  },
  {
   "cell_type": "markdown",
   "metadata": {},
   "source": [
    "With different assumptions on the data (e.g., dropping certain features even before feeding them to the classifier), can you obtain a substantially different feature_importances_ attribute?"
   ]
  },
  {
   "cell_type": "code",
   "execution_count": 35,
   "metadata": {
    "collapsed": false
   },
   "outputs": [
    {
     "data": {
      "text/plain": [
       "(1419, 15)"
      ]
     },
     "execution_count": 35,
     "metadata": {},
     "output_type": "execute_result"
    }
   ],
   "source": [
    "data_x.shape"
   ]
  },
  {
   "cell_type": "code",
   "execution_count": 40,
   "metadata": {
    "collapsed": false
   },
   "outputs": [
    {
     "name": "stdout",
     "output_type": "stream",
     "text": [
      "(1419, 13)\n",
      "Feature ranking:\n",
      "1. feature 7 (0.141061)\n",
      "2. feature 5 (0.100469)\n",
      "3. feature 8 (0.089851)\n",
      "4. feature 3 (0.084107)\n",
      "5. feature 0 (0.084030)\n",
      "6. feature 4 (0.069763)\n",
      "7. feature 6 (0.067307)\n",
      "8. feature 11 (0.062953)\n",
      "9. feature 1 (0.062585)\n",
      "10. feature 10 (0.060605)\n",
      "11. feature 9 (0.059668)\n",
      "12. feature 2 (0.059316)\n",
      "13. feature 12 (0.058286)\n"
     ]
    },
    {
     "data": {
      "image/png": "[encoded data removed]",
      "text/plain": [
       "<matplotlib.figure.Figure at 0x11b29c978>"
      ]
     },
     "metadata": {},
     "output_type": "display_data"
    }
   ],
   "source": [
    "# dropping irrelevant features (1,5)\n",
    "dcopy_x = data_x\n",
    "dcopy_x = np.delete(dcopy_x, [1,5], 1)\n",
    "print(dcopy_x.shape)\n",
    "\n",
    "# Build classifier\n",
    "clf = RandomForestClassifier(n_estimators = n,min_samples_split = nss,min_samples_leaf = nsl[i])\n",
    "clf = clf.fit(dcopy_x, data_y)\n",
    "\n",
    "importances = clf.feature_importances_\n",
    "std = np.std([tree.feature_importances_ for tree in clf.estimators_],\n",
    "             axis=0)\n",
    "indices = np.argsort(importances)[::-1]\n",
    "\n",
    "# Print the feature ranking\n",
    "print(\"Feature ranking:\")\n",
    "\n",
    "for f in range(dcopy_x.shape[1]):\n",
    "    print(\"%d. feature %d (%f)\" % (f + 1, indices[f], importances[indices[f]]))\n",
    "\n",
    "# Plot the feature importances of the forest\n",
    "plt.figure()\n",
    "plt.title(\"Feature importances\")\n",
    "plt.bar(range(dcopy_x.shape[1]), importances[indices],\n",
    "       color=\"r\", yerr=std[indices], align=\"center\")\n",
    "plt.xticks(range(dcopy_x.shape[1]), indices)\n",
    "plt.xlim([-1, dcopy_x.shape[1]])\n",
    "plt.show()"
   ]
  },
  {
   "cell_type": "markdown",
   "metadata": {},
   "source": [
    "BONUS: plot the learning curves against at least 2 different sets of parameters passed to your Random Forest. To obtain smooth curves, partition your data in at least 20 folds. Can you find a set of parameters that leads to high bias, and one which does not?"
   ]
  },
  {
   "cell_type": "code",
   "execution_count": null,
   "metadata": {
    "collapsed": true
   },
   "outputs": [],
   "source": []
  }
 ],
 "metadata": {
  "anaconda-cloud": {},
  "kernelspec": {
   "display_name": "Python [Root]",
   "language": "python",
   "name": "Python [Root]"
  },
  "language_info": {
   "codemirror_mode": {
    "name": "ipython",
    "version": 3
   },
   "file_extension": ".py",
   "mimetype": "text/x-python",
   "name": "python",
   "nbconvert_exporter": "python",
   "pygments_lexer": "ipython3",
   "version": "3.5.2"
  }
 },
 "nbformat": 4,
 "nbformat_minor": 0
}
