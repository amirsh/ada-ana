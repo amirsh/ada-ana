{
 "cells": [
  {
   "cell_type": "markdown",
   "metadata": {},
   "source": [
    "# Exercise 1\n",
    "\n",
    "In this exercise, starting from the cleaned and pre-pricessed dataset in the notebook 'Ex1-Preprocess.ipynb', 'data/clean_data.csv' we train a Random-Forest Classifier that given a soccer player description outputs his skin color."
   ]
  },
  {
   "cell_type": "code",
   "execution_count": 1,
   "metadata": {
    "collapsed": true
   },
   "outputs": [],
   "source": [
    "# basic imports\n",
    "import pandas as pd\n",
    "import numpy as np\n",
    "pd.options.mode.chained_assignment = None  # default='warn'\n",
    "import math\n",
    "from sklearn.ensemble import RandomForestClassifier\n",
    "from sklearn.cross_validation import train_test_split\n",
    "from sklearn import metrics\n",
    "from sklearn.cross_validation import KFold\n",
    "from sklearn.cross_validation import cross_val_score\n",
    "import matplotlib.pyplot as plt\n",
    "%matplotlib inline"
   ]
  },
  {
   "cell_type": "markdown",
   "metadata": {},
   "source": [
    "### Cleaned Data importing\n",
    "we start first by importing and investigating the data."
   ]
  },
  {
   "cell_type": "code",
   "execution_count": 2,
   "metadata": {
    "collapsed": false
   },
   "outputs": [
    {
     "name": "stdout",
     "output_type": "stream",
     "text": [
      "data shape = \n",
      "(1564, 19)\n",
      "Fist 13 columns :\n"
     ]
    },
    {
     "data": {
      "text/html": [
       "<div>\n",
       "<table border=\"1\" class=\"dataframe\">\n",
       "  <thead>\n",
       "    <tr style=\"text-align: right;\">\n",
       "      <th></th>\n",
       "      <th>Unnamed: 0</th>\n",
       "      <th>playerShort</th>\n",
       "      <th>yellowReds</th>\n",
       "      <th>goals</th>\n",
       "      <th>birthday</th>\n",
       "      <th>ties</th>\n",
       "      <th>leagueCountry</th>\n",
       "      <th>black</th>\n",
       "      <th>defeats</th>\n",
       "      <th>weight</th>\n",
       "      <th>victories</th>\n",
       "      <th>height</th>\n",
       "      <th>meanExp</th>\n",
       "    </tr>\n",
       "  </thead>\n",
       "  <tbody>\n",
       "    <tr>\n",
       "      <th>0</th>\n",
       "      <td>0</td>\n",
       "      <td>0</td>\n",
       "      <td>0</td>\n",
       "      <td>9</td>\n",
       "      <td>08.11.1979</td>\n",
       "      <td>179</td>\n",
       "      <td>0</td>\n",
       "      <td>0</td>\n",
       "      <td>228</td>\n",
       "      <td>71.0</td>\n",
       "      <td>247</td>\n",
       "      <td>182.0</td>\n",
       "      <td>0.494575</td>\n",
       "    </tr>\n",
       "    <tr>\n",
       "      <th>1</th>\n",
       "      <td>1</td>\n",
       "      <td>1</td>\n",
       "      <td>0</td>\n",
       "      <td>62</td>\n",
       "      <td>04.09.1986</td>\n",
       "      <td>73</td>\n",
       "      <td>2</td>\n",
       "      <td>0</td>\n",
       "      <td>122</td>\n",
       "      <td>73.0</td>\n",
       "      <td>141</td>\n",
       "      <td>183.0</td>\n",
       "      <td>0.449220</td>\n",
       "    </tr>\n",
       "    <tr>\n",
       "      <th>2</th>\n",
       "      <td>2</td>\n",
       "      <td>2</td>\n",
       "      <td>0</td>\n",
       "      <td>31</td>\n",
       "      <td>16.04.1987</td>\n",
       "      <td>97</td>\n",
       "      <td>0</td>\n",
       "      <td>0</td>\n",
       "      <td>115</td>\n",
       "      <td>63.0</td>\n",
       "      <td>200</td>\n",
       "      <td>165.0</td>\n",
       "      <td>0.491482</td>\n",
       "    </tr>\n",
       "    <tr>\n",
       "      <th>3</th>\n",
       "      <td>3</td>\n",
       "      <td>3</td>\n",
       "      <td>0</td>\n",
       "      <td>39</td>\n",
       "      <td>26.12.1990</td>\n",
       "      <td>42</td>\n",
       "      <td>0</td>\n",
       "      <td>0</td>\n",
       "      <td>68</td>\n",
       "      <td>76.0</td>\n",
       "      <td>150</td>\n",
       "      <td>178.0</td>\n",
       "      <td>0.514693</td>\n",
       "    </tr>\n",
       "    <tr>\n",
       "      <th>4</th>\n",
       "      <td>4</td>\n",
       "      <td>4</td>\n",
       "      <td>4</td>\n",
       "      <td>1</td>\n",
       "      <td>17.03.1990</td>\n",
       "      <td>40</td>\n",
       "      <td>1</td>\n",
       "      <td>0</td>\n",
       "      <td>43</td>\n",
       "      <td>73.0</td>\n",
       "      <td>41</td>\n",
       "      <td>180.0</td>\n",
       "      <td>0.335587</td>\n",
       "    </tr>\n",
       "    <tr>\n",
       "      <th>5</th>\n",
       "      <td>5</td>\n",
       "      <td>5</td>\n",
       "      <td>1</td>\n",
       "      <td>3</td>\n",
       "      <td>17.01.1988</td>\n",
       "      <td>23</td>\n",
       "      <td>1</td>\n",
       "      <td>1</td>\n",
       "      <td>33</td>\n",
       "      <td>74.0</td>\n",
       "      <td>41</td>\n",
       "      <td>180.0</td>\n",
       "      <td>0.296562</td>\n",
       "    </tr>\n",
       "    <tr>\n",
       "      <th>6</th>\n",
       "      <td>6</td>\n",
       "      <td>6</td>\n",
       "      <td>0</td>\n",
       "      <td>0</td>\n",
       "      <td>30.03.1992</td>\n",
       "      <td>8</td>\n",
       "      <td>1</td>\n",
       "      <td>1</td>\n",
       "      <td>8</td>\n",
       "      <td>80.0</td>\n",
       "      <td>8</td>\n",
       "      <td>189.0</td>\n",
       "      <td>0.400818</td>\n",
       "    </tr>\n",
       "    <tr>\n",
       "      <th>7</th>\n",
       "      <td>7</td>\n",
       "      <td>7</td>\n",
       "      <td>0</td>\n",
       "      <td>0</td>\n",
       "      <td>19.08.1990</td>\n",
       "      <td>1</td>\n",
       "      <td>1</td>\n",
       "      <td>1</td>\n",
       "      <td>2</td>\n",
       "      <td>83.0</td>\n",
       "      <td>0</td>\n",
       "      <td>188.0</td>\n",
       "      <td>0.417225</td>\n",
       "    </tr>\n",
       "    <tr>\n",
       "      <th>8</th>\n",
       "      <td>8</td>\n",
       "      <td>8</td>\n",
       "      <td>0</td>\n",
       "      <td>3</td>\n",
       "      <td>20.03.1990</td>\n",
       "      <td>25</td>\n",
       "      <td>1</td>\n",
       "      <td>1</td>\n",
       "      <td>62</td>\n",
       "      <td>68.0</td>\n",
       "      <td>34</td>\n",
       "      <td>180.0</td>\n",
       "      <td>0.429630</td>\n",
       "    </tr>\n",
       "    <tr>\n",
       "      <th>9</th>\n",
       "      <td>9</td>\n",
       "      <td>9</td>\n",
       "      <td>0</td>\n",
       "      <td>0</td>\n",
       "      <td>02.07.1994</td>\n",
       "      <td>8</td>\n",
       "      <td>2</td>\n",
       "      <td>1</td>\n",
       "      <td>25</td>\n",
       "      <td>70.0</td>\n",
       "      <td>17</td>\n",
       "      <td>179.0</td>\n",
       "      <td>0.361068</td>\n",
       "    </tr>\n",
       "    <tr>\n",
       "      <th>10</th>\n",
       "      <td>10</td>\n",
       "      <td>10</td>\n",
       "      <td>0</td>\n",
       "      <td>0</td>\n",
       "      <td>11.11.1992</td>\n",
       "      <td>8</td>\n",
       "      <td>0</td>\n",
       "      <td>1</td>\n",
       "      <td>12</td>\n",
       "      <td>78.0</td>\n",
       "      <td>16</td>\n",
       "      <td>180.0</td>\n",
       "      <td>0.536408</td>\n",
       "    </tr>\n",
       "  </tbody>\n",
       "</table>\n",
       "</div>"
      ],
      "text/plain": [
       "    Unnamed: 0  playerShort  yellowReds  goals    birthday  ties  \\\n",
       "0            0            0           0      9  08.11.1979   179   \n",
       "1            1            1           0     62  04.09.1986    73   \n",
       "2            2            2           0     31  16.04.1987    97   \n",
       "3            3            3           0     39  26.12.1990    42   \n",
       "4            4            4           4      1  17.03.1990    40   \n",
       "5            5            5           1      3  17.01.1988    23   \n",
       "6            6            6           0      0  30.03.1992     8   \n",
       "7            7            7           0      0  19.08.1990     1   \n",
       "8            8            8           0      3  20.03.1990    25   \n",
       "9            9            9           0      0  02.07.1994     8   \n",
       "10          10           10           0      0  11.11.1992     8   \n",
       "\n",
       "    leagueCountry  black  defeats  weight  victories  height   meanExp  \n",
       "0               0      0      228    71.0        247   182.0  0.494575  \n",
       "1               2      0      122    73.0        141   183.0  0.449220  \n",
       "2               0      0      115    63.0        200   165.0  0.491482  \n",
       "3               0      0       68    76.0        150   178.0  0.514693  \n",
       "4               1      0       43    73.0         41   180.0  0.335587  \n",
       "5               1      1       33    74.0         41   180.0  0.296562  \n",
       "6               1      1        8    80.0          8   189.0  0.400818  \n",
       "7               1      1        2    83.0          0   188.0  0.417225  \n",
       "8               1      1       62    68.0         34   180.0  0.429630  \n",
       "9               2      1       25    70.0         17   179.0  0.361068  \n",
       "10              0      1       12    78.0         16   180.0  0.536408  "
      ]
     },
     "execution_count": 2,
     "metadata": {},
     "output_type": "execute_result"
    }
   ],
   "source": [
    "# reading the data\n",
    "data = pd.read_csv(\"data/clean_data.csv\", sep=',')\n",
    "data = data.replace([np.inf, -np.inf], np.nan).dropna()\n",
    "print(\"data shape = \")\n",
    "print(data.shape)\n",
    "# Display the first 10 rows of the dataset. Only 13 columns for space reasons\n",
    "print(\"Fist 13 columns :\")\n",
    "data.ix[:10,:13]"
   ]
  },
  {
   "cell_type": "code",
   "execution_count": 3,
   "metadata": {
    "collapsed": false
   },
   "outputs": [
    {
     "name": "stdout",
     "output_type": "stream",
     "text": [
      "the other columns : \n"
     ]
    },
    {
     "data": {
      "text/html": [
       "<div>\n",
       "<table border=\"1\" class=\"dataframe\">\n",
       "  <thead>\n",
       "    <tr style=\"text-align: right;\">\n",
       "      <th></th>\n",
       "      <th>yellowCards</th>\n",
       "      <th>games</th>\n",
       "      <th>redCards</th>\n",
       "      <th>position</th>\n",
       "      <th>meanIAT</th>\n",
       "      <th>club</th>\n",
       "    </tr>\n",
       "  </thead>\n",
       "  <tbody>\n",
       "    <tr>\n",
       "      <th>0</th>\n",
       "      <td>19</td>\n",
       "      <td>654</td>\n",
       "      <td>0</td>\n",
       "      <td>1</td>\n",
       "      <td>0.346459</td>\n",
       "      <td>34</td>\n",
       "    </tr>\n",
       "    <tr>\n",
       "      <th>1</th>\n",
       "      <td>42</td>\n",
       "      <td>336</td>\n",
       "      <td>1</td>\n",
       "      <td>0</td>\n",
       "      <td>0.348818</td>\n",
       "      <td>91</td>\n",
       "    </tr>\n",
       "    <tr>\n",
       "      <th>2</th>\n",
       "      <td>11</td>\n",
       "      <td>412</td>\n",
       "      <td>0</td>\n",
       "      <td>10</td>\n",
       "      <td>0.345893</td>\n",
       "      <td>83</td>\n",
       "    </tr>\n",
       "    <tr>\n",
       "      <th>3</th>\n",
       "      <td>31</td>\n",
       "      <td>260</td>\n",
       "      <td>1</td>\n",
       "      <td>3</td>\n",
       "      <td>0.346821</td>\n",
       "      <td>6</td>\n",
       "    </tr>\n",
       "    <tr>\n",
       "      <th>4</th>\n",
       "      <td>8</td>\n",
       "      <td>124</td>\n",
       "      <td>2</td>\n",
       "      <td>1</td>\n",
       "      <td>0.331600</td>\n",
       "      <td>51</td>\n",
       "    </tr>\n",
       "    <tr>\n",
       "      <th>5</th>\n",
       "      <td>11</td>\n",
       "      <td>97</td>\n",
       "      <td>0</td>\n",
       "      <td>10</td>\n",
       "      <td>0.320079</td>\n",
       "      <td>36</td>\n",
       "    </tr>\n",
       "    <tr>\n",
       "      <th>6</th>\n",
       "      <td>0</td>\n",
       "      <td>24</td>\n",
       "      <td>0</td>\n",
       "      <td>5</td>\n",
       "      <td>0.341625</td>\n",
       "      <td>80</td>\n",
       "    </tr>\n",
       "    <tr>\n",
       "      <th>7</th>\n",
       "      <td>0</td>\n",
       "      <td>3</td>\n",
       "      <td>0</td>\n",
       "      <td>5</td>\n",
       "      <td>0.355406</td>\n",
       "      <td>36</td>\n",
       "    </tr>\n",
       "    <tr>\n",
       "      <th>8</th>\n",
       "      <td>21</td>\n",
       "      <td>121</td>\n",
       "      <td>2</td>\n",
       "      <td>4</td>\n",
       "      <td>0.348178</td>\n",
       "      <td>78</td>\n",
       "    </tr>\n",
       "    <tr>\n",
       "      <th>9</th>\n",
       "      <td>3</td>\n",
       "      <td>50</td>\n",
       "      <td>1</td>\n",
       "      <td>6</td>\n",
       "      <td>0.342072</td>\n",
       "      <td>77</td>\n",
       "    </tr>\n",
       "    <tr>\n",
       "      <th>10</th>\n",
       "      <td>2</td>\n",
       "      <td>36</td>\n",
       "      <td>0</td>\n",
       "      <td>3</td>\n",
       "      <td>0.354566</td>\n",
       "      <td>48</td>\n",
       "    </tr>\n",
       "  </tbody>\n",
       "</table>\n",
       "</div>"
      ],
      "text/plain": [
       "    yellowCards  games  redCards  position   meanIAT  club\n",
       "0            19    654         0         1  0.346459    34\n",
       "1            42    336         1         0  0.348818    91\n",
       "2            11    412         0        10  0.345893    83\n",
       "3            31    260         1         3  0.346821     6\n",
       "4             8    124         2         1  0.331600    51\n",
       "5            11     97         0        10  0.320079    36\n",
       "6             0     24         0         5  0.341625    80\n",
       "7             0      3         0         5  0.355406    36\n",
       "8            21    121         2         4  0.348178    78\n",
       "9             3     50         1         6  0.342072    77\n",
       "10            2     36         0         3  0.354566    48"
      ]
     },
     "execution_count": 3,
     "metadata": {},
     "output_type": "execute_result"
    }
   ],
   "source": [
    "# Display the other columns too\n",
    "print(\"the other columns : \")\n",
    "data.ix[:10,13:19]"
   ]
  },
  {
   "cell_type": "code",
   "execution_count": 4,
   "metadata": {
    "collapsed": false
   },
   "outputs": [
    {
     "name": "stdout",
     "output_type": "stream",
     "text": [
      "rate of black players = \n"
     ]
    },
    {
     "data": {
      "text/plain": [
       "0.16815856777493607"
      ]
     },
     "execution_count": 4,
     "metadata": {},
     "output_type": "execute_result"
    }
   ],
   "source": [
    "print(\"rate of black players = \")\n",
    "sum(data['black'])/data.shape[0]"
   ]
  },
  {
   "cell_type": "markdown",
   "metadata": {},
   "source": [
    "The dark colored players represent only 16% of the data."
   ]
  },
  {
   "cell_type": "markdown",
   "metadata": {},
   "source": [
    "### Features and labels\n",
    "We move now to define the feature's columns and the label one.\n",
    "The column containing the information of the skin's color is the column 'black'."
   ]
  },
  {
   "cell_type": "code",
   "execution_count": 5,
   "metadata": {
    "collapsed": false
   },
   "outputs": [
    {
     "data": {
      "text/plain": [
       "0    0\n",
       "1    0\n",
       "2    0\n",
       "3    0\n",
       "4    0\n",
       "Name: black, dtype: int64"
      ]
     },
     "execution_count": 5,
     "metadata": {},
     "output_type": "execute_result"
    }
   ],
   "source": [
    "# labels\n",
    "data_y = data['black']\n",
    "data_y.head()"
   ]
  },
  {
   "cell_type": "code",
   "execution_count": 6,
   "metadata": {
    "collapsed": false
   },
   "outputs": [
    {
     "name": "stdout",
     "output_type": "stream",
     "text": [
      "1240658\n",
      "1240658\n",
      "1564\n"
     ]
    }
   ],
   "source": [
    "print(sum(data['Unnamed: 0']))\n",
    "print(sum(data['playerShort']))\n",
    "print(sum(data['Unnamed: 0']==data['playerShort']))"
   ]
  },
  {
   "cell_type": "markdown",
   "metadata": {},
   "source": [
    "The column 'Unnamed: 0' is identical to the column 'playerShort'. They represent the index of the player and they should not be considered as features. The column 'black' is a label, it should also be removed. The birthday is not convertible to floats, and is irrelevant for what we aim to, we are going to drop it as well. "
   ]
  },
  {
   "cell_type": "code",
   "execution_count": 7,
   "metadata": {
    "collapsed": false
   },
   "outputs": [
    {
     "data": {
      "text/plain": [
       "yellowReds       float64\n",
       "goals            float64\n",
       "ties             float64\n",
       "leagueCountry    float64\n",
       "defeats          float64\n",
       "weight           float64\n",
       "victories        float64\n",
       "height           float64\n",
       "meanExp          float64\n",
       "yellowCards      float64\n",
       "games            float64\n",
       "redCards         float64\n",
       "position         float64\n",
       "meanIAT          float64\n",
       "club             float64\n",
       "dtype: object"
      ]
     },
     "execution_count": 7,
     "metadata": {},
     "output_type": "execute_result"
    }
   ],
   "source": [
    "# features\n",
    "data_x = data.copy()\n",
    "data_x.drop(['Unnamed: 0', 'playerShort', 'birthday', 'black'], axis=1, inplace=True)\n",
    "data_x = data_x.astype(float)\n",
    "data_x.dtypes"
   ]
  },
  {
   "cell_type": "code",
   "execution_count": 8,
   "metadata": {
    "collapsed": false
   },
   "outputs": [
    {
     "data": {
      "text/html": [
       "<div>\n",
       "<table border=\"1\" class=\"dataframe\">\n",
       "  <thead>\n",
       "    <tr style=\"text-align: right;\">\n",
       "      <th></th>\n",
       "      <th>yellowReds</th>\n",
       "      <th>goals</th>\n",
       "      <th>ties</th>\n",
       "      <th>leagueCountry</th>\n",
       "      <th>defeats</th>\n",
       "      <th>weight</th>\n",
       "      <th>victories</th>\n",
       "      <th>height</th>\n",
       "      <th>meanExp</th>\n",
       "      <th>yellowCards</th>\n",
       "      <th>games</th>\n",
       "      <th>redCards</th>\n",
       "      <th>position</th>\n",
       "      <th>meanIAT</th>\n",
       "      <th>club</th>\n",
       "    </tr>\n",
       "  </thead>\n",
       "  <tbody>\n",
       "    <tr>\n",
       "      <th>0</th>\n",
       "      <td>0.0</td>\n",
       "      <td>9.0</td>\n",
       "      <td>179.0</td>\n",
       "      <td>0.0</td>\n",
       "      <td>228.0</td>\n",
       "      <td>71.0</td>\n",
       "      <td>247.0</td>\n",
       "      <td>182.0</td>\n",
       "      <td>0.494575</td>\n",
       "      <td>19.0</td>\n",
       "      <td>654.0</td>\n",
       "      <td>0.0</td>\n",
       "      <td>1.0</td>\n",
       "      <td>0.346459</td>\n",
       "      <td>34.0</td>\n",
       "    </tr>\n",
       "    <tr>\n",
       "      <th>1</th>\n",
       "      <td>0.0</td>\n",
       "      <td>62.0</td>\n",
       "      <td>73.0</td>\n",
       "      <td>2.0</td>\n",
       "      <td>122.0</td>\n",
       "      <td>73.0</td>\n",
       "      <td>141.0</td>\n",
       "      <td>183.0</td>\n",
       "      <td>0.449220</td>\n",
       "      <td>42.0</td>\n",
       "      <td>336.0</td>\n",
       "      <td>1.0</td>\n",
       "      <td>0.0</td>\n",
       "      <td>0.348818</td>\n",
       "      <td>91.0</td>\n",
       "    </tr>\n",
       "    <tr>\n",
       "      <th>2</th>\n",
       "      <td>0.0</td>\n",
       "      <td>31.0</td>\n",
       "      <td>97.0</td>\n",
       "      <td>0.0</td>\n",
       "      <td>115.0</td>\n",
       "      <td>63.0</td>\n",
       "      <td>200.0</td>\n",
       "      <td>165.0</td>\n",
       "      <td>0.491482</td>\n",
       "      <td>11.0</td>\n",
       "      <td>412.0</td>\n",
       "      <td>0.0</td>\n",
       "      <td>10.0</td>\n",
       "      <td>0.345893</td>\n",
       "      <td>83.0</td>\n",
       "    </tr>\n",
       "    <tr>\n",
       "      <th>3</th>\n",
       "      <td>0.0</td>\n",
       "      <td>39.0</td>\n",
       "      <td>42.0</td>\n",
       "      <td>0.0</td>\n",
       "      <td>68.0</td>\n",
       "      <td>76.0</td>\n",
       "      <td>150.0</td>\n",
       "      <td>178.0</td>\n",
       "      <td>0.514693</td>\n",
       "      <td>31.0</td>\n",
       "      <td>260.0</td>\n",
       "      <td>1.0</td>\n",
       "      <td>3.0</td>\n",
       "      <td>0.346821</td>\n",
       "      <td>6.0</td>\n",
       "    </tr>\n",
       "    <tr>\n",
       "      <th>4</th>\n",
       "      <td>4.0</td>\n",
       "      <td>1.0</td>\n",
       "      <td>40.0</td>\n",
       "      <td>1.0</td>\n",
       "      <td>43.0</td>\n",
       "      <td>73.0</td>\n",
       "      <td>41.0</td>\n",
       "      <td>180.0</td>\n",
       "      <td>0.335587</td>\n",
       "      <td>8.0</td>\n",
       "      <td>124.0</td>\n",
       "      <td>2.0</td>\n",
       "      <td>1.0</td>\n",
       "      <td>0.331600</td>\n",
       "      <td>51.0</td>\n",
       "    </tr>\n",
       "    <tr>\n",
       "      <th>5</th>\n",
       "      <td>1.0</td>\n",
       "      <td>3.0</td>\n",
       "      <td>23.0</td>\n",
       "      <td>1.0</td>\n",
       "      <td>33.0</td>\n",
       "      <td>74.0</td>\n",
       "      <td>41.0</td>\n",
       "      <td>180.0</td>\n",
       "      <td>0.296562</td>\n",
       "      <td>11.0</td>\n",
       "      <td>97.0</td>\n",
       "      <td>0.0</td>\n",
       "      <td>10.0</td>\n",
       "      <td>0.320079</td>\n",
       "      <td>36.0</td>\n",
       "    </tr>\n",
       "    <tr>\n",
       "      <th>6</th>\n",
       "      <td>0.0</td>\n",
       "      <td>0.0</td>\n",
       "      <td>8.0</td>\n",
       "      <td>1.0</td>\n",
       "      <td>8.0</td>\n",
       "      <td>80.0</td>\n",
       "      <td>8.0</td>\n",
       "      <td>189.0</td>\n",
       "      <td>0.400818</td>\n",
       "      <td>0.0</td>\n",
       "      <td>24.0</td>\n",
       "      <td>0.0</td>\n",
       "      <td>5.0</td>\n",
       "      <td>0.341625</td>\n",
       "      <td>80.0</td>\n",
       "    </tr>\n",
       "    <tr>\n",
       "      <th>7</th>\n",
       "      <td>0.0</td>\n",
       "      <td>0.0</td>\n",
       "      <td>1.0</td>\n",
       "      <td>1.0</td>\n",
       "      <td>2.0</td>\n",
       "      <td>83.0</td>\n",
       "      <td>0.0</td>\n",
       "      <td>188.0</td>\n",
       "      <td>0.417225</td>\n",
       "      <td>0.0</td>\n",
       "      <td>3.0</td>\n",
       "      <td>0.0</td>\n",
       "      <td>5.0</td>\n",
       "      <td>0.355406</td>\n",
       "      <td>36.0</td>\n",
       "    </tr>\n",
       "    <tr>\n",
       "      <th>8</th>\n",
       "      <td>0.0</td>\n",
       "      <td>3.0</td>\n",
       "      <td>25.0</td>\n",
       "      <td>1.0</td>\n",
       "      <td>62.0</td>\n",
       "      <td>68.0</td>\n",
       "      <td>34.0</td>\n",
       "      <td>180.0</td>\n",
       "      <td>0.429630</td>\n",
       "      <td>21.0</td>\n",
       "      <td>121.0</td>\n",
       "      <td>2.0</td>\n",
       "      <td>4.0</td>\n",
       "      <td>0.348178</td>\n",
       "      <td>78.0</td>\n",
       "    </tr>\n",
       "    <tr>\n",
       "      <th>9</th>\n",
       "      <td>0.0</td>\n",
       "      <td>0.0</td>\n",
       "      <td>8.0</td>\n",
       "      <td>2.0</td>\n",
       "      <td>25.0</td>\n",
       "      <td>70.0</td>\n",
       "      <td>17.0</td>\n",
       "      <td>179.0</td>\n",
       "      <td>0.361068</td>\n",
       "      <td>3.0</td>\n",
       "      <td>50.0</td>\n",
       "      <td>1.0</td>\n",
       "      <td>6.0</td>\n",
       "      <td>0.342072</td>\n",
       "      <td>77.0</td>\n",
       "    </tr>\n",
       "    <tr>\n",
       "      <th>10</th>\n",
       "      <td>0.0</td>\n",
       "      <td>0.0</td>\n",
       "      <td>8.0</td>\n",
       "      <td>0.0</td>\n",
       "      <td>12.0</td>\n",
       "      <td>78.0</td>\n",
       "      <td>16.0</td>\n",
       "      <td>180.0</td>\n",
       "      <td>0.536408</td>\n",
       "      <td>2.0</td>\n",
       "      <td>36.0</td>\n",
       "      <td>0.0</td>\n",
       "      <td>3.0</td>\n",
       "      <td>0.354566</td>\n",
       "      <td>48.0</td>\n",
       "    </tr>\n",
       "  </tbody>\n",
       "</table>\n",
       "</div>"
      ],
      "text/plain": [
       "    yellowReds  goals   ties  leagueCountry  defeats  weight  victories  \\\n",
       "0          0.0    9.0  179.0            0.0    228.0    71.0      247.0   \n",
       "1          0.0   62.0   73.0            2.0    122.0    73.0      141.0   \n",
       "2          0.0   31.0   97.0            0.0    115.0    63.0      200.0   \n",
       "3          0.0   39.0   42.0            0.0     68.0    76.0      150.0   \n",
       "4          4.0    1.0   40.0            1.0     43.0    73.0       41.0   \n",
       "5          1.0    3.0   23.0            1.0     33.0    74.0       41.0   \n",
       "6          0.0    0.0    8.0            1.0      8.0    80.0        8.0   \n",
       "7          0.0    0.0    1.0            1.0      2.0    83.0        0.0   \n",
       "8          0.0    3.0   25.0            1.0     62.0    68.0       34.0   \n",
       "9          0.0    0.0    8.0            2.0     25.0    70.0       17.0   \n",
       "10         0.0    0.0    8.0            0.0     12.0    78.0       16.0   \n",
       "\n",
       "    height   meanExp  yellowCards  games  redCards  position   meanIAT  club  \n",
       "0    182.0  0.494575         19.0  654.0       0.0       1.0  0.346459  34.0  \n",
       "1    183.0  0.449220         42.0  336.0       1.0       0.0  0.348818  91.0  \n",
       "2    165.0  0.491482         11.0  412.0       0.0      10.0  0.345893  83.0  \n",
       "3    178.0  0.514693         31.0  260.0       1.0       3.0  0.346821   6.0  \n",
       "4    180.0  0.335587          8.0  124.0       2.0       1.0  0.331600  51.0  \n",
       "5    180.0  0.296562         11.0   97.0       0.0      10.0  0.320079  36.0  \n",
       "6    189.0  0.400818          0.0   24.0       0.0       5.0  0.341625  80.0  \n",
       "7    188.0  0.417225          0.0    3.0       0.0       5.0  0.355406  36.0  \n",
       "8    180.0  0.429630         21.0  121.0       2.0       4.0  0.348178  78.0  \n",
       "9    179.0  0.361068          3.0   50.0       1.0       6.0  0.342072  77.0  \n",
       "10   180.0  0.536408          2.0   36.0       0.0       3.0  0.354566  48.0  "
      ]
     },
     "execution_count": 8,
     "metadata": {},
     "output_type": "execute_result"
    }
   ],
   "source": [
    "data_x.ix[:10,:]"
   ]
  },
  {
   "cell_type": "code",
   "execution_count": 9,
   "metadata": {
    "collapsed": true
   },
   "outputs": [],
   "source": [
    "# moving into arrays\n",
    "data_y = np.asarray(data_y)\n",
    "data_x = data_x.as_matrix()"
   ]
  },
  {
   "cell_type": "markdown",
   "metadata": {},
   "source": [
    "### The Random Forest Classifier\n",
    "\n",
    "Now that we have labels and features, we will start training the classifier.\n",
    "We will first create a naive classifier using the default parameters of the function, and keep 33% of the data for the tests."
   ]
  },
  {
   "cell_type": "code",
   "execution_count": 10,
   "metadata": {
    "collapsed": false
   },
   "outputs": [
    {
     "name": "stdout",
     "output_type": "stream",
     "text": [
      "The prediction score :\n",
      "0.835589941973\n"
     ]
    }
   ],
   "source": [
    "# the classifier, with default parameters\n",
    "clf = RandomForestClassifier()\n",
    "\n",
    "# splitting the data into validation and test data \n",
    "X_train, X_test, y_train, y_test = train_test_split(data_x, data_y, test_size=0.33, random_state=4)\n",
    "\n",
    "# fitting the train data\n",
    "clf = clf.fit(X_train, y_train)\n",
    "\n",
    "# making predictions\n",
    "y_pred = clf.predict(X_test)\n",
    "\n",
    "# prediction's score \n",
    "print('The prediction score :')\n",
    "print(metrics.accuracy_score(y_test, y_pred))"
   ]
  },
  {
   "cell_type": "markdown",
   "metadata": {},
   "source": [
    "Using the same classifier, we will test different ratio values to split the data."
   ]
  },
  {
   "cell_type": "code",
   "execution_count": 12,
   "metadata": {
    "collapsed": false
   },
   "outputs": [
    {
     "name": "stdout",
     "output_type": "stream",
     "text": [
      "ratio = 0.1, train data score = 0.9886282871357498, test data score = 0.8152866242038217\n",
      "ratio = 0.2, train data score = 0.9800159872102319, test data score = 0.8019169329073482\n",
      "ratio = 0.30000000000000004, train data score = 0.9844606946983546, test data score = 0.8276595744680851\n",
      "ratio = 0.4, train data score = 0.976545842217484, test data score = 0.8338658146964856\n",
      "ratio = 0.5, train data score = 0.9872122762148338, test data score = 0.8235294117647058\n",
      "ratio = 0.6, train data score = 0.9792, test data score = 0.8434504792332268\n",
      "ratio = 0.7000000000000001, train data score = 0.9722814498933902, test data score = 0.8374429223744292\n",
      "ratio = 0.8, train data score = 0.967948717948718, test data score = 0.8330670926517572\n",
      "ratio = 0.9, train data score = 0.9551282051282052, test data score = 0.8309659090909091\n"
     ]
    },
    {
     "data": {
      "image/png": "[encoded data removed]",
      "text/plain": [
       "<matplotlib.figure.Figure at 0x117ac1780>"
      ]
     },
     "metadata": {},
     "output_type": "display_data"
    }
   ],
   "source": [
    "# different ratio values\n",
    "ratio = np.arange(0.1,1.,0.1)\n",
    "tr_score = []\n",
    "te_score = []\n",
    "\n",
    "for i in  np.arange(len(ratio)):\n",
    "    X_train, X_test, y_train, y_test = train_test_split(data_x, data_y, test_size=ratio[i], random_state=4)  \n",
    "    clf = RandomForestClassifier()\n",
    "    clf = clf.fit(X_train, y_train)\n",
    "    y_pred = clf.predict(X_test)\n",
    "    tr_pred = clf.predict(X_train)\n",
    "    tr_score = np.r_[tr_score,metrics.accuracy_score(y_train, tr_pred)]\n",
    "    te_score = np.r_[te_score,metrics.accuracy_score(y_test, y_pred)]\n",
    "    print(\"ratio = {ind}, train data score = {tr_s}, test data score = {te_s}\".format(ind=ratio[i],tr_s=tr_score[i],te_s=te_score[i]))\n",
    "\n",
    "# plot results\n",
    "plt.figure()\n",
    "plt.title(\"Effect of the percentage of test data\")\n",
    "plt.plot(ratio, te_score, label=\"test data score\")\n",
    "plt.plot(ratio, tr_score, label=\"train data score\")\n",
    "plt.xlabel('ratio of test data')\n",
    "plt.ylabel('score' )\n",
    "plt.legend(bbox_to_anchor=(1.05, 1), loc=2, borderaxespad=0.)\n",
    "plt.show()"
   ]
  },
  {
   "cell_type": "markdown",
   "metadata": {},
   "source": [
    "We will now perform the cross-validation to mitigate better the overfitting in our model."
   ]
  },
  {
   "cell_type": "code",
   "execution_count": 13,
   "metadata": {
    "collapsed": false
   },
   "outputs": [
    {
     "name": "stdout",
     "output_type": "stream",
     "text": [
      "[ 0.82278481  0.84713376  0.81528662  0.83974359  0.8525641   0.83333333\n",
      "  0.83333333  0.87820513  0.83333333  0.83974359]\n",
      "0.839546160255\n"
     ]
    }
   ],
   "source": [
    "# first try\n",
    "clf = RandomForestClassifier()\n",
    "scores = cross_val_score(clf, data_x, data_y, cv=10, scoring='accuracy')\n",
    "\n",
    "print(scores)\n",
    "print(scores.mean())"
   ]
  },
  {
   "cell_type": "code",
   "execution_count": 19,
   "metadata": {
    "collapsed": false
   },
   "outputs": [
    {
     "data": {
      "image/png": "[encoded data removed]",
      "text/plain": [
       "<matplotlib.figure.Figure at 0x11a825c88>"
      ]
     },
     "metadata": {},
     "output_type": "display_data"
    }
   ],
   "source": [
    "# using different values of folds\n",
    "folds = np.arange(2,21,1)\n",
    "cv_score = []\n",
    "ratio = []\n",
    "\n",
    "for i in  np.arange(len(folds)):\n",
    "    ratio = np.r_[ratio,(1/folds[i])]\n",
    "    clf = RandomForestClassifier()\n",
    "    scores = cross_val_score(clf, data_x, data_y, cv=folds[i], scoring='accuracy')\n",
    "    cv_score = np.r_[cv_score,scores.mean()]\n",
    "\n",
    "# plot results\n",
    "plt.figure()\n",
    "plt.title(\"Effect of the number of folds in cross-validation\")\n",
    "plt.plot(folds, cv_score)\n",
    "plt.xlabel('number of folds')\n",
    "plt.ylabel('score' )\n",
    "plt.show()"
   ]
  },
  {
   "cell_type": "code",
   "execution_count": 20,
   "metadata": {
    "collapsed": false
   },
   "outputs": [
    {
     "data": {
      "image/png": "[encoded data removed]",
      "text/plain": [
       "<matplotlib.figure.Figure at 0x11a816cc0>"
      ]
     },
     "metadata": {},
     "output_type": "display_data"
    }
   ],
   "source": [
    "# plot results\n",
    "plt.figure()\n",
    "plt.title(\"Effect of the number of folds in cross-validation\")\n",
    "plt.plot(ratio, cv_score)\n",
    "plt.xlabel('ratio of test data in cross-validation')\n",
    "plt.ylabel('score' )\n",
    "plt.show()"
   ]
  },
  {
   "cell_type": "markdown",
   "metadata": {},
   "source": [
    "For the rest of the homework , we are going to use the ratio 0.33 for simple splitting tests and 15 folds in cross-validation."
   ]
  },
  {
   "cell_type": "code",
   "execution_count": 21,
   "metadata": {
    "collapsed": true
   },
   "outputs": [],
   "source": [
    "ratio = 0.33\n",
    "folds = 15"
   ]
  },
  {
   "cell_type": "markdown",
   "metadata": {},
   "source": [
    "### Effect of the Classifier's parameters\n",
    "\n",
    "We will now show how different parameters passed to the Classifier affect the overfitting issue. \n",
    "\n",
    "#### 1. number of estimators"
   ]
  },
  {
   "cell_type": "code",
   "execution_count": 22,
   "metadata": {
    "collapsed": false
   },
   "outputs": [
    {
     "data": {
      "image/png": "[encoded data removed]",
      "text/plain": [
       "<matplotlib.figure.Figure at 0x11a81abe0>"
      ]
     },
     "metadata": {},
     "output_type": "display_data"
    }
   ],
   "source": [
    "# different values of n_estimators\n",
    "n = np.arange(1,11,1)\n",
    "X_train, X_test, y_train, y_test = train_test_split(data_x, data_y, test_size=ratio, random_state=4)\n",
    "tr_score = []\n",
    "te_score = []\n",
    "\n",
    "\n",
    "for i in  np.arange(len(n)):\n",
    "    clf = RandomForestClassifier(n_estimators = n[i])\n",
    "    clf = clf.fit(X_train, y_train)\n",
    "    y_pred = clf.predict(X_test)\n",
    "    tr_pred = clf.predict(X_train)\n",
    "    tr_score = np.r_[tr_score,metrics.accuracy_score(y_train, tr_pred)]\n",
    "    te_score = np.r_[te_score,metrics.accuracy_score(y_test, y_pred)]\n",
    "\n",
    "# plot results\n",
    "plt.figure()\n",
    "plt.title(\"Effect of the n_estimators of the classifier\")\n",
    "plt.plot(n, te_score, label=\"test data score\")\n",
    "plt.plot(n, tr_score, label=\"train data score\")\n",
    "plt.xlabel('number of estimators')\n",
    "plt.ylabel('score' )\n",
    "plt.legend(bbox_to_anchor=(1.05, 1), loc=2, borderaxespad=0.)\n",
    "plt.show()"
   ]
  },
  {
   "cell_type": "code",
   "execution_count": 23,
   "metadata": {
    "collapsed": false
   },
   "outputs": [
    {
     "data": {
      "image/png": "[encoded data removed]",
      "text/plain": [
       "<matplotlib.figure.Figure at 0x11a83eb38>"
      ]
     },
     "metadata": {},
     "output_type": "display_data"
    }
   ],
   "source": [
    "# using cross validation\n",
    "cv_score = []\n",
    "for i in  np.arange(len(n)):\n",
    "    clf = RandomForestClassifier(n_estimators = n[i])\n",
    "    scores = cross_val_score(clf, data_x, data_y, cv=folds, scoring='accuracy')\n",
    "    cv_score = np.r_[cv_score, scores.mean()]\n",
    "\n",
    "# plot results\n",
    "plt.figure()\n",
    "plt.title(\"Effect of the n_estimators in cross-validation\")\n",
    "plt.plot(n, cv_score)\n",
    "plt.xlabel('number of estimators')\n",
    "plt.ylabel('score' )\n",
    "plt.show()"
   ]
  },
  {
   "cell_type": "markdown",
   "metadata": {},
   "source": [
    "For the rest of the HW, we will use 6 estimators."
   ]
  },
  {
   "cell_type": "code",
   "execution_count": 24,
   "metadata": {
    "collapsed": true
   },
   "outputs": [],
   "source": [
    "n = 6"
   ]
  },
  {
   "cell_type": "markdown",
   "metadata": {},
   "source": [
    "#### 2. minimum of samples required to split the data"
   ]
  },
  {
   "cell_type": "code",
   "execution_count": 30,
   "metadata": {
    "collapsed": false
   },
   "outputs": [
    {
     "data": {
      "image/png": "[encoded data removed]",
      "text/plain": [
       "<matplotlib.figure.Figure at 0x11adb56a0>"
      ]
     },
     "metadata": {},
     "output_type": "display_data"
    }
   ],
   "source": [
    "#min_samples_split\n",
    "nss = np.arange(0.1,1.,0.1)\n",
    "X_train, X_test, y_train, y_test = train_test_split(data_x, data_y, test_size=ratio, random_state=4)    \n",
    "tr_score = []\n",
    "te_score = []\n",
    "\n",
    "for i in  np.arange(len(nss)):\n",
    "    clf = RandomForestClassifier(n_estimators = n, min_samples_split = nss[i])\n",
    "    clf = clf.fit(X_train, y_train)\n",
    "    y_pred = clf.predict(X_test)\n",
    "    tr_pred = clf.predict(X_train)\n",
    "    tr_score = np.r_[tr_score,metrics.accuracy_score(y_train, tr_pred)]\n",
    "    te_score = np.r_[te_score,metrics.accuracy_score(y_test, y_pred)]\n",
    "    \n",
    "# plot results\n",
    "plt.figure()\n",
    "plt.title(\"Effect of the min_samples_split of the classifier\")\n",
    "plt.plot(nss, te_score, label=\"test data score\")\n",
    "plt.plot(nss, tr_score, label=\"train data score\")\n",
    "plt.xlabel('min samples split')\n",
    "plt.ylabel('score' )\n",
    "plt.legend(bbox_to_anchor=(1.05, 1), loc=2, borderaxespad=0.)\n",
    "plt.show()"
   ]
  },
  {
   "cell_type": "code",
   "execution_count": 31,
   "metadata": {
    "collapsed": false
   },
   "outputs": [
    {
     "data": {
      "image/png": "[encoded data removed]",
      "text/plain": [
       "<matplotlib.figure.Figure at 0x11af84668>"
      ]
     },
     "metadata": {},
     "output_type": "display_data"
    }
   ],
   "source": [
    "# using cross validation\n",
    "cv_score = []\n",
    "\n",
    "for i in  np.arange(len(nss)):\n",
    "    clf = RandomForestClassifier(n_estimators = n, min_samples_split = nss[i])\n",
    "    scores = cross_val_score(clf, data_x, data_y, cv=folds, scoring='accuracy')\n",
    "    cv_score = np.r_[cv_score, scores.mean()]\n",
    "\n",
    "# plot results\n",
    "plt.figure()\n",
    "plt.title(\"Effect of the min samples split in cross-validation\")\n",
    "plt.plot(nss, cv_score)\n",
    "plt.xlabel('min samples split')\n",
    "plt.ylabel('score' )\n",
    "plt.show()"
   ]
  },
  {
   "cell_type": "markdown",
   "metadata": {},
   "source": [
    "For the rest of the HW, we will require a percentage of 0.4 to split the data in the classifier."
   ]
  },
  {
   "cell_type": "code",
   "execution_count": 32,
   "metadata": {
    "collapsed": true
   },
   "outputs": [],
   "source": [
    "nss = 0.4"
   ]
  },
  {
   "cell_type": "markdown",
   "metadata": {},
   "source": [
    "#### 3. minimum of samples in a leaf"
   ]
  },
  {
   "cell_type": "code",
   "execution_count": 33,
   "metadata": {
    "collapsed": false
   },
   "outputs": [
    {
     "data": {
      "image/png": "[encoded data removed]",
      "text/plain": [
       "<matplotlib.figure.Figure at 0x1170f34a8>"
      ]
     },
     "metadata": {},
     "output_type": "display_data"
    }
   ],
   "source": [
    "#min_samples_leaf\n",
    "nsl = np.arange(0.1,1.,0.1)\n",
    "X_train, X_test, y_train, y_test = train_test_split(data_x, data_y, test_size=ratio, random_state=4)   \n",
    "tr_score = []\n",
    "te_score = []\n",
    "\n",
    "for i in  np.arange(len(nsl)):\n",
    "    clf = RandomForestClassifier(n_estimators = n, min_samples_split = nss ,min_samples_leaf = nsl[i])\n",
    "    clf = clf.fit(X_train, y_train)\n",
    "    y_pred = clf.predict(X_test)\n",
    "    tr_pred = clf.predict(X_train)\n",
    "    tr_score = np.r_[tr_score,metrics.accuracy_score(y_train, tr_pred)]\n",
    "    te_score = np.r_[te_score,metrics.accuracy_score(y_test, y_pred)]\n",
    "    \n",
    "# plot results\n",
    "plt.figure()\n",
    "plt.title(\"Effect of the min_samples_leaf of the classifier\")\n",
    "plt.plot(nsl, te_score, label=\"test data score\")\n",
    "plt.plot(nsl, tr_score, label=\"train data score\")\n",
    "plt.xlabel('min samples in a leaf')\n",
    "plt.ylabel('score' )\n",
    "plt.legend(bbox_to_anchor=(1.05, 1), loc=2, borderaxespad=0.)\n",
    "plt.show()"
   ]
  },
  {
   "cell_type": "code",
   "execution_count": 34,
   "metadata": {
    "collapsed": false
   },
   "outputs": [
    {
     "data": {
      "image/png": "[encoded data removed]",
      "text/plain": [
       "<matplotlib.figure.Figure at 0x11adc14a8>"
      ]
     },
     "metadata": {},
     "output_type": "display_data"
    }
   ],
   "source": [
    "# using cross validation\n",
    "cv_score = []\n",
    "for i in  np.arange(len(nsl)):\n",
    "    clf = RandomForestClassifier(n_estimators = n,min_samples_split = nss,min_samples_leaf = nsl[i])\n",
    "    scores = cross_val_score(clf, data_x, data_y, cv=folds, scoring='accuracy')\n",
    "    cv_score = np.r_[cv_score, scores.mean()]\n",
    "\n",
    "# plot results\n",
    "plt.figure()\n",
    "plt.title(\"Effect of the min samples leaf in cross-validation\")\n",
    "plt.plot(nsl, cv_score)\n",
    "plt.xlabel('min samples leaf')\n",
    "plt.ylabel('score' )\n",
    "plt.show()"
   ]
  },
  {
   "cell_type": "markdown",
   "metadata": {},
   "source": [
    "For the rest of the HW, we will require a percentage of 0.3 to form a leaf in the classifier."
   ]
  },
  {
   "cell_type": "code",
   "execution_count": 35,
   "metadata": {
    "collapsed": true
   },
   "outputs": [],
   "source": [
    "nsf = 0.3"
   ]
  },
  {
   "cell_type": "markdown",
   "metadata": {},
   "source": [
    "### Feature's importance\n",
    "\n",
    "Now that we assessed our model, we will inspect the feature importances attribute and discuss the obtained results. "
   ]
  },
  {
   "cell_type": "code",
   "execution_count": 49,
   "metadata": {
    "collapsed": false
   },
   "outputs": [
    {
     "name": "stdout",
     "output_type": "stream",
     "text": [
      "score = 0.816247582205029\n"
     ]
    },
    {
     "data": {
      "text/plain": [
       "array([ 0.02266143,  0.06299122,  0.07178005,  0.07338108,  0.07262676,\n",
       "        0.06049705,  0.0857304 ,  0.06053146,  0.10847121,  0.03767339,\n",
       "        0.0907253 ,  0.03167419,  0.04894987,  0.11347626,  0.05883034])"
      ]
     },
     "execution_count": 49,
     "metadata": {},
     "output_type": "execute_result"
    }
   ],
   "source": [
    "# building the classifier\n",
    "clf = RandomForestClassifier(n_estimators = n,min_samples_split = nss,min_samples_leaf = nsf)\n",
    "# splitting the data\n",
    "X_train, X_test, y_train, y_test = train_test_split(data_x, data_y, test_size=ratio, random_state=4)\n",
    "# fitting the model\n",
    "clf = clf.fit(X_train, y_train)\n",
    "# score\n",
    "y_pred = clf.predict(X_test)\n",
    "print(\"score = {s}\".format(s=metrics.accuracy_score(y_test, y_pred)))\n",
    "\n",
    "# Feature importances\n",
    "clf.feature_importances_"
   ]
  },
  {
   "cell_type": "code",
   "execution_count": 50,
   "metadata": {
    "collapsed": false
   },
   "outputs": [
    {
     "data": {
      "text/plain": [
       "['yellowReds',\n",
       " 'goals',\n",
       " 'ties',\n",
       " 'leagueCountry',\n",
       " 'defeats',\n",
       " 'weight',\n",
       " 'victories',\n",
       " 'height',\n",
       " 'meanExp',\n",
       " 'yellowCards',\n",
       " 'games',\n",
       " 'redCards',\n",
       " 'position',\n",
       " 'meanIAT',\n",
       " 'club']"
      ]
     },
     "execution_count": 50,
     "metadata": {},
     "output_type": "execute_result"
    }
   ],
   "source": [
    "# creating the list of columns\n",
    "dcopy_x = data.copy()\n",
    "dcopy_x.drop(['Unnamed: 0', 'playerShort', 'birthday', 'black'], axis=1, inplace=True)\n",
    "\n",
    "l_columns = list(dcopy_x.columns.values)\n",
    "l_columns"
   ]
  },
  {
   "cell_type": "code",
   "execution_count": 51,
   "metadata": {
    "collapsed": false
   },
   "outputs": [
    {
     "name": "stdout",
     "output_type": "stream",
     "text": [
      "Feature ranking:\n",
      "1. feature 13 meanIAT (0.113476)\n",
      "2. feature 8 meanExp (0.108471)\n",
      "3. feature 10 games (0.090725)\n",
      "4. feature 6 victories (0.085730)\n",
      "5. feature 3 leagueCountry (0.073381)\n",
      "6. feature 4 defeats (0.072627)\n",
      "7. feature 2 ties (0.071780)\n",
      "8. feature 1 goals (0.062991)\n",
      "9. feature 7 height (0.060531)\n",
      "10. feature 5 weight (0.060497)\n",
      "11. feature 14 club (0.058830)\n",
      "12. feature 12 position (0.048950)\n",
      "13. feature 9 yellowCards (0.037673)\n",
      "14. feature 11 redCards (0.031674)\n",
      "15. feature 0 yellowReds (0.022661)\n"
     ]
    },
    {
     "data": {
      "image/png": "[encoded data removed]",
      "text/plain": [
       "<matplotlib.figure.Figure at 0x10978f3c8>"
      ]
     },
     "metadata": {},
     "output_type": "display_data"
    }
   ],
   "source": [
    "importances = clf.feature_importances_\n",
    "std = np.std([tree.feature_importances_ for tree in clf.estimators_],\n",
    "             axis=0)\n",
    "indices = np.argsort(importances)[::-1]\n",
    "\n",
    "# Print the feature ranking\n",
    "print(\"Feature ranking:\")\n",
    "\n",
    "for f in range(data_x.shape[1]):\n",
    "    print(\"%d. feature %d %s (%f)\" % (f + 1, indices[f], l_columns[indices[f]], importances[indices[f]]))\n",
    "\n",
    "# Plot the feature importances of the forest\n",
    "plt.figure()\n",
    "plt.title(\"Feature importances\")\n",
    "plt.bar(range(data_x.shape[1]), importances[indices],\n",
    "       color=\"r\", yerr=std[indices], align=\"center\")\n",
    "plt.xticks(range(data_x.shape[1]), indices)\n",
    "plt.xlim([-1, data_x.shape[1]])\n",
    "plt.show()"
   ]
  },
  {
   "cell_type": "markdown",
   "metadata": {},
   "source": [
    "    - meanIAT and meanExp are the more relevant.\n",
    "    - yellowReds and redCards are less relevant."
   ]
  },
  {
   "cell_type": "markdown",
   "metadata": {},
   "source": [
    "We will now see if, with different assumptions on the data (e.g., dropping certain features even before feeding them to the classifier), wa can obtain a substantially different feature importances attribute"
   ]
  },
  {
   "cell_type": "code",
   "execution_count": 52,
   "metadata": {
    "collapsed": false
   },
   "outputs": [
    {
     "data": {
      "text/plain": [
       "['goals',\n",
       " 'ties',\n",
       " 'leagueCountry',\n",
       " 'defeats',\n",
       " 'weight',\n",
       " 'victories',\n",
       " 'height',\n",
       " 'meanExp',\n",
       " 'yellowCards',\n",
       " 'games',\n",
       " 'position',\n",
       " 'meanIAT',\n",
       " 'club']"
      ]
     },
     "execution_count": 52,
     "metadata": {},
     "output_type": "execute_result"
    }
   ],
   "source": [
    "# dropping irrelevant features (yellowReds and redCards)\n",
    "dcopy_x = data.copy()\n",
    "dcopy_x.drop(['Unnamed: 0', 'playerShort', 'birthday', 'black','yellowReds','redCards'], axis=1, inplace=True)\n",
    "\n",
    "l_columns = list(dcopy_x.columns.values)\n",
    "l_columns"
   ]
  },
  {
   "cell_type": "code",
   "execution_count": 53,
   "metadata": {
    "collapsed": false
   },
   "outputs": [
    {
     "name": "stdout",
     "output_type": "stream",
     "text": [
      "Feature ranking:\n",
      "1. feature 11 meanIAT (0.129794)\n",
      "2. feature 7 meanExp (0.122365)\n",
      "3. feature 1 ties (0.084187)\n",
      "4. feature 0 goals (0.083631)\n",
      "5. feature 8 yellowCards (0.080027)\n",
      "6. feature 3 defeats (0.075963)\n",
      "7. feature 12 club (0.075419)\n",
      "8. feature 9 games (0.071980)\n",
      "9. feature 5 victories (0.066969)\n",
      "10. feature 4 weight (0.061797)\n",
      "11. feature 6 height (0.053097)\n",
      "12. feature 2 leagueCountry (0.052162)\n",
      "13. feature 10 position (0.042610)\n"
     ]
    },
    {
     "data": {
      "image/png": "[encoded data removed]",
      "text/plain": [
       "<matplotlib.figure.Figure at 0x10977dd30>"
      ]
     },
     "metadata": {},
     "output_type": "display_data"
    }
   ],
   "source": [
    "data2_x = dcopy_x.as_matrix()\n",
    "# Build classifier\n",
    "clf = RandomForestClassifier(n_estimators = n,min_samples_split = nss,min_samples_leaf = nsf)\n",
    "clf = clf.fit(data2_x, data_y)\n",
    "\n",
    "importances = clf.feature_importances_\n",
    "std = np.std([tree.feature_importances_ for tree in clf.estimators_],\n",
    "             axis=0)\n",
    "indices = np.argsort(importances)[::-1]\n",
    "\n",
    "# Print the feature ranking\n",
    "print(\"Feature ranking:\")\n",
    "\n",
    "for f in range(data2_x.shape[1]):\n",
    "    print(\"%d. feature %d %s (%f)\" % (f + 1, indices[f],l_columns[indices[f]] , importances[indices[f]]))\n",
    "\n",
    "# Plot the feature importances of the forest\n",
    "plt.figure()\n",
    "plt.title(\"Feature importances\")\n",
    "plt.bar(range(data2_x.shape[1]), importances[indices],\n",
    "       color=\"r\", yerr=std[indices], align=\"center\")\n",
    "plt.xticks(range(data2_x.shape[1]), indices)\n",
    "plt.xlim([-1, data2_x.shape[1]])\n",
    "plt.show()"
   ]
  },
  {
   "cell_type": "markdown",
   "metadata": {},
   "source": [
    "    - meanIAT and meanExp are still the more relevant.\n",
    "Meanwhile , there is a difference in the ranking among the other features."
   ]
  },
  {
   "cell_type": "markdown",
   "metadata": {},
   "source": [
    "### BONUS: \n",
    "\n",
    "plot the learning curves against at least 2 different sets of parameters passed to your Random Forest. To obtain smooth curves, partition your data in at least 20 folds. Can you find a set of parameters that leads to high bias, and one which does not?"
   ]
  },
  {
   "cell_type": "markdown",
   "metadata": {
    "collapsed": true
   },
   "source": [
    "### Answer : \n",
    "This work has been done in the \"Effect of the Classifier's parameters\" part above. The resulting set of parameters leading to high bias was (n_estimators = 6, min_samples_split = 4 , min_samples_leaf = )"
   ]
  }
 ],
 "metadata": {
  "anaconda-cloud": {},
  "kernelspec": {
   "display_name": "Python [Root]",
   "language": "python",
   "name": "Python [Root]"
  },
  "language_info": {
   "codemirror_mode": {
    "name": "ipython",
    "version": 3
   },
   "file_extension": ".py",
   "mimetype": "text/x-python",
   "name": "python",
   "nbconvert_exporter": "python",
   "pygments_lexer": "ipython3",
   "version": "3.5.2"
  }
 },
 "nbformat": 4,
 "nbformat_minor": 0
}
