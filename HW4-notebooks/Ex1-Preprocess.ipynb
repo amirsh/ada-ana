{
 "cells": [
  {
   "cell_type": "code",
   "execution_count": null,
   "metadata": {
    "collapsed": true
   },
   "outputs": [],
   "source": [
    "# basic imports\n",
    "import pandas as pd\n",
    "import numpy as np\n",
    "import os"
   ]
  },
  {
   "cell_type": "code",
   "execution_count": null,
   "metadata": {
    "collapsed": true
   },
   "outputs": [],
   "source": [
    "filename=os.path.join('data','CrowdstormingDataJuly1st.csv') \n",
    "df = pd.read_csv(filename)\n",
    "df = df.dropna(subset=['rater1', 'rater2'])"
   ]
  },
  {
   "cell_type": "code",
   "execution_count": null,
   "metadata": {
    "collapsed": false
   },
   "outputs": [],
   "source": [
    "df['black'] = df['rater1'] + df['rater2'] > 1"
   ]
  },
  {
   "cell_type": "code",
   "execution_count": null,
   "metadata": {
    "collapsed": false
   },
   "outputs": [],
   "source": [
    "df.size"
   ]
  },
  {
   "cell_type": "code",
   "execution_count": null,
   "metadata": {
    "collapsed": false
   },
   "outputs": [],
   "source": [
    "df2 = df[['playerShort', 'club']]"
   ]
  },
  {
   "cell_type": "code",
   "execution_count": null,
   "metadata": {
    "collapsed": false
   },
   "outputs": [],
   "source": [
    "df3 = df.groupby('playerShort', as_index=False)"
   ]
  },
  {
   "cell_type": "code",
   "execution_count": null,
   "metadata": {
    "collapsed": false
   },
   "outputs": [],
   "source": [
    "def first(x):\n",
    "    return x.iloc[0]\n",
    "df4 = df3.agg({'games': np.sum, 'victories': np.sum, \n",
    "         'club': first, 'leagueCountry': first,\n",
    "         'birthday': first, 'height': first,\n",
    "         'weight': first, 'position': first,\n",
    "         'games': np.sum, 'victories': np.sum,\n",
    "         'ties':np.sum, 'defeats': np.sum,\n",
    "         'goals': np.sum, 'yellowCards': np.sum,\n",
    "         'yellowReds': np.sum, 'redCards': np.sum,\n",
    "         'meanIAT': np.mean, 'meanExp': np.mean,\n",
    "         'black': first})"
   ]
  },
  {
   "cell_type": "code",
   "execution_count": null,
   "metadata": {
    "collapsed": false
   },
   "outputs": [],
   "source": [
    "df4"
   ]
  },
  {
   "cell_type": "code",
   "execution_count": null,
   "metadata": {
    "collapsed": true
   },
   "outputs": [],
   "source": [
    "from sklearn import preprocessing\n",
    "lelc = preprocessing.LabelEncoder()\n",
    "lec = preprocessing.LabelEncoder()\n",
    "leps = preprocessing.LabelEncoder()\n",
    "lep = preprocessing.LabelEncoder()\n",
    "leb = preprocessing.LabelEncoder()"
   ]
  },
  {
   "cell_type": "code",
   "execution_count": null,
   "metadata": {
    "collapsed": false
   },
   "outputs": [],
   "source": [
    "df4['leagueCountry']=lelc.fit_transform(df4['leagueCountry'])\n",
    "df4['club']=lec.fit_transform(df4['club'])\n",
    "df4['playerShort']=leps.fit_transform(df4['playerShort'])\n",
    "#df4['position']=lep.fit_transform(df4['position'])\n",
    "df4['black']=leb.fit_transform(df4['black'])"
   ]
  },
  {
   "cell_type": "code",
   "execution_count": null,
   "metadata": {
    "collapsed": false
   },
   "outputs": [],
   "source": [
    "df4"
   ]
  },
  {
   "cell_type": "code",
   "execution_count": null,
   "metadata": {
    "collapsed": false
   },
   "outputs": [],
   "source": [
    "leb.transform([True, False, True])"
   ]
  },
  {
   "cell_type": "code",
   "execution_count": null,
   "metadata": {
    "collapsed": true
   },
   "outputs": [],
   "source": [
    "df4.to_csv('data/clean_data.csv')"
   ]
  }
 ],
 "metadata": {
  "anaconda-cloud": {},
  "kernelspec": {
   "display_name": "Python [Root]",
   "language": "python",
   "name": "Python [Root]"
  },
  "language_info": {
   "codemirror_mode": {
    "name": "ipython",
    "version": 3
   },
   "file_extension": ".py",
   "mimetype": "text/x-python",
   "name": "python",
   "nbconvert_exporter": "python",
   "pygments_lexer": "ipython3",
   "version": "3.5.2"
  }
 },
 "nbformat": 4,
 "nbformat_minor": 1
}
