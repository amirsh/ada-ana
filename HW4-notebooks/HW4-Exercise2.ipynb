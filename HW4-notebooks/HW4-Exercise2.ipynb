{
 "cells": [
  {
   "cell_type": "code",
   "execution_count": 1,
   "metadata": {
    "collapsed": true
   },
   "outputs": [],
   "source": [
    "from time import time\n",
    "import pandas as pd\n",
    "import numpy as np\n",
    "import sklearn\n",
    "from sklearn import preprocessing\n",
    "from sklearn.cluster import KMeans\n",
    "from sklearn import metrics\n",
    "import itertools\n",
    "from pandas import MultiIndex\n"
   ]
  },
  {
   "cell_type": "markdown",
   "metadata": {},
   "source": [
    "## Cleaned Data importing"
   ]
  },
  {
   "cell_type": "code",
   "execution_count": 2,
   "metadata": {
    "collapsed": false
   },
   "outputs": [
    {
     "name": "stdout",
     "output_type": "stream",
     "text": [
      "data shape = \n",
      "(1564, 19)\n"
     ]
    }
   ],
   "source": [
    "# reading the data\n",
    "data = pd.read_csv(\"data/clean_data.csv\", sep=',')\n",
    "data = data.replace([np.inf, -np.inf], np.nan).dropna()\n",
    "lep = preprocessing.LabelEncoder()\n",
    "data['position']=lep.fit_transform(data['position'])\n",
    "print(\"data shape = \")\n",
    "print(data.shape)\n"
   ]
  },
  {
   "cell_type": "code",
   "execution_count": 3,
   "metadata": {
    "collapsed": false
   },
   "outputs": [
    {
     "data": {
      "text/html": [
       "<div>\n",
       "<table border=\"1\" class=\"dataframe\">\n",
       "  <thead>\n",
       "    <tr style=\"text-align: right;\">\n",
       "      <th></th>\n",
       "      <th>Unnamed: 0</th>\n",
       "      <th>playerShort</th>\n",
       "      <th>yellowReds</th>\n",
       "      <th>goals</th>\n",
       "      <th>ties</th>\n",
       "      <th>leagueCountry</th>\n",
       "      <th>black</th>\n",
       "      <th>defeats</th>\n",
       "      <th>weight</th>\n",
       "      <th>victories</th>\n",
       "      <th>height</th>\n",
       "      <th>meanExp</th>\n",
       "      <th>yellowCards</th>\n",
       "      <th>games</th>\n",
       "      <th>redCards</th>\n",
       "      <th>position</th>\n",
       "      <th>meanIAT</th>\n",
       "      <th>club</th>\n",
       "    </tr>\n",
       "  </thead>\n",
       "  <tbody>\n",
       "    <tr>\n",
       "      <th>0</th>\n",
       "      <td>0</td>\n",
       "      <td>0</td>\n",
       "      <td>0</td>\n",
       "      <td>9</td>\n",
       "      <td>179</td>\n",
       "      <td>0</td>\n",
       "      <td>0</td>\n",
       "      <td>228</td>\n",
       "      <td>71.0</td>\n",
       "      <td>247</td>\n",
       "      <td>182.0</td>\n",
       "      <td>0.494575</td>\n",
       "      <td>19</td>\n",
       "      <td>654</td>\n",
       "      <td>0</td>\n",
       "      <td>1</td>\n",
       "      <td>0.346459</td>\n",
       "      <td>34</td>\n",
       "    </tr>\n",
       "    <tr>\n",
       "      <th>1</th>\n",
       "      <td>1</td>\n",
       "      <td>1</td>\n",
       "      <td>0</td>\n",
       "      <td>62</td>\n",
       "      <td>73</td>\n",
       "      <td>2</td>\n",
       "      <td>0</td>\n",
       "      <td>122</td>\n",
       "      <td>73.0</td>\n",
       "      <td>141</td>\n",
       "      <td>183.0</td>\n",
       "      <td>0.449220</td>\n",
       "      <td>42</td>\n",
       "      <td>336</td>\n",
       "      <td>1</td>\n",
       "      <td>0</td>\n",
       "      <td>0.348818</td>\n",
       "      <td>91</td>\n",
       "    </tr>\n",
       "    <tr>\n",
       "      <th>2</th>\n",
       "      <td>2</td>\n",
       "      <td>2</td>\n",
       "      <td>0</td>\n",
       "      <td>31</td>\n",
       "      <td>97</td>\n",
       "      <td>0</td>\n",
       "      <td>0</td>\n",
       "      <td>115</td>\n",
       "      <td>63.0</td>\n",
       "      <td>200</td>\n",
       "      <td>165.0</td>\n",
       "      <td>0.491482</td>\n",
       "      <td>11</td>\n",
       "      <td>412</td>\n",
       "      <td>0</td>\n",
       "      <td>10</td>\n",
       "      <td>0.345893</td>\n",
       "      <td>83</td>\n",
       "    </tr>\n",
       "    <tr>\n",
       "      <th>3</th>\n",
       "      <td>3</td>\n",
       "      <td>3</td>\n",
       "      <td>0</td>\n",
       "      <td>39</td>\n",
       "      <td>42</td>\n",
       "      <td>0</td>\n",
       "      <td>0</td>\n",
       "      <td>68</td>\n",
       "      <td>76.0</td>\n",
       "      <td>150</td>\n",
       "      <td>178.0</td>\n",
       "      <td>0.514693</td>\n",
       "      <td>31</td>\n",
       "      <td>260</td>\n",
       "      <td>1</td>\n",
       "      <td>3</td>\n",
       "      <td>0.346821</td>\n",
       "      <td>6</td>\n",
       "    </tr>\n",
       "    <tr>\n",
       "      <th>4</th>\n",
       "      <td>4</td>\n",
       "      <td>4</td>\n",
       "      <td>4</td>\n",
       "      <td>1</td>\n",
       "      <td>40</td>\n",
       "      <td>1</td>\n",
       "      <td>0</td>\n",
       "      <td>43</td>\n",
       "      <td>73.0</td>\n",
       "      <td>41</td>\n",
       "      <td>180.0</td>\n",
       "      <td>0.335587</td>\n",
       "      <td>8</td>\n",
       "      <td>124</td>\n",
       "      <td>2</td>\n",
       "      <td>1</td>\n",
       "      <td>0.331600</td>\n",
       "      <td>51</td>\n",
       "    </tr>\n",
       "  </tbody>\n",
       "</table>\n",
       "</div>"
      ],
      "text/plain": [
       "   Unnamed: 0  playerShort  yellowReds  goals  ties  leagueCountry  black  \\\n",
       "0           0            0           0      9   179              0      0   \n",
       "1           1            1           0     62    73              2      0   \n",
       "2           2            2           0     31    97              0      0   \n",
       "3           3            3           0     39    42              0      0   \n",
       "4           4            4           4      1    40              1      0   \n",
       "\n",
       "   defeats  weight  victories  height   meanExp  yellowCards  games  redCards  \\\n",
       "0      228    71.0        247   182.0  0.494575           19    654         0   \n",
       "1      122    73.0        141   183.0  0.449220           42    336         1   \n",
       "2      115    63.0        200   165.0  0.491482           11    412         0   \n",
       "3       68    76.0        150   178.0  0.514693           31    260         1   \n",
       "4       43    73.0         41   180.0  0.335587            8    124         2   \n",
       "\n",
       "   position   meanIAT  club  \n",
       "0         1  0.346459    34  \n",
       "1         0  0.348818    91  \n",
       "2        10  0.345893    83  \n",
       "3         3  0.346821     6  \n",
       "4         1  0.331600    51  "
      ]
     },
     "execution_count": 3,
     "metadata": {},
     "output_type": "execute_result"
    }
   ],
   "source": [
    "# Drop birthdate (Birthday is not related)\n",
    "data = data.drop('birthday', axis=1)\n",
    "data.head()\n"
   ]
  },
  {
   "cell_type": "markdown",
   "metadata": {},
   "source": [
    "Because it is an unsupervised learning, we assume that we don't have the labels, so we remove the black labels from the main data, and keep them for comparing the final result."
   ]
  },
  {
   "cell_type": "code",
   "execution_count": 4,
   "metadata": {
    "collapsed": false
   },
   "outputs": [],
   "source": [
    "# labels, we save the real lables \n",
    "labels = np.array(data['black'])\n",
    "\n",
    "#remove the labels from the data\n",
    "data = data.drop('black', axis=1)\n"
   ]
  },
  {
   "cell_type": "markdown",
   "metadata": {},
   "source": [
    "bench_k_means function get the data, and apply the k-means estimator that we pass to it, and calculate the silhouette_score, homogeneity_score, and completeness_score."
   ]
  },
  {
   "cell_type": "code",
   "execution_count": 5,
   "metadata": {
    "collapsed": false
   },
   "outputs": [],
   "source": [
    "def bench_k_means(estimator, name, data):\n",
    "    t0 = time()\n",
    "    res = estimator.fit(data)\n",
    "    si = metrics.silhouette_score(data, estimator.labels_,metric='euclidean')\n",
    "    hom = metrics.homogeneity_score(labels, estimator.labels_)\n",
    "    com = metrics.completeness_score(labels, estimator.labels_)\n",
    "    #print('% 9s   %.2fs    %i   %.3f   %.3f  %.3f'\n",
    "    #      % (name, (time() - t0), estimator.inertia_,\n",
    "    #         metrics.homogeneity_score(labels, estimator.labels_),\n",
    "    #         metrics.completeness_score(labels, estimator.labels_),\n",
    "    #         metrics.silhouette_score(data, estimator.labels_,\n",
    "    #                                  metric='euclidean')))\n",
    "    \n",
    "    return si, hom, com\n"
   ]
  },
  {
   "cell_type": "markdown",
   "metadata": {},
   "source": [
    "We compare K-means++ and K-means, to see the differenc, and as it is shown by the silhouette_score, there is no difference between them. "
   ]
  },
  {
   "cell_type": "code",
   "execution_count": 6,
   "metadata": {
    "collapsed": false
   },
   "outputs": [
    {
     "name": "stdout",
     "output_type": "stream",
     "text": [
      "(0.56094157753082929, 0.00069558954719075477, 0.00045456376787869455)\n",
      "(0.56094157753082929, 0.00069558954719075477, 0.00045456376787869455)\n"
     ]
    }
   ],
   "source": [
    "kmeans_plus = bench_k_means(KMeans(init='k-means++', n_clusters=2, n_init=10),\n",
    "              name=\"k-means++\", data=data)\n",
    "kmeans = bench_k_means(KMeans(init='random', n_clusters=2, n_init=10),\n",
    "              name=\"k-means-random\", data=data)\n",
    "\n",
    "print(kmeans_plus)\n",
    "print(kmeans)"
   ]
  },
  {
   "cell_type": "code",
   "execution_count": 7,
   "metadata": {
    "collapsed": false
   },
   "outputs": [],
   "source": [
    "def drop_features(data, cols): #drop different columns and see the effect\n",
    "    dropped_data = data.drop(cols, axis=1)\n",
    "    si, hom, com = bench_k_means(KMeans(init='k-means++', n_clusters=2, n_init=10),\n",
    "              name=\"k-means++\", data=dropped_data)\n",
    "    return si, hom, com"
   ]
  },
  {
   "cell_type": "markdown",
   "metadata": {},
   "source": [
    "We dropped all the possible combinations of the 2 features, and choos the best score among them. "
   ]
  },
  {
   "cell_type": "code",
   "execution_count": 18,
   "metadata": {
    "collapsed": false
   },
   "outputs": [
    {
     "name": "stdout",
     "output_type": "stream",
     "text": [
      "dropped:  ('Unnamed: 0', 'games')\n",
      "silhouette_score:  0.571057786853\n",
      "homogeneity_score: 0.000695589547191\n",
      "completeness_score 0.000454563767879\n",
      "dropped:  ('yellowReds', 'games')\n",
      "silhouette_score:  0.592333999881\n",
      "homogeneity_score: 0.000792775006818\n",
      "completeness_score 0.000518061073138\n",
      "dropped:  ('goals', 'games')\n",
      "silhouette_score:  0.595896698215\n",
      "homogeneity_score: 0.000792775006818\n",
      "completeness_score 0.000518061073138\n",
      "dropped:  ('defeats', 'games')\n",
      "silhouette_score:  0.596267631583\n",
      "homogeneity_score: 0.000792775006818\n",
      "completeness_score 0.000518061073138\n",
      "dropped:  ('victories', 'games')\n",
      "silhouette_score:  0.605126224991\n",
      "homogeneity_score: 0.000792775006818\n",
      "completeness_score 0.000518061073138\n"
     ]
    }
   ],
   "source": [
    "max_si = kmeans_plus[0]\n",
    "for subset in itertools.combinations(data.columns, 2):\n",
    "    # print ('dropped: ', subset)\n",
    "    si, hom, com = drop_features(data, [subset[0],subset[1]])  \n",
    "    if(max_si < si):\n",
    "        max_si = si\n",
    "        print('dropped: ', subset)\n",
    "        print('silhouette_score: ', si)\n",
    "        print('homogeneity_score:', hom)\n",
    "        print('completeness_score', com)\n",
    "    "
   ]
  },
  {
   "cell_type": "markdown",
   "metadata": {
    "collapsed": false
   },
   "source": [
    "As we can see in the result the homogenity and completeness scores are really low. It shows that the clustering for the colors based on these features don't work. Moreover, the maximum silhouette_score we achieved was ~0.6. \n",
    "We did the same thing for all the 3 features combinations."
   ]
  },
  {
   "cell_type": "code",
   "execution_count": null,
   "metadata": {
    "collapsed": false
   },
   "outputs": [
    {
     "name": "stdout",
     "output_type": "stream",
     "text": [
      "dropped:  ('yellowReds', 'victories', 'games')\n",
      "silhouette_score:  0.605132313149\n",
      "homogeneity_score: 0.000792775006818\n",
      "completeness_score 0.000518061073138\n",
      "dropped:  ('goals', 'victories', 'games')\n",
      "silhouette_score:  0.609583311005\n",
      "homogeneity_score: 0.000792775006818\n",
      "completeness_score 0.000518061073138\n",
      "dropped:  ('defeats', 'victories', 'games')\n",
      "silhouette_score:  0.609851624132\n",
      "homogeneity_score: 0.000792775006818\n",
      "completeness_score 0.000518061073138\n"
     ]
    }
   ],
   "source": [
    "for subset in itertools.combinations(data.columns, 3):\n",
    "    # print ('dropped: ', subset)\n",
    "    si, hom, com = drop_features(data, [subset[0],subset[1],subset[2]])  \n",
    "    if(max_si < si):\n",
    "        max_si = si\n",
    "        print('dropped: ', subset)\n",
    "        print('silhouette_score: ', si)\n",
    "        print('homogeneity_score:', hom)\n",
    "        print('completeness_score', com)"
   ]
  },
  {
   "cell_type": "markdown",
   "metadata": {},
   "source": [
    "But as we can see, we couldn't get a significantly better result. The clustering doesn't work for it. "
   ]
  },
  {
   "cell_type": "code",
   "execution_count": null,
   "metadata": {
    "collapsed": true
   },
   "outputs": [],
   "source": []
  }
 ],
 "metadata": {
  "anaconda-cloud": {},
  "kernelspec": {
   "display_name": "Python [Root]",
   "language": "python",
   "name": "Python [Root]"
  },
  "language_info": {
   "codemirror_mode": {
    "name": "ipython",
    "version": 3
   },
   "file_extension": ".py",
   "mimetype": "text/x-python",
   "name": "python",
   "nbconvert_exporter": "python",
   "pygments_lexer": "ipython3",
   "version": "3.5.2"
  }
 },
 "nbformat": 4,
 "nbformat_minor": 0
}
