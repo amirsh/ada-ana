{
 "cells": [
  {
   "cell_type": "markdown",
   "metadata": {},
   "source": [
    "# HW2\n",
    "\n",
    "We first go over the data extraction part for both exercises. Then we show how we analyze the extracted data.\n",
    "\n",
    "## Data Extraction\n",
    "\n",
    "The following code shows the import statements as well as the links shared between data extraction for both bachelor  and master students:   "
   ]
  },
  {
   "cell_type": "code",
   "execution_count": 1,
   "metadata": {
    "collapsed": true
   },
   "outputs": [],
   "source": [
    "import numpy as np\n",
    "import pandas as pd\n",
    "import sys\n",
    "from bs4 import BeautifulSoup as BSoup\n",
    "import requests\n",
    "formLink = \"http://isa.epfl.ch/imoniteur_ISAP/!GEDPUBLICREPORTS.filter?ww_i_reportModel=133685247\"\n",
    "showLink = \"http://isa.epfl.ch/imoniteur_ISAP/!GEDPUBLICREPORTS.html?ww_x_GPS=-1&ww_i_reportModel=133685247\"\n",
    "r = requests.get(formLink)\n",
    "soup = BSoup(r.text, \"lxml\")\n",
    "# The following function generates the link to the corresponding HTML page for a particular field of study, \n",
    "# academic year, and semester.\n",
    "def showLinkGen(htmlP, htmlV, fieldP, fieldV, yearP, yearV, semP, semV):\n",
    "  return \"{}&{}={}&{}={}&{}={}&{}={}\".format(showLink, htmlP, htmlV, fieldP, fieldV, yearP, yearV, semP, semV)\n",
    "selectFields = soup.find_all(\"select\")\n",
    "infoField=selectFields[0].find(\"option\", text=\"Informatique\")[\"value\"]\n",
    "infoFieldParam=selectFields[0][\"name\"]\n",
    "semParam=selectFields[2][\"name\"]\n",
    "allYears = [y[\"value\"] for y in selectFields[1].find_all(\"option\")[1:]]\n",
    "yearParam = selectFields[1][\"name\"]\n",
    "htmlradiobutton=soup.find(\"input\", type=\"radio\")\n",
    "# For a given semester and year, returns the HTML page containing the list of the students' information.\n",
    "def get_html(sem, year):\n",
    "    link = showLinkGen(htmlradiobutton[\"name\"], htmlradiobutton[\"value\"], infoFieldParam, infoField, yearParam, \n",
    "                 year, semParam, sem)\n",
    "    return requests.get(link)"
   ]
  },
  {
   "cell_type": "markdown",
   "metadata": {},
   "source": [
    "### Bachelor Students' Data Extraction\n",
    "\n",
    "Assumption\n",
    "----------\n",
    "We assume that all bachelor students finish in their 6th semester -- there is no bachelor student who finishes during 5th semester.\n",
    "\n",
    "The following code extracts the parameters which should be passed to the previous function (`showLinkGen`) for all bachelor students of Computer Science."
   ]
  },
  {
   "cell_type": "code",
   "execution_count": 2,
   "metadata": {
    "collapsed": false
   },
   "outputs": [],
   "source": [
    "bsSem1=selectFields[2].find(\"option\", text=\"Bachelor semestre 1\")[\"value\"]\n",
    "bsSem6=selectFields[2].find(\"option\", text=\"Bachelor semestre 6\")[\"value\"]"
   ]
  },
  {
   "cell_type": "markdown",
   "metadata": {},
   "source": [
    "The following function converts an HTML page containing the relevant part of the list of the students' information to a DataFrame."
   ]
  },
  {
   "cell_type": "code",
   "execution_count": 3,
   "metadata": {
    "collapsed": false
   },
   "outputs": [],
   "source": [
    "def get_bs_dataframe(request_link):\n",
    "  soup2 = BSoup(request_link.text, \"lxml\")\n",
    "  elems=soup2.find_all(\"tr\")[2:]\n",
    "  titleinfo = soup2.find(\"font\").text.split(', ')\n",
    "  semester=titleinfo[2]\n",
    "  semester=int(semester[(len(semester)-2):])\n",
    "  year=titleinfo[1]\n",
    "  all_data=[]\n",
    "  for elem in elems:\n",
    "    items=elem.find_all(\"td\")\n",
    "    gender = \"M\" if (items[0].text == \"Monsieur\") else \"F\"\n",
    "    sciper = int(items[10].text)\n",
    "    all_data.append({\"Scipper\": sciper, \"Sex\": gender, \"Year\": year, \"Semester\": semester})\n",
    "  return pd.DataFrame(all_data)"
   ]
  },
  {
   "cell_type": "markdown",
   "metadata": {},
   "source": [
    "The following function uses the previously defined functions and returns an aggregated DataFrame of all bachelor students' information."
   ]
  },
  {
   "cell_type": "code",
   "execution_count": 4,
   "metadata": {
    "collapsed": false
   },
   "outputs": [],
   "source": [
    "def get_bs_alldata():\n",
    "  all_data = []\n",
    "  for bsSem in [bsSem1, bsSem6]:\n",
    "    for year in allYears:\n",
    "        all_data.append(get_bs_dataframe(get_html(bsSem, year)))\n",
    "  return pd.concat(all_data)"
   ]
  },
  {
   "cell_type": "markdown",
   "metadata": {},
   "source": [
    "### Master Students' Data Extraction\n",
    "\n",
    "Assumption\n",
    "----------\n",
    "Master students are considered to finish their studies only if they are registered for at least one master project.\n",
    "\n",
    "The following parameters are used for generating the HTML link for all master students."
   ]
  },
  {
   "cell_type": "code",
   "execution_count": 5,
   "metadata": {
    "collapsed": false
   },
   "outputs": [],
   "source": [
    "msSem1_text=\"Master semestre 1\"\n",
    "msSemPF_text=\"Projet Master automne\"\n",
    "msSemPS_text=\"Projet Master printemps\"\n",
    "msSem1=selectFields[2].find(\"option\", text=msSem1_text)[\"value\"]\n",
    "msSemPF=selectFields[2].find(\"option\", text=msSemPF_text)[\"value\"]\n",
    "msSemPS=selectFields[2].find(\"option\", text=msSemPS_text)[\"value\"]"
   ]
  },
  {
   "cell_type": "markdown",
   "metadata": {},
   "source": [
    "The following function converts the given HTML page to a DataFrame containing the relevant information about a master student."
   ]
  },
  {
   "cell_type": "code",
   "execution_count": 6,
   "metadata": {
    "collapsed": false
   },
   "outputs": [],
   "source": [
    "def get_ms_dataframe(request_link):\n",
    "  soup2 = BSoup(request_link.text, \"lxml\")\n",
    "  elems=soup2.find_all(\"tr\")[2:]\n",
    "  titleinfo = soup2.find(\"font\")\n",
    "  if(titleinfo is None):\n",
    "      return pd.DataFrame([])\n",
    "  else:\n",
    "      titleinfo = titleinfo.text.split(', ')\n",
    "      semester=titleinfo[2]\n",
    "      semester=1 if semester==msSem1_text else (2 if semester==msSemPF_text else 3)\n",
    "      year=titleinfo[1]\n",
    "      all_data=[]\n",
    "      for elem in elems:\n",
    "        items=elem.find_all(\"td\")\n",
    "        gender = \"M\" if (items[0].text == \"Monsieur\") else \"F\"\n",
    "        sciper = int(items[10].text)\n",
    "        spec = items[4].text <> \"\"\n",
    "        minor = items[6].text <> \"\"\n",
    "        all_data.append({\"Scipper\": sciper, \"Sex\": gender, \"Year\": year, \"Semester\": semester,\n",
    "                        \"Minor\": minor, \"Specialization\": spec})\n",
    "      return pd.DataFrame(all_data)"
   ]
  },
  {
   "cell_type": "markdown",
   "metadata": {},
   "source": [
    "The following function aggregates the DataFrames for all master students. "
   ]
  },
  {
   "cell_type": "code",
   "execution_count": 7,
   "metadata": {
    "collapsed": false
   },
   "outputs": [],
   "source": [
    "def get_ms_alldata():\n",
    "  all_data = []\n",
    "  for sem in [msSem1, msSemPF, msSemPS]:\n",
    "    for year in allYears:\n",
    "        all_data.append(get_ms_dataframe(get_html(sem, year)))\n",
    "  return pd.concat(all_data)"
   ]
  }
 ],
 "metadata": {
  "anaconda-cloud": {},
  "kernelspec": {
   "display_name": "Python [conda root]",
   "language": "python",
   "name": "conda-root-py"
  },
  "language_info": {
   "codemirror_mode": {
    "name": "ipython",
    "version": 2
   },
   "file_extension": ".py",
   "mimetype": "text/x-python",
   "name": "python",
   "nbconvert_exporter": "python",
   "pygments_lexer": "ipython2",
   "version": "2.7.12"
  }
 },
 "nbformat": 4,
 "nbformat_minor": 1
}
