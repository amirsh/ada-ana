{
 "cells": [
  {
   "cell_type": "code",
   "execution_count": 1,
   "metadata": {
    "collapsed": true
   },
   "outputs": [],
   "source": [
    "import numpy as np\n",
    "import sys\n",
    "from bs4 import BeautifulSoup as BSoup\n",
    "import requests"
   ]
  },
  {
   "cell_type": "code",
   "execution_count": 2,
   "metadata": {
    "collapsed": false
   },
   "outputs": [],
   "source": [
    "formLink = \"http://isa.epfl.ch/imoniteur_ISAP/!GEDPUBLICREPORTS.filter?ww_i_reportModel=133685247\"\n",
    "showLink = \"http://isa.epfl.ch/imoniteur_ISAP/!GEDPUBLICREPORTS.html?ww_x_GPS=-1&ww_i_reportModel=133685247\"\n",
    "r = requests.get(formLink)\n",
    "soup = BSoup(r.text, \"lxml\")\n",
    "selectFields = soup.find_all(\"select\")"
   ]
  },
  {
   "cell_type": "code",
   "execution_count": 5,
   "metadata": {
    "collapsed": false
   },
   "outputs": [],
   "source": [
    "infoField=selectFields[0].find(\"option\", text=\"Informatique\")[\"value\"]\n",
    "infoFieldParam=selectFields[0][\"name\"]\n",
    "bsSem1=selectFields[2].find(\"option\", text=\"Bachelor semestre 1\")[\"value\"]\n",
    "bsSem6=selectFields[2].find(\"option\", text=\"Bachelor semestre 6\")[\"value\"]\n",
    "semParam=selectFields[2][\"name\"]\n",
    "allYears = selectFields[1].find_all(\"option\")[1:]\n",
    "yearParam = selectFields[1][\"name\"]\n",
    "htmlradiobutton=soup.find(\"input\", type=\"radio\")"
   ]
  },
  {
   "cell_type": "code",
   "execution_count": 19,
   "metadata": {
    "collapsed": false
   },
   "outputs": [],
   "source": [
    "def showLinkGen(htmlP, htmlV, fieldP, fieldV, yearP, yearV, semP, semV):\n",
    "  return \"{}&{}={}&{}={}&{}={}&{}={}\".format(showLink, htmlP, htmlV, fieldP, fieldV, yearP, yearV, semP, semV)\n",
    "yearValue = allYears[0][\"value\"]\n",
    "l4 = showLinkGen(htmlradiobutton[\"name\"], htmlradiobutton[\"value\"], infoFieldParam, infoField, yearParam, \n",
    "                 yearValue, semParam, bsSem1)\n",
    "r2= requests.get(l4)"
   ]
  },
  {
   "cell_type": "code",
   "execution_count": 20,
   "metadata": {
    "collapsed": false
   },
   "outputs": [
    {
     "data": {
      "text/plain": [
       "'http://isa.epfl.ch/imoniteur_ISAP/!GEDPUBLICREPORTS.html?ww_x_GPS=-1&ww_i_reportModel=133685247&ww_i_reportModelXsl=133685270&ww_x_UNITE_ACAD=249847&ww_x_PERIODE_ACAD=355925344&ww_x_PERIODE_PEDAGO=249108'"
      ]
     },
     "execution_count": 20,
     "metadata": {},
     "output_type": "execute_result"
    }
   ],
   "source": [
    "l4"
   ]
  },
  {
   "cell_type": "code",
   "execution_count": 41,
   "metadata": {
    "collapsed": false
   },
   "outputs": [],
   "source": [
    "soup2 = BSoup(r2.text, \"lxml\")\n",
    "elem=soup2.find_all(\"tr\")[3]\n",
    "items=elem.find_all(\"td\")\n",
    "gender = \"M\" if (items[0].text == \"Monsieur\") else \"F\"\n",
    "sciper = int(items[10].text)\n",
    "titleinfo = soup2.find(\"font\").text.split(', ')\n",
    "semester=titleinfo[2]\n",
    "year=titleinfo[1]"
   ]
  },
  {
   "cell_type": "code",
   "execution_count": 32,
   "metadata": {
    "collapsed": false
   },
   "outputs": [
    {
     "data": {
      "text/plain": [
       "[<td style=\"white-space:nowrap\">Monsieur</td>,\n",
       " <td style=\"white-space:nowrap\">Ahn\\xa0Seongho</td>,\n",
       " <td style=\"white-space:nowrap\"></td>,\n",
       " <td style=\"white-space:nowrap\"></td>,\n",
       " <td style=\"white-space:nowrap\"></td>,\n",
       " <td style=\"white-space:nowrap\"></td>,\n",
       " <td style=\"white-space:nowrap\"></td>,\n",
       " <td style=\"white-space:nowrap\">Pr\\xe9sent</td>,\n",
       " <td style=\"white-space:nowrap\"></td>,\n",
       " <td style=\"white-space:nowrap\"></td>,\n",
       " <td>274015</td>,\n",
       " <td style=\"white-space:nowrap\"></td>]"
      ]
     },
     "execution_count": 32,
     "metadata": {},
     "output_type": "execute_result"
    }
   ],
   "source": [
    "items"
   ]
  },
  {
   "cell_type": "code",
   "execution_count": 42,
   "metadata": {
    "collapsed": false
   },
   "outputs": [
    {
     "data": {
      "text/plain": [
       "u'2016-2017'"
      ]
     },
     "execution_count": 42,
     "metadata": {},
     "output_type": "execute_result"
    }
   ],
   "source": [
    "year"
   ]
  },
  {
   "cell_type": "code",
   "execution_count": null,
   "metadata": {
    "collapsed": true
   },
   "outputs": [],
   "source": []
  }
 ],
 "metadata": {
  "anaconda-cloud": {},
  "kernelspec": {
   "display_name": "Python [conda root]",
   "language": "python",
   "name": "conda-root-py"
  },
  "language_info": {
   "codemirror_mode": {
    "name": "ipython",
    "version": 2
   },
   "file_extension": ".py",
   "mimetype": "text/x-python",
   "name": "python",
   "nbconvert_exporter": "python",
   "pygments_lexer": "ipython2",
   "version": "2.7.12"
  }
 },
 "nbformat": 4,
 "nbformat_minor": 1
}
