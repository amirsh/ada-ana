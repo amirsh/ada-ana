{
 "cells": [
  {
   "cell_type": "code",
   "execution_count": 1,
   "metadata": {
    "collapsed": true
   },
   "outputs": [],
   "source": [
    "import numpy as np\n",
    "import sys\n",
    "from bs4 import BeautifulSoup as BSoup\n",
    "import requests"
   ]
  },
  {
   "cell_type": "code",
   "execution_count": 12,
   "metadata": {
    "collapsed": false
   },
   "outputs": [],
   "source": [
    "r = requests.get(\"http://isa.epfl.ch/imoniteur_ISAP/!GEDPUBLICREPORTS.filter?ww_i_reportModel=133685247\")"
   ]
  },
  {
   "cell_type": "code",
   "execution_count": 34,
   "metadata": {
    "collapsed": false
   },
   "outputs": [],
   "source": [
    "soup = BSoup(r.text, \"lxml\")\n",
    "selectFields = soup.find_all(\"select\")"
   ]
  },
  {
   "cell_type": "code",
   "execution_count": 59,
   "metadata": {
    "collapsed": false
   },
   "outputs": [],
   "source": [
    "infoField=selectFields[0].find(\"option\", text=\"Informatique\")[\"value\"]"
   ]
  },
  {
   "cell_type": "code",
   "execution_count": 60,
   "metadata": {
    "collapsed": false
   },
   "outputs": [],
   "source": [
    "bsSem1=selectFields[2].find(\"option\", text=\"Bachelor semestre 1\")[\"value\"]"
   ]
  },
  {
   "cell_type": "code",
   "execution_count": 61,
   "metadata": {
    "collapsed": false
   },
   "outputs": [],
   "source": [
    "bsSem2=selectFields[2].find(\"option\", text=\"Bachelor semestre 6\")[\"value\"]"
   ]
  },
  {
   "cell_type": "code",
   "execution_count": 62,
   "metadata": {
    "collapsed": false
   },
   "outputs": [],
   "source": [
    "infoFieldParam=selectFields[0][\"name\"]"
   ]
  },
  {
   "cell_type": "code",
   "execution_count": 63,
   "metadata": {
    "collapsed": false
   },
   "outputs": [],
   "source": [
    "semParam=selectFields[2][\"name\"]"
   ]
  },
  {
   "cell_type": "code",
   "execution_count": 43,
   "metadata": {
    "collapsed": true
   },
   "outputs": [],
   "source": [
    "link=\"http://isa.epfl.ch/imoniteur_ISAP/!GEDPUBLICREPORTS.html?ww_x_GPS=71297531&ww_i_reportModel=133685247&ww_i_reportModelXsl=133685270&ww_x_UNITE_ACAD=249847&ww_x_PERIODE_PEDAGO=249108\""
   ]
  },
  {
   "cell_type": "code",
   "execution_count": 44,
   "metadata": {
    "collapsed": true
   },
   "outputs": [],
   "source": [
    "r2= requests.get(link)"
   ]
  },
  {
   "cell_type": "code",
   "execution_count": 50,
   "metadata": {
    "collapsed": false
   },
   "outputs": [],
   "source": [
    "htmlradiobutton=soup.find(\"input\", type=\"radio\")"
   ]
  },
  {
   "cell_type": "code",
   "execution_count": 52,
   "metadata": {
    "collapsed": false
   },
   "outputs": [
    {
     "data": {
      "text/plain": [
       "'ww_i_reportModelXsl'"
      ]
     },
     "execution_count": 52,
     "metadata": {},
     "output_type": "execute_result"
    }
   ],
   "source": [
    "htmlradiobutton[\"name\"]"
   ]
  },
  {
   "cell_type": "code",
   "execution_count": 56,
   "metadata": {
    "collapsed": false
   },
   "outputs": [
    {
     "data": {
      "text/plain": [
       "'133685270'"
      ]
     },
     "execution_count": 56,
     "metadata": {},
     "output_type": "execute_result"
    }
   ],
   "source": [
    "htmlradiobutton[\"value\"]"
   ]
  },
  {
   "cell_type": "code",
   "execution_count": 57,
   "metadata": {
    "collapsed": true
   },
   "outputs": [],
   "source": [
    "l1=\"http://isa.epfl.ch/imoniteur_ISAP/!GEDPUBLICREPORTS.html?ww_x_GPS=71297531&ww_i_reportModel=133685247\""
   ]
  },
  {
   "cell_type": "code",
   "execution_count": 58,
   "metadata": {
    "collapsed": true
   },
   "outputs": [],
   "source": [
    "l2=l1+\"&\"+htmlradiobutton[\"name\"]+\"=\"+htmlradiobutton[\"value\"]"
   ]
  },
  {
   "cell_type": "code",
   "execution_count": 64,
   "metadata": {
    "collapsed": true
   },
   "outputs": [],
   "source": [
    "l3=l2+\"&\"+infoFieldParam+\"=\"+infoField"
   ]
  },
  {
   "cell_type": "code",
   "execution_count": 65,
   "metadata": {
    "collapsed": true
   },
   "outputs": [],
   "source": [
    "l4=l3+\"&\"+semParam+\"=\"+bsSem1"
   ]
  },
  {
   "cell_type": "code",
   "execution_count": 66,
   "metadata": {
    "collapsed": true
   },
   "outputs": [],
   "source": [
    "r2= requests.get(l4)"
   ]
  },
  {
   "cell_type": "code",
   "execution_count": 67,
   "metadata": {
    "collapsed": false
   },
   "outputs": [
    {
     "data": {
      "text/plain": [
       "u'<html><head><META http-equiv=\"Content-Type\" content=\"text/html; charset=iso-8859-1\"><link rel=\"stylesheet\" type=\"text/css\" href=\"gedpublicreports.css?ww_x_path=Gestac.Moniteur.Style\"></head><body bgcolor=\"#ffffff\" marginheight=\"0\" marginwidth=\"5\" link=\"#666666\" vlink=\"#666666\" alink=\"#666666\"><fieldset style=\"text-align:right; width:40%; position:relative; margin-right: 10px;float:right; border: 0; padding: 0 0 8px 0;\"><a style=\"color:#990033;\" href=\"!GEDREPORTS.html?ww_x_GPS=71297531&amp;ww_i_reportModel=133685247&amp;ww_i_reportModelXsl=133685270&amp;ww_x_UNITE_ACAD=249847&amp;ww_x_PERIODE_PEDAGO=249108\">Identification pour acc\\xe9der aux e-mails<br>Login to access email adresses</a></fieldset><script>\\n  function mailList(x) {\\n   var vtop = (screen.height-200)/2;\\n   var vleft=(screen.width-600)/2;\\n   var w=open(\"\", \"emaillist\", \"Scrollbars=1,resizable=1,width=600,height=200,top=\"+vtop+\",left=\"+vleft);\\n   w.document.write(x);\\n   w.document.close();\\n   w.focus();\\n  }\\n </script><h1>Extraction : Liste des \\xe9tudiants inscrits par semestre</h1><h1>Ces listes d\\'\\xe9tudiants ne seront d\\xe9finitives qu\\'\\xe0 la mi-ao\\xfbt une fois la commission d\\'admission bachelor et la conf\\xe9rence d\\'examen pass\\xe9es afin de s\\'assurer que tous les \\xe9tudiants nouvellement admis \\xe0 l\\'EPFL y figurent et que les \\xe9tudiants en situation d\\'\\xe9chec d\\xe9finitif soient ray\\xe9s de ces listes</h1><hr style=\"height:0px;visibility: hidden;display:block;width:0px; float:none; clear:both; color: #ffffff;\"><table><tr><th colspan=\"12\"><font color=\"black\">Informatique, 2007-2008, Bachelor semestre 1</font>\\n&nbsp;(90 \\xe9t.)\\n    </th></tr><tr><th>Civilit\\xe9</th><th>Nom Pr\\xe9nom</th><th>Orientation Bachelor</th><th>Orientation Master</th><th>Sp\\xe9cialisation</th><th>Fili\\xe8re opt.</th><th>Mineur</th><th>Statut</th><th>Type Echange</th><th>Ecole Echange</th><th>No Sciper</th></tr><tr><td style=\"white-space:nowrap\">Monsieur</td><td style=\"white-space:nowrap\">Ar\\xe9valo&nbsp;Christian</td><td style=\"white-space:nowrap\"></td><td style=\"white-space:nowrap\"></td><td style=\"white-space:nowrap\"></td><td style=\"white-space:nowrap\"></td><td style=\"white-space:nowrap\"></td><td style=\"white-space:nowrap\">Pr\\xe9sent</td><td style=\"white-space:nowrap\"></td><td style=\"white-space:nowrap\"></td><td>169569</td><td style=\"white-space:nowrap\"></td></tr><tr><td style=\"white-space:nowrap\">Monsieur</td><td style=\"white-space:nowrap\">Aubelle&nbsp;Flavien</td><td style=\"white-space:nowrap\"></td><td style=\"white-space:nowrap\"></td><td style=\"white-space:nowrap\"></td><td style=\"white-space:nowrap\"></td><td style=\"white-space:nowrap\"></td><td style=\"white-space:nowrap\">Pr\\xe9sent</td><td style=\"white-space:nowrap\"></td><td style=\"white-space:nowrap\"></td><td>174905</td><td style=\"white-space:nowrap\"></td></tr><tr><td style=\"white-space:nowrap\">Monsieur</td><td style=\"white-space:nowrap\">Badoud&nbsp;Morgan</td><td style=\"white-space:nowrap\"></td><td style=\"white-space:nowrap\"></td><td style=\"white-space:nowrap\"></td><td style=\"white-space:nowrap\"></td><td style=\"white-space:nowrap\"></td><td style=\"white-space:nowrap\">Pr\\xe9sent</td><td style=\"white-space:nowrap\"></td><td style=\"white-space:nowrap\"></td><td>173922</td><td style=\"white-space:nowrap\"></td></tr><tr><td style=\"white-space:nowrap\">Monsieur</td><td style=\"white-space:nowrap\">Baeriswyl&nbsp;Jonathan</td><td style=\"white-space:nowrap\"></td><td style=\"white-space:nowrap\"></td><td style=\"white-space:nowrap\"></td><td style=\"white-space:nowrap\"></td><td style=\"white-space:nowrap\"></td><td style=\"white-space:nowrap\">Pr\\xe9sent</td><td style=\"white-space:nowrap\"></td><td style=\"white-space:nowrap\"></td><td>179406</td><td style=\"white-space:nowrap\"></td></tr><tr><td style=\"white-space:nowrap\">Monsieur</td><td style=\"white-space:nowrap\">Barroco&nbsp;Michael</td><td style=\"white-space:nowrap\"></td><td style=\"white-space:nowrap\"></td><td style=\"white-space:nowrap\"></td><td style=\"white-space:nowrap\"></td><td style=\"white-space:nowrap\"></td><td style=\"white-space:nowrap\">Pr\\xe9sent</td><td style=\"white-space:nowrap\"></td><td style=\"white-space:nowrap\"></td><td>179428</td><td style=\"white-space:nowrap\"></td></tr><tr><td style=\"white-space:nowrap\">Monsieur</td><td style=\"white-space:nowrap\">Belfis&nbsp;Nicolas</td><td style=\"white-space:nowrap\"></td><td style=\"white-space:nowrap\"></td><td style=\"white-space:nowrap\"></td><td style=\"white-space:nowrap\"></td><td style=\"white-space:nowrap\"></td><td style=\"white-space:nowrap\">Pr\\xe9sent</td><td style=\"white-space:nowrap\"></td><td style=\"white-space:nowrap\"></td><td>179324</td><td style=\"white-space:nowrap\"></td></tr><tr><td style=\"white-space:nowrap\">Monsieur</td><td style=\"white-space:nowrap\">Beliaev&nbsp;Stanislav</td><td style=\"white-space:nowrap\"></td><td style=\"white-space:nowrap\"></td><td style=\"white-space:nowrap\"></td><td style=\"white-space:nowrap\"></td><td style=\"white-space:nowrap\"></td><td style=\"white-space:nowrap\">Pr\\xe9sent</td><td style=\"white-space:nowrap\"></td><td style=\"white-space:nowrap\"></td><td>174597</td><td style=\"white-space:nowrap\"></td></tr><tr><td style=\"white-space:nowrap\">Monsieur</td><td style=\"white-space:nowrap\">Bindschaedler&nbsp;Vincent</td><td style=\"white-space:nowrap\"></td><td style=\"white-space:nowrap\"></td><td style=\"white-space:nowrap\"></td><td style=\"white-space:nowrap\"></td><td style=\"white-space:nowrap\"></td><td style=\"white-space:nowrap\">Pr\\xe9sent</td><td style=\"white-space:nowrap\"></td><td style=\"white-space:nowrap\"></td><td>179449</td><td style=\"white-space:nowrap\"></td></tr><tr><td style=\"white-space:nowrap\">Monsieur</td><td style=\"white-space:nowrap\">Bloch&nbsp;Marc-Olivier</td><td style=\"white-space:nowrap\"></td><td style=\"white-space:nowrap\"></td><td style=\"white-space:nowrap\"></td><td style=\"white-space:nowrap\"></td><td style=\"white-space:nowrap\"></td><td style=\"white-space:nowrap\">Pr\\xe9sent</td><td style=\"white-space:nowrap\"></td><td style=\"white-space:nowrap\"></td><td>178553</td><td style=\"white-space:nowrap\"></td></tr><tr><td style=\"white-space:nowrap\">Monsieur</td><td style=\"white-space:nowrap\">Bloch&nbsp;Remi</td><td style=\"white-space:nowrap\"></td><td style=\"white-space:nowrap\"></td><td style=\"white-space:nowrap\"></td><td style=\"white-space:nowrap\"></td><td style=\"white-space:nowrap\"></td><td style=\"white-space:nowrap\">Pr\\xe9sent</td><td style=\"white-space:nowrap\"></td><td style=\"white-space:nowrap\"></td><td>179426</td><td style=\"white-space:nowrap\"></td></tr><tr><td style=\"white-space:nowrap\">Monsieur</td><td style=\"white-space:nowrap\">Bo\\xe9chat&nbsp;Marc-Alexandre</td><td style=\"white-space:nowrap\"></td><td style=\"white-space:nowrap\"></td><td style=\"white-space:nowrap\"></td><td style=\"white-space:nowrap\"></td><td style=\"white-space:nowrap\"></td><td style=\"white-space:nowrap\">Pr\\xe9sent</td><td style=\"white-space:nowrap\"></td><td style=\"white-space:nowrap\"></td><td>178271</td><td style=\"white-space:nowrap\"></td></tr><tr><td style=\"white-space:nowrap\">Monsieur</td><td style=\"white-space:nowrap\">B\\xf6hler&nbsp;Michael</td><td style=\"white-space:nowrap\"></td><td style=\"white-space:nowrap\"></td><td style=\"white-space:nowrap\"></td><td style=\"white-space:nowrap\"></td><td style=\"white-space:nowrap\"></td><td style=\"white-space:nowrap\">Pr\\xe9sent</td><td style=\"white-space:nowrap\"></td><td style=\"white-space:nowrap\"></td><td>182433</td><td style=\"white-space:nowrap\"></td></tr><tr><td style=\"white-space:nowrap\">Monsieur</td><td style=\"white-space:nowrap\">Bricola&nbsp;Jean-Charles</td><td style=\"white-space:nowrap\"></td><td style=\"white-space:nowrap\"></td><td style=\"white-space:nowrap\"></td><td style=\"white-space:nowrap\"></td><td style=\"white-space:nowrap\"></td><td style=\"white-space:nowrap\">Pr\\xe9sent</td><td style=\"white-space:nowrap\"></td><td style=\"white-space:nowrap\"></td><td>180731</td><td style=\"white-space:nowrap\"></td></tr><tr><td style=\"white-space:nowrap\">Monsieur</td><td style=\"white-space:nowrap\">Buchschacher&nbsp;Nicolas</td><td style=\"white-space:nowrap\"></td><td style=\"white-space:nowrap\"></td><td style=\"white-space:nowrap\"></td><td style=\"white-space:nowrap\"></td><td style=\"white-space:nowrap\"></td><td style=\"white-space:nowrap\">Pr\\xe9sent</td><td style=\"white-space:nowrap\"></td><td style=\"white-space:nowrap\"></td><td>171619</td><td style=\"white-space:nowrap\"></td></tr><tr><td style=\"white-space:nowrap\">Monsieur</td><td style=\"white-space:nowrap\">Caloz&nbsp;Daniel</td><td style=\"white-space:nowrap\"></td><td style=\"white-space:nowrap\"></td><td style=\"white-space:nowrap\"></td><td style=\"white-space:nowrap\"></td><td style=\"white-space:nowrap\"></td><td style=\"white-space:nowrap\">Pr\\xe9sent</td><td style=\"white-space:nowrap\"></td><td style=\"white-space:nowrap\"></td><td>179837</td><td style=\"white-space:nowrap\"></td></tr><tr><td style=\"white-space:nowrap\">Monsieur</td><td style=\"white-space:nowrap\">Calvert&nbsp;Thomas</td><td style=\"white-space:nowrap\"></td><td style=\"white-space:nowrap\"></td><td style=\"white-space:nowrap\"></td><td style=\"white-space:nowrap\"></td><td style=\"white-space:nowrap\"></td><td style=\"white-space:nowrap\">Pr\\xe9sent</td><td style=\"white-space:nowrap\"></td><td style=\"white-space:nowrap\"></td><td>179157</td><td style=\"white-space:nowrap\"></td></tr><tr><td style=\"white-space:nowrap\">Monsieur</td><td style=\"white-space:nowrap\">Cambazard&nbsp;Thomas</td><td style=\"white-space:nowrap\"></td><td style=\"white-space:nowrap\"></td><td style=\"white-space:nowrap\"></td><td style=\"white-space:nowrap\"></td><td style=\"white-space:nowrap\"></td><td style=\"white-space:nowrap\">Pr\\xe9sent</td><td style=\"white-space:nowrap\"></td><td style=\"white-space:nowrap\"></td><td>179864</td><td style=\"white-space:nowrap\"></td></tr><tr><td style=\"white-space:nowrap\">Monsieur</td><td style=\"white-space:nowrap\">Camenzind&nbsp;Guillaume</td><td style=\"white-space:nowrap\"></td><td style=\"white-space:nowrap\"></td><td style=\"white-space:nowrap\"></td><td style=\"white-space:nowrap\"></td><td style=\"white-space:nowrap\"></td><td style=\"white-space:nowrap\">Pr\\xe9sent</td><td style=\"white-space:nowrap\"></td><td style=\"white-space:nowrap\"></td><td>174590</td><td style=\"white-space:nowrap\"></td></tr><tr><td style=\"white-space:nowrap\">Monsieur</td><td style=\"white-space:nowrap\">Cattin&nbsp;Nicolas</td><td style=\"white-space:nowrap\"></td><td style=\"white-space:nowrap\"></td><td style=\"white-space:nowrap\"></td><td style=\"white-space:nowrap\"></td><td style=\"white-space:nowrap\"></td><td style=\"white-space:nowrap\">Pr\\xe9sent</td><td style=\"white-space:nowrap\"></td><td style=\"white-space:nowrap\"></td><td>178843</td><td style=\"white-space:nowrap\"></td></tr><tr><td style=\"white-space:nowrap\">Monsieur</td><td style=\"white-space:nowrap\">Cino&nbsp;Emanuel</td><td style=\"white-space:nowrap\"></td><td style=\"white-space:nowrap\"></td><td style=\"white-space:nowrap\"></td><td style=\"white-space:nowrap\"></td><td style=\"white-space:nowrap\"></td><td style=\"white-space:nowrap\">Pr\\xe9sent</td><td style=\"white-space:nowrap\"></td><td style=\"white-space:nowrap\"></td><td>178711</td><td style=\"white-space:nowrap\"></td></tr><tr><td style=\"white-space:nowrap\">Monsieur</td><td style=\"white-space:nowrap\">Coiro&nbsp;Andrea</td><td style=\"white-space:nowrap\"></td><td style=\"white-space:nowrap\"></td><td style=\"white-space:nowrap\"></td><td style=\"white-space:nowrap\"></td><td style=\"white-space:nowrap\"></td><td style=\"white-space:nowrap\">Pr\\xe9sent</td><td style=\"white-space:nowrap\"></td><td style=\"white-space:nowrap\"></td><td>178786</td><td style=\"white-space:nowrap\"></td></tr><tr><td style=\"white-space:nowrap\">Monsieur</td><td style=\"white-space:nowrap\">Collavini&nbsp;Gregory</td><td style=\"white-space:nowrap\"></td><td style=\"white-space:nowrap\"></td><td style=\"white-space:nowrap\"></td><td style=\"white-space:nowrap\"></td><td style=\"white-space:nowrap\"></td><td style=\"white-space:nowrap\">Pr\\xe9sent</td><td style=\"white-space:nowrap\"></td><td style=\"white-space:nowrap\"></td><td>179567</td><td style=\"white-space:nowrap\"></td></tr><tr><td style=\"white-space:nowrap\">Monsieur</td><td style=\"white-space:nowrap\">Corbat&nbsp;Nicolas</td><td style=\"white-space:nowrap\"></td><td style=\"white-space:nowrap\"></td><td style=\"white-space:nowrap\"></td><td style=\"white-space:nowrap\"></td><td style=\"white-space:nowrap\"></td><td style=\"white-space:nowrap\">Pr\\xe9sent</td><td style=\"white-space:nowrap\"></td><td style=\"white-space:nowrap\"></td><td>176282</td><td style=\"white-space:nowrap\"></td></tr><tr><td style=\"white-space:nowrap\">Monsieur</td><td style=\"white-space:nowrap\">Curreli&nbsp;Alexandre</td><td style=\"white-space:nowrap\"></td><td style=\"white-space:nowrap\"></td><td style=\"white-space:nowrap\"></td><td style=\"white-space:nowrap\"></td><td style=\"white-space:nowrap\"></td><td style=\"white-space:nowrap\">Pr\\xe9sent</td><td style=\"white-space:nowrap\"></td><td style=\"white-space:nowrap\"></td><td>178656</td><td style=\"white-space:nowrap\"></td></tr><tr><td style=\"white-space:nowrap\">Monsieur</td><td style=\"white-space:nowrap\">Custovic&nbsp;Alain</td><td style=\"white-space:nowrap\"></td><td style=\"white-space:nowrap\"></td><td style=\"white-space:nowrap\"></td><td style=\"white-space:nowrap\"></td><td style=\"white-space:nowrap\"></td><td style=\"white-space:nowrap\">Pr\\xe9sent</td><td style=\"white-space:nowrap\"></td><td style=\"white-space:nowrap\"></td><td>181445</td><td style=\"white-space:nowrap\"></td></tr><tr><td style=\"white-space:nowrap\">Monsieur</td><td style=\"white-space:nowrap\">Dal Mas&nbsp;Gianluca</td><td style=\"white-space:nowrap\"></td><td style=\"white-space:nowrap\"></td><td style=\"white-space:nowrap\"></td><td style=\"white-space:nowrap\"></td><td style=\"white-space:nowrap\"></td><td style=\"white-space:nowrap\">Pr\\xe9sent</td><td style=\"white-space:nowrap\"></td><td style=\"white-space:nowrap\"></td><td>178718</td><td style=\"white-space:nowrap\"></td></tr><tr><td style=\"white-space:nowrap\">Monsieur</td><td style=\"white-space:nowrap\">Decorvet&nbsp;Gr\\xe9goire</td><td style=\"white-space:nowrap\"></td><td style=\"white-space:nowrap\"></td><td style=\"white-space:nowrap\"></td><td style=\"white-space:nowrap\"></td><td style=\"white-space:nowrap\"></td><td style=\"white-space:nowrap\">Pr\\xe9sent</td><td style=\"white-space:nowrap\"></td><td style=\"white-space:nowrap\"></td><td>175466</td><td style=\"white-space:nowrap\"></td></tr><tr><td style=\"white-space:nowrap\">Monsieur</td><td style=\"white-space:nowrap\">Dettwiler&nbsp;Fabrice</td><td style=\"white-space:nowrap\"></td><td style=\"white-space:nowrap\"></td><td style=\"white-space:nowrap\"></td><td style=\"white-space:nowrap\"></td><td style=\"white-space:nowrap\"></td><td style=\"white-space:nowrap\">Pr\\xe9sent</td><td style=\"white-space:nowrap\"></td><td style=\"white-space:nowrap\"></td><td>173882</td><td style=\"white-space:nowrap\"></td></tr><tr><td style=\"white-space:nowrap\">Madame</td><td style=\"white-space:nowrap\">Ej-Jennane&nbsp;Jihane</td><td style=\"white-space:nowrap\"></td><td style=\"white-space:nowrap\"></td><td style=\"white-space:nowrap\"></td><td style=\"white-space:nowrap\"></td><td style=\"white-space:nowrap\"></td><td style=\"white-space:nowrap\">Pr\\xe9sent</td><td style=\"white-space:nowrap\"></td><td style=\"white-space:nowrap\"></td><td>181612</td><td style=\"white-space:nowrap\"></td></tr><tr><td style=\"white-space:nowrap\">Monsieur</td><td style=\"white-space:nowrap\">Epiney&nbsp;Vincent</td><td style=\"white-space:nowrap\"></td><td style=\"white-space:nowrap\"></td><td style=\"white-space:nowrap\"></td><td style=\"white-space:nowrap\"></td><td style=\"white-space:nowrap\"></td><td style=\"white-space:nowrap\">Pr\\xe9sent</td><td style=\"white-space:nowrap\"></td><td style=\"white-space:nowrap\"></td><td>181232</td><td style=\"white-space:nowrap\"></td></tr><tr><td style=\"white-space:nowrap\">Madame</td><td style=\"white-space:nowrap\">Falbriard&nbsp;St\\xe9phanie</td><td style=\"white-space:nowrap\"></td><td style=\"white-space:nowrap\"></td><td style=\"white-space:nowrap\"></td><td style=\"white-space:nowrap\"></td><td style=\"white-space:nowrap\"></td><td style=\"white-space:nowrap\">Pr\\xe9sent</td><td style=\"white-space:nowrap\"></td><td style=\"white-space:nowrap\"></td><td>178706</td><td style=\"white-space:nowrap\"></td></tr><tr><td style=\"white-space:nowrap\">Monsieur</td><td style=\"white-space:nowrap\">Fankhauser&nbsp;Alexandre</td><td style=\"white-space:nowrap\"></td><td style=\"white-space:nowrap\"></td><td style=\"white-space:nowrap\"></td><td style=\"white-space:nowrap\"></td><td style=\"white-space:nowrap\"></td><td style=\"white-space:nowrap\">Pr\\xe9sent</td><td style=\"white-space:nowrap\"></td><td style=\"white-space:nowrap\"></td><td>180284</td><td style=\"white-space:nowrap\"></td></tr><tr><td style=\"white-space:nowrap\">Monsieur</td><td style=\"white-space:nowrap\">Frund&nbsp;Lo\\xefc</td><td style=\"white-space:nowrap\"></td><td style=\"white-space:nowrap\"></td><td style=\"white-space:nowrap\"></td><td style=\"white-space:nowrap\"></td><td style=\"white-space:nowrap\"></td><td style=\"white-space:nowrap\">Pr\\xe9sent</td><td style=\"white-space:nowrap\"></td><td style=\"white-space:nowrap\"></td><td>181121</td><td style=\"white-space:nowrap\"></td></tr><tr><td style=\"white-space:nowrap\">Monsieur</td><td style=\"white-space:nowrap\">Grall&nbsp;Jean-Louis</td><td style=\"white-space:nowrap\"></td><td style=\"white-space:nowrap\"></td><td style=\"white-space:nowrap\"></td><td style=\"white-space:nowrap\"></td><td style=\"white-space:nowrap\"></td><td style=\"white-space:nowrap\">Pr\\xe9sent</td><td style=\"white-space:nowrap\"></td><td style=\"white-space:nowrap\"></td><td>170509</td><td style=\"white-space:nowrap\"></td></tr><tr><td style=\"white-space:nowrap\">Monsieur</td><td style=\"white-space:nowrap\">Gremion&nbsp;S\\xe9bastien</td><td style=\"white-space:nowrap\"></td><td style=\"white-space:nowrap\"></td><td style=\"white-space:nowrap\"></td><td style=\"white-space:nowrap\"></td><td style=\"white-space:nowrap\"></td><td style=\"white-space:nowrap\">Cong\\xe9</td><td style=\"white-space:nowrap\"></td><td style=\"white-space:nowrap\"></td><td>175379</td><td style=\"white-space:nowrap\"></td></tr><tr><td style=\"white-space:nowrap\">Monsieur</td><td style=\"white-space:nowrap\">Habfast&nbsp;Paul</td><td style=\"white-space:nowrap\"></td><td style=\"white-space:nowrap\"></td><td style=\"white-space:nowrap\"></td><td style=\"white-space:nowrap\"></td><td style=\"white-space:nowrap\"></td><td style=\"white-space:nowrap\">Pr\\xe9sent</td><td style=\"white-space:nowrap\"></td><td style=\"white-space:nowrap\"></td><td>180570</td><td style=\"white-space:nowrap\"></td></tr><tr><td style=\"white-space:nowrap\">Monsieur</td><td style=\"white-space:nowrap\">Haefliger&nbsp;Roger</td><td style=\"white-space:nowrap\"></td><td style=\"white-space:nowrap\"></td><td style=\"white-space:nowrap\"></td><td style=\"white-space:nowrap\"></td><td style=\"white-space:nowrap\"></td><td style=\"white-space:nowrap\">Pr\\xe9sent</td><td style=\"white-space:nowrap\"></td><td style=\"white-space:nowrap\"></td><td>178604</td><td style=\"white-space:nowrap\"></td></tr><tr><td style=\"white-space:nowrap\">Monsieur</td><td style=\"white-space:nowrap\">Hanser&nbsp;Val\\xe9rian</td><td style=\"white-space:nowrap\"></td><td style=\"white-space:nowrap\"></td><td style=\"white-space:nowrap\"></td><td style=\"white-space:nowrap\"></td><td style=\"white-space:nowrap\"></td><td style=\"white-space:nowrap\">Pr\\xe9sent</td><td style=\"white-space:nowrap\"></td><td style=\"white-space:nowrap\"></td><td>175190</td><td style=\"white-space:nowrap\"></td></tr><tr><td style=\"white-space:nowrap\">Monsieur</td><td style=\"white-space:nowrap\">Haque&nbsp;Arinul</td><td style=\"white-space:nowrap\"></td><td style=\"white-space:nowrap\"></td><td style=\"white-space:nowrap\"></td><td style=\"white-space:nowrap\"></td><td style=\"white-space:nowrap\"></td><td style=\"white-space:nowrap\">Pr\\xe9sent</td><td style=\"white-space:nowrap\"></td><td style=\"white-space:nowrap\"></td><td>178660</td><td style=\"white-space:nowrap\"></td></tr><tr><td style=\"white-space:nowrap\">Monsieur</td><td style=\"white-space:nowrap\">Helfer&nbsp;Etienne</td><td style=\"white-space:nowrap\"></td><td style=\"white-space:nowrap\"></td><td style=\"white-space:nowrap\"></td><td style=\"white-space:nowrap\"></td><td style=\"white-space:nowrap\"></td><td style=\"white-space:nowrap\">Pr\\xe9sent</td><td style=\"white-space:nowrap\"></td><td style=\"white-space:nowrap\"></td><td>181248</td><td style=\"white-space:nowrap\"></td></tr><tr><td style=\"white-space:nowrap\">Monsieur</td><td style=\"white-space:nowrap\">Itten&nbsp;David</td><td style=\"white-space:nowrap\"></td><td style=\"white-space:nowrap\"></td><td style=\"white-space:nowrap\"></td><td style=\"white-space:nowrap\"></td><td style=\"white-space:nowrap\"></td><td style=\"white-space:nowrap\">Pr\\xe9sent</td><td style=\"white-space:nowrap\"></td><td style=\"white-space:nowrap\"></td><td>179163</td><td style=\"white-space:nowrap\"></td></tr><tr><td style=\"white-space:nowrap\">Monsieur</td><td style=\"white-space:nowrap\">Jacquier&nbsp;Gary</td><td style=\"white-space:nowrap\"></td><td style=\"white-space:nowrap\"></td><td style=\"white-space:nowrap\"></td><td style=\"white-space:nowrap\"></td><td style=\"white-space:nowrap\"></td><td style=\"white-space:nowrap\">Pr\\xe9sent</td><td style=\"white-space:nowrap\"></td><td style=\"white-space:nowrap\"></td><td>181181</td><td style=\"white-space:nowrap\"></td></tr><tr><td style=\"white-space:nowrap\">Monsieur</td><td style=\"white-space:nowrap\">Jolidon&nbsp;Fabien</td><td style=\"white-space:nowrap\"></td><td style=\"white-space:nowrap\"></td><td style=\"white-space:nowrap\"></td><td style=\"white-space:nowrap\"></td><td style=\"white-space:nowrap\"></td><td style=\"white-space:nowrap\">Pr\\xe9sent</td><td style=\"white-space:nowrap\"></td><td style=\"white-space:nowrap\"></td><td>181244</td><td style=\"white-space:nowrap\"></td></tr><tr><td style=\"white-space:nowrap\">Monsieur</td><td style=\"white-space:nowrap\">Kaufmann&nbsp;Adrian</td><td style=\"white-space:nowrap\"></td><td style=\"white-space:nowrap\"></td><td style=\"white-space:nowrap\"></td><td style=\"white-space:nowrap\"></td><td style=\"white-space:nowrap\"></td><td style=\"white-space:nowrap\">Pr\\xe9sent</td><td style=\"white-space:nowrap\"></td><td style=\"white-space:nowrap\"></td><td>175685</td><td style=\"white-space:nowrap\"></td></tr><tr><td style=\"white-space:nowrap\">Monsieur</td><td style=\"white-space:nowrap\">Knecht&nbsp;Mathieu</td><td style=\"white-space:nowrap\"></td><td style=\"white-space:nowrap\"></td><td style=\"white-space:nowrap\"></td><td style=\"white-space:nowrap\"></td><td style=\"white-space:nowrap\"></td><td style=\"white-space:nowrap\">Pr\\xe9sent</td><td style=\"white-space:nowrap\"></td><td style=\"white-space:nowrap\"></td><td>169731</td><td style=\"white-space:nowrap\"></td></tr><tr><td style=\"white-space:nowrap\">Monsieur</td><td style=\"white-space:nowrap\">Kovar&nbsp;Alexandre</td><td style=\"white-space:nowrap\"></td><td style=\"white-space:nowrap\"></td><td style=\"white-space:nowrap\"></td><td style=\"white-space:nowrap\"></td><td style=\"white-space:nowrap\"></td><td style=\"white-space:nowrap\">Pr\\xe9sent</td><td style=\"white-space:nowrap\"></td><td style=\"white-space:nowrap\"></td><td>175001</td><td style=\"white-space:nowrap\"></td></tr><tr><td style=\"white-space:nowrap\">Monsieur</td><td style=\"white-space:nowrap\">Lambercy&nbsp;Alexandre</td><td style=\"white-space:nowrap\"></td><td style=\"white-space:nowrap\"></td><td style=\"white-space:nowrap\"></td><td style=\"white-space:nowrap\"></td><td style=\"white-space:nowrap\"></td><td style=\"white-space:nowrap\">Pr\\xe9sent</td><td style=\"white-space:nowrap\"></td><td style=\"white-space:nowrap\"></td><td>181424</td><td style=\"white-space:nowrap\"></td></tr><tr><td style=\"white-space:nowrap\">Monsieur</td><td style=\"white-space:nowrap\">Lange&nbsp;Yves</td><td style=\"white-space:nowrap\"></td><td style=\"white-space:nowrap\"></td><td style=\"white-space:nowrap\"></td><td style=\"white-space:nowrap\"></td><td style=\"white-space:nowrap\"></td><td style=\"white-space:nowrap\">Pr\\xe9sent</td><td style=\"white-space:nowrap\"></td><td style=\"white-space:nowrap\"></td><td>181259</td><td style=\"white-space:nowrap\"></td></tr><tr><td style=\"white-space:nowrap\">Monsieur</td><td style=\"white-space:nowrap\">Leuenberger&nbsp;Johan</td><td style=\"white-space:nowrap\"></td><td style=\"white-space:nowrap\"></td><td style=\"white-space:nowrap\"></td><td style=\"white-space:nowrap\"></td><td style=\"white-space:nowrap\"></td><td style=\"white-space:nowrap\">Pr\\xe9sent</td><td style=\"white-space:nowrap\"></td><td style=\"white-space:nowrap\"></td><td>178433</td><td style=\"white-space:nowrap\"></td></tr><tr><td style=\"white-space:nowrap\">Monsieur</td><td style=\"white-space:nowrap\">L\\xfcscher&nbsp;Eric</td><td style=\"white-space:nowrap\"></td><td style=\"white-space:nowrap\"></td><td style=\"white-space:nowrap\"></td><td style=\"white-space:nowrap\"></td><td style=\"white-space:nowrap\"></td><td style=\"white-space:nowrap\">Pr\\xe9sent</td><td style=\"white-space:nowrap\"></td><td style=\"white-space:nowrap\"></td><td>181460</td><td style=\"white-space:nowrap\"></td></tr><tr><td style=\"white-space:nowrap\">Monsieur</td><td style=\"white-space:nowrap\">L\\xfctolf&nbsp;Lukas</td><td style=\"white-space:nowrap\"></td><td style=\"white-space:nowrap\"></td><td style=\"white-space:nowrap\"></td><td style=\"white-space:nowrap\"></td><td style=\"white-space:nowrap\"></td><td style=\"white-space:nowrap\">Pr\\xe9sent</td><td style=\"white-space:nowrap\"></td><td style=\"white-space:nowrap\"></td><td>181298</td><td style=\"white-space:nowrap\"></td></tr><tr><td style=\"white-space:nowrap\">Monsieur</td><td style=\"white-space:nowrap\">Luginbuhl&nbsp;Yo\\xebl</td><td style=\"white-space:nowrap\"></td><td style=\"white-space:nowrap\"></td><td style=\"white-space:nowrap\"></td><td style=\"white-space:nowrap\"></td><td style=\"white-space:nowrap\"></td><td style=\"white-space:nowrap\">Pr\\xe9sent</td><td style=\"white-space:nowrap\"></td><td style=\"white-space:nowrap\"></td><td>181513</td><td style=\"white-space:nowrap\"></td></tr><tr><td style=\"white-space:nowrap\">Monsieur</td><td style=\"white-space:nowrap\">Luisier&nbsp;Ga\\xebl</td><td style=\"white-space:nowrap\"></td><td style=\"white-space:nowrap\"></td><td style=\"white-space:nowrap\"></td><td style=\"white-space:nowrap\"></td><td style=\"white-space:nowrap\"></td><td style=\"white-space:nowrap\">Pr\\xe9sent</td><td style=\"white-space:nowrap\"></td><td style=\"white-space:nowrap\"></td><td>175478</td><td style=\"white-space:nowrap\"></td></tr><tr><td style=\"white-space:nowrap\">Monsieur</td><td style=\"white-space:nowrap\">Malguine&nbsp;Dimitri</td><td style=\"white-space:nowrap\"></td><td style=\"white-space:nowrap\"></td><td style=\"white-space:nowrap\"></td><td style=\"white-space:nowrap\"></td><td style=\"white-space:nowrap\"></td><td style=\"white-space:nowrap\">Pr\\xe9sent</td><td style=\"white-space:nowrap\"></td><td style=\"white-space:nowrap\"></td><td>176459</td><td style=\"white-space:nowrap\"></td></tr><tr><td style=\"white-space:nowrap\">Monsieur</td><td style=\"white-space:nowrap\">Manixab&nbsp;Phonepheth Billy</td><td style=\"white-space:nowrap\"></td><td style=\"white-space:nowrap\"></td><td style=\"white-space:nowrap\"></td><td style=\"white-space:nowrap\"></td><td style=\"white-space:nowrap\"></td><td style=\"white-space:nowrap\">Pr\\xe9sent</td><td style=\"white-space:nowrap\"></td><td style=\"white-space:nowrap\"></td><td>175014</td><td style=\"white-space:nowrap\"></td></tr><tr><td style=\"white-space:nowrap\">Monsieur</td><td style=\"white-space:nowrap\">Maret&nbsp;Gabriel</td><td style=\"white-space:nowrap\"></td><td style=\"white-space:nowrap\"></td><td style=\"white-space:nowrap\"></td><td style=\"white-space:nowrap\"></td><td style=\"white-space:nowrap\"></td><td style=\"white-space:nowrap\">Pr\\xe9sent</td><td style=\"white-space:nowrap\"></td><td style=\"white-space:nowrap\"></td><td>181514</td><td style=\"white-space:nowrap\"></td></tr><tr><td style=\"white-space:nowrap\">Monsieur</td><td style=\"white-space:nowrap\">Marques Madeira&nbsp;Hernani</td><td style=\"white-space:nowrap\"></td><td style=\"white-space:nowrap\"></td><td style=\"white-space:nowrap\"></td><td style=\"white-space:nowrap\"></td><td style=\"white-space:nowrap\"></td><td style=\"white-space:nowrap\">Pr\\xe9sent</td><td style=\"white-space:nowrap\"></td><td style=\"white-space:nowrap\"></td><td>179355</td><td style=\"white-space:nowrap\"></td></tr><tr><td style=\"white-space:nowrap\">Monsieur</td><td style=\"white-space:nowrap\">Martins&nbsp;Acacio</td><td style=\"white-space:nowrap\"></td><td style=\"white-space:nowrap\"></td><td style=\"white-space:nowrap\"></td><td style=\"white-space:nowrap\"></td><td style=\"white-space:nowrap\"></td><td style=\"white-space:nowrap\">Pr\\xe9sent</td><td style=\"white-space:nowrap\"></td><td style=\"white-space:nowrap\"></td><td>181076</td><td style=\"white-space:nowrap\"></td></tr><tr><td style=\"white-space:nowrap\">Monsieur</td><td style=\"white-space:nowrap\">Minetti&nbsp;Andrea</td><td style=\"white-space:nowrap\"></td><td style=\"white-space:nowrap\"></td><td style=\"white-space:nowrap\"></td><td style=\"white-space:nowrap\"></td><td style=\"white-space:nowrap\"></td><td style=\"white-space:nowrap\">Pr\\xe9sent</td><td style=\"white-space:nowrap\"></td><td style=\"white-space:nowrap\"></td><td>175576</td><td style=\"white-space:nowrap\"></td></tr><tr><td style=\"white-space:nowrap\">Monsieur</td><td style=\"white-space:nowrap\">Miraglia Franco de Carvalho&nbsp;Pedro</td><td style=\"white-space:nowrap\"></td><td style=\"white-space:nowrap\"></td><td style=\"white-space:nowrap\"></td><td style=\"white-space:nowrap\"></td><td style=\"white-space:nowrap\"></td><td style=\"white-space:nowrap\">Pr\\xe9sent</td><td style=\"white-space:nowrap\"></td><td style=\"white-space:nowrap\"></td><td>181115</td><td style=\"white-space:nowrap\"></td></tr><tr><td style=\"white-space:nowrap\">Monsieur</td><td style=\"white-space:nowrap\">Mirza&nbsp;Elias</td><td style=\"white-space:nowrap\"></td><td style=\"white-space:nowrap\"></td><td style=\"white-space:nowrap\"></td><td style=\"white-space:nowrap\"></td><td style=\"white-space:nowrap\"></td><td style=\"white-space:nowrap\">Pr\\xe9sent</td><td style=\"white-space:nowrap\"></td><td style=\"white-space:nowrap\"></td><td>180094</td><td style=\"white-space:nowrap\"></td></tr><tr><td style=\"white-space:nowrap\">Monsieur</td><td style=\"white-space:nowrap\">Moudry&nbsp;Dorje</td><td style=\"white-space:nowrap\"></td><td style=\"white-space:nowrap\"></td><td style=\"white-space:nowrap\"></td><td style=\"white-space:nowrap\"></td><td style=\"white-space:nowrap\"></td><td style=\"white-space:nowrap\">Pr\\xe9sent</td><td style=\"white-space:nowrap\"></td><td style=\"white-space:nowrap\"></td><td>180853</td><td style=\"white-space:nowrap\"></td></tr><tr><td style=\"white-space:nowrap\">Monsieur</td><td style=\"white-space:nowrap\">Neuraz&nbsp;Arnaud</td><td style=\"white-space:nowrap\"></td><td style=\"white-space:nowrap\"></td><td style=\"white-space:nowrap\"></td><td style=\"white-space:nowrap\"></td><td style=\"white-space:nowrap\"></td><td style=\"white-space:nowrap\">Pr\\xe9sent</td><td style=\"white-space:nowrap\"></td><td style=\"white-space:nowrap\"></td><td>178726</td><td style=\"white-space:nowrap\"></td></tr><tr><td style=\"white-space:nowrap\">Monsieur</td><td style=\"white-space:nowrap\">N\\xf6tzli&nbsp;Andres</td><td style=\"white-space:nowrap\"></td><td style=\"white-space:nowrap\"></td><td style=\"white-space:nowrap\"></td><td style=\"white-space:nowrap\"></td><td style=\"white-space:nowrap\"></td><td style=\"white-space:nowrap\">Pr\\xe9sent</td><td style=\"white-space:nowrap\"></td><td style=\"white-space:nowrap\"></td><td>181017</td><td style=\"white-space:nowrap\"></td></tr><tr><td style=\"white-space:nowrap\">Monsieur</td><td style=\"white-space:nowrap\">Nydegger&nbsp;Jonathan</td><td style=\"white-space:nowrap\"></td><td style=\"white-space:nowrap\"></td><td style=\"white-space:nowrap\"></td><td style=\"white-space:nowrap\"></td><td style=\"white-space:nowrap\"></td><td style=\"white-space:nowrap\">Pr\\xe9sent</td><td style=\"white-space:nowrap\"></td><td style=\"white-space:nowrap\"></td><td>175031</td><td style=\"white-space:nowrap\"></td></tr><tr><td style=\"white-space:nowrap\">Monsieur</td><td style=\"white-space:nowrap\">Obrist&nbsp;Damien</td><td style=\"white-space:nowrap\"></td><td style=\"white-space:nowrap\"></td><td style=\"white-space:nowrap\"></td><td style=\"white-space:nowrap\"></td><td style=\"white-space:nowrap\"></td><td style=\"white-space:nowrap\">Pr\\xe9sent</td><td style=\"white-space:nowrap\"></td><td style=\"white-space:nowrap\"></td><td>179194</td><td style=\"white-space:nowrap\"></td></tr><tr><td style=\"white-space:nowrap\">Monsieur</td><td style=\"white-space:nowrap\">Pascalis&nbsp;Laurent</td><td style=\"white-space:nowrap\"></td><td style=\"white-space:nowrap\"></td><td style=\"white-space:nowrap\"></td><td style=\"white-space:nowrap\"></td><td style=\"white-space:nowrap\"></td><td style=\"white-space:nowrap\">Pr\\xe9sent</td><td style=\"white-space:nowrap\"></td><td style=\"white-space:nowrap\"></td><td>175754</td><td style=\"white-space:nowrap\"></td></tr><tr><td style=\"white-space:nowrap\">Monsieur</td><td style=\"white-space:nowrap\">Pittet&nbsp;C\\xe9dric</td><td style=\"white-space:nowrap\"></td><td style=\"white-space:nowrap\"></td><td style=\"white-space:nowrap\"></td><td style=\"white-space:nowrap\"></td><td style=\"white-space:nowrap\"></td><td style=\"white-space:nowrap\">Pr\\xe9sent</td><td style=\"white-space:nowrap\"></td><td style=\"white-space:nowrap\"></td><td>179980</td><td style=\"white-space:nowrap\"></td></tr><tr><td style=\"white-space:nowrap\">Madame</td><td style=\"white-space:nowrap\">Portmann&nbsp;Jo\\xeblle</td><td style=\"white-space:nowrap\"></td><td style=\"white-space:nowrap\"></td><td style=\"white-space:nowrap\"></td><td style=\"white-space:nowrap\"></td><td style=\"white-space:nowrap\"></td><td style=\"white-space:nowrap\">Pr\\xe9sent</td><td style=\"white-space:nowrap\"></td><td style=\"white-space:nowrap\"></td><td>179988</td><td style=\"white-space:nowrap\"></td></tr><tr><td style=\"white-space:nowrap\">Monsieur</td><td style=\"white-space:nowrap\">Radice&nbsp;Damiano</td><td style=\"white-space:nowrap\"></td><td style=\"white-space:nowrap\"></td><td style=\"white-space:nowrap\"></td><td style=\"white-space:nowrap\"></td><td style=\"white-space:nowrap\"></td><td style=\"white-space:nowrap\">Pr\\xe9sent</td><td style=\"white-space:nowrap\"></td><td style=\"white-space:nowrap\"></td><td>174187</td><td style=\"white-space:nowrap\"></td></tr><tr><td style=\"white-space:nowrap\">Monsieur</td><td style=\"white-space:nowrap\">Restani&nbsp;St\\xe9phane</td><td style=\"white-space:nowrap\"></td><td style=\"white-space:nowrap\"></td><td style=\"white-space:nowrap\"></td><td style=\"white-space:nowrap\"></td><td style=\"white-space:nowrap\"></td><td style=\"white-space:nowrap\">Pr\\xe9sent</td><td style=\"white-space:nowrap\"></td><td style=\"white-space:nowrap\"></td><td>180959</td><td style=\"white-space:nowrap\"></td></tr><tr><td style=\"white-space:nowrap\">Monsieur</td><td style=\"white-space:nowrap\">Richter&nbsp;Arnaud</td><td style=\"white-space:nowrap\"></td><td style=\"white-space:nowrap\"></td><td style=\"white-space:nowrap\"></td><td style=\"white-space:nowrap\"></td><td style=\"white-space:nowrap\"></td><td style=\"white-space:nowrap\">Pr\\xe9sent</td><td style=\"white-space:nowrap\"></td><td style=\"white-space:nowrap\"></td><td>171195</td><td style=\"white-space:nowrap\"></td></tr><tr><td style=\"white-space:nowrap\">Monsieur</td><td style=\"white-space:nowrap\">Roulet&nbsp;Ludovic</td><td style=\"white-space:nowrap\"></td><td style=\"white-space:nowrap\"></td><td style=\"white-space:nowrap\"></td><td style=\"white-space:nowrap\"></td><td style=\"white-space:nowrap\"></td><td style=\"white-space:nowrap\">Pr\\xe9sent</td><td style=\"white-space:nowrap\"></td><td style=\"white-space:nowrap\"></td><td>178620</td><td style=\"white-space:nowrap\"></td></tr><tr><td style=\"white-space:nowrap\">Monsieur</td><td style=\"white-space:nowrap\">Rudaz&nbsp;Fabien</td><td style=\"white-space:nowrap\"></td><td style=\"white-space:nowrap\"></td><td style=\"white-space:nowrap\"></td><td style=\"white-space:nowrap\"></td><td style=\"white-space:nowrap\"></td><td style=\"white-space:nowrap\">Pr\\xe9sent</td><td style=\"white-space:nowrap\"></td><td style=\"white-space:nowrap\"></td><td>180979</td><td style=\"white-space:nowrap\"></td></tr><tr><td style=\"white-space:nowrap\">Monsieur</td><td style=\"white-space:nowrap\">Ruppen&nbsp;Xavier</td><td style=\"white-space:nowrap\"></td><td style=\"white-space:nowrap\"></td><td style=\"white-space:nowrap\"></td><td style=\"white-space:nowrap\"></td><td style=\"white-space:nowrap\"></td><td style=\"white-space:nowrap\">Pr\\xe9sent</td><td style=\"white-space:nowrap\"></td><td style=\"white-space:nowrap\"></td><td>180980</td><td style=\"white-space:nowrap\"></td></tr><tr><td style=\"white-space:nowrap\">Monsieur</td><td style=\"white-space:nowrap\">Sch\\xe4deli&nbsp;Andreas</td><td style=\"white-space:nowrap\"></td><td style=\"white-space:nowrap\"></td><td style=\"white-space:nowrap\"></td><td style=\"white-space:nowrap\"></td><td style=\"white-space:nowrap\"></td><td style=\"white-space:nowrap\">Pr\\xe9sent</td><td style=\"white-space:nowrap\"></td><td style=\"white-space:nowrap\"></td><td>178948</td><td style=\"white-space:nowrap\"></td></tr><tr><td style=\"white-space:nowrap\">Monsieur</td><td style=\"white-space:nowrap\">Scheiben&nbsp;Pascal</td><td style=\"white-space:nowrap\"></td><td style=\"white-space:nowrap\"></td><td style=\"white-space:nowrap\"></td><td style=\"white-space:nowrap\"></td><td style=\"white-space:nowrap\"></td><td style=\"white-space:nowrap\">Pr\\xe9sent</td><td style=\"white-space:nowrap\"></td><td style=\"white-space:nowrap\"></td><td>169795</td><td style=\"white-space:nowrap\"></td></tr><tr><td style=\"white-space:nowrap\">Monsieur</td><td style=\"white-space:nowrap\">Schwery&nbsp;Thomas</td><td style=\"white-space:nowrap\"></td><td style=\"white-space:nowrap\"></td><td style=\"white-space:nowrap\"></td><td style=\"white-space:nowrap\"></td><td style=\"white-space:nowrap\"></td><td style=\"white-space:nowrap\">Pr\\xe9sent</td><td style=\"white-space:nowrap\"></td><td style=\"white-space:nowrap\"></td><td>178684</td><td style=\"white-space:nowrap\"></td></tr><tr><td style=\"white-space:nowrap\">Monsieur</td><td style=\"white-space:nowrap\">Sondag&nbsp;Pierre-Antoine</td><td style=\"white-space:nowrap\"></td><td style=\"white-space:nowrap\"></td><td style=\"white-space:nowrap\"></td><td style=\"white-space:nowrap\"></td><td style=\"white-space:nowrap\"></td><td style=\"white-space:nowrap\">Pr\\xe9sent</td><td style=\"white-space:nowrap\"></td><td style=\"white-space:nowrap\"></td><td>180241</td><td style=\"white-space:nowrap\"></td></tr><tr><td style=\"white-space:nowrap\">Monsieur</td><td style=\"white-space:nowrap\">Tacchini&nbsp;Pierre</td><td style=\"white-space:nowrap\"></td><td style=\"white-space:nowrap\"></td><td style=\"white-space:nowrap\"></td><td style=\"white-space:nowrap\"></td><td style=\"white-space:nowrap\"></td><td style=\"white-space:nowrap\">Pr\\xe9sent</td><td style=\"white-space:nowrap\"></td><td style=\"white-space:nowrap\"></td><td>180982</td><td style=\"white-space:nowrap\"></td></tr><tr><td style=\"white-space:nowrap\">Monsieur</td><td style=\"white-space:nowrap\">Thambimuthu&nbsp;Karan</td><td style=\"white-space:nowrap\"></td><td style=\"white-space:nowrap\"></td><td style=\"white-space:nowrap\"></td><td style=\"white-space:nowrap\"></td><td style=\"white-space:nowrap\"></td><td style=\"white-space:nowrap\">Pr\\xe9sent</td><td style=\"white-space:nowrap\"></td><td style=\"white-space:nowrap\"></td><td>181291</td><td style=\"white-space:nowrap\"></td></tr><tr><td style=\"white-space:nowrap\">Monsieur</td><td style=\"white-space:nowrap\">Uberti&nbsp;Quentin</td><td style=\"white-space:nowrap\"></td><td style=\"white-space:nowrap\"></td><td style=\"white-space:nowrap\"></td><td style=\"white-space:nowrap\"></td><td style=\"white-space:nowrap\"></td><td style=\"white-space:nowrap\">Pr\\xe9sent</td><td style=\"white-space:nowrap\"></td><td style=\"white-space:nowrap\"></td><td>175280</td><td style=\"white-space:nowrap\"></td></tr><tr><td style=\"white-space:nowrap\">Monsieur</td><td style=\"white-space:nowrap\">van Singer&nbsp;Mathias</td><td style=\"white-space:nowrap\"></td><td style=\"white-space:nowrap\"></td><td style=\"white-space:nowrap\"></td><td style=\"white-space:nowrap\"></td><td style=\"white-space:nowrap\"></td><td style=\"white-space:nowrap\">Pr\\xe9sent</td><td style=\"white-space:nowrap\"></td><td style=\"white-space:nowrap\"></td><td>179053</td><td style=\"white-space:nowrap\"></td></tr><tr><td style=\"white-space:nowrap\">Monsieur</td><td style=\"white-space:nowrap\">Vautherin&nbsp;Jonas</td><td style=\"white-space:nowrap\"></td><td style=\"white-space:nowrap\"></td><td style=\"white-space:nowrap\"></td><td style=\"white-space:nowrap\"></td><td style=\"white-space:nowrap\"></td><td style=\"white-space:nowrap\">Pr\\xe9sent</td><td style=\"white-space:nowrap\"></td><td style=\"white-space:nowrap\"></td><td>180854</td><td style=\"white-space:nowrap\"></td></tr><tr><td style=\"white-space:nowrap\">Monsieur</td><td style=\"white-space:nowrap\">Villavicencio&nbsp;Omar</td><td style=\"white-space:nowrap\"></td><td style=\"white-space:nowrap\"></td><td style=\"white-space:nowrap\"></td><td style=\"white-space:nowrap\"></td><td style=\"white-space:nowrap\"></td><td style=\"white-space:nowrap\">Pr\\xe9sent</td><td style=\"white-space:nowrap\"></td><td style=\"white-space:nowrap\"></td><td>171568</td><td style=\"white-space:nowrap\"></td></tr><tr><td style=\"white-space:nowrap\">Monsieur</td><td style=\"white-space:nowrap\">Vlassov&nbsp;Nikita</td><td style=\"white-space:nowrap\"></td><td style=\"white-space:nowrap\"></td><td style=\"white-space:nowrap\"></td><td style=\"white-space:nowrap\"></td><td style=\"white-space:nowrap\"></td><td style=\"white-space:nowrap\">Pr\\xe9sent</td><td style=\"white-space:nowrap\"></td><td style=\"white-space:nowrap\"></td><td>174120</td><td style=\"white-space:nowrap\"></td></tr><tr><td style=\"white-space:nowrap\">Monsieur</td><td style=\"white-space:nowrap\">Vo&nbsp;Nhu-Ho\\xe0i Robert</td><td style=\"white-space:nowrap\"></td><td style=\"white-space:nowrap\"></td><td style=\"white-space:nowrap\"></td><td style=\"white-space:nowrap\"></td><td style=\"white-space:nowrap\"></td><td style=\"white-space:nowrap\">Pr\\xe9sent</td><td style=\"white-space:nowrap\"></td><td style=\"white-space:nowrap\"></td><td>180185</td><td style=\"white-space:nowrap\"></td></tr><tr><td style=\"white-space:nowrap\">Monsieur</td><td style=\"white-space:nowrap\">Wicht&nbsp;Mathieu</td><td style=\"white-space:nowrap\"></td><td style=\"white-space:nowrap\"></td><td style=\"white-space:nowrap\"></td><td style=\"white-space:nowrap\"></td><td style=\"white-space:nowrap\"></td><td style=\"white-space:nowrap\">Pr\\xe9sent</td><td style=\"white-space:nowrap\"></td><td style=\"white-space:nowrap\"></td><td>175834</td><td style=\"white-space:nowrap\"></td></tr><tr><td style=\"white-space:nowrap\">Madame</td><td style=\"white-space:nowrap\">W\\xfcthrich&nbsp;Nathalie</td><td style=\"white-space:nowrap\"></td><td style=\"white-space:nowrap\"></td><td style=\"white-space:nowrap\"></td><td style=\"white-space:nowrap\"></td><td style=\"white-space:nowrap\"></td><td style=\"white-space:nowrap\">Pr\\xe9sent</td><td style=\"white-space:nowrap\"></td><td style=\"white-space:nowrap\"></td><td>174340</td><td style=\"white-space:nowrap\"></td></tr><tr><td style=\"white-space:nowrap\">Monsieur</td><td style=\"white-space:nowrap\">Zoller&nbsp;Roman</td><td style=\"white-space:nowrap\"></td><td style=\"white-space:nowrap\"></td><td style=\"white-space:nowrap\"></td><td style=\"white-space:nowrap\"></td><td style=\"white-space:nowrap\"></td><td style=\"white-space:nowrap\">Pr\\xe9sent</td><td style=\"white-space:nowrap\"></td><td style=\"white-space:nowrap\"></td><td>178682</td><td style=\"white-space:nowrap\"></td></tr></table></body></html>\\n<!-- OpenXml:0.01s  agent ctrl:0.01s  xml:0.47s  xsl extr&stylesheet:0.00s  xsl after parsing:0.00s  xsl ctrl data:0.01s  transform 2:0.08s  xsl process:0.00s  -->'"
      ]
     },
     "execution_count": 67,
     "metadata": {},
     "output_type": "execute_result"
    }
   ],
   "source": [
    "r2.text"
   ]
  },
  {
   "cell_type": "code",
   "execution_count": null,
   "metadata": {
    "collapsed": true
   },
   "outputs": [],
   "source": []
  }
 ],
 "metadata": {
  "anaconda-cloud": {},
  "kernelspec": {
   "display_name": "Python [conda root]",
   "language": "python",
   "name": "conda-root-py"
  },
  "language_info": {
   "codemirror_mode": {
    "name": "ipython",
    "version": 2
   },
   "file_extension": ".py",
   "mimetype": "text/x-python",
   "name": "python",
   "nbconvert_exporter": "python",
   "pygments_lexer": "ipython2",
   "version": "2.7.12"
  }
 },
 "nbformat": 4,
 "nbformat_minor": 1
}
