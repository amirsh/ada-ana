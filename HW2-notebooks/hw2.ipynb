{
 "cells": [
  {
   "cell_type": "markdown",
   "metadata": {},
   "source": [
    "# HW2\n",
    "\n",
    "We first go over the data extraction part for both exercises. Then we show how we analyze the extracted data.\n",
    "\n",
    "## Data Extraction\n",
    "\n",
    "The following code shows the import statements as well as the links shared between data extraction for both bachelor  and master students:   "
   ]
  },
  {
   "cell_type": "code",
   "execution_count": 1,
   "metadata": {
    "collapsed": true
   },
   "outputs": [],
   "source": [
    "import numpy as np\n",
    "import pandas as pd\n",
    "import sys\n",
    "from bs4 import BeautifulSoup as BSoup\n",
    "import requests\n",
    "formLink = \"http://isa.epfl.ch/imoniteur_ISAP/!GEDPUBLICREPORTS.filter?ww_i_reportModel=133685247\"\n",
    "showLink = \"http://isa.epfl.ch/imoniteur_ISAP/!GEDPUBLICREPORTS.html?ww_x_GPS=-1&ww_i_reportModel=133685247\"\n",
    "r = requests.get(formLink)\n",
    "soup = BSoup(r.text, \"lxml\")\n",
    "# The following function generates the link to the corresponding HTML page for a particular field of study, \n",
    "# academic year, and semester.\n",
    "def showLinkGen(htmlP, htmlV, fieldP, fieldV, yearP, yearV, semP, semV):\n",
    "  return \"{}&{}={}&{}={}&{}={}&{}={}\".format(showLink, htmlP, htmlV, fieldP, fieldV, yearP, yearV, semP, semV)\n",
    "selectFields = soup.find_all(\"select\")\n",
    "infoField=selectFields[0].find(\"option\", text=\"Informatique\")[\"value\"]\n",
    "infoFieldParam=selectFields[0][\"name\"]\n",
    "semParam=selectFields[2][\"name\"]\n",
    "allYears = [y[\"value\"] for y in selectFields[1].find_all(\"option\")[1:]]\n",
    "yearParam = selectFields[1][\"name\"]\n",
    "htmlradiobutton=soup.find(\"input\", type=\"radio\")\n",
    "# For a given semester and year, returns the HTML page containing the list of the students' information.\n",
    "def get_html(sem, year):\n",
    "    link = showLinkGen(htmlradiobutton[\"name\"], htmlradiobutton[\"value\"], infoFieldParam, infoField, yearParam, \n",
    "                 year, semParam, sem)\n",
    "    return requests.get(link)"
   ]
  },
  {
   "cell_type": "markdown",
   "metadata": {},
   "source": [
    "### Bachelor Students' Data Extraction\n",
    "\n",
    "Assumption\n",
    "----------\n",
    "We assume that all bachelor students finish in their 6th semester -- there is no bachelor student who finishes during 5th semester.\n",
    "\n",
    "The following code extracts the parameters which should be passed to the previous function (`showLinkGen`) for all bachelor students of Computer Science."
   ]
  },
  {
   "cell_type": "code",
   "execution_count": 2,
   "metadata": {
    "collapsed": false
   },
   "outputs": [],
   "source": [
    "bsSem1=selectFields[2].find(\"option\", text=\"Bachelor semestre 1\")[\"value\"]\n",
    "bsSem6=selectFields[2].find(\"option\", text=\"Bachelor semestre 6\")[\"value\"]"
   ]
  },
  {
   "cell_type": "markdown",
   "metadata": {},
   "source": [
    "The following function converts an HTML page containing the relevant part of the list of the students' information to a DataFrame."
   ]
  },
  {
   "cell_type": "code",
   "execution_count": 3,
   "metadata": {
    "collapsed": false
   },
   "outputs": [],
   "source": [
    "def get_bs_dataframe(request_link):\n",
    "  soup2 = BSoup(request_link.text, \"lxml\")\n",
    "  elems=soup2.find_all(\"tr\")[2:]\n",
    "  titleinfo = soup2.find(\"font\").text.split(', ')\n",
    "  semester=titleinfo[2]\n",
    "  semester=int(semester[(len(semester)-2):])\n",
    "  year=titleinfo[1]\n",
    "  all_data=[]\n",
    "  for elem in elems:\n",
    "    items=elem.find_all(\"td\")\n",
    "    gender = \"M\" if (items[0].text == \"Monsieur\") else \"F\"\n",
    "    sciper = int(items[10].text)\n",
    "    all_data.append({\"Scipper\": sciper, \"Sex\": gender, \"Year\": year, \"Semester\": semester})\n",
    "  return pd.DataFrame(all_data)"
   ]
  },
  {
   "cell_type": "markdown",
   "metadata": {},
   "source": [
    "The following function uses the previously defined functions and returns an aggregated DataFrame of all bachelor students' information."
   ]
  },
  {
   "cell_type": "code",
   "execution_count": 4,
   "metadata": {
    "collapsed": false
   },
   "outputs": [],
   "source": [
    "def get_bs_alldata():\n",
    "  all_data = []\n",
    "  for bsSem in [bsSem1, bsSem6]:\n",
    "    for year in allYears:\n",
    "        all_data.append(get_bs_dataframe(get_html(bsSem, year)))\n",
    "  return pd.concat(all_data)"
   ]
  },
  {
   "cell_type": "markdown",
   "metadata": {},
   "source": [
    "### Master Students' Data Extraction\n",
    "\n",
    "Assumption\n",
    "----------\n",
    "Master students are considered to finish their studies only if they are registered for at least one master project.\n",
    "\n",
    "The following parameters are used for generating the HTML link for all master students."
   ]
  },
  {
   "cell_type": "code",
   "execution_count": 5,
   "metadata": {
    "collapsed": false
   },
   "outputs": [],
   "source": [
    "msSem1_text=\"Master semestre 1\"\n",
    "msSemPF_text=\"Projet Master automne\"\n",
    "msSemPS_text=\"Projet Master printemps\"\n",
    "msSem1=selectFields[2].find(\"option\", text=msSem1_text)[\"value\"]\n",
    "msSemPF=selectFields[2].find(\"option\", text=msSemPF_text)[\"value\"]\n",
    "msSemPS=selectFields[2].find(\"option\", text=msSemPS_text)[\"value\"]"
   ]
  },
  {
   "cell_type": "markdown",
   "metadata": {},
   "source": [
    "The following function converts the given HTML page to a DataFrame containing the relevant information about a master student."
   ]
  },
  {
   "cell_type": "code",
   "execution_count": 6,
   "metadata": {
    "collapsed": false
   },
   "outputs": [],
   "source": [
    "def get_ms_dataframe(request_link):\n",
    "  soup2 = BSoup(request_link.text, \"lxml\")\n",
    "  elems=soup2.find_all(\"tr\")[2:]\n",
    "  titleinfo = soup2.find(\"font\")\n",
    "  if(titleinfo is None):\n",
    "      return pd.DataFrame([])\n",
    "  else:\n",
    "      titleinfo = titleinfo.text.split(', ')\n",
    "      semester=titleinfo[2]\n",
    "      semester=1 if semester==msSem1_text else (2 if semester==msSemPF_text else 3)\n",
    "      year=titleinfo[1]\n",
    "      all_data=[]\n",
    "      for elem in elems:\n",
    "        items=elem.find_all(\"td\")\n",
    "        gender = \"M\" if (items[0].text == \"Monsieur\") else \"F\"\n",
    "        sciper = int(items[10].text)\n",
    "        spec = items[4].text <> \"\"\n",
    "        minor = items[6].text <> \"\"\n",
    "        all_data.append({\"Scipper\": sciper, \"Sex\": gender, \"Year\": year, \"Semester\": semester,\n",
    "                        \"Minor\": minor, \"Specialization\": spec})\n",
    "      return pd.DataFrame(all_data)"
   ]
  },
  {
   "cell_type": "markdown",
   "metadata": {},
   "source": [
    "The following function aggregates the DataFrames for all master students. "
   ]
  },
  {
   "cell_type": "code",
   "execution_count": 8,
   "metadata": {
    "collapsed": false
   },
   "outputs": [],
   "source": [
    "def get_ms_alldata():\n",
    "  all_data = []\n",
    "  for sem in [msSem1, msSemPF, msSemPS]:\n",
    "    for year in allYears:\n",
    "        all_data.append(get_ms_dataframe(get_html(sem, year)))\n",
    "  return pd.concat(all_data)"
   ]
  },
  {
   "cell_type": "markdown",
   "metadata": {},
   "source": [
    "## Data Analysis\n",
    "\n",
    "### Exercise 1\n",
    "\n",
    "The following line assigns the extracted DataFrame to `bs_data`."
   ]
  },
  {
   "cell_type": "code",
   "execution_count": 10,
   "metadata": {
    "collapsed": false
   },
   "outputs": [
    {
     "data": {
      "text/html": [
       "<div>\n",
       "<table border=\"1\" class=\"dataframe\">\n",
       "  <thead>\n",
       "    <tr style=\"text-align: right;\">\n",
       "      <th></th>\n",
       "      <th>Scipper</th>\n",
       "      <th>Semester</th>\n",
       "      <th>Sex</th>\n",
       "      <th>Year</th>\n",
       "    </tr>\n",
       "  </thead>\n",
       "  <tbody>\n",
       "    <tr>\n",
       "      <th>0</th>\n",
       "      <td>235688</td>\n",
       "      <td>1</td>\n",
       "      <td>M</td>\n",
       "      <td>2016-2017</td>\n",
       "    </tr>\n",
       "    <tr>\n",
       "      <th>1</th>\n",
       "      <td>274015</td>\n",
       "      <td>1</td>\n",
       "      <td>M</td>\n",
       "      <td>2016-2017</td>\n",
       "    </tr>\n",
       "    <tr>\n",
       "      <th>2</th>\n",
       "      <td>268410</td>\n",
       "      <td>1</td>\n",
       "      <td>F</td>\n",
       "      <td>2016-2017</td>\n",
       "    </tr>\n",
       "    <tr>\n",
       "      <th>3</th>\n",
       "      <td>271464</td>\n",
       "      <td>1</td>\n",
       "      <td>M</td>\n",
       "      <td>2016-2017</td>\n",
       "    </tr>\n",
       "    <tr>\n",
       "      <th>4</th>\n",
       "      <td>274518</td>\n",
       "      <td>1</td>\n",
       "      <td>M</td>\n",
       "      <td>2016-2017</td>\n",
       "    </tr>\n",
       "  </tbody>\n",
       "</table>\n",
       "</div>"
      ],
      "text/plain": [
       "   Scipper  Semester Sex       Year\n",
       "0   235688         1   M  2016-2017\n",
       "1   274015         1   M  2016-2017\n",
       "2   268410         1   F  2016-2017\n",
       "3   271464         1   M  2016-2017\n",
       "4   274518         1   M  2016-2017"
      ]
     },
     "execution_count": 10,
     "metadata": {},
     "output_type": "execute_result"
    }
   ],
   "source": [
    "bs_data=get_bs_alldata()\n",
    "bs_data.head()"
   ]
  },
  {
   "cell_type": "markdown",
   "metadata": {},
   "source": [
    "While the extracted DataFrames are concatenated the indexing information is corrupted. The following line fixes this problem."
   ]
  },
  {
   "cell_type": "code",
   "execution_count": 12,
   "metadata": {
    "collapsed": true
   },
   "outputs": [],
   "source": [
    "bs_data.reset_index(None,drop=True,inplace=True)"
   ]
  },
  {
   "cell_type": "markdown",
   "metadata": {},
   "source": [
    "Then we change the year information in-place based on the fact that the semester is starting in which year:"
   ]
  },
  {
   "cell_type": "code",
   "execution_count": 13,
   "metadata": {
    "collapsed": false
   },
   "outputs": [
    {
     "data": {
      "text/html": [
       "<div>\n",
       "<table border=\"1\" class=\"dataframe\">\n",
       "  <thead>\n",
       "    <tr style=\"text-align: right;\">\n",
       "      <th></th>\n",
       "      <th>Scipper</th>\n",
       "      <th>Semester</th>\n",
       "      <th>Sex</th>\n",
       "      <th>Year</th>\n",
       "    </tr>\n",
       "  </thead>\n",
       "  <tbody>\n",
       "    <tr>\n",
       "      <th>0</th>\n",
       "      <td>235688</td>\n",
       "      <td>1</td>\n",
       "      <td>M</td>\n",
       "      <td>2016</td>\n",
       "    </tr>\n",
       "    <tr>\n",
       "      <th>1</th>\n",
       "      <td>274015</td>\n",
       "      <td>1</td>\n",
       "      <td>M</td>\n",
       "      <td>2016</td>\n",
       "    </tr>\n",
       "    <tr>\n",
       "      <th>2</th>\n",
       "      <td>268410</td>\n",
       "      <td>1</td>\n",
       "      <td>F</td>\n",
       "      <td>2016</td>\n",
       "    </tr>\n",
       "    <tr>\n",
       "      <th>3</th>\n",
       "      <td>271464</td>\n",
       "      <td>1</td>\n",
       "      <td>M</td>\n",
       "      <td>2016</td>\n",
       "    </tr>\n",
       "    <tr>\n",
       "      <th>4</th>\n",
       "      <td>274518</td>\n",
       "      <td>1</td>\n",
       "      <td>M</td>\n",
       "      <td>2016</td>\n",
       "    </tr>\n",
       "  </tbody>\n",
       "</table>\n",
       "</div>"
      ],
      "text/plain": [
       "   Scipper  Semester Sex  Year\n",
       "0   235688         1   M  2016\n",
       "1   274015         1   M  2016\n",
       "2   268410         1   F  2016\n",
       "3   271464         1   M  2016\n",
       "4   274518         1   M  2016"
      ]
     },
     "execution_count": 13,
     "metadata": {},
     "output_type": "execute_result"
    }
   ],
   "source": [
    "for i in range(bs_data.shape[0]):\n",
    "    if (bs_data.loc[i,'Semester'] == 1):\n",
    "        bs_data.loc[i,'Year'] = bs_data.loc[i,'Year'][0:4]\n",
    "    else:\n",
    "        bs_data.loc[i,'Year'] = bs_data.loc[i,'Year'][5:9]\n",
    "\n",
    "bs_data['Year'] = bs_data['Year'].astype('int')\n",
    "bs_data.head()"
   ]
  },
  {
   "cell_type": "markdown",
   "metadata": {},
   "source": [
    "Among all bachelor students we have to consider only those who finish their studies. Based on our previously mentioned assumption, we should keep only the ones who are registered for both semester 1 and semester 6.\n",
    "We achieve this in the following three steps. First, we filter the students who registered for semester 1. In the case that a student is registered twice for semester 1, we only keep the first occurence:\n"
   ]
  },
  {
   "cell_type": "code",
   "execution_count": 14,
   "metadata": {
    "collapsed": false
   },
   "outputs": [
    {
     "data": {
      "text/html": [
       "<div>\n",
       "<table border=\"1\" class=\"dataframe\">\n",
       "  <thead>\n",
       "    <tr style=\"text-align: right;\">\n",
       "      <th></th>\n",
       "      <th>Scipper</th>\n",
       "      <th>Sex</th>\n",
       "      <th>Year1</th>\n",
       "    </tr>\n",
       "  </thead>\n",
       "  <tbody>\n",
       "    <tr>\n",
       "      <th>1661</th>\n",
       "      <td>180284</td>\n",
       "      <td>M</td>\n",
       "      <td>2007</td>\n",
       "    </tr>\n",
       "    <tr>\n",
       "      <th>1691</th>\n",
       "      <td>180853</td>\n",
       "      <td>M</td>\n",
       "      <td>2007</td>\n",
       "    </tr>\n",
       "    <tr>\n",
       "      <th>1690</th>\n",
       "      <td>180094</td>\n",
       "      <td>M</td>\n",
       "      <td>2007</td>\n",
       "    </tr>\n",
       "    <tr>\n",
       "      <th>1689</th>\n",
       "      <td>181115</td>\n",
       "      <td>M</td>\n",
       "      <td>2007</td>\n",
       "    </tr>\n",
       "    <tr>\n",
       "      <th>1688</th>\n",
       "      <td>175576</td>\n",
       "      <td>M</td>\n",
       "      <td>2007</td>\n",
       "    </tr>\n",
       "  </tbody>\n",
       "</table>\n",
       "</div>"
      ],
      "text/plain": [
       "      Scipper Sex  Year1\n",
       "1661   180284   M   2007\n",
       "1691   180853   M   2007\n",
       "1690   180094   M   2007\n",
       "1689   181115   M   2007\n",
       "1688   175576   M   2007"
      ]
     },
     "execution_count": 14,
     "metadata": {},
     "output_type": "execute_result"
    }
   ],
   "source": [
    "idx_sem1 = (bs_data.Scipper).isin(bs_data[bs_data.Semester == 1].Scipper)\n",
    "data_sem1 = bs_data[idx_sem1].drop('Semester',axis=1)\n",
    "data_sem1 = data_sem1.sort_values(by ='Year')\n",
    "data_sem1 = data_sem1.drop_duplicates(['Scipper'],keep='first')\n",
    "data_sem1 = data_sem1.rename(columns = {'Year':'Year1'})\n",
    "data_sem1.head()"
   ]
  },
  {
   "cell_type": "markdown",
   "metadata": {},
   "source": [
    "Then, we do the same for the students who registered for semester 6 by only keeping the last occurence:"
   ]
  },
  {
   "cell_type": "code",
   "execution_count": 15,
   "metadata": {
    "collapsed": false
   },
   "outputs": [
    {
     "data": {
      "text/html": [
       "<div>\n",
       "<table border=\"1\" class=\"dataframe\">\n",
       "  <thead>\n",
       "    <tr style=\"text-align: right;\">\n",
       "      <th></th>\n",
       "      <th>Scipper</th>\n",
       "      <th>Sex</th>\n",
       "      <th>Year6</th>\n",
       "    </tr>\n",
       "  </thead>\n",
       "  <tbody>\n",
       "    <tr>\n",
       "      <th>2383</th>\n",
       "      <td>171042</td>\n",
       "      <td>M</td>\n",
       "      <td>2008</td>\n",
       "    </tr>\n",
       "    <tr>\n",
       "      <th>2382</th>\n",
       "      <td>167439</td>\n",
       "      <td>M</td>\n",
       "      <td>2008</td>\n",
       "    </tr>\n",
       "    <tr>\n",
       "      <th>2350</th>\n",
       "      <td>161634</td>\n",
       "      <td>M</td>\n",
       "      <td>2008</td>\n",
       "    </tr>\n",
       "    <tr>\n",
       "      <th>2351</th>\n",
       "      <td>170451</td>\n",
       "      <td>M</td>\n",
       "      <td>2008</td>\n",
       "    </tr>\n",
       "    <tr>\n",
       "      <th>2352</th>\n",
       "      <td>170219</td>\n",
       "      <td>M</td>\n",
       "      <td>2008</td>\n",
       "    </tr>\n",
       "  </tbody>\n",
       "</table>\n",
       "</div>"
      ],
      "text/plain": [
       "      Scipper Sex  Year6\n",
       "2383   171042   M   2008\n",
       "2382   167439   M   2008\n",
       "2350   161634   M   2008\n",
       "2351   170451   M   2008\n",
       "2352   170219   M   2008"
      ]
     },
     "execution_count": 15,
     "metadata": {},
     "output_type": "execute_result"
    }
   ],
   "source": [
    "idx_sem6 = (bs_data.Scipper).isin(bs_data[bs_data.Semester == 6].Scipper)\n",
    "data_sem6 = bs_data[idx_sem6].drop('Semester',axis=1)\n",
    "data_sem6 = data_sem6.sort_values(by ='Year')\n",
    "data_sem6 = data_sem6.drop_duplicates(['Scipper'],keep='last')\n",
    "data_sem6 = data_sem6.rename(columns = {'Year':'Year6'})\n",
    "data_sem6.head()"
   ]
  },
  {
   "cell_type": "markdown",
   "metadata": {},
   "source": [
    "Finally, we join the previously constructed DataFrames into one DataFrame containing the information about the starting year and the finishing year of the study."
   ]
  },
  {
   "cell_type": "code",
   "execution_count": 16,
   "metadata": {
    "collapsed": false
   },
   "outputs": [
    {
     "data": {
      "text/html": [
       "<div>\n",
       "<table border=\"1\" class=\"dataframe\">\n",
       "  <thead>\n",
       "    <tr style=\"text-align: right;\">\n",
       "      <th></th>\n",
       "      <th>Scipper</th>\n",
       "      <th>Sex</th>\n",
       "      <th>Year1</th>\n",
       "      <th>Year6</th>\n",
       "    </tr>\n",
       "  </thead>\n",
       "  <tbody>\n",
       "    <tr>\n",
       "      <th>0</th>\n",
       "      <td>180094</td>\n",
       "      <td>M</td>\n",
       "      <td>2007</td>\n",
       "      <td>2010</td>\n",
       "    </tr>\n",
       "    <tr>\n",
       "      <th>1</th>\n",
       "      <td>181115</td>\n",
       "      <td>M</td>\n",
       "      <td>2007</td>\n",
       "      <td>2010</td>\n",
       "    </tr>\n",
       "    <tr>\n",
       "      <th>2</th>\n",
       "      <td>181076</td>\n",
       "      <td>M</td>\n",
       "      <td>2007</td>\n",
       "      <td>2011</td>\n",
       "    </tr>\n",
       "    <tr>\n",
       "      <th>3</th>\n",
       "      <td>181298</td>\n",
       "      <td>M</td>\n",
       "      <td>2007</td>\n",
       "      <td>2010</td>\n",
       "    </tr>\n",
       "    <tr>\n",
       "      <th>4</th>\n",
       "      <td>178433</td>\n",
       "      <td>M</td>\n",
       "      <td>2007</td>\n",
       "      <td>2010</td>\n",
       "    </tr>\n",
       "  </tbody>\n",
       "</table>\n",
       "</div>"
      ],
      "text/plain": [
       "   Scipper Sex  Year1  Year6\n",
       "0   180094   M   2007   2010\n",
       "1   181115   M   2007   2010\n",
       "2   181076   M   2007   2011\n",
       "3   181298   M   2007   2010\n",
       "4   178433   M   2007   2010"
      ]
     },
     "execution_count": 16,
     "metadata": {},
     "output_type": "execute_result"
    }
   ],
   "source": [
    "data_sem16 = pd.merge(data_sem1,data_sem6,how='inner')\n",
    "data_sem16.head()"
   ]
  },
  {
   "cell_type": "markdown",
   "metadata": {},
   "source": [
    "Based on this DataFrame, we can now compute the Staying time for each student by adding the `Staytime` column and dropping the irrelevant columns (`Year1` and `Year6`):"
   ]
  },
  {
   "cell_type": "code",
   "execution_count": 17,
   "metadata": {
    "collapsed": false
   },
   "outputs": [
    {
     "data": {
      "text/html": [
       "<div>\n",
       "<table border=\"1\" class=\"dataframe\">\n",
       "  <thead>\n",
       "    <tr style=\"text-align: right;\">\n",
       "      <th></th>\n",
       "      <th>Scipper</th>\n",
       "      <th>Sex</th>\n",
       "      <th>Staytime</th>\n",
       "    </tr>\n",
       "  </thead>\n",
       "  <tbody>\n",
       "    <tr>\n",
       "      <th>0</th>\n",
       "      <td>180094</td>\n",
       "      <td>M</td>\n",
       "      <td>36</td>\n",
       "    </tr>\n",
       "    <tr>\n",
       "      <th>1</th>\n",
       "      <td>181115</td>\n",
       "      <td>M</td>\n",
       "      <td>36</td>\n",
       "    </tr>\n",
       "    <tr>\n",
       "      <th>2</th>\n",
       "      <td>181076</td>\n",
       "      <td>M</td>\n",
       "      <td>48</td>\n",
       "    </tr>\n",
       "    <tr>\n",
       "      <th>3</th>\n",
       "      <td>181298</td>\n",
       "      <td>M</td>\n",
       "      <td>36</td>\n",
       "    </tr>\n",
       "    <tr>\n",
       "      <th>4</th>\n",
       "      <td>178433</td>\n",
       "      <td>M</td>\n",
       "      <td>36</td>\n",
       "    </tr>\n",
       "  </tbody>\n",
       "</table>\n",
       "</div>"
      ],
      "text/plain": [
       "   Scipper Sex  Staytime\n",
       "0   180094   M        36\n",
       "1   181115   M        36\n",
       "2   181076   M        48\n",
       "3   181298   M        36\n",
       "4   178433   M        36"
      ]
     },
     "execution_count": 17,
     "metadata": {},
     "output_type": "execute_result"
    }
   ],
   "source": [
    "data_sem16['Staytime'] = (data_sem16.Year6 - data_sem16.Year1)*12\n",
    "data_sem16 = data_sem16.drop(['Year1','Year6'],axis=1)\n",
    "data_sem16.head()"
   ]
  },
  {
   "cell_type": "markdown",
   "metadata": {},
   "source": [
    "Now, we can partition the data based on the gender of students and compute the mean of their stay time:"
   ]
  },
  {
   "cell_type": "code",
   "execution_count": 18,
   "metadata": {
    "collapsed": false
   },
   "outputs": [
    {
     "data": {
      "text/plain": [
       "Sex\n",
       "F    39.724138\n",
       "M    41.771739\n",
       "Name: Staytime, dtype: float64"
      ]
     },
     "execution_count": 18,
     "metadata": {},
     "output_type": "execute_result"
    }
   ],
   "source": [
    "data_grouped = data_sem16.groupby('Sex')\n",
    "data_grouped['Staytime'].mean()"
   ]
  },
  {
   "cell_type": "markdown",
   "metadata": {},
   "source": [
    "The results show that in average male students take 2 more months to graduate in comparison with female students.\n",
    "\n",
    "Now we study the statistical significance of this difference."
   ]
  },
  {
   "cell_type": "code",
   "execution_count": 19,
   "metadata": {
    "collapsed": true
   },
   "outputs": [],
   "source": [
    "import scipy.stats as stats"
   ]
  },
  {
   "cell_type": "markdown",
   "metadata": {},
   "source": [
    "First, we start by dividing data into two populations of male and female:"
   ]
  },
  {
   "cell_type": "code",
   "execution_count": 20,
   "metadata": {
    "collapsed": true
   },
   "outputs": [],
   "source": [
    "data_F = data_sem16[data_sem16.Sex == 'F']\n",
    "data_M = data_sem16[data_sem16.Sex == 'M']"
   ]
  },
  {
   "cell_type": "markdown",
   "metadata": {},
   "source": [
    "In a first time, we study the staying-time average's significance of each population."
   ]
  }
 ],
 "metadata": {
  "anaconda-cloud": {},
  "kernelspec": {
   "display_name": "Python [conda root]",
   "language": "python",
   "name": "conda-root-py"
  },
  "language_info": {
   "codemirror_mode": {
    "name": "ipython",
    "version": 2
   },
   "file_extension": ".py",
   "mimetype": "text/x-python",
   "name": "python",
   "nbconvert_exporter": "python",
   "pygments_lexer": "ipython2",
   "version": "2.7.12"
  }
 },
 "nbformat": 4,
 "nbformat_minor": 1
}
