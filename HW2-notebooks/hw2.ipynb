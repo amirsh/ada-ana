{
 "cells": [
  {
   "cell_type": "markdown",
   "metadata": {},
   "source": [
    "# HW2\n",
    "\n",
    "We first go over the data extraction part for both exercises. Then we show how we analyze the extracted data.\n",
    "\n",
    "## Data Extraction\n",
    "\n",
    "The following code shows the import statements as well as the links shared between data extraction for both bachelor  and master students:   "
   ]
  },
  {
   "cell_type": "code",
   "execution_count": 1,
   "metadata": {
    "collapsed": true
   },
   "outputs": [],
   "source": [
    "import numpy as np\n",
    "import pandas as pd\n",
    "import sys\n",
    "from bs4 import BeautifulSoup as BSoup\n",
    "import requests\n",
    "formLink = \"http://isa.epfl.ch/imoniteur_ISAP/!GEDPUBLICREPORTS.filter?ww_i_reportModel=133685247\"\n",
    "showLink = \"http://isa.epfl.ch/imoniteur_ISAP/!GEDPUBLICREPORTS.html?ww_x_GPS=-1&ww_i_reportModel=133685247\"\n",
    "r = requests.get(formLink)\n",
    "soup = BSoup(r.text, \"lxml\")\n",
    "# The following function generates the link to the corresponding HTML page for a particular field of study, \n",
    "# academic year, and semester.\n",
    "def showLinkGen(htmlP, htmlV, fieldP, fieldV, yearP, yearV, semP, semV):\n",
    "  return \"{}&{}={}&{}={}&{}={}&{}={}\".format(showLink, htmlP, htmlV, fieldP, fieldV, yearP, yearV, semP, semV)\n",
    "selectFields = soup.find_all(\"select\")\n",
    "infoField=selectFields[0].find(\"option\", text=\"Informatique\")[\"value\"]\n",
    "infoFieldParam=selectFields[0][\"name\"]\n",
    "semParam=selectFields[2][\"name\"]\n",
    "allYears = [y[\"value\"] for y in selectFields[1].find_all(\"option\")[1:]]\n",
    "yearParam = selectFields[1][\"name\"]\n",
    "htmlradiobutton=soup.find(\"input\", type=\"radio\")\n",
    "# For a given semester and year, returns the HTML page containing the list of the students' information.\n",
    "def get_html(sem, year):\n",
    "    link = showLinkGen(htmlradiobutton[\"name\"], htmlradiobutton[\"value\"], infoFieldParam, infoField, yearParam, \n",
    "                 year, semParam, sem)\n",
    "    return requests.get(link)"
   ]
  },
  {
   "cell_type": "markdown",
   "metadata": {},
   "source": [
    "### Bachelor Students' Data Extraction\n",
    "\n",
    "Assumption\n",
    "----------\n",
    "We assume that all bachelor students finish in their 6th semester -- there is no bachelor student who finishes during 5th semester.\n",
    "\n",
    "The following code extracts the parameters which should be passed to the previous function (`showLinkGen`) for all bachelor students of Computer Science."
   ]
  },
  {
   "cell_type": "code",
   "execution_count": 2,
   "metadata": {
    "collapsed": false
   },
   "outputs": [],
   "source": [
    "bsSem1=selectFields[2].find(\"option\", text=\"Bachelor semestre 1\")[\"value\"]\n",
    "bsSem6=selectFields[2].find(\"option\", text=\"Bachelor semestre 6\")[\"value\"]"
   ]
  },
  {
   "cell_type": "markdown",
   "metadata": {},
   "source": [
    "The following function converts an HTML page containing the relevant part of the list of the students' information to a DataFrame."
   ]
  },
  {
   "cell_type": "code",
   "execution_count": 3,
   "metadata": {
    "collapsed": false
   },
   "outputs": [],
   "source": [
    "def get_bs_dataframe(request_link):\n",
    "  soup2 = BSoup(request_link.text, \"lxml\")\n",
    "  elems=soup2.find_all(\"tr\")[2:]\n",
    "  titleinfo = soup2.find(\"font\").text.split(', ')\n",
    "  semester=titleinfo[2]\n",
    "  semester=int(semester[(len(semester)-2):])\n",
    "  year=titleinfo[1]\n",
    "  all_data=[]\n",
    "  for elem in elems:\n",
    "    items=elem.find_all(\"td\")\n",
    "    gender = \"M\" if (items[0].text == \"Monsieur\") else \"F\"\n",
    "    sciper = int(items[10].text)\n",
    "    all_data.append({\"Scipper\": sciper, \"Sex\": gender, \"Year\": year, \"Semester\": semester})\n",
    "  return pd.DataFrame(all_data)"
   ]
  },
  {
   "cell_type": "markdown",
   "metadata": {},
   "source": [
    "The following function uses the previously defined functions and returns an aggregated DataFrame of all bachelor students' information."
   ]
  },
  {
   "cell_type": "code",
   "execution_count": 4,
   "metadata": {
    "collapsed": false
   },
   "outputs": [],
   "source": [
    "def get_bs_alldata():\n",
    "  all_data = []\n",
    "  for bsSem in [bsSem1, bsSem6]:\n",
    "    for year in allYears:\n",
    "        all_data.append(get_bs_dataframe(get_html(bsSem, year)))\n",
    "  return pd.concat(all_data)"
   ]
  },
  {
   "cell_type": "markdown",
   "metadata": {},
   "source": [
    "### Master Students' Data Extraction\n",
    "\n",
    "Assumption\n",
    "----------\n",
    "Master students are considered to finish their studies only if they are registered for at least one master project.\n",
    "\n",
    "The following parameters are used for generating the HTML link for all master students."
   ]
  },
  {
   "cell_type": "code",
   "execution_count": 5,
   "metadata": {
    "collapsed": false
   },
   "outputs": [],
   "source": [
    "msSem1_text=\"Master semestre 1\"\n",
    "msSemPF_text=\"Projet Master automne\"\n",
    "msSemPS_text=\"Projet Master printemps\"\n",
    "msSem1=selectFields[2].find(\"option\", text=msSem1_text)[\"value\"]\n",
    "msSemPF=selectFields[2].find(\"option\", text=msSemPF_text)[\"value\"]\n",
    "msSemPS=selectFields[2].find(\"option\", text=msSemPS_text)[\"value\"]"
   ]
  },
  {
   "cell_type": "markdown",
   "metadata": {},
   "source": [
    "The following function converts the given HTML page to a DataFrame containing the relevant information about a master student."
   ]
  },
  {
   "cell_type": "code",
   "execution_count": 6,
   "metadata": {
    "collapsed": false
   },
   "outputs": [],
   "source": [
    "def get_ms_dataframe(request_link):\n",
    "  soup2 = BSoup(request_link.text, \"lxml\")\n",
    "  elems=soup2.find_all(\"tr\")[2:]\n",
    "  titleinfo = soup2.find(\"font\")\n",
    "  if(titleinfo is None):\n",
    "      return pd.DataFrame([])\n",
    "  else:\n",
    "      titleinfo = titleinfo.text.split(', ')\n",
    "      semester=titleinfo[2]\n",
    "      semester=1 if semester==msSem1_text else (2 if semester==msSemPF_text else 3)\n",
    "      year=titleinfo[1]\n",
    "      all_data=[]\n",
    "      for elem in elems:\n",
    "        items=elem.find_all(\"td\")\n",
    "        gender = \"M\" if (items[0].text == \"Monsieur\") else \"F\"\n",
    "        sciper = int(items[10].text)\n",
    "        spec = items[4].text\n",
    "        minor = items[6].text != \"\"\n",
    "        all_data.append({\"Scipper\": sciper, \"Sex\": gender, \"Year\": year, \"Semester\": semester,\n",
    "                        \"Minor\": minor, \"Specialization\": spec})\n",
    "      return pd.DataFrame(all_data)"
   ]
  },
  {
   "cell_type": "markdown",
   "metadata": {},
   "source": [
    "The following function aggregates the DataFrames for all master students. "
   ]
  },
  {
   "cell_type": "code",
   "execution_count": null,
   "metadata": {
    "collapsed": false
   },
   "outputs": [],
   "source": [
    "def get_ms_alldata():\n",
    "  all_data = []\n",
    "  for sem in [msSem1, msSemPF, msSemPS]:\n",
    "    for year in allYears:\n",
    "        all_data.append(get_ms_dataframe(get_html(sem, year)))\n",
    "  return pd.concat(all_data)"
   ]
  },
  {
   "cell_type": "markdown",
   "metadata": {},
   "source": [
    "## Data Analysis\n",
    "\n",
    "### Exercise 1\n",
    "\n",
    "The following line assigns the extracted DataFrame to `bs_data`."
   ]
  },
  {
   "cell_type": "code",
   "execution_count": null,
   "metadata": {
    "collapsed": false
   },
   "outputs": [],
   "source": [
    "bs_data=get_bs_alldata()\n",
    "bs_data.head()"
   ]
  },
  {
   "cell_type": "markdown",
   "metadata": {},
   "source": [
    "While the extracted DataFrames are concatenated the indexing information is corrupted. The following line fixes this problem."
   ]
  },
  {
   "cell_type": "code",
   "execution_count": null,
   "metadata": {
    "collapsed": true
   },
   "outputs": [],
   "source": [
    "bs_data.reset_index(None,drop=True,inplace=True)"
   ]
  },
  {
   "cell_type": "markdown",
   "metadata": {},
   "source": [
    "Then we change the year information in-place based on the fact that the semester is starting in which year:"
   ]
  },
  {
   "cell_type": "code",
   "execution_count": null,
   "metadata": {
    "collapsed": false
   },
   "outputs": [],
   "source": [
    "for i in range(bs_data.shape[0]):\n",
    "    if (bs_data.loc[i,'Semester'] == 1):\n",
    "        bs_data.loc[i,'Year'] = bs_data.loc[i,'Year'][0:4]\n",
    "    else:\n",
    "        bs_data.loc[i,'Year'] = bs_data.loc[i,'Year'][5:9]\n",
    "\n",
    "bs_data['Year'] = bs_data['Year'].astype('int')\n",
    "bs_data.head()"
   ]
  },
  {
   "cell_type": "markdown",
   "metadata": {},
   "source": [
    "Among all bachelor students we have to consider only those who finish their studies. Based on our previously mentioned assumption, we should keep only the ones who are registered for both semester 1 and semester 6.\n",
    "We achieve this in the following three steps. First, we filter the students who registered for semester 1. In the case that a student is registered twice for semester 1, we only keep the first occurence:\n"
   ]
  },
  {
   "cell_type": "code",
   "execution_count": null,
   "metadata": {
    "collapsed": false
   },
   "outputs": [],
   "source": [
    "idx_sem1 = (bs_data.Scipper).isin(bs_data[bs_data.Semester == 1].Scipper)\n",
    "data_sem1 = bs_data[idx_sem1].drop('Semester',axis=1)\n",
    "data_sem1 = data_sem1.sort_values(by ='Year')\n",
    "data_sem1 = data_sem1.drop_duplicates(['Scipper'],keep='first')\n",
    "data_sem1 = data_sem1.rename(columns = {'Year':'Year1'})\n",
    "data_sem1.head()"
   ]
  },
  {
   "cell_type": "markdown",
   "metadata": {},
   "source": [
    "Then, we do the same for the students who registered for semester 6 by only keeping the last occurence:"
   ]
  },
  {
   "cell_type": "code",
   "execution_count": null,
   "metadata": {
    "collapsed": false
   },
   "outputs": [],
   "source": [
    "idx_sem6 = (bs_data.Scipper).isin(bs_data[bs_data.Semester == 6].Scipper)\n",
    "data_sem6 = bs_data[idx_sem6].drop('Semester',axis=1)\n",
    "data_sem6 = data_sem6.sort_values(by ='Year')\n",
    "data_sem6 = data_sem6.drop_duplicates(['Scipper'],keep='last')\n",
    "data_sem6 = data_sem6.rename(columns = {'Year':'Year6'})\n",
    "data_sem6.head()"
   ]
  },
  {
   "cell_type": "markdown",
   "metadata": {},
   "source": [
    "Finally, we join the previously constructed DataFrames into one DataFrame containing the information about the starting year and the finishing year of the study."
   ]
  },
  {
   "cell_type": "code",
   "execution_count": null,
   "metadata": {
    "collapsed": false
   },
   "outputs": [],
   "source": [
    "data_sem16 = pd.merge(data_sem1,data_sem6,how='inner')\n",
    "data_sem16.head()"
   ]
  },
  {
   "cell_type": "markdown",
   "metadata": {},
   "source": [
    "Based on this DataFrame, we can now compute the Staying time for each student by adding the `Staytime` column and dropping the irrelevant columns (`Year1` and `Year6`):"
   ]
  },
  {
   "cell_type": "code",
   "execution_count": null,
   "metadata": {
    "collapsed": false
   },
   "outputs": [],
   "source": [
    "data_sem16['Staytime'] = (data_sem16.Year6 - data_sem16.Year1)*12\n",
    "data_sem16 = data_sem16.drop(['Year1','Year6'],axis=1)\n",
    "data_sem16.head()"
   ]
  },
  {
   "cell_type": "markdown",
   "metadata": {},
   "source": [
    "Now, we can partition the data based on the gender of students and compute the mean of their stay time:"
   ]
  },
  {
   "cell_type": "code",
   "execution_count": null,
   "metadata": {
    "collapsed": false
   },
   "outputs": [],
   "source": [
    "data_grouped = data_sem16.groupby('Sex')\n",
    "data_grouped['Staytime'].mean()"
   ]
  },
  {
   "cell_type": "markdown",
   "metadata": {},
   "source": [
    "The results show that in average male students take 2 more months to graduate in comparison with female students.\n",
    "\n",
    "Now we study the statistical significance of this difference."
   ]
  },
  {
   "cell_type": "code",
   "execution_count": null,
   "metadata": {
    "collapsed": true
   },
   "outputs": [],
   "source": [
    "import scipy.stats as stats"
   ]
  },
  {
   "cell_type": "markdown",
   "metadata": {},
   "source": [
    "First, we start by dividing data into two populations of male and female:"
   ]
  },
  {
   "cell_type": "code",
   "execution_count": null,
   "metadata": {
    "collapsed": true
   },
   "outputs": [],
   "source": [
    "data_F = data_sem16[data_sem16.Sex == 'F']\n",
    "data_M = data_sem16[data_sem16.Sex == 'M']"
   ]
  },
  {
   "cell_type": "markdown",
   "metadata": {},
   "source": [
    "In a first time, we study the staying-time average's significance of each population, using a 1-sample T-Test.\n",
    "\n",
    "#### 1-sample T-Test\n",
    "\n",
    "In a 1-sample T-Test, the null hypothesis assumes nothing interesting is going on between the variables we are testing. In this case, it means that there is no difference between each of the sub-populations and the whole population."
   ]
  },
  {
   "cell_type": "code",
   "execution_count": null,
   "metadata": {
    "collapsed": false
   },
   "outputs": [],
   "source": [
    "stats.ttest_1samp(data_M.Staytime,data_sem16.Staytime.mean())"
   ]
  },
  {
   "cell_type": "markdown",
   "metadata": {},
   "source": [
    "A p-value of 0.7485 means we'd expect to see data as extreme as our sample due to chance about 74.85% of the time if the null hypothesis was true. In this case, the p-value is higher than our significance level α (equal to 1-conf.level or 0.05) so we should not reject the null hypothesis.\n",
    "\n",
    "* The staying-time average of males is statically significant."
   ]
  },
  {
   "cell_type": "code",
   "execution_count": null,
   "metadata": {
    "collapsed": false
   },
   "outputs": [],
   "source": [
    "stats.ttest_1samp(data_F.Staytime,data_sem16.Staytime.mean())"
   ]
  },
  {
   "cell_type": "markdown",
   "metadata": {},
   "source": [
    "A p-value of 0.1268 means we'd expect to see data as extreme as our sample due to chance about only 12.68% of the time if the null hypothesis was true. \n",
    "In this case, the p-value is low than our significance level so we should reject the null hypothesis.\n",
    "\n",
    "* The staying-time average of females is not statically significant, since the female population is different.\n",
    "\n",
    "#### 2-sample T-Test\n",
    "In a 2-sample T-Test, the null hypothesis states that the groups are the same."
   ]
  },
  {
   "cell_type": "code",
   "execution_count": null,
   "metadata": {
    "collapsed": false
   },
   "outputs": [],
   "source": [
    "stats.ttest_ind(a= data_M.Staytime, b = data_F.Staytime, equal_var = False)"
   ]
  },
  {
   "cell_type": "markdown",
   "metadata": {},
   "source": [
    "The test yields a p-value of 0.1219, which means there is a 12.19% chance we would see sample data this far apart if the two groups tested are actually identical. The null hypothesis should be rejected.\n",
    "\n",
    "* We conclude that the difference in the average of the stay-time between males and females is not statically significant."
   ]
  },
  {
   "cell_type": "markdown",
   "metadata": {},
   "source": [
    "### Exercise 2"
   ]
  },
  {
   "cell_type": "markdown",
   "metadata": {},
   "source": [
    "#### Getting the master data"
   ]
  },
  {
   "cell_type": "code",
   "execution_count": null,
   "metadata": {
    "collapsed": false
   },
   "outputs": [],
   "source": [
    "ms_data = get_ms_alldata()\n",
    "ms_data"
   ]
  },
  {
   "cell_type": "markdown",
   "metadata": {},
   "source": [
    "#### Processing the data\n",
    "\n",
    "First of all we reset the indeces to make them unique."
   ]
  },
  {
   "cell_type": "code",
   "execution_count": null,
   "metadata": {
    "collapsed": true
   },
   "outputs": [],
   "source": [
    "ms_data.reset_index(None,drop=True,inplace=True)"
   ]
  },
  {
   "cell_type": "markdown",
   "metadata": {},
   "source": [
    "Then, we need to make a dataframe of the master students in their first semester, and their first year."
   ]
  },
  {
   "cell_type": "code",
   "execution_count": null,
   "metadata": {
    "collapsed": false
   },
   "outputs": [],
   "source": [
    "master_semester1 = ms_data[ms_data.Semester == 1]\n",
    "year = master_semester1['Year'].str.split('-',expand=True)\n",
    "master_semester1.Year = year[0].astype(int)\n",
    "master_semester1"
   ]
  },
  {
   "cell_type": "markdown",
   "metadata": {},
   "source": [
    "We do the same thing for the master students who registered for the master project, and keep the year too. "
   ]
  },
  {
   "cell_type": "code",
   "execution_count": null,
   "metadata": {
    "collapsed": false
   },
   "outputs": [],
   "source": [
    "master_project = ms_data[ms_data.Semester != 1]\n",
    "year = master_project['Year'].str.split('-',expand=True)\n",
    "master_project.Year = np.where(master_project['Semester']==2, year[0].astype(int), year[1].astype(int))\n",
    "master_project"
   ]
  },
  {
   "cell_type": "markdown",
   "metadata": {},
   "source": [
    "If each student does the masterSemster1 once, we should have a unique scipper numbers, but the following instruction shows that it is not the case."
   ]
  },
  {
   "cell_type": "code",
   "execution_count": null,
   "metadata": {
    "collapsed": false
   },
   "outputs": [],
   "source": [
    "master_semester1.Scipper.is_unique"
   ]
  },
  {
   "cell_type": "markdown",
   "metadata": {},
   "source": [
    "So we need to keep the first masterSemester1 for each student. So, we sort the data by the \"Year\", and drop the duplicates and keep the first row only. Besides, we assume that a master student start the first semester in the fall, and will finalize the Specialization and Minor after the first semester. Thus, we drop the three columns: 'Specialization', 'Minor', and 'Semester'."
   ]
  },
  {
   "cell_type": "code",
   "execution_count": null,
   "metadata": {
    "collapsed": false
   },
   "outputs": [],
   "source": [
    "master_semester1 = master_semester1.sort_values(\"Year\")\n",
    "master_semester1 = master_semester1.drop_duplicates(\"Scipper\", keep='first')\n",
    "master_semester1.rename(columns = {'Year':'FirstYear'}, inplace=True)\n",
    "master_semester1.drop('Specialization',axis=1, inplace=True)\n",
    "master_semester1.drop('Minor',axis=1, inplace=True)\n",
    "master_semester1.drop('Semester', axis=1, inplace=True)\n",
    "master_semester1"
   ]
  },
  {
   "cell_type": "markdown",
   "metadata": {},
   "source": [
    "We also expected that each master student registered once for the master project. However, the following instruction shows out expectation was wrong."
   ]
  },
  {
   "cell_type": "code",
   "execution_count": null,
   "metadata": {
    "collapsed": false
   },
   "outputs": [],
   "source": [
    "master_project.Scipper.is_unique"
   ]
  },
  {
   "cell_type": "markdown",
   "metadata": {},
   "source": [
    "So, we dropped the duplicated values, and keep only the last one. "
   ]
  },
  {
   "cell_type": "code",
   "execution_count": null,
   "metadata": {
    "collapsed": false
   },
   "outputs": [],
   "source": [
    "master_project = master_project.sort_values(\"Year\")\n",
    "master_project = master_project.drop_duplicates(\"Scipper\", keep='last')\n",
    "master_project.rename(columns = {'Year':'LastYear'}, inplace=True)\n",
    "master_project"
   ]
  },
  {
   "cell_type": "markdown",
   "metadata": {},
   "source": [
    "To find the students who finished their masters, we merge the two dataframes (join on the scipper number). "
   ]
  },
  {
   "cell_type": "code",
   "execution_count": null,
   "metadata": {
    "collapsed": false
   },
   "outputs": [],
   "source": [
    "ms = pd.merge(master_semester1,master_project, how='inner')\n",
    "ms"
   ]
  },
  {
   "cell_type": "markdown",
   "metadata": {},
   "source": [
    "We calculate the master time for the students who started their master from 2007 and finished it till now. "
   ]
  },
  {
   "cell_type": "code",
   "execution_count": null,
   "metadata": {
    "collapsed": false
   },
   "outputs": [],
   "source": [
    "ms['Staytime'] = (ms.LastYear - ms.FirstYear)*12 + (ms.Semester-1)*6 \n",
    "## The first semester is Fall, the semester 2 shows Fall semester, and the semester 3 shows the Spring one\n",
    "ms"
   ]
  },
  {
   "cell_type": "markdown",
   "metadata": {},
   "source": [
    "#### Analyzing the data\n",
    "\n",
    "First, we measure the average time that the master students spend at EPFL."
   ]
  },
  {
   "cell_type": "code",
   "execution_count": null,
   "metadata": {
    "collapsed": false
   },
   "outputs": [],
   "source": [
    "ms['Staytime'].mean()"
   ]
  },
  {
   "cell_type": "markdown",
   "metadata": {},
   "source": [
    "On average each master student spent roughly 29 months at EPFL.\n",
    "\n",
    "However, these results include specialization too. To check them, we group the students based on their specialization."
   ]
  },
  {
   "cell_type": "code",
   "execution_count": null,
   "metadata": {
    "collapsed": false
   },
   "outputs": [],
   "source": [
    "ms_spec = ms.groupby('Specialization')\n",
    "ms_spec['Staytime'].mean()"
   ]
  },
  {
   "cell_type": "markdown",
   "metadata": {},
   "source": [
    "We notice that the average time spent in the master with specialization is more than the average time in the master without specialization. However, we didn't consider the master with the minors, so we make a new group in the following code. "
   ]
  },
  {
   "cell_type": "code",
   "execution_count": null,
   "metadata": {
    "collapsed": false
   },
   "outputs": [],
   "source": [
    "ms_minor_spec = ms.groupby(['Minor','Specialization'])\n",
    "ms_minor_spec['Staytime'].mean()"
   ]
  },
  {
   "cell_type": "markdown",
   "metadata": {},
   "source": [
    "As we can see, the master without a minor/specialization takes less time than the master with a minor/specialization. That is expected. "
   ]
  },
  {
   "cell_type": "markdown",
   "metadata": {},
   "source": [
    "#### statistical tests\n",
    "* Specialization\n",
    "For each specialization, we apply a 1-sample T-Test, to see whether the results related to the staying-time average are significant or not."
   ]
  },
  {
   "cell_type": "code",
   "execution_count": null,
   "metadata": {
    "collapsed": false
   },
   "outputs": [],
   "source": [
    "for spec in ms.Specialization.unique():\n",
    "    print(spec)\n",
    "    print(stats.ttest_1samp(ms[ms.Specialization == spec].Staytime,ms.Staytime.mean()))"
   ]
  },
  {
   "cell_type": "markdown",
   "metadata": {},
   "source": [
    "From the results obtained above, we notice that we do not have enough data to assume whether most of the staying-time averages according to specialization make a sens or not.\n",
    "Therefore, some specialization categories' results make more sens than the others, according to this order:\n",
    "   1. Students with no specialization.\n",
    "   2. Students specialized in 'Internet computing'.\n",
    "   3. Students specialized in 'Foundations of Software'.\n",
    "   4. 'Computer Engineering - SP', 'Information Security - SP', 'Software Systems'.\n",
    "   5. Others : 'Biocomputing', 'Signals, Images and Interfaces', 'Service science'"
   ]
  },
  {
   "cell_type": "markdown",
   "metadata": {},
   "source": [
    "### Bonus"
   ]
  },
  {
   "cell_type": "code",
   "execution_count": null,
   "metadata": {
    "collapsed": false
   },
   "outputs": [],
   "source": [
    "ms_sex = ms.groupby(['Sex', 'FirstYear'])\n",
    "avg_ms_sex = ms_sex['Staytime'].mean()\n",
    "avg_ms_sex"
   ]
  },
  {
   "cell_type": "code",
   "execution_count": null,
   "metadata": {
    "collapsed": true
   },
   "outputs": [],
   "source": [
    "import matplotlib.pyplot as plt"
   ]
  }
 ],
 "metadata": {
  "anaconda-cloud": {},
  "kernelspec": {
   "display_name": "Python [Root]",
   "language": "python",
   "name": "Python [Root]"
  },
  "language_info": {
   "codemirror_mode": {
    "name": "ipython",
    "version": 3
   },
   "file_extension": ".py",
   "mimetype": "text/x-python",
   "name": "python",
   "nbconvert_exporter": "python",
   "pygments_lexer": "ipython3",
   "version": "3.5.2"
  }
 },
 "nbformat": 4,
 "nbformat_minor": 1
}
