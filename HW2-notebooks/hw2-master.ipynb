{
 "cells": [
  {
   "cell_type": "markdown",
   "metadata": {},
   "source": [
    "## HW2: Master info"
   ]
  },
  {
   "cell_type": "code",
   "execution_count": null,
   "metadata": {
    "collapsed": true
   },
   "outputs": [],
   "source": [
    "import pandas as pd\n",
    "import numpy as np\n",
    "import matplotlib.pyplot as plt\n",
    "import seaborn as sns\n",
    "sns.set_context('notebook')\n",
    "import sys\n",
    "from bs4 import BeautifulSoup as BSoup\n",
    "import requests\n",
    "formLink = \"http://isa.epfl.ch/imoniteur_ISAP/!GEDPUBLICREPORTS.filter?ww_i_reportModel=133685247\"\n",
    "showLink = \"http://isa.epfl.ch/imoniteur_ISAP/!GEDPUBLICREPORTS.html?ww_x_GPS=-1&ww_i_reportModel=133685247\"\n",
    "r = requests.get(formLink)\n",
    "soup = BSoup(r.text, \"lxml\")"
   ]
  },
  {
   "cell_type": "code",
   "execution_count": null,
   "metadata": {
    "collapsed": true
   },
   "outputs": [],
   "source": [
    "def showLinkGen(htmlP, htmlV, fieldP, fieldV, yearP, yearV, semP, semV):\n",
    "  return \"{}&{}={}&{}={}&{}={}&{}={}\".format(showLink, htmlP, htmlV, fieldP, fieldV, yearP, yearV, semP, semV)"
   ]
  },
  {
   "cell_type": "code",
   "execution_count": null,
   "metadata": {
    "collapsed": false
   },
   "outputs": [],
   "source": [
    "selectFields = soup.find_all(\"select\")\n",
    "infoField=selectFields[0].find(\"option\", text=\"Informatique\")[\"value\"]\n",
    "infoFieldParam=selectFields[0][\"name\"]\n",
    "semParam=selectFields[2][\"name\"]\n",
    "msSem1_text=\"Master semestre 1\"\n",
    "msSemPF_text=\"Projet Master automne\"\n",
    "msSemPS_text=\"Projet Master printemps\"\n",
    "msSem1=selectFields[2].find(\"option\", text=msSem1_text)[\"value\"]\n",
    "msSemPF=selectFields[2].find(\"option\", text=msSemPF_text)[\"value\"]\n",
    "msSemPS=selectFields[2].find(\"option\", text=msSemPS_text)[\"value\"]\n",
    "allYears = [y[\"value\"] for y in selectFields[1].find_all(\"option\")[1:]]\n",
    "yearParam = selectFields[1][\"name\"]\n",
    "htmlradiobutton=soup.find(\"input\", type=\"radio\")\n",
    "def get_html(sem, year):\n",
    "    link = showLinkGen(htmlradiobutton[\"name\"], htmlradiobutton[\"value\"], infoFieldParam, infoField, yearParam, \n",
    "                 year, semParam, sem)\n",
    "    return requests.get(link)"
   ]
  },
  {
   "cell_type": "code",
   "execution_count": null,
   "metadata": {
    "collapsed": false
   },
   "outputs": [],
   "source": [
    "def get_ms_dataframe(request_link):\n",
    "  soup2 = BSoup(request_link.text, \"lxml\")\n",
    "  elems=soup2.find_all(\"tr\")[2:]\n",
    "  titleinfo = soup2.find(\"font\")\n",
    "  if(titleinfo is None):\n",
    "      return pd.DataFrame([])\n",
    "  else:\n",
    "      titleinfo = titleinfo.text.split(', ')\n",
    "      semester=titleinfo[2]\n",
    "      semester=1 if semester==msSem1_text else (2 if semester==msSemPF_text else 3)\n",
    "      year=titleinfo[1]\n",
    "      all_data=[]\n",
    "      for elem in elems:\n",
    "        items=elem.find_all(\"td\")\n",
    "        gender = \"M\" if (items[0].text == \"Monsieur\") else \"F\"\n",
    "        sciper = int(items[10].text)\n",
    "        spec = items[4].text != \"\"\n",
    "        minor = items[6].text != \"\"\n",
    "        all_data.append({\"Scipper\": sciper, \"Sex\": gender, \"Year\": year, \"Semester\": semester,\n",
    "                        \"Minor\": minor, \"Specialization\": spec})\n",
    "      return pd.DataFrame(all_data)"
   ]
  },
  {
   "cell_type": "code",
   "execution_count": null,
   "metadata": {
    "collapsed": false
   },
   "outputs": [],
   "source": [
    "def get_ms_alldata():\n",
    "  all_data = []\n",
    "  for sem in [msSem1, msSemPF, msSemPS]:\n",
    "    for year in allYears:\n",
    "        all_data.append(get_ms_dataframe(get_html(sem, year)))\n",
    "  return pd.concat(all_data)\n",
    "ms_data = get_ms_alldata()\n",
    "ms_data"
   ]
  },
  {
   "cell_type": "code",
   "execution_count": null,
   "metadata": {
    "collapsed": false
   },
   "outputs": [],
   "source": [
    "ms_data.reset_index(None,drop=True,inplace=True)\n",
    "ms_data.dtypes"
   ]
  },
  {
   "cell_type": "code",
   "execution_count": null,
   "metadata": {
    "collapsed": false
   },
   "outputs": [],
   "source": [
    "master_semester1 = ms_data[ms_data.Semester == 1]\n",
    "year = master_semester1['Year'].str.split('-',expand=True)\n",
    "master_semester1.Year = year[0].astype(int)\n",
    "master_semester1"
   ]
  },
  {
   "cell_type": "code",
   "execution_count": null,
   "metadata": {
    "collapsed": false
   },
   "outputs": [],
   "source": [
    "master_project = ms_data[ms_data.Semester != 1]\n",
    "year = master_project['Year'].str.split('-',expand=True)\n",
    "master_project.Year = np.where(master_project['Semester']==2, year[0].astype(int), year[1].astype(int))\n",
    "master_project"
   ]
  },
  {
   "cell_type": "code",
   "execution_count": null,
   "metadata": {
    "collapsed": false
   },
   "outputs": [],
   "source": [
    "master_semester1.Scipper.is_unique"
   ]
  },
  {
   "cell_type": "code",
   "execution_count": null,
   "metadata": {
    "collapsed": false
   },
   "outputs": [],
   "source": [
    "master_semester1 = master_semester1.sort_values(\"Year\")\n",
    "master_semester1 = master_semester1.drop_duplicates(\"Scipper\", keep='first')\n",
    "master_semester1.rename(columns = {'Year':'FirstYear'}, inplace=True)\n",
    "master_semester1.drop('Specialization',axis=1, inplace=True)\n",
    "master_semester1.drop('Minor',axis=1, inplace=True)\n",
    "master_semester1.drop('Semester', axis=1, inplace=True)\n",
    "master_semester1"
   ]
  },
  {
   "cell_type": "code",
   "execution_count": null,
   "metadata": {
    "collapsed": false
   },
   "outputs": [],
   "source": [
    "master_project.Scipper.is_unique"
   ]
  },
  {
   "cell_type": "code",
   "execution_count": null,
   "metadata": {
    "collapsed": false
   },
   "outputs": [],
   "source": [
    "master_project = master_project.sort_values(\"Year\")\n",
    "master_project = master_project.drop_duplicates(\"Scipper\", keep='last')\n",
    "master_project.rename(columns = {'Year':'LastYear'}, inplace=True)\n",
    "master_project.Scipper.is_unique"
   ]
  },
  {
   "cell_type": "code",
   "execution_count": null,
   "metadata": {
    "collapsed": false
   },
   "outputs": [],
   "source": [
    "master_semester1.head()"
   ]
  },
  {
   "cell_type": "code",
   "execution_count": null,
   "metadata": {
    "collapsed": false
   },
   "outputs": [],
   "source": [
    "master_project.head()"
   ]
  },
  {
   "cell_type": "code",
   "execution_count": null,
   "metadata": {
    "collapsed": false
   },
   "outputs": [],
   "source": [
    "ms = pd.merge(master_semester1,master_project, how='inner')\n",
    "ms"
   ]
  },
  {
   "cell_type": "code",
   "execution_count": null,
   "metadata": {
    "collapsed": false
   },
   "outputs": [],
   "source": [
    "ms['Staytime'] = (ms.LastYear - ms.FirstYear)*12 + (ms.Semester-1)*6\n",
    "ms"
   ]
  },
  {
   "cell_type": "code",
   "execution_count": null,
   "metadata": {
    "collapsed": false
   },
   "outputs": [],
   "source": [
    "ms_sex = ms.groupby('Sex')\n",
    "ms_sex['Staytime'].mean()"
   ]
  },
  {
   "cell_type": "code",
   "execution_count": null,
   "metadata": {
    "collapsed": false
   },
   "outputs": [],
   "source": [
    "ms_spec = ms.groupby('Specialization')\n",
    "ms_spec['Staytime'].mean()"
   ]
  },
  {
   "cell_type": "code",
   "execution_count": null,
   "metadata": {
    "collapsed": false
   },
   "outputs": [],
   "source": [
    "ms_minor = ms.groupby('Minor')\n",
    "ms_minor['Staytime'].mean()"
   ]
  },
  {
   "cell_type": "code",
   "execution_count": null,
   "metadata": {
    "collapsed": false
   },
   "outputs": [],
   "source": [
    "ms_minor_spec = ms.groupby(['Minor','Specialization'])\n",
    "ms_minor_spec['Staytime'].mean()"
   ]
  },
  {
   "cell_type": "code",
   "execution_count": null,
   "metadata": {
    "collapsed": false
   },
   "outputs": [],
   "source": [
    "ms_minor_spec_sex = ms.groupby(['Sex','Minor','Specialization'])\n",
    "ms_minor_spec_sex['Staytime'].mean()"
   ]
  },
  {
   "cell_type": "code",
   "execution_count": null,
   "metadata": {
    "collapsed": true
   },
   "outputs": [],
   "source": []
  }
 ],
 "metadata": {
  "anaconda-cloud": {},
  "kernelspec": {
   "display_name": "Python [Root]",
   "language": "python",
   "name": "Python [Root]"
  },
  "language_info": {
   "codemirror_mode": {
    "name": "ipython",
    "version": 3
   },
   "file_extension": ".py",
   "mimetype": "text/x-python",
   "name": "python",
   "nbconvert_exporter": "python",
   "pygments_lexer": "ipython3",
   "version": "3.5.2"
  }
 },
 "nbformat": 4,
 "nbformat_minor": 0
}
