{
 "cells": [
  {
   "cell_type": "markdown",
   "metadata": {},
   "source": [
    "# Homework 3 : Interactive Viz - PART 1\n",
    "\n",
    "In this homework we will practice with interactive visualization, which is the key ingredient of many successful viz (especially when it comes to infographics). We will be work with the P3 database of the SNSF (Swiss National Science Foundation). \n",
    "\n",
    "In this homework, we are asked to build a colorpeth map which shows intuitively (i.e., use colors wisely) how much grant money goes to each Swiss canton.\n",
    "\n",
    "In this file, we deal with two parts of the homework : \n",
    "- Data importing & cleaning\n",
    "- Moving from university names to cantons\n",
    "\n",
    "At the end, we obtain a DataFrame composed of two columns\n",
    "\n",
    "## Data importing & cleaning\n",
    "\n",
    "First, the raw data is downloaded directly from the website of the SNSF, and saved in the subdirectory 'data', under the name 'P3_GrantExport.csv'."
   ]
  },
  {
   "cell_type": "code",
   "execution_count": 29,
   "metadata": {
    "collapsed": false
   },
   "outputs": [
    {
     "name": "stdout",
     "output_type": "stream",
     "text": [
      "(63969, 15)\n"
     ]
    },
    {
     "data": {
      "text/html": [
       "<div>\n",
       "<table border=\"1\" class=\"dataframe\">\n",
       "  <thead>\n",
       "    <tr style=\"text-align: right;\">\n",
       "      <th></th>\n",
       "      <th>﻿\"Project Number\"</th>\n",
       "      <th>Project Title</th>\n",
       "      <th>Project Title English</th>\n",
       "      <th>Responsible Applicant</th>\n",
       "      <th>Funding Instrument</th>\n",
       "      <th>Funding Instrument Hierarchy</th>\n",
       "      <th>Institution</th>\n",
       "      <th>University</th>\n",
       "      <th>Discipline Number</th>\n",
       "      <th>Discipline Name</th>\n",
       "      <th>Discipline Name Hierarchy</th>\n",
       "      <th>Start Date</th>\n",
       "      <th>End Date</th>\n",
       "      <th>Approved Amount</th>\n",
       "      <th>Keywords</th>\n",
       "    </tr>\n",
       "  </thead>\n",
       "  <tbody>\n",
       "    <tr>\n",
       "      <th>0</th>\n",
       "      <td>1</td>\n",
       "      <td>Schlussband (Bd. VI) der Jacob Burckhardt-Biog...</td>\n",
       "      <td>NaN</td>\n",
       "      <td>Kaegi Werner</td>\n",
       "      <td>Project funding (Div. I-III)</td>\n",
       "      <td>Project funding</td>\n",
       "      <td>NaN</td>\n",
       "      <td>Nicht zuteilbar - NA</td>\n",
       "      <td>10302</td>\n",
       "      <td>Swiss history</td>\n",
       "      <td>Human and Social Sciences;Theology &amp; religious...</td>\n",
       "      <td>01.10.1975</td>\n",
       "      <td>30.09.1976</td>\n",
       "      <td>11619.0</td>\n",
       "      <td>NaN</td>\n",
       "    </tr>\n",
       "    <tr>\n",
       "      <th>1</th>\n",
       "      <td>4</td>\n",
       "      <td>Batterie de tests à l'usage des enseignants po...</td>\n",
       "      <td>NaN</td>\n",
       "      <td>Massarenti Léonard</td>\n",
       "      <td>Project funding (Div. I-III)</td>\n",
       "      <td>Project funding</td>\n",
       "      <td>Faculté de Psychologie et des Sciences de l'Ed...</td>\n",
       "      <td>Université de Genève - GE</td>\n",
       "      <td>10104</td>\n",
       "      <td>Educational science and Pedagogy</td>\n",
       "      <td>Human and Social Sciences;Psychology, educatio...</td>\n",
       "      <td>01.10.1975</td>\n",
       "      <td>30.09.1976</td>\n",
       "      <td>41022.0</td>\n",
       "      <td>NaN</td>\n",
       "    </tr>\n",
       "    <tr>\n",
       "      <th>2</th>\n",
       "      <td>5</td>\n",
       "      <td>Kritische Erstausgabe der \"Evidentiae contra D...</td>\n",
       "      <td>NaN</td>\n",
       "      <td>Kommission für das Corpus philosophorum medii ...</td>\n",
       "      <td>Project funding (Div. I-III)</td>\n",
       "      <td>Project funding</td>\n",
       "      <td>Kommission für das Corpus philosophorum medii ...</td>\n",
       "      <td>NPO (Biblioth., Museen, Verwalt.) - NPO</td>\n",
       "      <td>10101</td>\n",
       "      <td>Philosophy</td>\n",
       "      <td>Human and Social Sciences;Linguistics and lite...</td>\n",
       "      <td>01.03.1976</td>\n",
       "      <td>28.02.1985</td>\n",
       "      <td>79732.0</td>\n",
       "      <td>NaN</td>\n",
       "    </tr>\n",
       "    <tr>\n",
       "      <th>3</th>\n",
       "      <td>6</td>\n",
       "      <td>Katalog der datierten Handschriften in der Sch...</td>\n",
       "      <td>NaN</td>\n",
       "      <td>Burckhardt Max</td>\n",
       "      <td>Project funding (Div. I-III)</td>\n",
       "      <td>Project funding</td>\n",
       "      <td>Abt. Handschriften und Alte Drucke Bibliothek ...</td>\n",
       "      <td>Universität Basel - BS</td>\n",
       "      <td>10302</td>\n",
       "      <td>Swiss history</td>\n",
       "      <td>Human and Social Sciences;Theology &amp; religious...</td>\n",
       "      <td>01.10.1975</td>\n",
       "      <td>30.09.1976</td>\n",
       "      <td>52627.0</td>\n",
       "      <td>NaN</td>\n",
       "    </tr>\n",
       "    <tr>\n",
       "      <th>4</th>\n",
       "      <td>7</td>\n",
       "      <td>Wissenschaftliche Mitarbeit am Thesaurus Lingu...</td>\n",
       "      <td>NaN</td>\n",
       "      <td>Schweiz. Thesauruskommission</td>\n",
       "      <td>Project funding (Div. I-III)</td>\n",
       "      <td>Project funding</td>\n",
       "      <td>Schweiz. Thesauruskommission</td>\n",
       "      <td>NPO (Biblioth., Museen, Verwalt.) - NPO</td>\n",
       "      <td>10303</td>\n",
       "      <td>Ancient history and Classical studies</td>\n",
       "      <td>Human and Social Sciences;Theology &amp; religious...</td>\n",
       "      <td>01.01.1976</td>\n",
       "      <td>30.04.1978</td>\n",
       "      <td>120042.0</td>\n",
       "      <td>NaN</td>\n",
       "    </tr>\n",
       "  </tbody>\n",
       "</table>\n",
       "</div>"
      ],
      "text/plain": [
       "   ﻿\"Project Number\"                                      Project Title  \\\n",
       "0                  1  Schlussband (Bd. VI) der Jacob Burckhardt-Biog...   \n",
       "1                  4  Batterie de tests à l'usage des enseignants po...   \n",
       "2                  5  Kritische Erstausgabe der \"Evidentiae contra D...   \n",
       "3                  6  Katalog der datierten Handschriften in der Sch...   \n",
       "4                  7  Wissenschaftliche Mitarbeit am Thesaurus Lingu...   \n",
       "\n",
       "  Project Title English                              Responsible Applicant  \\\n",
       "0                   NaN                                       Kaegi Werner   \n",
       "1                   NaN                                 Massarenti Léonard   \n",
       "2                   NaN  Kommission für das Corpus philosophorum medii ...   \n",
       "3                   NaN                                     Burckhardt Max   \n",
       "4                   NaN                       Schweiz. Thesauruskommission   \n",
       "\n",
       "             Funding Instrument Funding Instrument Hierarchy  \\\n",
       "0  Project funding (Div. I-III)              Project funding   \n",
       "1  Project funding (Div. I-III)              Project funding   \n",
       "2  Project funding (Div. I-III)              Project funding   \n",
       "3  Project funding (Div. I-III)              Project funding   \n",
       "4  Project funding (Div. I-III)              Project funding   \n",
       "\n",
       "                                         Institution  \\\n",
       "0                                                NaN   \n",
       "1  Faculté de Psychologie et des Sciences de l'Ed...   \n",
       "2  Kommission für das Corpus philosophorum medii ...   \n",
       "3  Abt. Handschriften und Alte Drucke Bibliothek ...   \n",
       "4                       Schweiz. Thesauruskommission   \n",
       "\n",
       "                                University  Discipline Number  \\\n",
       "0                     Nicht zuteilbar - NA              10302   \n",
       "1                Université de Genève - GE              10104   \n",
       "2  NPO (Biblioth., Museen, Verwalt.) - NPO              10101   \n",
       "3                   Universität Basel - BS              10302   \n",
       "4  NPO (Biblioth., Museen, Verwalt.) - NPO              10303   \n",
       "\n",
       "                         Discipline Name  \\\n",
       "0                          Swiss history   \n",
       "1       Educational science and Pedagogy   \n",
       "2                             Philosophy   \n",
       "3                          Swiss history   \n",
       "4  Ancient history and Classical studies   \n",
       "\n",
       "                           Discipline Name Hierarchy  Start Date    End Date  \\\n",
       "0  Human and Social Sciences;Theology & religious...  01.10.1975  30.09.1976   \n",
       "1  Human and Social Sciences;Psychology, educatio...  01.10.1975  30.09.1976   \n",
       "2  Human and Social Sciences;Linguistics and lite...  01.03.1976  28.02.1985   \n",
       "3  Human and Social Sciences;Theology & religious...  01.10.1975  30.09.1976   \n",
       "4  Human and Social Sciences;Theology & religious...  01.01.1976  30.04.1978   \n",
       "\n",
       "   Approved Amount Keywords  \n",
       "0          11619.0      NaN  \n",
       "1          41022.0      NaN  \n",
       "2          79732.0      NaN  \n",
       "3          52627.0      NaN  \n",
       "4         120042.0      NaN  "
      ]
     },
     "execution_count": 29,
     "metadata": {},
     "output_type": "execute_result"
    }
   ],
   "source": [
    "# basic imports\n",
    "import pandas as pd\n",
    "import numpy as np\n",
    "pd.options.mode.chained_assignment = None  # default='warn'\n",
    "import requests\n",
    "import json\n",
    "from bs4 import BeautifulSoup as BSoup\n",
    "from keys import gkey\n",
    "\n",
    "# reading the data\n",
    "grant_data = pd.read_csv(\"data/P3_GrantExport.csv\", sep=';', na_values=\"data not included in P3\")\n",
    "print(grant_data.shape)\n",
    "grant_data.head()"
   ]
  },
  {
   "cell_type": "markdown",
   "metadata": {},
   "source": [
    "Each row of the data represents a scientific project. Informations about the university and the amount of money dedicated to the project are given in the columns 'University' and 'Approved amount'.\n",
    "\n",
    "In this homework, we need to get the canton in which each university belongs, group the data by cantons, and compute the total amout of money given to each canton.\n",
    "\n",
    "Let's start by cleaning the data first, to deal with wrong and missing values. "
   ]
  },
  {
   "cell_type": "code",
   "execution_count": 30,
   "metadata": {
    "collapsed": false
   },
   "outputs": [
    {
     "data": {
      "text/html": [
       "<div>\n",
       "<table border=\"1\" class=\"dataframe\">\n",
       "  <thead>\n",
       "    <tr style=\"text-align: right;\">\n",
       "      <th></th>\n",
       "      <th>University</th>\n",
       "      <th>Approved Amount</th>\n",
       "    </tr>\n",
       "  </thead>\n",
       "  <tbody>\n",
       "    <tr>\n",
       "      <th>0</th>\n",
       "      <td>Nicht zuteilbar - NA</td>\n",
       "      <td>11619.0</td>\n",
       "    </tr>\n",
       "    <tr>\n",
       "      <th>1</th>\n",
       "      <td>Université de Genève - GE</td>\n",
       "      <td>41022.0</td>\n",
       "    </tr>\n",
       "    <tr>\n",
       "      <th>2</th>\n",
       "      <td>NPO (Biblioth., Museen, Verwalt.) - NPO</td>\n",
       "      <td>79732.0</td>\n",
       "    </tr>\n",
       "    <tr>\n",
       "      <th>3</th>\n",
       "      <td>Universität Basel - BS</td>\n",
       "      <td>52627.0</td>\n",
       "    </tr>\n",
       "    <tr>\n",
       "      <th>4</th>\n",
       "      <td>NPO (Biblioth., Museen, Verwalt.) - NPO</td>\n",
       "      <td>120042.0</td>\n",
       "    </tr>\n",
       "  </tbody>\n",
       "</table>\n",
       "</div>"
      ],
      "text/plain": [
       "                                University  Approved Amount\n",
       "0                     Nicht zuteilbar - NA          11619.0\n",
       "1                Université de Genève - GE          41022.0\n",
       "2  NPO (Biblioth., Museen, Verwalt.) - NPO          79732.0\n",
       "3                   Universität Basel - BS          52627.0\n",
       "4  NPO (Biblioth., Museen, Verwalt.) - NPO         120042.0"
      ]
     },
     "execution_count": 30,
     "metadata": {},
     "output_type": "execute_result"
    }
   ],
   "source": [
    "# get only 'University' and 'Approved Amount'\n",
    "grant_data = grant_data[['University','Approved Amount']]\n",
    "grant_data.head()"
   ]
  },
  {
   "cell_type": "code",
   "execution_count": 31,
   "metadata": {
    "collapsed": false
   },
   "outputs": [
    {
     "name": "stdout",
     "output_type": "stream",
     "text": [
      "77\n",
      "50988\n"
     ]
    }
   ],
   "source": [
    "# drop NaNs of the 'University' column\n",
    "uni_names = grant_data['University'].dropna().unique()\n",
    "print(uni_names.shape[0])\n",
    "grant_data = grant_data[grant_data['University'].isin(uni_names)]\n",
    "print(grant_data.shape[0])"
   ]
  },
  {
   "cell_type": "markdown",
   "metadata": {},
   "source": [
    "- 12981 of elements of the university column are empty. After dropping missing values, 77 universities are left."
   ]
  },
  {
   "cell_type": "code",
   "execution_count": 32,
   "metadata": {
    "collapsed": false
   },
   "outputs": [
    {
     "data": {
      "text/plain": [
       "110"
      ]
     },
     "execution_count": 32,
     "metadata": {},
     "output_type": "execute_result"
    }
   ],
   "source": [
    "# Turn the type of 'Approved Amount' column to float.\n",
    "grant_data['Approved Amount'] = grant_data['Approved Amount'].astype('float')\n",
    "grant_data[np.isnan(grant_data['Approved Amount'])].shape[0]"
   ]
  },
  {
   "cell_type": "markdown",
   "metadata": {},
   "source": [
    "- 110 elements from 63969 in the 'Approved Amount' column are missing. \n",
    "\n",
    "We decided to turn these elements to the mean of the approved amounts of the university."
   ]
  },
  {
   "cell_type": "code",
   "execution_count": 33,
   "metadata": {
    "collapsed": false
   },
   "outputs": [
    {
     "name": "stdout",
     "output_type": "stream",
     "text": [
      "50988\n",
      "50988\n"
     ]
    }
   ],
   "source": [
    "# trasform the 'Approved Amount' column into the median approved amount of the university \n",
    "mean_amount = grant_data.groupby('University').transform('median')\n",
    "print(mean_amount.shape[0])\n",
    "print(grant_data.shape[0])"
   ]
  },
  {
   "cell_type": "code",
   "execution_count": 34,
   "metadata": {
    "collapsed": false
   },
   "outputs": [
    {
     "data": {
      "text/html": [
       "<div>\n",
       "<table border=\"1\" class=\"dataframe\">\n",
       "  <thead>\n",
       "    <tr style=\"text-align: right;\">\n",
       "      <th></th>\n",
       "      <th>University</th>\n",
       "      <th>Approved Amount</th>\n",
       "    </tr>\n",
       "  </thead>\n",
       "  <tbody>\n",
       "    <tr>\n",
       "      <th>0</th>\n",
       "      <td>Nicht zuteilbar - NA</td>\n",
       "      <td>11619.0</td>\n",
       "    </tr>\n",
       "    <tr>\n",
       "      <th>1</th>\n",
       "      <td>Université de Genève - GE</td>\n",
       "      <td>41022.0</td>\n",
       "    </tr>\n",
       "    <tr>\n",
       "      <th>2</th>\n",
       "      <td>NPO (Biblioth., Museen, Verwalt.) - NPO</td>\n",
       "      <td>79732.0</td>\n",
       "    </tr>\n",
       "    <tr>\n",
       "      <th>3</th>\n",
       "      <td>Universität Basel - BS</td>\n",
       "      <td>52627.0</td>\n",
       "    </tr>\n",
       "    <tr>\n",
       "      <th>4</th>\n",
       "      <td>NPO (Biblioth., Museen, Verwalt.) - NPO</td>\n",
       "      <td>120042.0</td>\n",
       "    </tr>\n",
       "  </tbody>\n",
       "</table>\n",
       "</div>"
      ],
      "text/plain": [
       "                                University  Approved Amount\n",
       "0                     Nicht zuteilbar - NA          11619.0\n",
       "1                Université de Genève - GE          41022.0\n",
       "2  NPO (Biblioth., Museen, Verwalt.) - NPO          79732.0\n",
       "3                   Universität Basel - BS          52627.0\n",
       "4  NPO (Biblioth., Museen, Verwalt.) - NPO         120042.0"
      ]
     },
     "execution_count": 34,
     "metadata": {},
     "output_type": "execute_result"
    }
   ],
   "source": [
    "# fill NA's of the 'Approved Amount' of the correspondant values from the mean_amount dataframe\n",
    "grant_data = grant_data.fillna(mean_amount)\n",
    "grant_data.head()"
   ]
  },
  {
   "cell_type": "code",
   "execution_count": 35,
   "metadata": {
    "collapsed": false
   },
   "outputs": [
    {
     "data": {
      "text/plain": [
       "0"
      ]
     },
     "execution_count": 35,
     "metadata": {},
     "output_type": "execute_result"
    }
   ],
   "source": [
    "grant_data[np.isnan(grant_data['Approved Amount'])].shape[0]"
   ]
  },
  {
   "cell_type": "markdown",
   "metadata": {},
   "source": [
    "At the end, we have no nan value in the 'Approved Amount' column.\n",
    "\n",
    "## University name to Canton name\n",
    "\n",
    "We need know to move, in a smart way, from the Universities names to the cantons names. "
   ]
  },
  {
   "cell_type": "code",
   "execution_count": 8,
   "metadata": {
    "collapsed": false
   },
   "outputs": [
    {
     "data": {
      "text/plain": [
       "array(['Nicht zuteilbar - NA', 'Université de Genève - GE',\n",
       "       'NPO (Biblioth., Museen, Verwalt.) - NPO', 'Universität Basel - BS',\n",
       "       'Université de Fribourg - FR', 'Universität Zürich - ZH',\n",
       "       'Université de Lausanne - LA', 'Universität Bern - BE',\n",
       "       'Eidg. Forschungsanstalt für Wald,Schnee,Land - WSL',\n",
       "       'Université de Neuchâtel - NE', 'ETH Zürich - ETHZ',\n",
       "       'Inst. de Hautes Etudes Internat. et du Dév - IHEID',\n",
       "       'Universität St. Gallen - SG', 'Weitere Institute - FINST',\n",
       "       'Firmen/Privatwirtschaft - FP',\n",
       "       'Pädagogische Hochschule Graubünden - PHGR', 'EPF Lausanne - EPFL',\n",
       "       'Pädagogische Hochschule Zürich - PHZFH', 'Universität Luzern - LU',\n",
       "       'Schweiz. Institut für Kunstwissenschaft - SIK-ISEA',\n",
       "       'SUP della Svizzera italiana - SUPSI',\n",
       "       'HES de Suisse occidentale - HES-SO',\n",
       "       'Robert Walser-Stiftung Bern - RWS', 'Paul Scherrer Institut - PSI',\n",
       "       'Pädagogische Hochschule St. Gallen - PHSG',\n",
       "       'Eidg. Anstalt für Wasserversorgung - EAWAG',\n",
       "       'Eidg. Material und Prüfungsanstalt - EMPA',\n",
       "       'Physikal.-Meteorolog. Observatorium Davos - PMOD',\n",
       "       'Berner Fachhochschule - BFH',\n",
       "       'Swiss Center for Electronics and Microtech. - CSEM',\n",
       "       'Weitere Spitäler - ASPIT', 'AO Research Institute - AORI',\n",
       "       'Allergie- und Asthmaforschung - SIAF',\n",
       "       'Forschungsinstitut für biologischen Landbau - FIBL',\n",
       "       'Friedrich Miescher Institute - FMI',\n",
       "       'Kantonsspital St. Gallen - KSPSG',\n",
       "       'Forschungsanstalten Agroscope - AGS',\n",
       "       'Ente Ospedaliero Cantonale - EOC',\n",
       "       'Inst. universit. romand de Santé au Travail - IST',\n",
       "       'Eidg. Hochschulinstitut für Berufsbildung - EHB',\n",
       "       'Zürcher Fachhochschule (ohne PH) - ZFH',\n",
       "       'Università della Svizzera italiana - USI',\n",
       "       'Institut für Kulturforschung Graubünden - IKG',\n",
       "       'Fachhochschule Nordwestschweiz (ohne PH) - FHNW',\n",
       "       'Interkant. Hochschule für Heilpädagogik ZH - HfH',\n",
       "       \"Centre de rech. sur l'environnement alpin - CREALP\",\n",
       "       'Idiap Research Institute - IDIAP',\n",
       "       'Pädagogische Hochschule Bern - PHBern',\n",
       "       'Institut Universitaire Kurt Bösch - IUKB',\n",
       "       'Schweizer Paraplegiker Forschung - SPF',\n",
       "       'Hochschule Luzern - HSLU',\n",
       "       'Forschungsinstitut für Opthalmologie - IRO',\n",
       "       'Haute école pédagogique du canton de Vaud - HEPL',\n",
       "       'Fachhochschule Ostschweiz - FHO',\n",
       "       'Inst. Suisse de Spéléologie et Karstologie - ISSKA',\n",
       "       'Swiss Institute of Bioinformatics - SIB',\n",
       "       'Haute école pédagogique BE, JU, NE - HEPBEJUNE',\n",
       "       'Pädagogische Hochschule Luzern - PHLU',\n",
       "       'Forschungskommission SAGW', 'Istituto Svizzero di Roma - ISR',\n",
       "       'Pädag. Hochschule Tessin (Teilschule SUPSI) - ASP',\n",
       "       'Haute école pédagogique fribourgeoise - HEPFR',\n",
       "       'Pädagogische Hochschule Schwyz - PHSZ',\n",
       "       'Pädagogische Hochschule Thurgau - PHTG',\n",
       "       'Biotechnologie Institut Thurgau - BITG',\n",
       "       'Fachhochschule Kalaidos - FHKD',\n",
       "       'Schweizer Kompetenzzentrum Sozialwissensch. - FORS',\n",
       "       'Pädagogische Hochschule Wallis - PHVS',\n",
       "       'Schweiz. Hochschule für Logopädie Rorschach - SHLR',\n",
       "       'Pädagogische Hochschule Zug - PHZG',\n",
       "       'Instituto Ricerche Solari Locarno - IRSOL',\n",
       "       'Franklin University Switzerland - FUS',\n",
       "       'Pädagogische Hochschule Schaffhausen - PHSH',\n",
       "       'Pädagogische Hochschule Nordwestschweiz - PHFHNW',\n",
       "       'Staatsunabh. Theologische Hochschule Basel - STHB',\n",
       "       'Facoltà di Teologia di Lugano - FTL',\n",
       "       'Fernfachhochschule Schweiz (Mitglied SUPSI) - FFHS'], dtype=object)"
      ]
     },
     "execution_count": 8,
     "metadata": {},
     "output_type": "execute_result"
    }
   ],
   "source": [
    "# List of universities\n",
    "uni_names"
   ]
  },
  {
   "cell_type": "markdown",
   "metadata": {
    "collapsed": false
   },
   "source": [
    "We observed by simply using geocode of Google we only get 39% precision. \n",
    "\n",
    "We decided to use google Place API to get the long address of each university, and then use google Geocode API, to get the canton from the address. "
   ]
  },
  {
   "cell_type": "code",
   "execution_count": 9,
   "metadata": {
    "collapsed": false
   },
   "outputs": [],
   "source": [
    "# function taking the name of the place and returning the long address of it\n",
    "def getAddress(name):\n",
    "  glink=\"https://maps.googleapis.com/maps/api/place/textsearch/json?query={}&key={}\".format(name + \" Switzerland\", gkey)\n",
    "  r = requests.get(glink)\n",
    "  dic = json.loads(r.text)\n",
    "  try:\n",
    "    return dic['results'][0]['formatted_address']\n",
    "  except:\n",
    "    return ''"
   ]
  },
  {
   "cell_type": "code",
   "execution_count": 10,
   "metadata": {
    "collapsed": false
   },
   "outputs": [
    {
     "data": {
      "text/plain": [
       "'Route Cantonale, 1015 Lausanne, Switzerland'"
      ]
     },
     "execution_count": 10,
     "metadata": {},
     "output_type": "execute_result"
    }
   ],
   "source": [
    "# Example\n",
    "getAddress('EPFL')"
   ]
  },
  {
   "cell_type": "markdown",
   "metadata": {},
   "source": [
    "We are going to apply this function on the list of all universities."
   ]
  },
  {
   "cell_type": "code",
   "execution_count": 12,
   "metadata": {
    "collapsed": false
   },
   "outputs": [
    {
     "data": {
      "text/plain": [
       "[['Nicht zuteilbar - NA', ''],\n",
       " ['Université de Genève - GE', 'Geneva, Switzerland'],\n",
       " ['NPO (Biblioth., Museen, Verwalt.) - NPO', ''],\n",
       " ['Universität Basel - BS', 'Petersplatz 1, 4003 Basel, Switzerland'],\n",
       " ['Université de Fribourg - FR',\n",
       "  \"Avenue de l'Europe 20, 1700 Fribourg, Switzerland\"],\n",
       " ['Universität Zürich - ZH', 'Rämistrasse 71, 8006 Zürich, Switzerland'],\n",
       " ['Université de Lausanne - LA', '1015 Lausanne, Switzerland'],\n",
       " ['Universität Bern - BE', 'Hochschulstrasse 6, 3012 Bern, Switzerland'],\n",
       " ['Eidg. Forschungsanstalt für Wald,Schnee,Land - WSL',\n",
       "  'Zürcherstrasse 111, 8903 Birmensdorf ZH, Switzerland'],\n",
       " ['Université de Neuchâtel - NE',\n",
       "  'Av. du 1er-Mars 26, 2000 Neuchâtel, Switzerland'],\n",
       " ['ETH Zürich - ETHZ', 'Rämistrasse 101, 8092 Zürich, Switzerland'],\n",
       " ['Inst. de Hautes Etudes Internat. et du Dév - IHEID',\n",
       "  'Maison de la Paix, Chemin Eugène-Rigot 2, 1202 Genève, Switzerland'],\n",
       " ['Universität St. Gallen - SG',\n",
       "  'Dufourstrasse 50, 9000 St. Gallen, Switzerland'],\n",
       " ['Weitere Institute - FINST', ''],\n",
       " ['Firmen/Privatwirtschaft - FP', ''],\n",
       " ['Pädagogische Hochschule Graubünden - PHGR',\n",
       "  'Scalärastrasse 17, 7000 Chur, Switzerland'],\n",
       " ['EPF Lausanne - EPFL', 'Route Cantonale, 1015 Lausanne, Switzerland'],\n",
       " ['Pädagogische Hochschule Zürich - PHZFH',\n",
       "  'Lagerstrasse 2, 8090 Zürich, Switzerland'],\n",
       " ['Universität Luzern - LU', 'Frohburgstrasse 3, 6002 Luzern, Switzerland'],\n",
       " ['Schweiz. Institut für Kunstwissenschaft - SIK-ISEA',\n",
       "  'Zollikerstrasse 32, 8032 Zürich, Switzerland'],\n",
       " ['SUP della Svizzera italiana - SUPSI',\n",
       "  'Via pobiette 11, 6928 Manno, Switzerland'],\n",
       " ['HES de Suisse occidentale - HES-SO',\n",
       "  'Route de Moutier 14, 2800 Delémont, Switzerland'],\n",
       " ['Robert Walser-Stiftung Bern - RWS', ''],\n",
       " ['Paul Scherrer Institut - PSI', '5232 Villigen, Switzerland'],\n",
       " ['Pädagogische Hochschule St. Gallen - PHSG',\n",
       "  'Notkerstrasse 27, 9000 St. Gallen, Switzerland'],\n",
       " ['Eidg. Anstalt für Wasserversorgung - EAWAG',\n",
       "  'Überlandstrasse 133, 8600 Dübendorf, Switzerland'],\n",
       " ['Eidg. Material und Prüfungsanstalt - EMPA',\n",
       "  'Lerchenfeldstrasse 5, 9014 St. Gallen, Switzerland'],\n",
       " ['Physikal.-Meteorolog. Observatorium Davos - PMOD',\n",
       "  'Dorfstrasse 33, 7260 Davos Dorf, Switzerland'],\n",
       " ['Berner Fachhochschule - BFH',\n",
       "  'Pestalozzistrasse 20, 3401 Burgdorf, Switzerland'],\n",
       " ['Swiss Center for Electronics and Microtech. - CSEM',\n",
       "  'Rue Jaquet-Droz 1, 2002 Neuchâtel, Switzerland'],\n",
       " ['Weitere Spitäler - ASPIT', ''],\n",
       " ['AO Research Institute - AORI', ''],\n",
       " ['Allergie- und Asthmaforschung - SIAF',\n",
       "  'Obere Str. 22, 7270 Davos Platz, Switzerland'],\n",
       " ['Forschungsinstitut für biologischen Landbau - FIBL',\n",
       "  'Ackerstrasse 113, 5070 Frick, Switzerland'],\n",
       " ['Friedrich Miescher Institute - FMI',\n",
       "  'Maulbeerstrasse 66, 4058 Basel, Switzerland'],\n",
       " ['Kantonsspital St. Gallen - KSPSG',\n",
       "  'Rorschacher Str. 95, 9007 St. Gallen, Switzerland'],\n",
       " ['Forschungsanstalten Agroscope - AGS', ''],\n",
       " ['Ente Ospedaliero Cantonale - EOC',\n",
       "  'Viale Officina 3, Bellinzona, Switzerland'],\n",
       " ['Inst. universit. romand de Santé au Travail - IST',\n",
       "  'Route de la Corniche 2, 1066 Epalinges, Switzerland'],\n",
       " ['Eidg. Hochschulinstitut für Berufsbildung - EHB',\n",
       "  'Kirchlindachstrasse 79, 3052 Zollikofen, Switzerland'],\n",
       " ['Zürcher Fachhochschule (ohne PH) - ZFH', ''],\n",
       " ['Università della Svizzera italiana - USI',\n",
       "  'Via Giuseppe Buffi 13, 6900 Lugano, Switzerland'],\n",
       " ['Institut für Kulturforschung Graubünden - IKG',\n",
       "  'Reichsgasse 10, 7000 Chur, Switzerland'],\n",
       " ['Fachhochschule Nordwestschweiz (ohne PH) - FHNW',\n",
       "  'Von Rollstrasse 10, 4600 Olten, Switzerland'],\n",
       " ['Interkant. Hochschule für Heilpädagogik ZH - HfH',\n",
       "  'Schaffhauserstrasse 239, 8057 Zürich, Switzerland'],\n",
       " [\"Centre de rech. sur l'environnement alpin - CREALP\",\n",
       "  \"Rue de l'Industrie 45, 1950 Sion, Switzerland\"],\n",
       " ['Idiap Research Institute - IDIAP',\n",
       "  'Rue Marconi 19, 1920 Martigny, Switzerland'],\n",
       " ['Pädagogische Hochschule Bern - PHBern',\n",
       "  'Fabrikstrasse 8, 3012 Bern, Switzerland'],\n",
       " ['Institut Universitaire Kurt Bösch - IUKB',\n",
       "  \"Chemin de l'Institut 18, 1967 Bramois, Switzerland\"],\n",
       " ['Schweizer Paraplegiker Forschung - SPF',\n",
       "  'Guido A. Zäch Str. 4, 6207 Nottwil, Switzerland'],\n",
       " ['Hochschule Luzern - HSLU', 'Werftestrasse, 6002 Luzern, Switzerland'],\n",
       " ['Forschungsinstitut für Opthalmologie - IRO',\n",
       "  'Avenue du Grand-Champsec 64, 1950 Sion, Switzerland'],\n",
       " ['Haute école pédagogique du canton de Vaud - HEPL',\n",
       "  '1014, Avenue de Cour 33, 1007 Lausanne, Switzerland'],\n",
       " ['Fachhochschule Ostschweiz - FHO', '9000 St Gallen, Switzerland'],\n",
       " ['Inst. Suisse de Spéléologie et Karstologie - ISSKA',\n",
       "  'Rue de la Serre 68, 2300 La Chaux-de-Fonds, Switzerland'],\n",
       " ['Swiss Institute of Bioinformatics - SIB', ''],\n",
       " ['Haute école pédagogique BE, JU, NE - HEPBEJUNE',\n",
       "  'Route de Moutier 14, 2800 Delémont, Switzerland'],\n",
       " ['Pädagogische Hochschule Luzern - PHLU',\n",
       "  'Pfistergasse 20, 6003 Luzern, Switzerland'],\n",
       " ['Forschungskommission SAGW', ''],\n",
       " ['Istituto Svizzero di Roma - ISR', 'Via Ludovisi, 48, 00187 Roma, Italy'],\n",
       " ['Pädag. Hochschule Tessin (Teilschule SUPSI) - ASP', ''],\n",
       " ['Haute école pédagogique fribourgeoise - HEPFR',\n",
       "  'Rue de Morat 36, 1700 Fribourg, Switzerland'],\n",
       " ['Pädagogische Hochschule Schwyz - PHSZ',\n",
       "  'Zaystrasse 42, 6410 Goldau, Switzerland'],\n",
       " ['Pädagogische Hochschule Thurgau - PHTG',\n",
       "  'Unterer Schulweg 3, 8280 Kreuzlingen, Switzerland'],\n",
       " ['Biotechnologie Institut Thurgau - BITG',\n",
       "  'Unterseestrasse 47, 8280 Kreuzlingen, Switzerland'],\n",
       " ['Fachhochschule Kalaidos - FHKD',\n",
       "  'Jungholzstrasse 43, 8050 Zürich, Switzerland'],\n",
       " ['Schweizer Kompetenzzentrum Sozialwissensch. - FORS', ''],\n",
       " ['Pädagogische Hochschule Wallis - PHVS', ''],\n",
       " ['Schweiz. Hochschule für Logopädie Rorschach - SHLR',\n",
       "  'Seminarstrasse 27, 9400 Rorschach, Switzerland'],\n",
       " ['Pädagogische Hochschule Zug - PHZG',\n",
       "  'Zugerbergstrasse 3, 6301 Zug, Switzerland'],\n",
       " ['Instituto Ricerche Solari Locarno - IRSOL',\n",
       "  'Via Patocchi 57, 6600 Locarno, Switzerland'],\n",
       " ['Franklin University Switzerland - FUS',\n",
       "  'Via Ponte Tresa 29, 6924 Sorengo, Switzerland'],\n",
       " ['Pädagogische Hochschule Schaffhausen - PHSH',\n",
       "  'Ebnatstrasse 80, 8200 Schaffhausen, Switzerland'],\n",
       " ['Pädagogische Hochschule Nordwestschweiz - PHFHNW',\n",
       "  'Von Rollstrasse 10, 4600 Olten, Switzerland'],\n",
       " ['Staatsunabh. Theologische Hochschule Basel - STHB', ''],\n",
       " ['Facoltà di Teologia di Lugano - FTL',\n",
       "  'Via Giuseppe Buffi 13, 6900 Lugano, Switzerland'],\n",
       " ['Fernfachhochschule Schweiz (Mitglied SUPSI) - FFHS',\n",
       "  'Überlandstrasse 12, 3900 Brig, Switzerland']]"
      ]
     },
     "execution_count": 12,
     "metadata": {},
     "output_type": "execute_result"
    }
   ],
   "source": [
    "uni_addresses = [[a, getAddress(a)] for a in uni_names]\n",
    "uni_addresses"
   ]
  },
  {
   "cell_type": "markdown",
   "metadata": {},
   "source": [
    "Now we are going to save the results in a json file for later use."
   ]
  },
  {
   "cell_type": "code",
   "execution_count": 13,
   "metadata": {
    "collapsed": true
   },
   "outputs": [],
   "source": [
    "with open('data/uniaddresses.json', 'w') as outfile:\n",
    "    json.dump(uni_addresses, outfile)"
   ]
  },
  {
   "cell_type": "markdown",
   "metadata": {},
   "source": [
    "Let's analyse the result."
   ]
  },
  {
   "cell_type": "code",
   "execution_count": 14,
   "metadata": {
    "collapsed": true
   },
   "outputs": [],
   "source": [
    "# Filter the universities for which we have no result\n",
    "uni_no_address = [a for a in uni_addresses if a[1] == \"\"]"
   ]
  },
  {
   "cell_type": "code",
   "execution_count": 15,
   "metadata": {
    "collapsed": false
   },
   "outputs": [
    {
     "data": {
      "text/plain": [
       "80.51948051948052"
      ]
     },
     "execution_count": 15,
     "metadata": {},
     "output_type": "execute_result"
    }
   ],
   "source": [
    "# Computing the accuracy\n",
    "(len(uni_addresses)-len(uni_no_address))*100/len(uni_addresses)"
   ]
  },
  {
   "cell_type": "markdown",
   "metadata": {},
   "source": [
    "We have reached an accuracy of 80.52 %. We will need add some of the missing cantons manually to reach the required accuracy (95%)."
   ]
  },
  {
   "cell_type": "code",
   "execution_count": 16,
   "metadata": {
    "collapsed": false
   },
   "outputs": [
    {
     "data": {
      "text/plain": [
       "[['Nicht zuteilbar - NA', ''],\n",
       " ['NPO (Biblioth., Museen, Verwalt.) - NPO', ''],\n",
       " ['Weitere Institute - FINST', ''],\n",
       " ['Firmen/Privatwirtschaft - FP', ''],\n",
       " ['Robert Walser-Stiftung Bern - RWS', ''],\n",
       " ['Weitere Spitäler - ASPIT', ''],\n",
       " ['AO Research Institute - AORI', ''],\n",
       " ['Forschungsanstalten Agroscope - AGS', ''],\n",
       " ['Zürcher Fachhochschule (ohne PH) - ZFH', ''],\n",
       " ['Swiss Institute of Bioinformatics - SIB', ''],\n",
       " ['Forschungskommission SAGW', ''],\n",
       " ['Pädag. Hochschule Tessin (Teilschule SUPSI) - ASP', ''],\n",
       " ['Schweizer Kompetenzzentrum Sozialwissensch. - FORS', ''],\n",
       " ['Pädagogische Hochschule Wallis - PHVS', ''],\n",
       " ['Staatsunabh. Theologische Hochschule Basel - STHB', '']]"
      ]
     },
     "execution_count": 16,
     "metadata": {},
     "output_type": "execute_result"
    }
   ],
   "source": [
    "uni_no_address"
   ]
  },
  {
   "cell_type": "markdown",
   "metadata": {},
   "source": [
    "Let's first get the cantons of the adresses we have using Google Geocode API."
   ]
  },
  {
   "cell_type": "code",
   "execution_count": 17,
   "metadata": {
    "collapsed": false
   },
   "outputs": [],
   "source": [
    "geocodeLink = \"https://maps.googleapis.com/maps/api/geocode/json?sensor=true\"\n",
    "from time import sleep\n",
    "\n",
    "# Get the resulting Json file from the request, and put it in a json dictionary\n",
    "def getGeocodeJsonDictionary(name_university):\n",
    "    long_name = name_university.split(' - ')[0]\n",
    "    link =  u\"{}&address=[{}]\".format(geocodeLink, long_name, gkey)\n",
    "    sleep(0.2) # a workaround for the rate-limit of Google geocode API\n",
    "    r = requests.get(link)\n",
    "    dic = json.loads(r.text)\n",
    "    return dic\n",
    "\n",
    "# Get the canton from the administrative_area_level_1 field in the dictionary\n",
    "def getCantonFromGeocodeDictionary(dic):\n",
    "    a = dic['results'][0]['address_components']\n",
    "    canton=[x['short_name'] for x in a if x['types'][0]=='administrative_area_level_1'][0]   \n",
    "    return canton\n",
    "\n",
    "# Get the canton by composing the two previous functions\n",
    "def getCanton(name_university):\n",
    "    return getCantonFromGeocodeDictionary(getGeocodeJsonDictionary(name_university))"
   ]
  },
  {
   "cell_type": "markdown",
   "metadata": {},
   "source": [
    "We will apply the function getCanton to the adresses we have in uni_address."
   ]
  },
  {
   "cell_type": "code",
   "execution_count": 18,
   "metadata": {
    "collapsed": false
   },
   "outputs": [
    {
     "data": {
      "text/plain": [
       "[['Université de Genève - GE', 'GE'],\n",
       " ['Universität Basel - BS', 'BS'],\n",
       " ['Université de Fribourg - FR', 'FR'],\n",
       " ['Universität Zürich - ZH', 'ZH'],\n",
       " ['Université de Lausanne - LA', 'VD'],\n",
       " ['Universität Bern - BE', 'BE'],\n",
       " ['Eidg. Forschungsanstalt für Wald,Schnee,Land - WSL', 'ZH'],\n",
       " ['Université de Neuchâtel - NE', 'NE'],\n",
       " ['ETH Zürich - ETHZ', 'ZH'],\n",
       " ['Inst. de Hautes Etudes Internat. et du Dév - IHEID', 'Genève'],\n",
       " ['Universität St. Gallen - SG', 'SG'],\n",
       " ['Pädagogische Hochschule Graubünden - PHGR', 'GR'],\n",
       " ['EPF Lausanne - EPFL', 'VD'],\n",
       " ['Pädagogische Hochschule Zürich - PHZFH', 'ZH'],\n",
       " ['Universität Luzern - LU', 'LU'],\n",
       " ['Schweiz. Institut für Kunstwissenschaft - SIK-ISEA', 'ZH'],\n",
       " ['SUP della Svizzera italiana - SUPSI', 'TI'],\n",
       " ['HES de Suisse occidentale - HES-SO', 'JU'],\n",
       " ['Paul Scherrer Institut - PSI', 'AG'],\n",
       " ['Pädagogische Hochschule St. Gallen - PHSG', 'SG'],\n",
       " ['Eidg. Anstalt für Wasserversorgung - EAWAG', 'ZH'],\n",
       " ['Eidg. Material und Prüfungsanstalt - EMPA', 'SG'],\n",
       " ['Physikal.-Meteorolog. Observatorium Davos - PMOD', 'GR'],\n",
       " ['Berner Fachhochschule - BFH', 'BE'],\n",
       " ['Swiss Center for Electronics and Microtech. - CSEM', 'NE'],\n",
       " ['Allergie- und Asthmaforschung - SIAF', 'GR'],\n",
       " ['Forschungsinstitut für biologischen Landbau - FIBL', 'AG'],\n",
       " ['Friedrich Miescher Institute - FMI', 'BS'],\n",
       " ['Kantonsspital St. Gallen - KSPSG', 'SG'],\n",
       " ['Ente Ospedaliero Cantonale - EOC', 'TI'],\n",
       " ['Inst. universit. romand de Santé au Travail - IST', 'VD'],\n",
       " ['Eidg. Hochschulinstitut für Berufsbildung - EHB', 'BE'],\n",
       " ['Università della Svizzera italiana - USI', 'TI'],\n",
       " ['Institut für Kulturforschung Graubünden - IKG', 'GR'],\n",
       " ['Fachhochschule Nordwestschweiz (ohne PH) - FHNW', 'SO'],\n",
       " ['Interkant. Hochschule für Heilpädagogik ZH - HfH', 'ZH'],\n",
       " [\"Centre de rech. sur l'environnement alpin - CREALP\", 'VS'],\n",
       " ['Idiap Research Institute - IDIAP', 'VS'],\n",
       " ['Pädagogische Hochschule Bern - PHBern', 'BE'],\n",
       " ['Institut Universitaire Kurt Bösch - IUKB', 'VS'],\n",
       " ['Schweizer Paraplegiker Forschung - SPF', 'LU'],\n",
       " ['Hochschule Luzern - HSLU', 'LU'],\n",
       " ['Forschungsinstitut für Opthalmologie - IRO', 'VS'],\n",
       " ['Haute école pédagogique du canton de Vaud - HEPL', 'VD'],\n",
       " ['Fachhochschule Ostschweiz - FHO', 'SG'],\n",
       " ['Inst. Suisse de Spéléologie et Karstologie - ISSKA', 'NE'],\n",
       " ['Haute école pédagogique BE, JU, NE - HEPBEJUNE', 'JU'],\n",
       " ['Pädagogische Hochschule Luzern - PHLU', 'LU'],\n",
       " ['Istituto Svizzero di Roma - ISR', 'Lazio'],\n",
       " ['Haute école pédagogique fribourgeoise - HEPFR', 'FR'],\n",
       " ['Pädagogische Hochschule Schwyz - PHSZ', 'SZ'],\n",
       " ['Pädagogische Hochschule Thurgau - PHTG', 'TG'],\n",
       " ['Biotechnologie Institut Thurgau - BITG', 'TG'],\n",
       " ['Fachhochschule Kalaidos - FHKD', 'ZH'],\n",
       " ['Schweiz. Hochschule für Logopädie Rorschach - SHLR', 'SG'],\n",
       " ['Pädagogische Hochschule Zug - PHZG', 'ZG'],\n",
       " ['Instituto Ricerche Solari Locarno - IRSOL', 'TI'],\n",
       " ['Franklin University Switzerland - FUS', 'TI'],\n",
       " ['Pädagogische Hochschule Schaffhausen - PHSH', 'SH'],\n",
       " ['Pädagogische Hochschule Nordwestschweiz - PHFHNW', 'SO'],\n",
       " ['Facoltà di Teologia di Lugano - FTL', 'TI'],\n",
       " ['Fernfachhochschule Schweiz (Mitglied SUPSI) - FFHS', 'VS']]"
      ]
     },
     "execution_count": 18,
     "metadata": {},
     "output_type": "execute_result"
    }
   ],
   "source": [
    "uni_cantons = [[a[0], getCanton(a[1])] for a in uni_addresses if a[1] != \"\"]\n",
    "uni_cantons"
   ]
  },
  {
   "cell_type": "markdown",
   "metadata": {},
   "source": [
    "We possess now a list of universities and the cantons in which they are localized.\n",
    "We will save the results in json files for later use."
   ]
  },
  {
   "cell_type": "code",
   "execution_count": 19,
   "metadata": {
    "collapsed": true
   },
   "outputs": [],
   "source": [
    "with open('data/unicantons-auto.json', 'w') as outfile:\n",
    "    json.dump(uni_cantons, outfile)\n",
    "    \n",
    "with open('data/unicantons-notspecified.json', 'w') as outfile:\n",
    "    json.dump(uni_no_address, outfile)"
   ]
  },
  {
   "cell_type": "markdown",
   "metadata": {},
   "source": [
    "The 'unicantons-auto.json' file contains the cantons generated by the API, and the 'unicantons-manual.json' contains those provided manually."
   ]
  },
  {
   "cell_type": "code",
   "execution_count": 20,
   "metadata": {
    "collapsed": true
   },
   "outputs": [],
   "source": [
    "uni_cantons_auto=json.load(open('data/unicantons-auto.json'))\n",
    "uni_cantons_man=json.load(open('data/unicantons-manual.json'))"
   ]
  },
  {
   "cell_type": "markdown",
   "metadata": {},
   "source": [
    "Let's have a look on the manually added cantons.\n",
    "\n",
    "Some of them are correcting previous results :\n",
    "- for 'Inst. de Hautes Etudes Internat. et du Dév - IHEID' we have got Genève in the canton name, it should be 'GE'.\n",
    "- 'Istituto Svizzero di Roma - ISR' is not in Switzerland, it should be Nan.\n",
    "\n",
    "Some of them are Nas because they can not be assigned to a specific cantons : \n",
    "- Weitere Spit\\xe4ler - ASPIT : other hospitals\n",
    "- NPO (Biblioth., Museen, Verwalt.) - NPO : biblotheques, museems etc\n",
    "- Firmen/Privatwirtschaft - FP : companies, private sectors\n",
    "- etc\n",
    "We decided to not consider these informations."
   ]
  },
  {
   "cell_type": "code",
   "execution_count": 21,
   "metadata": {
    "collapsed": false
   },
   "outputs": [
    {
     "data": {
      "text/plain": [
       "[['Weitere Spitäler - ASPIT', ''],\n",
       " ['Forschungskommission SAGW', 'BE'],\n",
       " ['NPO (Biblioth., Museen, Verwalt.) - NPO', ''],\n",
       " ['Nicht zuteilbar - NA', ''],\n",
       " ['Firmen/Privatwirtschaft - FP', ''],\n",
       " ['Robert Walser-Stiftung Bern - RWS', 'BE'],\n",
       " ['Zürcher Fachhochschule (ohne PH) - ZFH', 'ZH'],\n",
       " ['Forschungsanstalten Agroscope - AGS', 'ZH'],\n",
       " ['Swiss Institute of Bioinformatics - SIB', 'VD'],\n",
       " ['Weitere Institute - FINST', 'BS'],\n",
       " ['AO Research Institute - AORI', 'GR'],\n",
       " ['Schweizer Kompetenzzentrum Sozialwissensch. - FORS', 'VD'],\n",
       " ['Pädagogische Hochschule Wallis - PHVS', 'VS'],\n",
       " ['Pädag. Hochschule Tessin (Teilschule SUPSI) - ASP', 'TI'],\n",
       " ['Staatsunabh. Theologische Hochschule Basel - STHB', 'BS'],\n",
       " ['Inst. de Hautes Etudes Internat. et du Dév - IHEID', 'GE'],\n",
       " ['Istituto Svizzero di Roma - ISR', '']]"
      ]
     },
     "execution_count": 21,
     "metadata": {},
     "output_type": "execute_result"
    }
   ],
   "source": [
    "uni_cantons_man"
   ]
  },
  {
   "cell_type": "markdown",
   "metadata": {},
   "source": [
    "We are now going to concatenate the two files into one unique variable combining all the informations."
   ]
  },
  {
   "cell_type": "code",
   "execution_count": 22,
   "metadata": {
    "collapsed": false
   },
   "outputs": [
    {
     "data": {
      "text/plain": [
       "[['Weitere Spitäler - ASPIT', ''],\n",
       " ['Forschungskommission SAGW', 'BE'],\n",
       " ['NPO (Biblioth., Museen, Verwalt.) - NPO', ''],\n",
       " ['Nicht zuteilbar - NA', ''],\n",
       " ['Firmen/Privatwirtschaft - FP', ''],\n",
       " ['Robert Walser-Stiftung Bern - RWS', 'BE'],\n",
       " ['Zürcher Fachhochschule (ohne PH) - ZFH', 'ZH'],\n",
       " ['Forschungsanstalten Agroscope - AGS', 'ZH'],\n",
       " ['Swiss Institute of Bioinformatics - SIB', 'VD'],\n",
       " ['Weitere Institute - FINST', 'BS'],\n",
       " ['AO Research Institute - AORI', 'GR'],\n",
       " ['Schweizer Kompetenzzentrum Sozialwissensch. - FORS', 'VD'],\n",
       " ['Pädagogische Hochschule Wallis - PHVS', 'VS'],\n",
       " ['Pädag. Hochschule Tessin (Teilschule SUPSI) - ASP', 'TI'],\n",
       " ['Staatsunabh. Theologische Hochschule Basel - STHB', 'BS'],\n",
       " ['Inst. de Hautes Etudes Internat. et du Dév - IHEID', 'GE'],\n",
       " ['Istituto Svizzero di Roma - ISR', ''],\n",
       " ['Université de Genève - GE', 'GE'],\n",
       " ['Universität Basel - BS', 'BS'],\n",
       " ['Université de Fribourg - FR', 'FR'],\n",
       " ['Universität Zürich - ZH', 'ZH'],\n",
       " ['Université de Lausanne - LA', 'VD'],\n",
       " ['Universität Bern - BE', 'BE'],\n",
       " ['Eidg. Forschungsanstalt für Wald,Schnee,Land - WSL', 'ZH'],\n",
       " ['Université de Neuchâtel - NE', 'NE'],\n",
       " ['ETH Zürich - ETHZ', 'ZH'],\n",
       " ['Inst. de Hautes Etudes Internat. et du Dév - IHEID', 'Genève'],\n",
       " ['Universität St. Gallen - SG', 'SG'],\n",
       " ['Pädagogische Hochschule Graubünden - PHGR', 'GR'],\n",
       " ['EPF Lausanne - EPFL', 'VD'],\n",
       " ['Pädagogische Hochschule Zürich - PHZFH', 'ZH'],\n",
       " ['Universität Luzern - LU', 'LU'],\n",
       " ['Schweiz. Institut für Kunstwissenschaft - SIK-ISEA', 'ZH'],\n",
       " ['SUP della Svizzera italiana - SUPSI', 'TI'],\n",
       " ['HES de Suisse occidentale - HES-SO', 'JU'],\n",
       " ['Paul Scherrer Institut - PSI', 'AG'],\n",
       " ['Pädagogische Hochschule St. Gallen - PHSG', 'SG'],\n",
       " ['Eidg. Anstalt für Wasserversorgung - EAWAG', 'ZH'],\n",
       " ['Eidg. Material und Prüfungsanstalt - EMPA', 'SG'],\n",
       " ['Physikal.-Meteorolog. Observatorium Davos - PMOD', 'GR'],\n",
       " ['Berner Fachhochschule - BFH', 'BE'],\n",
       " ['Swiss Center for Electronics and Microtech. - CSEM', 'NE'],\n",
       " ['Allergie- und Asthmaforschung - SIAF', 'GR'],\n",
       " ['Forschungsinstitut für biologischen Landbau - FIBL', 'AG'],\n",
       " ['Friedrich Miescher Institute - FMI', 'BS'],\n",
       " ['Kantonsspital St. Gallen - KSPSG', 'SG'],\n",
       " ['Ente Ospedaliero Cantonale - EOC', 'TI'],\n",
       " ['Inst. universit. romand de Santé au Travail - IST', 'VD'],\n",
       " ['Eidg. Hochschulinstitut für Berufsbildung - EHB', 'BE'],\n",
       " ['Università della Svizzera italiana - USI', 'TI'],\n",
       " ['Institut für Kulturforschung Graubünden - IKG', 'GR'],\n",
       " ['Fachhochschule Nordwestschweiz (ohne PH) - FHNW', 'SO'],\n",
       " ['Interkant. Hochschule für Heilpädagogik ZH - HfH', 'ZH'],\n",
       " [\"Centre de rech. sur l'environnement alpin - CREALP\", 'VS'],\n",
       " ['Idiap Research Institute - IDIAP', 'VS'],\n",
       " ['Pädagogische Hochschule Bern - PHBern', 'BE'],\n",
       " ['Institut Universitaire Kurt Bösch - IUKB', 'VS'],\n",
       " ['Schweizer Paraplegiker Forschung - SPF', 'LU'],\n",
       " ['Hochschule Luzern - HSLU', 'LU'],\n",
       " ['Forschungsinstitut für Opthalmologie - IRO', 'VS'],\n",
       " ['Haute école pédagogique du canton de Vaud - HEPL', 'VD'],\n",
       " ['Fachhochschule Ostschweiz - FHO', 'SG'],\n",
       " ['Inst. Suisse de Spéléologie et Karstologie - ISSKA', 'NE'],\n",
       " ['Haute école pédagogique BE, JU, NE - HEPBEJUNE', 'JU'],\n",
       " ['Pädagogische Hochschule Luzern - PHLU', 'LU'],\n",
       " ['Istituto Svizzero di Roma - ISR', 'Lazio'],\n",
       " ['Haute école pédagogique fribourgeoise - HEPFR', 'FR'],\n",
       " ['Pädagogische Hochschule Schwyz - PHSZ', 'SZ'],\n",
       " ['Pädagogische Hochschule Thurgau - PHTG', 'TG'],\n",
       " ['Biotechnologie Institut Thurgau - BITG', 'TG'],\n",
       " ['Fachhochschule Kalaidos - FHKD', 'ZH'],\n",
       " ['Schweiz. Hochschule für Logopädie Rorschach - SHLR', 'SG'],\n",
       " ['Pädagogische Hochschule Zug - PHZG', 'ZG'],\n",
       " ['Instituto Ricerche Solari Locarno - IRSOL', 'TI'],\n",
       " ['Franklin University Switzerland - FUS', 'TI'],\n",
       " ['Pädagogische Hochschule Schaffhausen - PHSH', 'SH'],\n",
       " ['Pädagogische Hochschule Nordwestschweiz - PHFHNW', 'SO'],\n",
       " ['Facoltà di Teologia di Lugano - FTL', 'TI'],\n",
       " ['Fernfachhochschule Schweiz (Mitglied SUPSI) - FFHS', 'VS']]"
      ]
     },
     "execution_count": 22,
     "metadata": {},
     "output_type": "execute_result"
    }
   ],
   "source": [
    "uni_cantons_all=uni_cantons_man+uni_cantons_auto\n",
    "uni_cantons_all"
   ]
  },
  {
   "cell_type": "markdown",
   "metadata": {},
   "source": [
    "We will put the results into a dataframe composed of two columns : 'University' and 'Canton'."
   ]
  },
  {
   "cell_type": "code",
   "execution_count": 25,
   "metadata": {
    "collapsed": false
   },
   "outputs": [
    {
     "data": {
      "text/html": [
       "<div>\n",
       "<table border=\"1\" class=\"dataframe\">\n",
       "  <thead>\n",
       "    <tr style=\"text-align: right;\">\n",
       "      <th></th>\n",
       "      <th>University</th>\n",
       "      <th>Canton</th>\n",
       "    </tr>\n",
       "  </thead>\n",
       "  <tbody>\n",
       "    <tr>\n",
       "      <th>1</th>\n",
       "      <td>b'Forschungskommission SAGW'</td>\n",
       "      <td>BE</td>\n",
       "    </tr>\n",
       "    <tr>\n",
       "      <th>5</th>\n",
       "      <td>b'Robert Walser-Stiftung Bern - RWS'</td>\n",
       "      <td>BE</td>\n",
       "    </tr>\n",
       "    <tr>\n",
       "      <th>6</th>\n",
       "      <td>b'Z\\xc3\\xbcrcher Fachhochschule (ohne PH) - ZFH'</td>\n",
       "      <td>ZH</td>\n",
       "    </tr>\n",
       "    <tr>\n",
       "      <th>7</th>\n",
       "      <td>b'Forschungsanstalten Agroscope - AGS'</td>\n",
       "      <td>ZH</td>\n",
       "    </tr>\n",
       "    <tr>\n",
       "      <th>8</th>\n",
       "      <td>b'Swiss Institute of Bioinformatics - SIB'</td>\n",
       "      <td>VD</td>\n",
       "    </tr>\n",
       "    <tr>\n",
       "      <th>9</th>\n",
       "      <td>b'Weitere Institute - FINST'</td>\n",
       "      <td>BS</td>\n",
       "    </tr>\n",
       "    <tr>\n",
       "      <th>10</th>\n",
       "      <td>b'AO Research Institute - AORI'</td>\n",
       "      <td>GR</td>\n",
       "    </tr>\n",
       "    <tr>\n",
       "      <th>11</th>\n",
       "      <td>b'Schweizer Kompetenzzentrum Sozialwissensch. ...</td>\n",
       "      <td>VD</td>\n",
       "    </tr>\n",
       "    <tr>\n",
       "      <th>12</th>\n",
       "      <td>b'P\\xc3\\xa4dagogische Hochschule Wallis - PHVS'</td>\n",
       "      <td>VS</td>\n",
       "    </tr>\n",
       "    <tr>\n",
       "      <th>13</th>\n",
       "      <td>b'P\\xc3\\xa4dag. Hochschule Tessin (Teilschule ...</td>\n",
       "      <td>TI</td>\n",
       "    </tr>\n",
       "    <tr>\n",
       "      <th>14</th>\n",
       "      <td>b'Staatsunabh. Theologische Hochschule Basel -...</td>\n",
       "      <td>BS</td>\n",
       "    </tr>\n",
       "    <tr>\n",
       "      <th>15</th>\n",
       "      <td>b'Inst. de Hautes Etudes Internat. et du D\\xc3...</td>\n",
       "      <td>GE</td>\n",
       "    </tr>\n",
       "    <tr>\n",
       "      <th>17</th>\n",
       "      <td>b'Universit\\xc3\\xa9 de Gen\\xc3\\xa8ve - GE'</td>\n",
       "      <td>GE</td>\n",
       "    </tr>\n",
       "    <tr>\n",
       "      <th>18</th>\n",
       "      <td>b'Universit\\xc3\\xa4t Basel - BS'</td>\n",
       "      <td>BS</td>\n",
       "    </tr>\n",
       "    <tr>\n",
       "      <th>19</th>\n",
       "      <td>b'Universit\\xc3\\xa9 de Fribourg - FR'</td>\n",
       "      <td>FR</td>\n",
       "    </tr>\n",
       "    <tr>\n",
       "      <th>20</th>\n",
       "      <td>b'Universit\\xc3\\xa4t Z\\xc3\\xbcrich - ZH'</td>\n",
       "      <td>ZH</td>\n",
       "    </tr>\n",
       "    <tr>\n",
       "      <th>21</th>\n",
       "      <td>b'Universit\\xc3\\xa9 de Lausanne - LA'</td>\n",
       "      <td>VD</td>\n",
       "    </tr>\n",
       "    <tr>\n",
       "      <th>22</th>\n",
       "      <td>b'Universit\\xc3\\xa4t Bern - BE'</td>\n",
       "      <td>BE</td>\n",
       "    </tr>\n",
       "    <tr>\n",
       "      <th>23</th>\n",
       "      <td>b'Eidg. Forschungsanstalt f\\xc3\\xbcr Wald,Schn...</td>\n",
       "      <td>ZH</td>\n",
       "    </tr>\n",
       "    <tr>\n",
       "      <th>24</th>\n",
       "      <td>b'Universit\\xc3\\xa9 de Neuch\\xc3\\xa2tel - NE'</td>\n",
       "      <td>NE</td>\n",
       "    </tr>\n",
       "    <tr>\n",
       "      <th>25</th>\n",
       "      <td>b'ETH Z\\xc3\\xbcrich - ETHZ'</td>\n",
       "      <td>ZH</td>\n",
       "    </tr>\n",
       "    <tr>\n",
       "      <th>27</th>\n",
       "      <td>b'Universit\\xc3\\xa4t St. Gallen - SG'</td>\n",
       "      <td>SG</td>\n",
       "    </tr>\n",
       "    <tr>\n",
       "      <th>28</th>\n",
       "      <td>b'P\\xc3\\xa4dagogische Hochschule Graub\\xc3\\xbc...</td>\n",
       "      <td>GR</td>\n",
       "    </tr>\n",
       "    <tr>\n",
       "      <th>29</th>\n",
       "      <td>b'EPF Lausanne - EPFL'</td>\n",
       "      <td>VD</td>\n",
       "    </tr>\n",
       "    <tr>\n",
       "      <th>30</th>\n",
       "      <td>b'P\\xc3\\xa4dagogische Hochschule Z\\xc3\\xbcrich...</td>\n",
       "      <td>ZH</td>\n",
       "    </tr>\n",
       "    <tr>\n",
       "      <th>31</th>\n",
       "      <td>b'Universit\\xc3\\xa4t Luzern - LU'</td>\n",
       "      <td>LU</td>\n",
       "    </tr>\n",
       "    <tr>\n",
       "      <th>32</th>\n",
       "      <td>b'Schweiz. Institut f\\xc3\\xbcr Kunstwissenscha...</td>\n",
       "      <td>ZH</td>\n",
       "    </tr>\n",
       "    <tr>\n",
       "      <th>33</th>\n",
       "      <td>b'SUP della Svizzera italiana - SUPSI'</td>\n",
       "      <td>TI</td>\n",
       "    </tr>\n",
       "    <tr>\n",
       "      <th>34</th>\n",
       "      <td>b'HES de Suisse occidentale - HES-SO'</td>\n",
       "      <td>JU</td>\n",
       "    </tr>\n",
       "    <tr>\n",
       "      <th>35</th>\n",
       "      <td>b'Paul Scherrer Institut - PSI'</td>\n",
       "      <td>AG</td>\n",
       "    </tr>\n",
       "    <tr>\n",
       "      <th>...</th>\n",
       "      <td>...</td>\n",
       "      <td>...</td>\n",
       "    </tr>\n",
       "    <tr>\n",
       "      <th>48</th>\n",
       "      <td>b'Eidg. Hochschulinstitut f\\xc3\\xbcr Berufsbil...</td>\n",
       "      <td>BE</td>\n",
       "    </tr>\n",
       "    <tr>\n",
       "      <th>49</th>\n",
       "      <td>b'Universit\\xc3\\xa0 della Svizzera italiana - ...</td>\n",
       "      <td>TI</td>\n",
       "    </tr>\n",
       "    <tr>\n",
       "      <th>50</th>\n",
       "      <td>b'Institut f\\xc3\\xbcr Kulturforschung Graub\\xc...</td>\n",
       "      <td>GR</td>\n",
       "    </tr>\n",
       "    <tr>\n",
       "      <th>51</th>\n",
       "      <td>b'Fachhochschule Nordwestschweiz (ohne PH) - F...</td>\n",
       "      <td>SO</td>\n",
       "    </tr>\n",
       "    <tr>\n",
       "      <th>52</th>\n",
       "      <td>b'Interkant. Hochschule f\\xc3\\xbcr Heilp\\xc3\\x...</td>\n",
       "      <td>ZH</td>\n",
       "    </tr>\n",
       "    <tr>\n",
       "      <th>53</th>\n",
       "      <td>b\"Centre de rech. sur l'environnement alpin - ...</td>\n",
       "      <td>VS</td>\n",
       "    </tr>\n",
       "    <tr>\n",
       "      <th>54</th>\n",
       "      <td>b'Idiap Research Institute - IDIAP'</td>\n",
       "      <td>VS</td>\n",
       "    </tr>\n",
       "    <tr>\n",
       "      <th>55</th>\n",
       "      <td>b'P\\xc3\\xa4dagogische Hochschule Bern - PHBern'</td>\n",
       "      <td>BE</td>\n",
       "    </tr>\n",
       "    <tr>\n",
       "      <th>56</th>\n",
       "      <td>b'Institut Universitaire Kurt B\\xc3\\xb6sch - I...</td>\n",
       "      <td>VS</td>\n",
       "    </tr>\n",
       "    <tr>\n",
       "      <th>57</th>\n",
       "      <td>b'Schweizer Paraplegiker Forschung - SPF'</td>\n",
       "      <td>LU</td>\n",
       "    </tr>\n",
       "    <tr>\n",
       "      <th>58</th>\n",
       "      <td>b'Hochschule Luzern - HSLU'</td>\n",
       "      <td>LU</td>\n",
       "    </tr>\n",
       "    <tr>\n",
       "      <th>59</th>\n",
       "      <td>b'Forschungsinstitut f\\xc3\\xbcr Opthalmologie ...</td>\n",
       "      <td>VS</td>\n",
       "    </tr>\n",
       "    <tr>\n",
       "      <th>60</th>\n",
       "      <td>b'Haute \\xc3\\xa9cole p\\xc3\\xa9dagogique du can...</td>\n",
       "      <td>VD</td>\n",
       "    </tr>\n",
       "    <tr>\n",
       "      <th>61</th>\n",
       "      <td>b'Fachhochschule Ostschweiz - FHO'</td>\n",
       "      <td>SG</td>\n",
       "    </tr>\n",
       "    <tr>\n",
       "      <th>62</th>\n",
       "      <td>b'Inst. Suisse de Sp\\xc3\\xa9l\\xc3\\xa9ologie et...</td>\n",
       "      <td>NE</td>\n",
       "    </tr>\n",
       "    <tr>\n",
       "      <th>63</th>\n",
       "      <td>b'Haute \\xc3\\xa9cole p\\xc3\\xa9dagogique BE, JU...</td>\n",
       "      <td>JU</td>\n",
       "    </tr>\n",
       "    <tr>\n",
       "      <th>64</th>\n",
       "      <td>b'P\\xc3\\xa4dagogische Hochschule Luzern - PHLU'</td>\n",
       "      <td>LU</td>\n",
       "    </tr>\n",
       "    <tr>\n",
       "      <th>66</th>\n",
       "      <td>b'Haute \\xc3\\xa9cole p\\xc3\\xa9dagogique fribou...</td>\n",
       "      <td>FR</td>\n",
       "    </tr>\n",
       "    <tr>\n",
       "      <th>67</th>\n",
       "      <td>b'P\\xc3\\xa4dagogische Hochschule Schwyz - PHSZ'</td>\n",
       "      <td>SZ</td>\n",
       "    </tr>\n",
       "    <tr>\n",
       "      <th>68</th>\n",
       "      <td>b'P\\xc3\\xa4dagogische Hochschule Thurgau - PHTG'</td>\n",
       "      <td>TG</td>\n",
       "    </tr>\n",
       "    <tr>\n",
       "      <th>69</th>\n",
       "      <td>b'Biotechnologie Institut Thurgau - BITG'</td>\n",
       "      <td>TG</td>\n",
       "    </tr>\n",
       "    <tr>\n",
       "      <th>70</th>\n",
       "      <td>b'Fachhochschule Kalaidos - FHKD'</td>\n",
       "      <td>ZH</td>\n",
       "    </tr>\n",
       "    <tr>\n",
       "      <th>71</th>\n",
       "      <td>b'Schweiz. Hochschule f\\xc3\\xbcr Logop\\xc3\\xa4...</td>\n",
       "      <td>SG</td>\n",
       "    </tr>\n",
       "    <tr>\n",
       "      <th>72</th>\n",
       "      <td>b'P\\xc3\\xa4dagogische Hochschule Zug - PHZG'</td>\n",
       "      <td>ZG</td>\n",
       "    </tr>\n",
       "    <tr>\n",
       "      <th>73</th>\n",
       "      <td>b'Instituto Ricerche Solari Locarno - IRSOL'</td>\n",
       "      <td>TI</td>\n",
       "    </tr>\n",
       "    <tr>\n",
       "      <th>74</th>\n",
       "      <td>b'Franklin University Switzerland - FUS'</td>\n",
       "      <td>TI</td>\n",
       "    </tr>\n",
       "    <tr>\n",
       "      <th>75</th>\n",
       "      <td>b'P\\xc3\\xa4dagogische Hochschule Schaffhausen ...</td>\n",
       "      <td>SH</td>\n",
       "    </tr>\n",
       "    <tr>\n",
       "      <th>76</th>\n",
       "      <td>b'P\\xc3\\xa4dagogische Hochschule Nordwestschwe...</td>\n",
       "      <td>SO</td>\n",
       "    </tr>\n",
       "    <tr>\n",
       "      <th>77</th>\n",
       "      <td>b'Facolt\\xc3\\xa0 di Teologia di Lugano - FTL'</td>\n",
       "      <td>TI</td>\n",
       "    </tr>\n",
       "    <tr>\n",
       "      <th>78</th>\n",
       "      <td>b'Fernfachhochschule Schweiz (Mitglied SUPSI) ...</td>\n",
       "      <td>VS</td>\n",
       "    </tr>\n",
       "  </tbody>\n",
       "</table>\n",
       "<p>72 rows × 2 columns</p>\n",
       "</div>"
      ],
      "text/plain": [
       "                                           University Canton\n",
       "1                        b'Forschungskommission SAGW'     BE\n",
       "5                b'Robert Walser-Stiftung Bern - RWS'     BE\n",
       "6    b'Z\\xc3\\xbcrcher Fachhochschule (ohne PH) - ZFH'     ZH\n",
       "7              b'Forschungsanstalten Agroscope - AGS'     ZH\n",
       "8          b'Swiss Institute of Bioinformatics - SIB'     VD\n",
       "9                        b'Weitere Institute - FINST'     BS\n",
       "10                    b'AO Research Institute - AORI'     GR\n",
       "11  b'Schweizer Kompetenzzentrum Sozialwissensch. ...     VD\n",
       "12    b'P\\xc3\\xa4dagogische Hochschule Wallis - PHVS'     VS\n",
       "13  b'P\\xc3\\xa4dag. Hochschule Tessin (Teilschule ...     TI\n",
       "14  b'Staatsunabh. Theologische Hochschule Basel -...     BS\n",
       "15  b'Inst. de Hautes Etudes Internat. et du D\\xc3...     GE\n",
       "17         b'Universit\\xc3\\xa9 de Gen\\xc3\\xa8ve - GE'     GE\n",
       "18                   b'Universit\\xc3\\xa4t Basel - BS'     BS\n",
       "19              b'Universit\\xc3\\xa9 de Fribourg - FR'     FR\n",
       "20           b'Universit\\xc3\\xa4t Z\\xc3\\xbcrich - ZH'     ZH\n",
       "21              b'Universit\\xc3\\xa9 de Lausanne - LA'     VD\n",
       "22                    b'Universit\\xc3\\xa4t Bern - BE'     BE\n",
       "23  b'Eidg. Forschungsanstalt f\\xc3\\xbcr Wald,Schn...     ZH\n",
       "24      b'Universit\\xc3\\xa9 de Neuch\\xc3\\xa2tel - NE'     NE\n",
       "25                        b'ETH Z\\xc3\\xbcrich - ETHZ'     ZH\n",
       "27              b'Universit\\xc3\\xa4t St. Gallen - SG'     SG\n",
       "28  b'P\\xc3\\xa4dagogische Hochschule Graub\\xc3\\xbc...     GR\n",
       "29                             b'EPF Lausanne - EPFL'     VD\n",
       "30  b'P\\xc3\\xa4dagogische Hochschule Z\\xc3\\xbcrich...     ZH\n",
       "31                  b'Universit\\xc3\\xa4t Luzern - LU'     LU\n",
       "32  b'Schweiz. Institut f\\xc3\\xbcr Kunstwissenscha...     ZH\n",
       "33             b'SUP della Svizzera italiana - SUPSI'     TI\n",
       "34              b'HES de Suisse occidentale - HES-SO'     JU\n",
       "35                    b'Paul Scherrer Institut - PSI'     AG\n",
       "..                                                ...    ...\n",
       "48  b'Eidg. Hochschulinstitut f\\xc3\\xbcr Berufsbil...     BE\n",
       "49  b'Universit\\xc3\\xa0 della Svizzera italiana - ...     TI\n",
       "50  b'Institut f\\xc3\\xbcr Kulturforschung Graub\\xc...     GR\n",
       "51  b'Fachhochschule Nordwestschweiz (ohne PH) - F...     SO\n",
       "52  b'Interkant. Hochschule f\\xc3\\xbcr Heilp\\xc3\\x...     ZH\n",
       "53  b\"Centre de rech. sur l'environnement alpin - ...     VS\n",
       "54                b'Idiap Research Institute - IDIAP'     VS\n",
       "55    b'P\\xc3\\xa4dagogische Hochschule Bern - PHBern'     BE\n",
       "56  b'Institut Universitaire Kurt B\\xc3\\xb6sch - I...     VS\n",
       "57          b'Schweizer Paraplegiker Forschung - SPF'     LU\n",
       "58                        b'Hochschule Luzern - HSLU'     LU\n",
       "59  b'Forschungsinstitut f\\xc3\\xbcr Opthalmologie ...     VS\n",
       "60  b'Haute \\xc3\\xa9cole p\\xc3\\xa9dagogique du can...     VD\n",
       "61                 b'Fachhochschule Ostschweiz - FHO'     SG\n",
       "62  b'Inst. Suisse de Sp\\xc3\\xa9l\\xc3\\xa9ologie et...     NE\n",
       "63  b'Haute \\xc3\\xa9cole p\\xc3\\xa9dagogique BE, JU...     JU\n",
       "64    b'P\\xc3\\xa4dagogische Hochschule Luzern - PHLU'     LU\n",
       "66  b'Haute \\xc3\\xa9cole p\\xc3\\xa9dagogique fribou...     FR\n",
       "67    b'P\\xc3\\xa4dagogische Hochschule Schwyz - PHSZ'     SZ\n",
       "68   b'P\\xc3\\xa4dagogische Hochschule Thurgau - PHTG'     TG\n",
       "69          b'Biotechnologie Institut Thurgau - BITG'     TG\n",
       "70                  b'Fachhochschule Kalaidos - FHKD'     ZH\n",
       "71  b'Schweiz. Hochschule f\\xc3\\xbcr Logop\\xc3\\xa4...     SG\n",
       "72       b'P\\xc3\\xa4dagogische Hochschule Zug - PHZG'     ZG\n",
       "73       b'Instituto Ricerche Solari Locarno - IRSOL'     TI\n",
       "74           b'Franklin University Switzerland - FUS'     TI\n",
       "75  b'P\\xc3\\xa4dagogische Hochschule Schaffhausen ...     SH\n",
       "76  b'P\\xc3\\xa4dagogische Hochschule Nordwestschwe...     SO\n",
       "77      b'Facolt\\xc3\\xa0 di Teologia di Lugano - FTL'     TI\n",
       "78  b'Fernfachhochschule Schweiz (Mitglied SUPSI) ...     VS\n",
       "\n",
       "[72 rows x 2 columns]"
      ]
     },
     "execution_count": 25,
     "metadata": {},
     "output_type": "execute_result"
    }
   ],
   "source": [
    "df_uni_cantons=pd.DataFrame(uni_cantons_all, columns=['University', 'Canton'])\n",
    "# fixing a unicode issue (special characters)\n",
    "df_uni_cantons[\"University\"]=[a.encode(\"utf-8\") for a in df_uni_cantons[\"University\"]]\n",
    "# overriding manually entered universities\n",
    "df_uni_cantons=df_uni_cantons.drop_duplicates(subset=['University'],keep='first')\n",
    "# remove universities without canton info\n",
    "df_uni_cantons=df_uni_cantons[df_uni_cantons['Canton']!=\"\"]\n",
    "df_uni_cantons"
   ]
  },
  {
   "cell_type": "markdown",
   "metadata": {},
   "source": [
    "We need to merge the canton information into the data."
   ]
  },
  {
   "cell_type": "code",
   "execution_count": 36,
   "metadata": {
    "collapsed": false
   },
   "outputs": [],
   "source": [
    "# fixing a unicode issue (special characters)\n",
    "grant_data[\"University\"]=[a.encode(\"utf-8\") for a in grant_data[\"University\"]]"
   ]
  },
  {
   "cell_type": "code",
   "execution_count": 37,
   "metadata": {
    "collapsed": false
   },
   "outputs": [
    {
     "data": {
      "text/html": [
       "<div>\n",
       "<table border=\"1\" class=\"dataframe\">\n",
       "  <thead>\n",
       "    <tr style=\"text-align: right;\">\n",
       "      <th></th>\n",
       "      <th>University</th>\n",
       "      <th>Approved Amount</th>\n",
       "    </tr>\n",
       "  </thead>\n",
       "  <tbody>\n",
       "    <tr>\n",
       "      <th>0</th>\n",
       "      <td>b'Nicht zuteilbar - NA'</td>\n",
       "      <td>11619.0</td>\n",
       "    </tr>\n",
       "    <tr>\n",
       "      <th>1</th>\n",
       "      <td>b'Universit\\xc3\\xa9 de Gen\\xc3\\xa8ve - GE'</td>\n",
       "      <td>41022.0</td>\n",
       "    </tr>\n",
       "    <tr>\n",
       "      <th>2</th>\n",
       "      <td>b'NPO (Biblioth., Museen, Verwalt.) - NPO'</td>\n",
       "      <td>79732.0</td>\n",
       "    </tr>\n",
       "    <tr>\n",
       "      <th>3</th>\n",
       "      <td>b'Universit\\xc3\\xa4t Basel - BS'</td>\n",
       "      <td>52627.0</td>\n",
       "    </tr>\n",
       "    <tr>\n",
       "      <th>4</th>\n",
       "      <td>b'NPO (Biblioth., Museen, Verwalt.) - NPO'</td>\n",
       "      <td>120042.0</td>\n",
       "    </tr>\n",
       "  </tbody>\n",
       "</table>\n",
       "</div>"
      ],
      "text/plain": [
       "                                   University  Approved Amount\n",
       "0                     b'Nicht zuteilbar - NA'          11619.0\n",
       "1  b'Universit\\xc3\\xa9 de Gen\\xc3\\xa8ve - GE'          41022.0\n",
       "2  b'NPO (Biblioth., Museen, Verwalt.) - NPO'          79732.0\n",
       "3            b'Universit\\xc3\\xa4t Basel - BS'          52627.0\n",
       "4  b'NPO (Biblioth., Museen, Verwalt.) - NPO'         120042.0"
      ]
     },
     "execution_count": 37,
     "metadata": {},
     "output_type": "execute_result"
    }
   ],
   "source": [
    "grant_data.head()"
   ]
  },
  {
   "cell_type": "code",
   "execution_count": 38,
   "metadata": {
    "collapsed": false
   },
   "outputs": [
    {
     "data": {
      "text/html": [
       "<div>\n",
       "<table border=\"1\" class=\"dataframe\">\n",
       "  <thead>\n",
       "    <tr style=\"text-align: right;\">\n",
       "      <th></th>\n",
       "      <th>Canton</th>\n",
       "      <th>Approved Amount</th>\n",
       "    </tr>\n",
       "  </thead>\n",
       "  <tbody>\n",
       "    <tr>\n",
       "      <th>0</th>\n",
       "      <td>GE</td>\n",
       "      <td>41022.0</td>\n",
       "    </tr>\n",
       "    <tr>\n",
       "      <th>1</th>\n",
       "      <td>GE</td>\n",
       "      <td>360000.0</td>\n",
       "    </tr>\n",
       "    <tr>\n",
       "      <th>2</th>\n",
       "      <td>GE</td>\n",
       "      <td>116991.0</td>\n",
       "    </tr>\n",
       "    <tr>\n",
       "      <th>3</th>\n",
       "      <td>GE</td>\n",
       "      <td>149485.0</td>\n",
       "    </tr>\n",
       "    <tr>\n",
       "      <th>4</th>\n",
       "      <td>GE</td>\n",
       "      <td>164602.0</td>\n",
       "    </tr>\n",
       "  </tbody>\n",
       "</table>\n",
       "</div>"
      ],
      "text/plain": [
       "  Canton  Approved Amount\n",
       "0     GE          41022.0\n",
       "1     GE         360000.0\n",
       "2     GE         116991.0\n",
       "3     GE         149485.0\n",
       "4     GE         164602.0"
      ]
     },
     "execution_count": 38,
     "metadata": {},
     "output_type": "execute_result"
    }
   ],
   "source": [
    "df_canton_all_grant=pd.merge(grant_data, df_uni_cantons)[[\"Canton\", \"Approved Amount\"]]\n",
    "df_canton_all_grant.head()"
   ]
  },
  {
   "cell_type": "markdown",
   "metadata": {},
   "source": [
    "The next step is to sum the approved amounts of each canton."
   ]
  },
  {
   "cell_type": "code",
   "execution_count": 39,
   "metadata": {
    "collapsed": false
   },
   "outputs": [
    {
     "data": {
      "text/html": [
       "<div>\n",
       "<table border=\"1\" class=\"dataframe\">\n",
       "  <thead>\n",
       "    <tr style=\"text-align: right;\">\n",
       "      <th></th>\n",
       "      <th>Approved Amount</th>\n",
       "    </tr>\n",
       "    <tr>\n",
       "      <th>Canton</th>\n",
       "      <th></th>\n",
       "    </tr>\n",
       "  </thead>\n",
       "  <tbody>\n",
       "    <tr>\n",
       "      <th>ZH</th>\n",
       "      <td>3.680964e+09</td>\n",
       "    </tr>\n",
       "    <tr>\n",
       "      <th>VD</th>\n",
       "      <td>2.417983e+09</td>\n",
       "    </tr>\n",
       "    <tr>\n",
       "      <th>GE</th>\n",
       "      <td>1.880155e+09</td>\n",
       "    </tr>\n",
       "    <tr>\n",
       "      <th>BE</th>\n",
       "      <td>1.557800e+09</td>\n",
       "    </tr>\n",
       "    <tr>\n",
       "      <th>BS</th>\n",
       "      <td>1.403558e+09</td>\n",
       "    </tr>\n",
       "    <tr>\n",
       "      <th>FR</th>\n",
       "      <td>4.592306e+08</td>\n",
       "    </tr>\n",
       "    <tr>\n",
       "      <th>NE</th>\n",
       "      <td>4.031020e+08</td>\n",
       "    </tr>\n",
       "    <tr>\n",
       "      <th>SG</th>\n",
       "      <td>1.497686e+08</td>\n",
       "    </tr>\n",
       "    <tr>\n",
       "      <th>AG</th>\n",
       "      <td>1.228849e+08</td>\n",
       "    </tr>\n",
       "    <tr>\n",
       "      <th>TI</th>\n",
       "      <td>1.152623e+08</td>\n",
       "    </tr>\n",
       "    <tr>\n",
       "      <th>LU</th>\n",
       "      <td>5.467329e+07</td>\n",
       "    </tr>\n",
       "    <tr>\n",
       "      <th>SO</th>\n",
       "      <td>4.677503e+07</td>\n",
       "    </tr>\n",
       "    <tr>\n",
       "      <th>GR</th>\n",
       "      <td>3.653832e+07</td>\n",
       "    </tr>\n",
       "    <tr>\n",
       "      <th>JU</th>\n",
       "      <td>3.479035e+07</td>\n",
       "    </tr>\n",
       "    <tr>\n",
       "      <th>VS</th>\n",
       "      <td>3.057769e+07</td>\n",
       "    </tr>\n",
       "    <tr>\n",
       "      <th>TG</th>\n",
       "      <td>4.018981e+06</td>\n",
       "    </tr>\n",
       "    <tr>\n",
       "      <th>SZ</th>\n",
       "      <td>9.365510e+05</td>\n",
       "    </tr>\n",
       "    <tr>\n",
       "      <th>ZG</th>\n",
       "      <td>4.957150e+05</td>\n",
       "    </tr>\n",
       "    <tr>\n",
       "      <th>SH</th>\n",
       "      <td>1.766910e+05</td>\n",
       "    </tr>\n",
       "  </tbody>\n",
       "</table>\n",
       "</div>"
      ],
      "text/plain": [
       "        Approved Amount\n",
       "Canton                 \n",
       "ZH         3.680964e+09\n",
       "VD         2.417983e+09\n",
       "GE         1.880155e+09\n",
       "BE         1.557800e+09\n",
       "BS         1.403558e+09\n",
       "FR         4.592306e+08\n",
       "NE         4.031020e+08\n",
       "SG         1.497686e+08\n",
       "AG         1.228849e+08\n",
       "TI         1.152623e+08\n",
       "LU         5.467329e+07\n",
       "SO         4.677503e+07\n",
       "GR         3.653832e+07\n",
       "JU         3.479035e+07\n",
       "VS         3.057769e+07\n",
       "TG         4.018981e+06\n",
       "SZ         9.365510e+05\n",
       "ZG         4.957150e+05\n",
       "SH         1.766910e+05"
      ]
     },
     "execution_count": 39,
     "metadata": {},
     "output_type": "execute_result"
    }
   ],
   "source": [
    "# group the data & sum approved amounts\n",
    "df_canton_grant=df_canton_all_grant.groupby('Canton').sum()\n",
    "# sort values\n",
    "df_canton_grant_sorted=df_canton_grant.sort_values(['Approved Amount'], ascending=False)\n",
    "df_canton_grant_sorted"
   ]
  },
  {
   "cell_type": "markdown",
   "metadata": {},
   "source": [
    "We are going to save the results in a CSV file, to plot them in a colorpeth map."
   ]
  },
  {
   "cell_type": "code",
   "execution_count": 40,
   "metadata": {
    "collapsed": true
   },
   "outputs": [],
   "source": [
    "df_canton_grant.to_csv('data/canton_amount.csv')"
   ]
  },
  {
   "cell_type": "code",
   "execution_count": null,
   "metadata": {
    "collapsed": true
   },
   "outputs": [],
   "source": []
  },
  {
   "cell_type": "code",
   "execution_count": null,
   "metadata": {
    "collapsed": true
   },
   "outputs": [],
   "source": []
  }
 ],
 "metadata": {
  "anaconda-cloud": {},
  "kernelspec": {
   "display_name": "Python [Root]",
   "language": "python",
   "name": "Python [Root]"
  },
  "language_info": {
   "codemirror_mode": {
    "name": "ipython",
    "version": 3
   },
   "file_extension": ".py",
   "mimetype": "text/x-python",
   "name": "python",
   "nbconvert_exporter": "python",
   "pygments_lexer": "ipython3",
   "version": "3.5.2"
  }
 },
 "nbformat": 4,
 "nbformat_minor": 0
}
