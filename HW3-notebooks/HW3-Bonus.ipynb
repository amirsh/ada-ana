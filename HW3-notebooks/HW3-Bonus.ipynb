{
 "cells": [
  {
   "cell_type": "markdown",
   "metadata": {},
   "source": [
    "# Bonus Problem\n",
    "\n",
    "This problem mainly consists of two parts. \n",
    "\n",
    "First, retrieving that each university belongs to which part of Switzerland. Second, visualizing the aggregated fund for each area.\n",
    "\n",
    "## Data Extraction\n",
    "In a high-level, we perform data extraction using the following algorithm:\n",
    "First, we check if the university is in a canton which belongs only to a specific area (e.g. VD is only in French speacking area), we use the predefined area for it.\n",
    "However, if the university belongs to a canton which is ambigous (e.g. FR can be both French speacking and German Speacking), we pass the name of the university to Yandex translation API to figure out in what language is the name of the university. This approach works fine except for two universities which we will fix them manually.\n",
    "\n",
    "First, we import the necessary libraries."
   ]
  },
  {
   "cell_type": "code",
   "execution_count": 106,
   "metadata": {
    "collapsed": false
   },
   "outputs": [],
   "source": [
    "import json\n",
    "import os\n",
    "import pandas as pd\n",
    "import requests"
   ]
  },
  {
   "cell_type": "markdown",
   "metadata": {},
   "source": [
    "We read the csv file containing the associated cantons to each university which we retrieved in part 1 of the homework:"
   ]
  },
  {
   "cell_type": "code",
   "execution_count": 183,
   "metadata": {
    "collapsed": false
   },
   "outputs": [
    {
     "data": {
      "text/html": [
       "<div>\n",
       "<table border=\"1\" class=\"dataframe\">\n",
       "  <thead>\n",
       "    <tr style=\"text-align: right;\">\n",
       "      <th></th>\n",
       "      <th>University</th>\n",
       "      <th>Canton</th>\n",
       "    </tr>\n",
       "  </thead>\n",
       "  <tbody>\n",
       "    <tr>\n",
       "      <th>0</th>\n",
       "      <td>Zürcher Fachhochschule (ohne PH) - ZFH</td>\n",
       "      <td>ZH</td>\n",
       "    </tr>\n",
       "    <tr>\n",
       "      <th>1</th>\n",
       "      <td>Forschungsanstalten Agroscope - AGS</td>\n",
       "      <td>ZH</td>\n",
       "    </tr>\n",
       "    <tr>\n",
       "      <th>2</th>\n",
       "      <td>Physikal.-Meteorolog. Observatorium Davos - PMOD</td>\n",
       "      <td>GR</td>\n",
       "    </tr>\n",
       "    <tr>\n",
       "      <th>3</th>\n",
       "      <td>Swiss Institute of Bioinformatics - SIB</td>\n",
       "      <td>VD</td>\n",
       "    </tr>\n",
       "    <tr>\n",
       "      <th>4</th>\n",
       "      <td>Weitere Institute - FINST</td>\n",
       "      <td>BS</td>\n",
       "    </tr>\n",
       "  </tbody>\n",
       "</table>\n",
       "</div>"
      ],
      "text/plain": [
       "                                         University Canton\n",
       "0            Zürcher Fachhochschule (ohne PH) - ZFH     ZH\n",
       "1               Forschungsanstalten Agroscope - AGS     ZH\n",
       "2  Physikal.-Meteorolog. Observatorium Davos - PMOD     GR\n",
       "3           Swiss Institute of Bioinformatics - SIB     VD\n",
       "4                         Weitere Institute - FINST     BS"
      ]
     },
     "execution_count": 183,
     "metadata": {},
     "output_type": "execute_result"
    }
   ],
   "source": [
    "df_uni_cantons=pd.read_csv(\"data/uni-cantons.csv\")[[\"University\", \"Canton\"]]\n",
    "df_uni_cantons.head()"
   ]
  },
  {
   "cell_type": "markdown",
   "metadata": {},
   "source": [
    "The following function uses the Yandex translation API to find the language of the given text. In our case we pass the name of the university to this function:"
   ]
  },
  {
   "cell_type": "code",
   "execution_count": 186,
   "metadata": {
    "collapsed": false
   },
   "outputs": [],
   "source": [
    "yandexkey=\"REMOVED FOR PRIVACY REASONS!\"\n",
    "\n",
    "def getLang(uni_name):\n",
    "   ylink=\"https://translate.yandex.net/api/v1.5/tr.json/detect?key={}&text={}&hint=fr,de,it,ro\".format(yandexkey,uni_name)\n",
    "   r = requests.get(ylink)\n",
    "   return json.loads(r.text)['lang']"
   ]
  },
  {
   "cell_type": "markdown",
   "metadata": {},
   "source": [
    "Next we add a column to the previous data frame which specifies the language of the university name."
   ]
  },
  {
   "cell_type": "code",
   "execution_count": 187,
   "metadata": {
    "collapsed": false
   },
   "outputs": [
    {
     "data": {
      "text/html": [
       "<div>\n",
       "<table border=\"1\" class=\"dataframe\">\n",
       "  <thead>\n",
       "    <tr style=\"text-align: right;\">\n",
       "      <th></th>\n",
       "      <th>University</th>\n",
       "      <th>Canton</th>\n",
       "      <th>Lang</th>\n",
       "    </tr>\n",
       "  </thead>\n",
       "  <tbody>\n",
       "    <tr>\n",
       "      <th>0</th>\n",
       "      <td>Zürcher Fachhochschule (ohne PH) - ZFH</td>\n",
       "      <td>ZH</td>\n",
       "      <td>de</td>\n",
       "    </tr>\n",
       "    <tr>\n",
       "      <th>1</th>\n",
       "      <td>Forschungsanstalten Agroscope - AGS</td>\n",
       "      <td>ZH</td>\n",
       "      <td>de</td>\n",
       "    </tr>\n",
       "    <tr>\n",
       "      <th>2</th>\n",
       "      <td>Physikal.-Meteorolog. Observatorium Davos - PMOD</td>\n",
       "      <td>GR</td>\n",
       "      <td>fr</td>\n",
       "    </tr>\n",
       "    <tr>\n",
       "      <th>3</th>\n",
       "      <td>Swiss Institute of Bioinformatics - SIB</td>\n",
       "      <td>VD</td>\n",
       "      <td>en</td>\n",
       "    </tr>\n",
       "    <tr>\n",
       "      <th>4</th>\n",
       "      <td>Weitere Institute - FINST</td>\n",
       "      <td>BS</td>\n",
       "      <td>fr</td>\n",
       "    </tr>\n",
       "  </tbody>\n",
       "</table>\n",
       "</div>"
      ],
      "text/plain": [
       "                                         University Canton Lang\n",
       "0            Zürcher Fachhochschule (ohne PH) - ZFH     ZH   de\n",
       "1               Forschungsanstalten Agroscope - AGS     ZH   de\n",
       "2  Physikal.-Meteorolog. Observatorium Davos - PMOD     GR   fr\n",
       "3           Swiss Institute of Bioinformatics - SIB     VD   en\n",
       "4                         Weitere Institute - FINST     BS   fr"
      ]
     },
     "execution_count": 187,
     "metadata": {},
     "output_type": "execute_result"
    }
   ],
   "source": [
    "df_uni_cantons_lang=df_uni_cantons.copy()\n",
    "df_uni_cantons_lang[\"Lang\"]=[getLang(a) for a in df_uni_cantons[\"University\"]]\n",
    "df_uni_cantons_lang.head()"
   ]
  },
  {
   "cell_type": "markdown",
   "metadata": {},
   "source": [
    "As you can see this information is not that precise. Anway, we do not need this information for the universities which are located in cantons without ambigouity of their spoken language. \n",
    "\n",
    "So, we only filter the elements which are located in the ambigous cantons:"
   ]
  },
  {
   "cell_type": "code",
   "execution_count": 188,
   "metadata": {
    "collapsed": false
   },
   "outputs": [
    {
     "data": {
      "text/html": [
       "<div>\n",
       "<table border=\"1\" class=\"dataframe\">\n",
       "  <thead>\n",
       "    <tr style=\"text-align: right;\">\n",
       "      <th></th>\n",
       "      <th>Canton</th>\n",
       "      <th>University</th>\n",
       "      <th>Lang</th>\n",
       "    </tr>\n",
       "  </thead>\n",
       "  <tbody>\n",
       "    <tr>\n",
       "      <th>0</th>\n",
       "      <td>BE</td>\n",
       "      <td>Universität Bern - BE</td>\n",
       "      <td>de</td>\n",
       "    </tr>\n",
       "    <tr>\n",
       "      <th>1</th>\n",
       "      <td>BE</td>\n",
       "      <td>Berner Fachhochschule - BFH</td>\n",
       "      <td>de</td>\n",
       "    </tr>\n",
       "    <tr>\n",
       "      <th>2</th>\n",
       "      <td>BE</td>\n",
       "      <td>Pädagogische Hochschule Bern - PHBern</td>\n",
       "      <td>de</td>\n",
       "    </tr>\n",
       "    <tr>\n",
       "      <th>3</th>\n",
       "      <td>BE</td>\n",
       "      <td>Eidg. Hochschulinstitut für Berufsbildung - EHB</td>\n",
       "      <td>de</td>\n",
       "    </tr>\n",
       "    <tr>\n",
       "      <th>4</th>\n",
       "      <td>FR</td>\n",
       "      <td>Université de Fribourg - FR</td>\n",
       "      <td>fr</td>\n",
       "    </tr>\n",
       "    <tr>\n",
       "      <th>5</th>\n",
       "      <td>FR</td>\n",
       "      <td>Haute école pédagogique fribourgeoise - HEPFR</td>\n",
       "      <td>fr</td>\n",
       "    </tr>\n",
       "    <tr>\n",
       "      <th>6</th>\n",
       "      <td>GR</td>\n",
       "      <td>Physikal.-Meteorolog. Observatorium Davos - PMOD</td>\n",
       "      <td>fr</td>\n",
       "    </tr>\n",
       "    <tr>\n",
       "      <th>7</th>\n",
       "      <td>GR</td>\n",
       "      <td>AO Research Institute - AORI</td>\n",
       "      <td>fr</td>\n",
       "    </tr>\n",
       "    <tr>\n",
       "      <th>8</th>\n",
       "      <td>GR</td>\n",
       "      <td>Allergie- und Asthmaforschung - SIAF</td>\n",
       "      <td>de</td>\n",
       "    </tr>\n",
       "    <tr>\n",
       "      <th>9</th>\n",
       "      <td>GR</td>\n",
       "      <td>Institut für Kulturforschung Graubünden - IKG</td>\n",
       "      <td>de</td>\n",
       "    </tr>\n",
       "    <tr>\n",
       "      <th>10</th>\n",
       "      <td>GR</td>\n",
       "      <td>Pädagogische Hochschule Graubünden - PHGR</td>\n",
       "      <td>de</td>\n",
       "    </tr>\n",
       "    <tr>\n",
       "      <th>11</th>\n",
       "      <td>VS</td>\n",
       "      <td>Pädagogische Hochschule Wallis - PHVS</td>\n",
       "      <td>de</td>\n",
       "    </tr>\n",
       "    <tr>\n",
       "      <th>12</th>\n",
       "      <td>VS</td>\n",
       "      <td>Centre de rech. sur l'environnement alpin - CR...</td>\n",
       "      <td>fr</td>\n",
       "    </tr>\n",
       "    <tr>\n",
       "      <th>13</th>\n",
       "      <td>VS</td>\n",
       "      <td>Idiap Research Institute - IDIAP</td>\n",
       "      <td>fr</td>\n",
       "    </tr>\n",
       "    <tr>\n",
       "      <th>14</th>\n",
       "      <td>VS</td>\n",
       "      <td>Forschungsinstitut für Opthalmologie - IRO</td>\n",
       "      <td>de</td>\n",
       "    </tr>\n",
       "    <tr>\n",
       "      <th>15</th>\n",
       "      <td>VS</td>\n",
       "      <td>Institut Universitaire Kurt Bösch - IUKB</td>\n",
       "      <td>de</td>\n",
       "    </tr>\n",
       "  </tbody>\n",
       "</table>\n",
       "</div>"
      ],
      "text/plain": [
       "   Canton                                         University Lang\n",
       "0      BE                              Universität Bern - BE   de\n",
       "1      BE                        Berner Fachhochschule - BFH   de\n",
       "2      BE              Pädagogische Hochschule Bern - PHBern   de\n",
       "3      BE    Eidg. Hochschulinstitut für Berufsbildung - EHB   de\n",
       "4      FR                        Université de Fribourg - FR   fr\n",
       "5      FR      Haute école pédagogique fribourgeoise - HEPFR   fr\n",
       "6      GR   Physikal.-Meteorolog. Observatorium Davos - PMOD   fr\n",
       "7      GR                       AO Research Institute - AORI   fr\n",
       "8      GR               Allergie- und Asthmaforschung - SIAF   de\n",
       "9      GR      Institut für Kulturforschung Graubünden - IKG   de\n",
       "10     GR          Pädagogische Hochschule Graubünden - PHGR   de\n",
       "11     VS              Pädagogische Hochschule Wallis - PHVS   de\n",
       "12     VS  Centre de rech. sur l'environnement alpin - CR...   fr\n",
       "13     VS                   Idiap Research Institute - IDIAP   fr\n",
       "14     VS         Forschungsinstitut für Opthalmologie - IRO   de\n",
       "15     VS           Institut Universitaire Kurt Bösch - IUKB   de"
      ]
     },
     "execution_count": 188,
     "metadata": {},
     "output_type": "execute_result"
    }
   ],
   "source": [
    "amb_canton=pd.DataFrame([\"BE\",\"FR\",\"GR\",\"VS\"], columns=[\"Canton\"])\n",
    "df_uni_cantons_amb=pd.merge(amb_canton, df_uni_cantons_lang)\n",
    "df_uni_cantons_amb"
   ]
  },
  {
   "cell_type": "markdown",
   "metadata": {},
   "source": [
    "We observe that for two cases the Yandex translation API did the job wrong. So we fix them manually:"
   ]
  },
  {
   "cell_type": "code",
   "execution_count": 189,
   "metadata": {
    "collapsed": false
   },
   "outputs": [
    {
     "data": {
      "text/html": [
       "<div>\n",
       "<table border=\"1\" class=\"dataframe\">\n",
       "  <thead>\n",
       "    <tr style=\"text-align: right;\">\n",
       "      <th></th>\n",
       "      <th>Canton</th>\n",
       "      <th>University</th>\n",
       "      <th>Lang</th>\n",
       "    </tr>\n",
       "  </thead>\n",
       "  <tbody>\n",
       "    <tr>\n",
       "      <th>0</th>\n",
       "      <td>BE</td>\n",
       "      <td>Universität Bern - BE</td>\n",
       "      <td>de</td>\n",
       "    </tr>\n",
       "    <tr>\n",
       "      <th>1</th>\n",
       "      <td>BE</td>\n",
       "      <td>Berner Fachhochschule - BFH</td>\n",
       "      <td>de</td>\n",
       "    </tr>\n",
       "    <tr>\n",
       "      <th>2</th>\n",
       "      <td>BE</td>\n",
       "      <td>Pädagogische Hochschule Bern - PHBern</td>\n",
       "      <td>de</td>\n",
       "    </tr>\n",
       "    <tr>\n",
       "      <th>3</th>\n",
       "      <td>BE</td>\n",
       "      <td>Eidg. Hochschulinstitut für Berufsbildung - EHB</td>\n",
       "      <td>de</td>\n",
       "    </tr>\n",
       "    <tr>\n",
       "      <th>4</th>\n",
       "      <td>FR</td>\n",
       "      <td>Université de Fribourg - FR</td>\n",
       "      <td>fr</td>\n",
       "    </tr>\n",
       "    <tr>\n",
       "      <th>5</th>\n",
       "      <td>FR</td>\n",
       "      <td>Haute école pédagogique fribourgeoise - HEPFR</td>\n",
       "      <td>fr</td>\n",
       "    </tr>\n",
       "    <tr>\n",
       "      <th>6</th>\n",
       "      <td>GR</td>\n",
       "      <td>Physikal.-Meteorolog. Observatorium Davos - PMOD</td>\n",
       "      <td>de</td>\n",
       "    </tr>\n",
       "    <tr>\n",
       "      <th>7</th>\n",
       "      <td>GR</td>\n",
       "      <td>AO Research Institute - AORI</td>\n",
       "      <td>de</td>\n",
       "    </tr>\n",
       "    <tr>\n",
       "      <th>8</th>\n",
       "      <td>GR</td>\n",
       "      <td>Allergie- und Asthmaforschung - SIAF</td>\n",
       "      <td>de</td>\n",
       "    </tr>\n",
       "    <tr>\n",
       "      <th>9</th>\n",
       "      <td>GR</td>\n",
       "      <td>Institut für Kulturforschung Graubünden - IKG</td>\n",
       "      <td>de</td>\n",
       "    </tr>\n",
       "    <tr>\n",
       "      <th>10</th>\n",
       "      <td>GR</td>\n",
       "      <td>Pädagogische Hochschule Graubünden - PHGR</td>\n",
       "      <td>de</td>\n",
       "    </tr>\n",
       "    <tr>\n",
       "      <th>11</th>\n",
       "      <td>VS</td>\n",
       "      <td>Pädagogische Hochschule Wallis - PHVS</td>\n",
       "      <td>de</td>\n",
       "    </tr>\n",
       "    <tr>\n",
       "      <th>12</th>\n",
       "      <td>VS</td>\n",
       "      <td>Centre de rech. sur l'environnement alpin - CR...</td>\n",
       "      <td>fr</td>\n",
       "    </tr>\n",
       "    <tr>\n",
       "      <th>13</th>\n",
       "      <td>VS</td>\n",
       "      <td>Idiap Research Institute - IDIAP</td>\n",
       "      <td>fr</td>\n",
       "    </tr>\n",
       "    <tr>\n",
       "      <th>14</th>\n",
       "      <td>VS</td>\n",
       "      <td>Forschungsinstitut für Opthalmologie - IRO</td>\n",
       "      <td>de</td>\n",
       "    </tr>\n",
       "    <tr>\n",
       "      <th>15</th>\n",
       "      <td>VS</td>\n",
       "      <td>Institut Universitaire Kurt Bösch - IUKB</td>\n",
       "      <td>de</td>\n",
       "    </tr>\n",
       "  </tbody>\n",
       "</table>\n",
       "</div>"
      ],
      "text/plain": [
       "   Canton                                         University Lang\n",
       "0      BE                              Universität Bern - BE   de\n",
       "1      BE                        Berner Fachhochschule - BFH   de\n",
       "2      BE              Pädagogische Hochschule Bern - PHBern   de\n",
       "3      BE    Eidg. Hochschulinstitut für Berufsbildung - EHB   de\n",
       "4      FR                        Université de Fribourg - FR   fr\n",
       "5      FR      Haute école pédagogique fribourgeoise - HEPFR   fr\n",
       "6      GR   Physikal.-Meteorolog. Observatorium Davos - PMOD   de\n",
       "7      GR                       AO Research Institute - AORI   de\n",
       "8      GR               Allergie- und Asthmaforschung - SIAF   de\n",
       "9      GR      Institut für Kulturforschung Graubünden - IKG   de\n",
       "10     GR          Pädagogische Hochschule Graubünden - PHGR   de\n",
       "11     VS              Pädagogische Hochschule Wallis - PHVS   de\n",
       "12     VS  Centre de rech. sur l'environnement alpin - CR...   fr\n",
       "13     VS                   Idiap Research Institute - IDIAP   fr\n",
       "14     VS         Forschungsinstitut für Opthalmologie - IRO   de\n",
       "15     VS           Institut Universitaire Kurt Bösch - IUKB   de"
      ]
     },
     "execution_count": 189,
     "metadata": {},
     "output_type": "execute_result"
    }
   ],
   "source": [
    "df_uni_cantons_amb[\"Lang\"][6]=\"de\"\n",
    "df_uni_cantons_amb[\"Lang\"][7]=\"de\"\n",
    "df_uni_cantons_amb"
   ]
  },
  {
   "cell_type": "markdown",
   "metadata": {},
   "source": [
    "For the rest of cantons, as we said before, the cantons are located in an area with a single spoken language. So we use a CSV file which contains this mapping:"
   ]
  },
  {
   "cell_type": "code",
   "execution_count": 202,
   "metadata": {
    "collapsed": false
   },
   "outputs": [
    {
     "data": {
      "text/html": [
       "<div>\n",
       "<table border=\"1\" class=\"dataframe\">\n",
       "  <thead>\n",
       "    <tr style=\"text-align: right;\">\n",
       "      <th></th>\n",
       "      <th>Canton</th>\n",
       "      <th>Lang</th>\n",
       "    </tr>\n",
       "  </thead>\n",
       "  <tbody>\n",
       "    <tr>\n",
       "      <th>0</th>\n",
       "      <td>ZH</td>\n",
       "      <td>de</td>\n",
       "    </tr>\n",
       "    <tr>\n",
       "      <th>1</th>\n",
       "      <td>LU</td>\n",
       "      <td>de</td>\n",
       "    </tr>\n",
       "    <tr>\n",
       "      <th>2</th>\n",
       "      <td>UR</td>\n",
       "      <td>de</td>\n",
       "    </tr>\n",
       "    <tr>\n",
       "      <th>3</th>\n",
       "      <td>SZ</td>\n",
       "      <td>de</td>\n",
       "    </tr>\n",
       "    <tr>\n",
       "      <th>4</th>\n",
       "      <td>OW</td>\n",
       "      <td>de</td>\n",
       "    </tr>\n",
       "    <tr>\n",
       "      <th>5</th>\n",
       "      <td>NW</td>\n",
       "      <td>de</td>\n",
       "    </tr>\n",
       "    <tr>\n",
       "      <th>6</th>\n",
       "      <td>GL</td>\n",
       "      <td>de</td>\n",
       "    </tr>\n",
       "    <tr>\n",
       "      <th>7</th>\n",
       "      <td>ZG</td>\n",
       "      <td>de</td>\n",
       "    </tr>\n",
       "    <tr>\n",
       "      <th>8</th>\n",
       "      <td>SO</td>\n",
       "      <td>de</td>\n",
       "    </tr>\n",
       "    <tr>\n",
       "      <th>9</th>\n",
       "      <td>BS</td>\n",
       "      <td>de</td>\n",
       "    </tr>\n",
       "    <tr>\n",
       "      <th>10</th>\n",
       "      <td>BL</td>\n",
       "      <td>de</td>\n",
       "    </tr>\n",
       "    <tr>\n",
       "      <th>11</th>\n",
       "      <td>SH</td>\n",
       "      <td>de</td>\n",
       "    </tr>\n",
       "    <tr>\n",
       "      <th>12</th>\n",
       "      <td>AR</td>\n",
       "      <td>de</td>\n",
       "    </tr>\n",
       "    <tr>\n",
       "      <th>13</th>\n",
       "      <td>AI</td>\n",
       "      <td>de</td>\n",
       "    </tr>\n",
       "    <tr>\n",
       "      <th>14</th>\n",
       "      <td>SG</td>\n",
       "      <td>de</td>\n",
       "    </tr>\n",
       "    <tr>\n",
       "      <th>15</th>\n",
       "      <td>AG</td>\n",
       "      <td>de</td>\n",
       "    </tr>\n",
       "    <tr>\n",
       "      <th>16</th>\n",
       "      <td>TG</td>\n",
       "      <td>de</td>\n",
       "    </tr>\n",
       "    <tr>\n",
       "      <th>17</th>\n",
       "      <td>TI</td>\n",
       "      <td>it</td>\n",
       "    </tr>\n",
       "    <tr>\n",
       "      <th>18</th>\n",
       "      <td>VD</td>\n",
       "      <td>fr</td>\n",
       "    </tr>\n",
       "    <tr>\n",
       "      <th>19</th>\n",
       "      <td>NE</td>\n",
       "      <td>fr</td>\n",
       "    </tr>\n",
       "    <tr>\n",
       "      <th>20</th>\n",
       "      <td>GE</td>\n",
       "      <td>fr</td>\n",
       "    </tr>\n",
       "    <tr>\n",
       "      <th>21</th>\n",
       "      <td>JU</td>\n",
       "      <td>fr</td>\n",
       "    </tr>\n",
       "  </tbody>\n",
       "</table>\n",
       "</div>"
      ],
      "text/plain": [
       "   Canton Lang\n",
       "0      ZH   de\n",
       "1      LU   de\n",
       "2      UR   de\n",
       "3      SZ   de\n",
       "4      OW   de\n",
       "5      NW   de\n",
       "6      GL   de\n",
       "7      ZG   de\n",
       "8      SO   de\n",
       "9      BS   de\n",
       "10     BL   de\n",
       "11     SH   de\n",
       "12     AR   de\n",
       "13     AI   de\n",
       "14     SG   de\n",
       "15     AG   de\n",
       "16     TG   de\n",
       "17     TI   it\n",
       "18     VD   fr\n",
       "19     NE   fr\n",
       "20     GE   fr\n",
       "21     JU   fr"
      ]
     },
     "execution_count": 202,
     "metadata": {},
     "output_type": "execute_result"
    }
   ],
   "source": [
    "canton_lang=pd.read_csv(\"data/canton_lang_man.csv\")\n",
    "canton_lang"
   ]
  },
  {
   "cell_type": "markdown",
   "metadata": {},
   "source": [
    "Now we join the data frame of university and cantons wiht this data frame in order to add column which specifies the language spoken in the area of that university:"
   ]
  },
  {
   "cell_type": "code",
   "execution_count": 206,
   "metadata": {
    "collapsed": false
   },
   "outputs": [
    {
     "data": {
      "text/html": [
       "<div>\n",
       "<table border=\"1\" class=\"dataframe\">\n",
       "  <thead>\n",
       "    <tr style=\"text-align: right;\">\n",
       "      <th></th>\n",
       "      <th>University</th>\n",
       "      <th>Canton</th>\n",
       "      <th>Lang</th>\n",
       "    </tr>\n",
       "  </thead>\n",
       "  <tbody>\n",
       "    <tr>\n",
       "      <th>0</th>\n",
       "      <td>Zürcher Fachhochschule (ohne PH) - ZFH</td>\n",
       "      <td>ZH</td>\n",
       "      <td>de</td>\n",
       "    </tr>\n",
       "    <tr>\n",
       "      <th>1</th>\n",
       "      <td>Forschungsanstalten Agroscope - AGS</td>\n",
       "      <td>ZH</td>\n",
       "      <td>de</td>\n",
       "    </tr>\n",
       "    <tr>\n",
       "      <th>2</th>\n",
       "      <td>ETH Zürich - ETHZ</td>\n",
       "      <td>ZH</td>\n",
       "      <td>de</td>\n",
       "    </tr>\n",
       "    <tr>\n",
       "      <th>3</th>\n",
       "      <td>Universität Zürich - ZH</td>\n",
       "      <td>ZH</td>\n",
       "      <td>de</td>\n",
       "    </tr>\n",
       "    <tr>\n",
       "      <th>4</th>\n",
       "      <td>Eidg. Forschungsanstalt für Wald,Schnee,Land -...</td>\n",
       "      <td>ZH</td>\n",
       "      <td>de</td>\n",
       "    </tr>\n",
       "  </tbody>\n",
       "</table>\n",
       "</div>"
      ],
      "text/plain": [
       "                                          University Canton Lang\n",
       "0             Zürcher Fachhochschule (ohne PH) - ZFH     ZH   de\n",
       "1                Forschungsanstalten Agroscope - AGS     ZH   de\n",
       "2                                  ETH Zürich - ETHZ     ZH   de\n",
       "3                            Universität Zürich - ZH     ZH   de\n",
       "4  Eidg. Forschungsanstalt für Wald,Schnee,Land -...     ZH   de"
      ]
     },
     "execution_count": 206,
     "metadata": {},
     "output_type": "execute_result"
    }
   ],
   "source": [
    "df_uni_cantons_auto=pd.merge(df_uni_cantons, canton_lang)\n",
    "df_uni_cantons_auto.head()"
   ]
  },
  {
   "cell_type": "markdown",
   "metadata": {},
   "source": [
    "Now we append these two dataframes and retrieve a dataframe which contains all universities with the spoken language of the area in which the university is located."
   ]
  },
  {
   "cell_type": "code",
   "execution_count": 207,
   "metadata": {
    "collapsed": false
   },
   "outputs": [
    {
     "data": {
      "text/html": [
       "<div>\n",
       "<table border=\"1\" class=\"dataframe\">\n",
       "  <thead>\n",
       "    <tr style=\"text-align: right;\">\n",
       "      <th></th>\n",
       "      <th>Canton</th>\n",
       "      <th>Lang</th>\n",
       "      <th>University</th>\n",
       "    </tr>\n",
       "  </thead>\n",
       "  <tbody>\n",
       "    <tr>\n",
       "      <th>0</th>\n",
       "      <td>BE</td>\n",
       "      <td>de</td>\n",
       "      <td>Universität Bern - BE</td>\n",
       "    </tr>\n",
       "    <tr>\n",
       "      <th>1</th>\n",
       "      <td>BE</td>\n",
       "      <td>de</td>\n",
       "      <td>Berner Fachhochschule - BFH</td>\n",
       "    </tr>\n",
       "    <tr>\n",
       "      <th>2</th>\n",
       "      <td>BE</td>\n",
       "      <td>de</td>\n",
       "      <td>Pädagogische Hochschule Bern - PHBern</td>\n",
       "    </tr>\n",
       "    <tr>\n",
       "      <th>3</th>\n",
       "      <td>BE</td>\n",
       "      <td>de</td>\n",
       "      <td>Eidg. Hochschulinstitut für Berufsbildung - EHB</td>\n",
       "    </tr>\n",
       "    <tr>\n",
       "      <th>4</th>\n",
       "      <td>FR</td>\n",
       "      <td>fr</td>\n",
       "      <td>Université de Fribourg - FR</td>\n",
       "    </tr>\n",
       "  </tbody>\n",
       "</table>\n",
       "</div>"
      ],
      "text/plain": [
       "  Canton Lang                                       University\n",
       "0     BE   de                            Universität Bern - BE\n",
       "1     BE   de                      Berner Fachhochschule - BFH\n",
       "2     BE   de            Pädagogische Hochschule Bern - PHBern\n",
       "3     BE   de  Eidg. Hochschulinstitut für Berufsbildung - EHB\n",
       "4     FR   fr                      Université de Fribourg - FR"
      ]
     },
     "execution_count": 207,
     "metadata": {},
     "output_type": "execute_result"
    }
   ],
   "source": [
    "df_uni_lang=df_uni_cantons_amb.append(df_uni_cantons_auto, ignore_index=True)\n",
    "df_uni_lang.head()"
   ]
  },
  {
   "cell_type": "markdown",
   "metadata": {},
   "source": [
    "Finally, we write it into a csv file:"
   ]
  },
  {
   "cell_type": "code",
   "execution_count": 208,
   "metadata": {
    "collapsed": true
   },
   "outputs": [],
   "source": [
    "df_uni_lang.to_csv(\"data/uni_lang.csv\", index=False)"
   ]
  }
 ],
 "metadata": {
  "anaconda-cloud": {},
  "kernelspec": {
   "display_name": "Python [conda root]",
   "language": "python",
   "name": "conda-root-py"
  },
  "language_info": {
   "codemirror_mode": {
    "name": "ipython",
    "version": 2
   },
   "file_extension": ".py",
   "mimetype": "text/x-python",
   "name": "python",
   "nbconvert_exporter": "python",
   "pygments_lexer": "ipython2",
   "version": "2.7.12"
  }
 },
 "nbformat": 4,
 "nbformat_minor": 1
}
